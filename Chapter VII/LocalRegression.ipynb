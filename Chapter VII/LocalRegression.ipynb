{
 "cells": [
  {
   "cell_type": "code",
   "execution_count": 358,
   "id": "9bde3e25-6a48-436e-8c55-3cc63eb86c34",
   "metadata": {},
   "outputs": [],
   "source": [
    "import matplotlib.pyplot as plt\n",
    "import numpy as np \n",
    "import seaborn as sns\n",
    "\n",
    "from sklearn.model_selection import train_test_split\n",
    "from scipy.optimize import minimize\n",
    "\n",
    "from sklearn.metrics import mean_squared_error"
   ]
  },
  {
   "cell_type": "code",
   "execution_count": 471,
   "id": "2e2d3f66-c96c-461b-a976-cb95a1d48a76",
   "metadata": {},
   "outputs": [],
   "source": [
    "class LocalRegression:\n",
    "\n",
    "    def __init__(self, k_neighbors: int = 5) -> None:\n",
    "        self.k_neighbors = k_neighbors\n",
    "    \n",
    "    def fit(self, X_train, y_train) -> None:\n",
    "        assert X_train.shape[0] == y_train.shape[0], 'X and y are not equal in dim (0)'\n",
    "        assert X_train.ndim > 1, 'X should be at least 2-dim'\n",
    "        self.X_train = X_train\n",
    "        self.y_train = y_train\n",
    "        self.fraction = self.k_neighbors / self.X_train.shape[0]\n",
    "\n",
    "    def predict(self, X_test):\n",
    "        predictions = []\n",
    "        \n",
    "        for x_0 in X_test:\n",
    "            distances = np.linalg.norm(self.X_train - x_0, axis=1)\n",
    "            sample_size = int(self.fraction * len(self.X_train))\n",
    "            k_nearest_idx = np.argsort(distances)[:sample_size]\n",
    "            \n",
    "            k_neighbors_X = self.X_train[k_nearest_idx]\n",
    "            k_neighbors_y = self.y_train[k_nearest_idx]\n",
    "            \n",
    "            epsilon = 1e-8\n",
    "            dk = distances[k_nearest_idx][-1]  \n",
    "            \n",
    "            weights = (1 - distances[k_nearest_idx] / (dk + epsilon)) ** 2\n",
    "            regression_params = self._weighted_least_squares(k_neighbors_X, k_neighbors_y, weights)\n",
    "            \n",
    "            prediction = np.dot(regression_params, x_0)\n",
    "            predictions.append(prediction)\n",
    "\n",
    "        return np.array(predictions)\n",
    "\n",
    "    def _weighted_least_squares(self, X, y, weights):\n",
    "        criterion = lambda params: np.sum(weights * np.square(y - np.dot(params, X.T)))\n",
    "        initial_params = np.random.random(X.shape[1])\n",
    "        result = minimize(criterion, initial_params, method='L-BFGS-B', options={'maxiter': 100000})\n",
    "        return result.x"
   ]
  },
  {
   "cell_type": "code",
   "execution_count": 472,
   "id": "052056d0-6509-4ab0-9844-a08f617535e5",
   "metadata": {},
   "outputs": [],
   "source": [
    "np.random.seed(42)\n",
    "\n",
    "\n",
    "num_samples = 100\n",
    "bias_term = np.ones((num_samples, 1))\n",
    "X_without_bias = np.random.rand(num_samples, 4)\n",
    "X = np.concatenate([bias_term, X_without_bias], axis=1)\n",
    "epsilon = np.random.normal(0, 0.1, num_samples)  \n",
    "beta_0, beta_1, beta_2, beta_3, beta_4  = 1, 4, 5, -4, 10\n",
    "y = beta_0 + beta_1 * X[:, 0] ** 2 + beta_2 * X[:, 1] ** 3 + beta_3 * X[:, 2] ** 4 + beta_4 * X[:, 3] ** 4 + epsilon  "
   ]
  },
  {
   "cell_type": "code",
   "execution_count": 475,
   "id": "bd2f34b3-ccea-49d4-8a87-e526b6b89394",
   "metadata": {},
   "outputs": [],
   "source": [
    "X_train, X_test, y_train, y_test = train_test_split(X, y, test_size=0.8, random_state=42, shuffle=True)"
   ]
  },
  {
   "cell_type": "code",
   "execution_count": 479,
   "id": "97d0141c-8f01-4a74-a9b7-395beaad0bee",
   "metadata": {},
   "outputs": [],
   "source": [
    "localReg = LocalRegression(k_neighbors=10)\n",
    "localReg.fit(X_train, y_train)"
   ]
  },
  {
   "cell_type": "code",
   "execution_count": 480,
   "id": "1364055f-0588-409f-a264-6e127ad20b28",
   "metadata": {},
   "outputs": [],
   "source": [
    "preds = localReg.predict(X_test)"
   ]
  },
  {
   "cell_type": "code",
   "execution_count": 481,
   "id": "eca6da5c-5bad-48e8-9803-98a8ceafa124",
   "metadata": {},
   "outputs": [
    {
     "data": {
      "text/plain": [
       "3.407612725396322"
      ]
     },
     "execution_count": 481,
     "metadata": {},
     "output_type": "execute_result"
    }
   ],
   "source": [
    "test_mse = mean_squared_error(y_test, preds)\n",
    "test_mse"
   ]
  },
  {
   "cell_type": "code",
   "execution_count": null,
   "id": "ce497405-59dc-4761-923e-27f78282b48e",
   "metadata": {},
   "outputs": [],
   "source": []
  }
 ],
 "metadata": {
  "kernelspec": {
   "display_name": "Python 3 (ipykernel)",
   "language": "python",
   "name": "python3"
  },
  "language_info": {
   "codemirror_mode": {
    "name": "ipython",
    "version": 3
   },
   "file_extension": ".py",
   "mimetype": "text/x-python",
   "name": "python",
   "nbconvert_exporter": "python",
   "pygments_lexer": "ipython3",
   "version": "3.10.12"
  }
 },
 "nbformat": 4,
 "nbformat_minor": 5
}
