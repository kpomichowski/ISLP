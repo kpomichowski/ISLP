{
 "cells": [
  {
   "cell_type": "markdown",
   "id": "1229eb42-465c-4e95-8ef6-fb7d06a6101f",
   "metadata": {},
   "source": [
    "### Jupyter notebook contains a solutions from Chapter VII — Moving Beyond Linearity from the book \"Introduction To Statistical Learning\" in a Python edition written by Daniela Witten, Trevor Hastie, Robert Tibshirani, Gareth James and Jonathan Taylor."
   ]
  },
  {
   "cell_type": "markdown",
   "id": "79e71063-e0d8-45a0-a2a0-daf344289012",
   "metadata": {},
   "source": [
    "# Table of Contents"
   ]
  },
  {
   "cell_type": "code",
   "execution_count": null,
   "id": "425a21f0-0b5b-4c4c-a46c-f4e020f1143a",
   "metadata": {},
   "outputs": [],
   "source": []
  }
 ],
 "metadata": {
  "kernelspec": {
   "display_name": "Python 3 (ipykernel)",
   "language": "python",
   "name": "python3"
  },
  "language_info": {
   "codemirror_mode": {
    "name": "ipython",
    "version": 3
   },
   "file_extension": ".py",
   "mimetype": "text/x-python",
   "name": "python",
   "nbconvert_exporter": "python",
   "pygments_lexer": "ipython3",
   "version": "3.10.12"
  }
 },
 "nbformat": 4,
 "nbformat_minor": 5
}
