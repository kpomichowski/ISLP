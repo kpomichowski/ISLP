{
 "cells": [
  {
   "cell_type": "markdown",
   "id": "de0d51a2-a331-4d26-865e-3602099a4776",
   "metadata": {},
   "source": [
    "### Jupyter notebook contains a solutions from Chapter V — Resampling Methods from the book \"Introduction To Statistical Learning\" in a Python edition written by Daniela Witten, Trevor Hastie, Robert Tibshirani, Gareth James and Jonathan Taylor."
   ]
  },
  {
   "cell_type": "markdown",
   "id": "a64d45f5-d01b-4e75-ba4a-f1ba4d9f9016",
   "metadata": {},
   "source": [
    "# Table Of Contents\n",
    "\n",
    "* [Exercise 5.4.5 (a)](#Exercise-5.4.5-a)\n",
    "* [Exercise 5.4.5 (b)](#Exercise-5.4.5-b)\n",
    "* [Exercise 5.4.5 (c)](#Exercise-5.4.5-c)\n",
    "* [Exercise 5.4.5 (d)](#Exercise-5.4.5-d)\n",
    "* [Exercise 5.4.6 (a)](#Exercise-5.4.6-a)\n",
    "* [Exercise 5.4.6 (b)](#Exercise-5.4.6-b)\n",
    "* [Exercise 5.4.6 (c)](#Exercise-5.4.6-c)\n",
    "* [Exercise 5.4.6 (d)](#Exercise-5.4.6-d)\n",
    "* [Exercise 5.4.7 (a)](#Exercise-5.4.7-a)\n",
    "* [Exercise 5.4.7 (b)](#Exercise-5.4.7-b)\n",
    "* [Exercise 5.4.7 (c)](#Exercise-5.4.7-c)\n",
    "* [Exercise 5.4.7 (d)](#Exercise-5.4.7-d)\n",
    "* [Exercise 5.4.7 (e)](#Exercise-5.4.7-e)\n",
    "* [Exercise 5.4.8 (a)](#Exercise-5.4.8-a)\n",
    "* [Exercise 5.4.8 (b)](#Exercise-5.4.8-b)\n",
    "* [Exercise 5.4.8 (c)](#Exercise-5.4.8-c)\n",
    "* [Exercise 5.4.8 (d)](#Exercise-5.4.8-d)\n",
    "* [Exercise 5.4.8 (e)](#Exercise-5.4.8-e)\n",
    "* [Exercise 5.4.8 (f)](#Exercise-5.4.8-f)\n",
    "* [Exercise 5.4.9 (a)](#Exercise-5.4.9-a)\n",
    "* [Exercise 5.4.9 (b)](#Exercise-5.4.9-b)\n",
    "* [Exercise 5.4.9 (c)](#Exercise-5.4.9-c)\n",
    "* [Exercise 5.4.9 (d)](#Exercise-5.4.9-d)\n",
    "* [Exercise 5.4.9 (e)](#Exercise-5.4.9-e)\n",
    "* [Exercise 5.4.9 (f)](#Exercise-5.4.9-f)\n",
    "* [Exercise 5.4.9 (g)](#Exercise-5.4.9-g)\n",
    "* [Exercise 5.4.9 (h)](#Exercise-5.4.9-h)"
   ]
  },
  {
   "cell_type": "code",
   "execution_count": 1,
   "id": "aa529879-1788-40da-87cc-e4d7c6db2bb4",
   "metadata": {},
   "outputs": [],
   "source": [
    "import warnings\n",
    "warnings.filterwarnings('ignore')\n",
    "\n",
    "import random\n",
    "import numpy as np\n",
    "import matplotlib.pyplot as plt\n",
    "import seaborn as sns\n",
    "import pandas as pd\n",
    "import statsmodels.api as sm\n",
    "\n",
    "from collections import defaultdict\n",
    "from functools import partial\n",
    "\n",
    "from ISLP import load_data\n",
    "from ISLP.models import (ModelSpec as MS, summarize)\n",
    "from ISLP.models import sklearn_sm\n",
    "\n",
    "from sklearn.model_selection import cross_validate, KFold, ShuffleSplit\n",
    "from sklearn.model_selection import train_test_split\n",
    "from sklearn.base import clone\n",
    "from sklearn.utils import check_random_state\n",
    "from sklearn.metrics import mean_squared_error\n",
    "from sklearn.linear_model import LinearRegression\n",
    "from sklearn.model_selection import LeaveOneOut\n"
   ]
  },
  {
   "cell_type": "markdown",
   "id": "a5c0b376-f7ec-4a1b-8d7c-8745b3b6dc5f",
   "metadata": {},
   "source": [
    "### Exercise 5.4.5\n",
    "\n",
    "In chapter 4, we used logistic regression to predict the probability of `default` using `income` and balance on the `Default` data set. We will now estimate the test error of this logistic regression model using the validation set approach. Do not forget to et a random seed before beginning your analysis."
   ]
  },
  {
   "cell_type": "markdown",
   "id": "30141881-6a53-465e-98cc-42b3065d34fd",
   "metadata": {},
   "source": [
    "### Exercise 5.4.5 a\n",
    "\n",
    "Fit a logisitc regression model that uses `income` and `balance` to predict `default`."
   ]
  },
  {
   "cell_type": "code",
   "execution_count": 2,
   "id": "f7ca0a9f-1e48-4371-993c-b565d7e3999a",
   "metadata": {},
   "outputs": [],
   "source": [
    "default_data = load_data('Default')"
   ]
  },
  {
   "cell_type": "code",
   "execution_count": 3,
   "id": "5a5274a1-cb47-4b18-a433-c5a327a99039",
   "metadata": {},
   "outputs": [
    {
     "data": {
      "text/html": [
       "<table class=\"simpletable\">\n",
       "<caption>Generalized Linear Model Regression Results</caption>\n",
       "<tr>\n",
       "  <th>Dep. Variable:</th>           <td>y</td>        <th>  No. Observations:  </th>  <td> 10000</td> \n",
       "</tr>\n",
       "<tr>\n",
       "  <th>Model:</th>                  <td>GLM</td>       <th>  Df Residuals:      </th>  <td>  9997</td> \n",
       "</tr>\n",
       "<tr>\n",
       "  <th>Model Family:</th>        <td>Binomial</td>     <th>  Df Model:          </th>  <td>     2</td> \n",
       "</tr>\n",
       "<tr>\n",
       "  <th>Link Function:</th>         <td>Logit</td>      <th>  Scale:             </th> <td>  1.0000</td>\n",
       "</tr>\n",
       "<tr>\n",
       "  <th>Method:</th>                <td>IRLS</td>       <th>  Log-Likelihood:    </th> <td> -789.48</td>\n",
       "</tr>\n",
       "<tr>\n",
       "  <th>Date:</th>            <td>Mon, 23 Oct 2023</td> <th>  Deviance:          </th> <td>  1579.0</td>\n",
       "</tr>\n",
       "<tr>\n",
       "  <th>Time:</th>                <td>13:23:51</td>     <th>  Pearson chi2:      </th> <td>6.95e+03</td>\n",
       "</tr>\n",
       "<tr>\n",
       "  <th>No. Iterations:</th>          <td>9</td>        <th>  Pseudo R-squ. (CS):</th>  <td>0.1256</td> \n",
       "</tr>\n",
       "<tr>\n",
       "  <th>Covariance Type:</th>     <td>nonrobust</td>    <th>                     </th>     <td> </td>   \n",
       "</tr>\n",
       "</table>\n",
       "<table class=\"simpletable\">\n",
       "<tr>\n",
       "      <td></td>         <th>coef</th>     <th>std err</th>      <th>z</th>      <th>P>|z|</th>  <th>[0.025</th>    <th>0.975]</th>  \n",
       "</tr>\n",
       "<tr>\n",
       "  <th>intercept</th> <td>  -11.5405</td> <td>    0.435</td> <td>  -26.544</td> <td> 0.000</td> <td>  -12.393</td> <td>  -10.688</td>\n",
       "</tr>\n",
       "<tr>\n",
       "  <th>income</th>    <td> 2.081e-05</td> <td> 4.99e-06</td> <td>    4.174</td> <td> 0.000</td> <td>  1.1e-05</td> <td> 3.06e-05</td>\n",
       "</tr>\n",
       "<tr>\n",
       "  <th>balance</th>   <td>    0.0056</td> <td>    0.000</td> <td>   24.835</td> <td> 0.000</td> <td>    0.005</td> <td>    0.006</td>\n",
       "</tr>\n",
       "</table>"
      ],
      "text/latex": [
       "\\begin{center}\n",
       "\\begin{tabular}{lclc}\n",
       "\\toprule\n",
       "\\textbf{Dep. Variable:}   &        y         & \\textbf{  No. Observations:  } &    10000    \\\\\n",
       "\\textbf{Model:}           &       GLM        & \\textbf{  Df Residuals:      } &     9997    \\\\\n",
       "\\textbf{Model Family:}    &     Binomial     & \\textbf{  Df Model:          } &        2    \\\\\n",
       "\\textbf{Link Function:}   &      Logit       & \\textbf{  Scale:             } &    1.0000   \\\\\n",
       "\\textbf{Method:}          &       IRLS       & \\textbf{  Log-Likelihood:    } &   -789.48   \\\\\n",
       "\\textbf{Date:}            & Mon, 23 Oct 2023 & \\textbf{  Deviance:          } &    1579.0   \\\\\n",
       "\\textbf{Time:}            &     13:23:51     & \\textbf{  Pearson chi2:      } &  6.95e+03   \\\\\n",
       "\\textbf{No. Iterations:}  &        9         & \\textbf{  Pseudo R-squ. (CS):} &   0.1256    \\\\\n",
       "\\textbf{Covariance Type:} &    nonrobust     & \\textbf{                     } &             \\\\\n",
       "\\bottomrule\n",
       "\\end{tabular}\n",
       "\\begin{tabular}{lcccccc}\n",
       "                   & \\textbf{coef} & \\textbf{std err} & \\textbf{z} & \\textbf{P$> |$z$|$} & \\textbf{[0.025} & \\textbf{0.975]}  \\\\\n",
       "\\midrule\n",
       "\\textbf{intercept} &     -11.5405  &        0.435     &   -26.544  &         0.000        &      -12.393    &      -10.688     \\\\\n",
       "\\textbf{income}    &    2.081e-05  &     4.99e-06     &     4.174  &         0.000        &      1.1e-05    &     3.06e-05     \\\\\n",
       "\\textbf{balance}   &       0.0056  &        0.000     &    24.835  &         0.000        &        0.005    &        0.006     \\\\\n",
       "\\bottomrule\n",
       "\\end{tabular}\n",
       "%\\caption{Generalized Linear Model Regression Results}\n",
       "\\end{center}"
      ],
      "text/plain": [
       "<class 'statsmodels.iolib.summary.Summary'>\n",
       "\"\"\"\n",
       "                 Generalized Linear Model Regression Results                  \n",
       "==============================================================================\n",
       "Dep. Variable:                      y   No. Observations:                10000\n",
       "Model:                            GLM   Df Residuals:                     9997\n",
       "Model Family:                Binomial   Df Model:                            2\n",
       "Link Function:                  Logit   Scale:                          1.0000\n",
       "Method:                          IRLS   Log-Likelihood:                -789.48\n",
       "Date:                Mon, 23 Oct 2023   Deviance:                       1579.0\n",
       "Time:                        13:23:51   Pearson chi2:                 6.95e+03\n",
       "No. Iterations:                     9   Pseudo R-squ. (CS):             0.1256\n",
       "Covariance Type:            nonrobust                                         \n",
       "==============================================================================\n",
       "                 coef    std err          z      P>|z|      [0.025      0.975]\n",
       "------------------------------------------------------------------------------\n",
       "intercept    -11.5405      0.435    -26.544      0.000     -12.393     -10.688\n",
       "income      2.081e-05   4.99e-06      4.174      0.000     1.1e-05    3.06e-05\n",
       "balance        0.0056      0.000     24.835      0.000       0.005       0.006\n",
       "==============================================================================\n",
       "\"\"\""
      ]
     },
     "execution_count": 3,
     "metadata": {},
     "output_type": "execute_result"
    }
   ],
   "source": [
    "terms = MS(['income', 'balance'])\n",
    "X_train = terms.fit_transform(default_data)\n",
    "y_train = np.where(default_data['default'] == 'Yes', 1, 0)\n",
    "\n",
    "lr_estimator = sm.GLM(y_train, X_train, family=sm.families.Binomial())\n",
    "results = lr_estimator.fit()\n",
    "\n",
    "results.summary()"
   ]
  },
  {
   "cell_type": "markdown",
   "id": "cd0ceac1-f191-4d42-94d6-167dc202b52e",
   "metadata": {},
   "source": [
    "### Exercise 5.4.5 b\n",
    "\n",
    "Using the validation approach, estimate the test error of this model. In order to do this, you must perform the following steps:\n",
    "\n",
    "i. Split the sample set into a training set and a validation set.\n",
    "\n",
    "ii. Fit a multiple logistic regression model using only the training observations.\n",
    "\n",
    "iii. Obtain a prediction of default status for each individual in the validation set by computing the posterior probability of `default` for that individual, and classifying the individual to\n",
    "the default category if the posterior probability is greater than 0.5.\n",
    "\n",
    "iv. Compute the validation set error, which is the fraction of the observations in the validation set that are misclassified."
   ]
  },
  {
   "cell_type": "code",
   "execution_count": 4,
   "id": "651a9462-d2af-4048-833d-669cdf566bba",
   "metadata": {},
   "outputs": [],
   "source": [
    "Default_train, Default_valid = train_test_split(default_data, test_size=len(default_data) // 2, random_state=0, shuffle=True)"
   ]
  },
  {
   "cell_type": "code",
   "execution_count": 5,
   "id": "4e6fcc78-924c-45ce-b330-470506ae0aa8",
   "metadata": {},
   "outputs": [
    {
     "data": {
      "text/html": [
       "<table class=\"simpletable\">\n",
       "<caption>Generalized Linear Model Regression Results</caption>\n",
       "<tr>\n",
       "  <th>Dep. Variable:</th>           <td>y</td>        <th>  No. Observations:  </th>  <td>  5000</td> \n",
       "</tr>\n",
       "<tr>\n",
       "  <th>Model:</th>                  <td>GLM</td>       <th>  Df Residuals:      </th>  <td>  4997</td> \n",
       "</tr>\n",
       "<tr>\n",
       "  <th>Model Family:</th>        <td>Binomial</td>     <th>  Df Model:          </th>  <td>     2</td> \n",
       "</tr>\n",
       "<tr>\n",
       "  <th>Link Function:</th>         <td>Logit</td>      <th>  Scale:             </th> <td>  1.0000</td>\n",
       "</tr>\n",
       "<tr>\n",
       "  <th>Method:</th>                <td>IRLS</td>       <th>  Log-Likelihood:    </th> <td> -364.78</td>\n",
       "</tr>\n",
       "<tr>\n",
       "  <th>Date:</th>            <td>Mon, 23 Oct 2023</td> <th>  Deviance:          </th> <td>  729.56</td>\n",
       "</tr>\n",
       "<tr>\n",
       "  <th>Time:</th>                <td>13:23:51</td>     <th>  Pearson chi2:      </th> <td>2.57e+03</td>\n",
       "</tr>\n",
       "<tr>\n",
       "  <th>No. Iterations:</th>          <td>9</td>        <th>  Pseudo R-squ. (CS):</th>  <td>0.1125</td> \n",
       "</tr>\n",
       "<tr>\n",
       "  <th>Covariance Type:</th>     <td>nonrobust</td>    <th>                     </th>     <td> </td>   \n",
       "</tr>\n",
       "</table>\n",
       "<table class=\"simpletable\">\n",
       "<tr>\n",
       "      <td></td>         <th>coef</th>     <th>std err</th>      <th>z</th>      <th>P>|z|</th>  <th>[0.025</th>    <th>0.975]</th>  \n",
       "</tr>\n",
       "<tr>\n",
       "  <th>intercept</th> <td>  -11.3896</td> <td>    0.635</td> <td>  -17.935</td> <td> 0.000</td> <td>  -12.634</td> <td>  -10.145</td>\n",
       "</tr>\n",
       "<tr>\n",
       "  <th>income</th>    <td>  1.58e-05</td> <td> 7.34e-06</td> <td>    2.151</td> <td> 0.031</td> <td>  1.4e-06</td> <td> 3.02e-05</td>\n",
       "</tr>\n",
       "<tr>\n",
       "  <th>balance</th>   <td>    0.0056</td> <td>    0.000</td> <td>   16.792</td> <td> 0.000</td> <td>    0.005</td> <td>    0.006</td>\n",
       "</tr>\n",
       "</table>"
      ],
      "text/latex": [
       "\\begin{center}\n",
       "\\begin{tabular}{lclc}\n",
       "\\toprule\n",
       "\\textbf{Dep. Variable:}   &        y         & \\textbf{  No. Observations:  } &     5000    \\\\\n",
       "\\textbf{Model:}           &       GLM        & \\textbf{  Df Residuals:      } &     4997    \\\\\n",
       "\\textbf{Model Family:}    &     Binomial     & \\textbf{  Df Model:          } &        2    \\\\\n",
       "\\textbf{Link Function:}   &      Logit       & \\textbf{  Scale:             } &    1.0000   \\\\\n",
       "\\textbf{Method:}          &       IRLS       & \\textbf{  Log-Likelihood:    } &   -364.78   \\\\\n",
       "\\textbf{Date:}            & Mon, 23 Oct 2023 & \\textbf{  Deviance:          } &    729.56   \\\\\n",
       "\\textbf{Time:}            &     13:23:51     & \\textbf{  Pearson chi2:      } &  2.57e+03   \\\\\n",
       "\\textbf{No. Iterations:}  &        9         & \\textbf{  Pseudo R-squ. (CS):} &   0.1125    \\\\\n",
       "\\textbf{Covariance Type:} &    nonrobust     & \\textbf{                     } &             \\\\\n",
       "\\bottomrule\n",
       "\\end{tabular}\n",
       "\\begin{tabular}{lcccccc}\n",
       "                   & \\textbf{coef} & \\textbf{std err} & \\textbf{z} & \\textbf{P$> |$z$|$} & \\textbf{[0.025} & \\textbf{0.975]}  \\\\\n",
       "\\midrule\n",
       "\\textbf{intercept} &     -11.3896  &        0.635     &   -17.935  &         0.000        &      -12.634    &      -10.145     \\\\\n",
       "\\textbf{income}    &     1.58e-05  &     7.34e-06     &     2.151  &         0.031        &      1.4e-06    &     3.02e-05     \\\\\n",
       "\\textbf{balance}   &       0.0056  &        0.000     &    16.792  &         0.000        &        0.005    &        0.006     \\\\\n",
       "\\bottomrule\n",
       "\\end{tabular}\n",
       "%\\caption{Generalized Linear Model Regression Results}\n",
       "\\end{center}"
      ],
      "text/plain": [
       "<class 'statsmodels.iolib.summary.Summary'>\n",
       "\"\"\"\n",
       "                 Generalized Linear Model Regression Results                  \n",
       "==============================================================================\n",
       "Dep. Variable:                      y   No. Observations:                 5000\n",
       "Model:                            GLM   Df Residuals:                     4997\n",
       "Model Family:                Binomial   Df Model:                            2\n",
       "Link Function:                  Logit   Scale:                          1.0000\n",
       "Method:                          IRLS   Log-Likelihood:                -364.78\n",
       "Date:                Mon, 23 Oct 2023   Deviance:                       729.56\n",
       "Time:                        13:23:51   Pearson chi2:                 2.57e+03\n",
       "No. Iterations:                     9   Pseudo R-squ. (CS):             0.1125\n",
       "Covariance Type:            nonrobust                                         \n",
       "==============================================================================\n",
       "                 coef    std err          z      P>|z|      [0.025      0.975]\n",
       "------------------------------------------------------------------------------\n",
       "intercept    -11.3896      0.635    -17.935      0.000     -12.634     -10.145\n",
       "income       1.58e-05   7.34e-06      2.151      0.031     1.4e-06    3.02e-05\n",
       "balance        0.0056      0.000     16.792      0.000       0.005       0.006\n",
       "==============================================================================\n",
       "\"\"\""
      ]
     },
     "execution_count": 5,
     "metadata": {},
     "output_type": "execute_result"
    }
   ],
   "source": [
    "X_train = terms.fit_transform(Default_train)\n",
    "y_train = np.where(Default_train['default'] == 'Yes', 1, 0)\n",
    "\n",
    "X_valid = terms.transform(Default_valid)\n",
    "y_valid = np.where(Default_valid['default'] == 'Yes', 1, 0)\n",
    "\n",
    "lr_estimator_va = sm.GLM(y_train, X_train, family=sm.families.Binomial())\n",
    "results = lr_estimator_va.fit()\n",
    "\n",
    "results.summary()"
   ]
  },
  {
   "cell_type": "code",
   "execution_count": 6,
   "id": "72ed1fab-13d0-4e21-a37f-e9b511f896c9",
   "metadata": {},
   "outputs": [],
   "source": [
    "valid_preds = results.predict(X_valid)\n",
    "valid_labels = np.array(valid_preds >= 0.5).astype(int)"
   ]
  },
  {
   "cell_type": "code",
   "execution_count": 7,
   "id": "6a5a2d8d-e402-4136-95b7-433041f24961",
   "metadata": {},
   "outputs": [
    {
     "data": {
      "text/plain": [
       "0.029"
      ]
     },
     "execution_count": 7,
     "metadata": {},
     "output_type": "execute_result"
    }
   ],
   "source": [
    "valid_test_error = np.mean(y_valid != valid_labels)\n",
    "\n",
    "valid_test_error"
   ]
  },
  {
   "cell_type": "markdown",
   "id": "ee80bacf-3b98-4ed5-9bb1-8d6bb6fce664",
   "metadata": {},
   "source": [
    "### Exercise 5.4.5 c\n",
    "\n",
    "Repeat [(b)](#exercise-5.4.5-b) three times, using three different splits of the observations into a training set and validation set. Comment on the results obtained.\n",
    "\n",
    "__Answer__:\n",
    "\n",
    "* while splitting the data set into train and validation with ratio 0.5 to 0.5 (50\\% train and 50\\% valid) in the test error we don't see very much high variance among the test errors with random seed,\n",
    "* the test error generally is not high, since in the single split we got $0.029$ and then performing three times validation approach we don't see much higher test errors,\n",
    "* we see that `income` and `balance` is sufficient enough to predict the `default`."
   ]
  },
  {
   "cell_type": "code",
   "execution_count": 8,
   "id": "79b27b81-3142-40e1-91bc-76101ff674bf",
   "metadata": {},
   "outputs": [],
   "source": [
    "def evalTestError(data, predictors, dependent_variable, model, n_splits):\n",
    "\n",
    "    import random\n",
    "\n",
    "    test_errors = np.zeros(n_splits)\n",
    "\n",
    "    for idx in range(n_splits):\n",
    "        seed = random.randint(1, 1000)\n",
    "        Default_train, Default_valid = train_test_split(data, test_size=len(data) // 2, random_state=seed)\n",
    "    \n",
    "        terms = MS(predictors)\n",
    "    \n",
    "        X_train = terms.fit_transform(Default_train)\n",
    "        y_train = np.array(Default_train.loc[:, dependent_variable] == 'Yes').astype(int)\n",
    "    \n",
    "        X_valid = terms.transform(Default_valid)\n",
    "        y_valid = np.array(Default_valid.loc[:, dependent_variable] == 'Yes').astype(int)\n",
    "    \n",
    "        lr_estim = model(y_train, X_train.astype(float))\n",
    "        results = lr_estim.fit()\n",
    "\n",
    "        y_preds = results.predict(X_valid.astype(float))\n",
    "        y_labels = np.where(y_preds >= 0.5, 1, 0)\n",
    "\n",
    "        test_errors[idx] = np.mean(y_labels != y_valid)\n",
    "\n",
    "    return test_errors\n"
   ]
  },
  {
   "cell_type": "code",
   "execution_count": 9,
   "id": "e3d03498-6c37-46b3-ad7d-ede20677c094",
   "metadata": {},
   "outputs": [
    {
     "name": "stdout",
     "output_type": "stream",
     "text": [
      "[0.0264 0.0272 0.0262 0.0276 0.0254]\n"
     ]
    },
    {
     "data": {
      "text/plain": [
       "(0.02656, 0.0007735631842325485)"
      ]
     },
     "execution_count": 9,
     "metadata": {},
     "output_type": "execute_result"
    }
   ],
   "source": [
    "lr_test_errors = evalTestError(\n",
    "        default_data,\n",
    "        ['income', 'balance'],\n",
    "        'default',\n",
    "        partial(sm.GLM, family=sm.families.Binomial()),\n",
    "        n_splits=5\n",
    "    )\n",
    "\n",
    "print(lr_test_errors)\n",
    "np.mean(lr_test_errors), np.std(lr_test_errors)"
   ]
  },
  {
   "cell_type": "markdown",
   "id": "b40ad747-2efc-499e-b785-6a2b66ba1979",
   "metadata": {},
   "source": [
    "### Exercise 5.4.5 d\n",
    "\n",
    "Now consider a logistic regression model that predicts the probability of `default` using `income`, `balance` and a dummy variable `student`. Estimate the test error for this model using the validation set approach. Comment on whether or not including a dummy variable for student leads to a reduction in the test error rate.\n",
    "\n",
    "__Answer__:\n",
    "\n",
    "* based on the validation approach test error estimates, including dummy variable `student` leads to worse test error rate predictions. This can be caused by multicollinearity of the dummy variable with the rest of predictors, i.e. `balance` and `income`,\n",
    "* the $p$-value of $t$-test for comparing whether there is no a significant level of improving the model performance ($H_0$) between the alternative hypothesis ($H_a$) that indeed, there is a significant improvement in performance in statistical method;\n",
    "* the $p$-value is grater than $0.05$, so it's strong evidence to reject $H_0$ in the favor of $H_a$: there is a significant improvement in the model."
   ]
  },
  {
   "cell_type": "code",
   "execution_count": 10,
   "id": "fc954e79-fccd-4aab-a986-1168742b9b87",
   "metadata": {},
   "outputs": [],
   "source": [
    "dummy_default_data = pd.get_dummies(default_data, columns=['student'])"
   ]
  },
  {
   "cell_type": "code",
   "execution_count": 11,
   "id": "0cb96bf8-6694-42e0-9a79-8503d1c77904",
   "metadata": {},
   "outputs": [],
   "source": [
    "default_data_train, default_data_valid = train_test_split(dummy_default_data, test_size=len(dummy_default_data) // 2, random_state=0)"
   ]
  },
  {
   "cell_type": "code",
   "execution_count": 12,
   "id": "21fb1dbd-81ca-42ae-b015-0822dce6b587",
   "metadata": {},
   "outputs": [
    {
     "data": {
      "text/html": [
       "<table class=\"simpletable\">\n",
       "<caption>Generalized Linear Model Regression Results</caption>\n",
       "<tr>\n",
       "  <th>Dep. Variable:</th>           <td>y</td>        <th>  No. Observations:  </th>  <td>  5000</td> \n",
       "</tr>\n",
       "<tr>\n",
       "  <th>Model:</th>                  <td>GLM</td>       <th>  Df Residuals:      </th>  <td>  4996</td> \n",
       "</tr>\n",
       "<tr>\n",
       "  <th>Model Family:</th>        <td>Binomial</td>     <th>  Df Model:          </th>  <td>     3</td> \n",
       "</tr>\n",
       "<tr>\n",
       "  <th>Link Function:</th>         <td>Logit</td>      <th>  Scale:             </th> <td>  1.0000</td>\n",
       "</tr>\n",
       "<tr>\n",
       "  <th>Method:</th>                <td>IRLS</td>       <th>  Log-Likelihood:    </th> <td> -361.47</td>\n",
       "</tr>\n",
       "<tr>\n",
       "  <th>Date:</th>            <td>Mon, 23 Oct 2023</td> <th>  Deviance:          </th> <td>  722.93</td>\n",
       "</tr>\n",
       "<tr>\n",
       "  <th>Time:</th>                <td>13:23:52</td>     <th>  Pearson chi2:      </th> <td>2.58e+03</td>\n",
       "</tr>\n",
       "<tr>\n",
       "  <th>No. Iterations:</th>          <td>9</td>        <th>  Pseudo R-squ. (CS):</th>  <td>0.1137</td> \n",
       "</tr>\n",
       "<tr>\n",
       "  <th>Covariance Type:</th>     <td>nonrobust</td>    <th>                     </th>     <td> </td>   \n",
       "</tr>\n",
       "</table>\n",
       "<table class=\"simpletable\">\n",
       "<tr>\n",
       "       <td></td>          <th>coef</th>     <th>std err</th>      <th>z</th>      <th>P>|z|</th>  <th>[0.025</th>    <th>0.975]</th>  \n",
       "</tr>\n",
       "<tr>\n",
       "  <th>intercept</th>   <td>  -10.4955</td> <td>    0.710</td> <td>  -14.777</td> <td> 0.000</td> <td>  -11.888</td> <td>   -9.103</td>\n",
       "</tr>\n",
       "<tr>\n",
       "  <th>balance</th>     <td>    0.0057</td> <td>    0.000</td> <td>   16.740</td> <td> 0.000</td> <td>    0.005</td> <td>    0.006</td>\n",
       "</tr>\n",
       "<tr>\n",
       "  <th>income</th>      <td>-8.831e-06</td> <td> 1.21e-05</td> <td>   -0.732</td> <td> 0.464</td> <td>-3.25e-05</td> <td> 1.48e-05</td>\n",
       "</tr>\n",
       "<tr>\n",
       "  <th>student_Yes</th> <td>   -0.8918</td> <td>    0.344</td> <td>   -2.591</td> <td> 0.010</td> <td>   -1.567</td> <td>   -0.217</td>\n",
       "</tr>\n",
       "</table>"
      ],
      "text/latex": [
       "\\begin{center}\n",
       "\\begin{tabular}{lclc}\n",
       "\\toprule\n",
       "\\textbf{Dep. Variable:}   &        y         & \\textbf{  No. Observations:  } &     5000    \\\\\n",
       "\\textbf{Model:}           &       GLM        & \\textbf{  Df Residuals:      } &     4996    \\\\\n",
       "\\textbf{Model Family:}    &     Binomial     & \\textbf{  Df Model:          } &        3    \\\\\n",
       "\\textbf{Link Function:}   &      Logit       & \\textbf{  Scale:             } &    1.0000   \\\\\n",
       "\\textbf{Method:}          &       IRLS       & \\textbf{  Log-Likelihood:    } &   -361.47   \\\\\n",
       "\\textbf{Date:}            & Mon, 23 Oct 2023 & \\textbf{  Deviance:          } &    722.93   \\\\\n",
       "\\textbf{Time:}            &     13:23:52     & \\textbf{  Pearson chi2:      } &  2.58e+03   \\\\\n",
       "\\textbf{No. Iterations:}  &        9         & \\textbf{  Pseudo R-squ. (CS):} &   0.1137    \\\\\n",
       "\\textbf{Covariance Type:} &    nonrobust     & \\textbf{                     } &             \\\\\n",
       "\\bottomrule\n",
       "\\end{tabular}\n",
       "\\begin{tabular}{lcccccc}\n",
       "                      & \\textbf{coef} & \\textbf{std err} & \\textbf{z} & \\textbf{P$> |$z$|$} & \\textbf{[0.025} & \\textbf{0.975]}  \\\\\n",
       "\\midrule\n",
       "\\textbf{intercept}    &     -10.4955  &        0.710     &   -14.777  &         0.000        &      -11.888    &       -9.103     \\\\\n",
       "\\textbf{balance}      &       0.0057  &        0.000     &    16.740  &         0.000        &        0.005    &        0.006     \\\\\n",
       "\\textbf{income}       &   -8.831e-06  &     1.21e-05     &    -0.732  &         0.464        &    -3.25e-05    &     1.48e-05     \\\\\n",
       "\\textbf{student\\_Yes} &      -0.8918  &        0.344     &    -2.591  &         0.010        &       -1.567    &       -0.217     \\\\\n",
       "\\bottomrule\n",
       "\\end{tabular}\n",
       "%\\caption{Generalized Linear Model Regression Results}\n",
       "\\end{center}"
      ],
      "text/plain": [
       "<class 'statsmodels.iolib.summary.Summary'>\n",
       "\"\"\"\n",
       "                 Generalized Linear Model Regression Results                  \n",
       "==============================================================================\n",
       "Dep. Variable:                      y   No. Observations:                 5000\n",
       "Model:                            GLM   Df Residuals:                     4996\n",
       "Model Family:                Binomial   Df Model:                            3\n",
       "Link Function:                  Logit   Scale:                          1.0000\n",
       "Method:                          IRLS   Log-Likelihood:                -361.47\n",
       "Date:                Mon, 23 Oct 2023   Deviance:                       722.93\n",
       "Time:                        13:23:52   Pearson chi2:                 2.58e+03\n",
       "No. Iterations:                     9   Pseudo R-squ. (CS):             0.1137\n",
       "Covariance Type:            nonrobust                                         \n",
       "===============================================================================\n",
       "                  coef    std err          z      P>|z|      [0.025      0.975]\n",
       "-------------------------------------------------------------------------------\n",
       "intercept     -10.4955      0.710    -14.777      0.000     -11.888      -9.103\n",
       "balance         0.0057      0.000     16.740      0.000       0.005       0.006\n",
       "income      -8.831e-06   1.21e-05     -0.732      0.464   -3.25e-05    1.48e-05\n",
       "student_Yes    -0.8918      0.344     -2.591      0.010      -1.567      -0.217\n",
       "===============================================================================\n",
       "\"\"\""
      ]
     },
     "execution_count": 12,
     "metadata": {},
     "output_type": "execute_result"
    }
   ],
   "source": [
    "terms = MS(['balance', 'income', 'student_Yes'])\n",
    "\n",
    "X_train = terms.fit_transform(default_data_train)\n",
    "y_train = np.where(default_data_train.loc[:, 'default'] == 'Yes', 1, 0)\n",
    "\n",
    "X_valid = terms.transform(default_data_valid)\n",
    "y_valid = np.where(default_data_valid.loc[:, 'default'] == 'Yes', 1, 0)\n",
    "\n",
    "lr_estim = sm.GLM(y_train, X_train.astype(float), family=sm.families.Binomial())\n",
    "\n",
    "results = lr_estim.fit()\n",
    "\n",
    "results.summary()"
   ]
  },
  {
   "cell_type": "code",
   "execution_count": 13,
   "id": "ae88854c-777b-4ee5-b38b-18fc6b8b571f",
   "metadata": {},
   "outputs": [
    {
     "data": {
      "text/plain": [
       "0.0292"
      ]
     },
     "execution_count": 13,
     "metadata": {},
     "output_type": "execute_result"
    }
   ],
   "source": [
    "y_preds = results.predict(X_valid.astype(float))\n",
    "y_labels = np.where(y_preds >= 0.5, 1, 0)\n",
    "test_error = np.mean(y_labels != y_valid)\n",
    "test_error"
   ]
  },
  {
   "cell_type": "code",
   "execution_count": 14,
   "id": "6e6eb470-4b51-4d42-b10a-5687adda0fb6",
   "metadata": {},
   "outputs": [
    {
     "name": "stdout",
     "output_type": "stream",
     "text": [
      "[0.0264 0.0266 0.0256 0.0288 0.0252]\n"
     ]
    },
    {
     "data": {
      "text/plain": [
       "(0.02652, 0.0012496399481450643)"
      ]
     },
     "execution_count": 14,
     "metadata": {},
     "output_type": "execute_result"
    }
   ],
   "source": [
    "lr_dummy_test_errors = evalTestError(\n",
    "    dummy_default_data,\n",
    "    ['balance', 'income', 'student_Yes'],\n",
    "    'default',\n",
    "    partial(sm.GLM, family=sm.families.Binomial()),\n",
    "    n_splits=5\n",
    ")\n",
    "\n",
    "print(lr_dummy_test_errors)\n",
    "lr_dummy_test_errors.mean(), lr_dummy_test_errors.std()\n"
   ]
  },
  {
   "cell_type": "markdown",
   "id": "baab6983-92ce-4618-b0ba-fc2f758e8a5f",
   "metadata": {},
   "source": [
    "### Paired T-Test to estimate whether `student` improves model accuracy or not"
   ]
  },
  {
   "cell_type": "code",
   "execution_count": 15,
   "id": "82cbeda5-4130-4209-af0b-e5af96164644",
   "metadata": {},
   "outputs": [],
   "source": [
    "from scipy import stats\n",
    "\n",
    "t_statistic, p_value = stats.ttest_rel(lr_test_errors, lr_dummy_test_errors)\n"
   ]
  },
  {
   "cell_type": "code",
   "execution_count": 16,
   "id": "8a472477-e6c9-4bfb-8e70-0053ce93c484",
   "metadata": {},
   "outputs": [
    {
     "data": {
      "text/plain": [
       "(0.12082441866603472, 0.9096562371156087)"
      ]
     },
     "execution_count": 16,
     "metadata": {},
     "output_type": "execute_result"
    }
   ],
   "source": [
    "t_statistic, p_value"
   ]
  },
  {
   "cell_type": "markdown",
   "id": "5e9eafd0-4e64-4e48-87d5-bd9f9076eee2",
   "metadata": {},
   "source": [
    "### Exercise 5.4.6\n",
    "\n",
    "We continue to consider the use of logistic regression model to predict the probability of `default` using `income` and `balance` on the `Default` data set. In particular, we will now compute estimates for the standard errors of the `income` and `balance` logisitc regression coefficients in two different ways: (1) using the bootstrap, and (2) using the standard formula for computing the standard errors in the `sm.GLM()` function. Do not forget to set a random seed before beginning your analysis."
   ]
  },
  {
   "cell_type": "markdown",
   "id": "39335abc-60e8-431f-9748-8e0e316f9a66",
   "metadata": {},
   "source": [
    "### Exercise 5.4.6 a\n",
    "\n",
    "Using the `summarize()` and `sm.GLM()` functions, determine the estimated standard errors for the coefficients associated with `income` and `balance` in a multiple logistic regression model that uses both predictors.\n"
   ]
  },
  {
   "cell_type": "code",
   "execution_count": 17,
   "id": "18af575f-adae-45d2-b014-b5ca3de03e55",
   "metadata": {},
   "outputs": [],
   "source": [
    "seed_value = 0\n",
    "np.random.seed(seed_value)\n",
    "random.seed(seed_value)\n",
    "rng = check_random_state(seed_value)"
   ]
  },
  {
   "cell_type": "code",
   "execution_count": 18,
   "id": "c3ac4561-0423-4b04-8958-b7d875904496",
   "metadata": {},
   "outputs": [
    {
     "data": {
      "text/html": [
       "<table class=\"simpletable\">\n",
       "<caption>Generalized Linear Model Regression Results</caption>\n",
       "<tr>\n",
       "  <th>Dep. Variable:</th>           <td>y</td>        <th>  No. Observations:  </th>  <td> 10000</td> \n",
       "</tr>\n",
       "<tr>\n",
       "  <th>Model:</th>                  <td>GLM</td>       <th>  Df Residuals:      </th>  <td>  9997</td> \n",
       "</tr>\n",
       "<tr>\n",
       "  <th>Model Family:</th>        <td>Binomial</td>     <th>  Df Model:          </th>  <td>     2</td> \n",
       "</tr>\n",
       "<tr>\n",
       "  <th>Link Function:</th>         <td>Logit</td>      <th>  Scale:             </th> <td>  1.0000</td>\n",
       "</tr>\n",
       "<tr>\n",
       "  <th>Method:</th>                <td>IRLS</td>       <th>  Log-Likelihood:    </th> <td> -789.48</td>\n",
       "</tr>\n",
       "<tr>\n",
       "  <th>Date:</th>            <td>Mon, 23 Oct 2023</td> <th>  Deviance:          </th> <td>  1579.0</td>\n",
       "</tr>\n",
       "<tr>\n",
       "  <th>Time:</th>                <td>13:23:52</td>     <th>  Pearson chi2:      </th> <td>6.95e+03</td>\n",
       "</tr>\n",
       "<tr>\n",
       "  <th>No. Iterations:</th>          <td>9</td>        <th>  Pseudo R-squ. (CS):</th>  <td>0.1256</td> \n",
       "</tr>\n",
       "<tr>\n",
       "  <th>Covariance Type:</th>     <td>nonrobust</td>    <th>                     </th>     <td> </td>   \n",
       "</tr>\n",
       "</table>\n",
       "<table class=\"simpletable\">\n",
       "<tr>\n",
       "      <td></td>         <th>coef</th>     <th>std err</th>      <th>z</th>      <th>P>|z|</th>  <th>[0.025</th>    <th>0.975]</th>  \n",
       "</tr>\n",
       "<tr>\n",
       "  <th>intercept</th> <td>  -11.5405</td> <td>    0.435</td> <td>  -26.544</td> <td> 0.000</td> <td>  -12.393</td> <td>  -10.688</td>\n",
       "</tr>\n",
       "<tr>\n",
       "  <th>income</th>    <td> 2.081e-05</td> <td> 4.99e-06</td> <td>    4.174</td> <td> 0.000</td> <td>  1.1e-05</td> <td> 3.06e-05</td>\n",
       "</tr>\n",
       "<tr>\n",
       "  <th>balance</th>   <td>    0.0056</td> <td>    0.000</td> <td>   24.835</td> <td> 0.000</td> <td>    0.005</td> <td>    0.006</td>\n",
       "</tr>\n",
       "</table>"
      ],
      "text/latex": [
       "\\begin{center}\n",
       "\\begin{tabular}{lclc}\n",
       "\\toprule\n",
       "\\textbf{Dep. Variable:}   &        y         & \\textbf{  No. Observations:  } &    10000    \\\\\n",
       "\\textbf{Model:}           &       GLM        & \\textbf{  Df Residuals:      } &     9997    \\\\\n",
       "\\textbf{Model Family:}    &     Binomial     & \\textbf{  Df Model:          } &        2    \\\\\n",
       "\\textbf{Link Function:}   &      Logit       & \\textbf{  Scale:             } &    1.0000   \\\\\n",
       "\\textbf{Method:}          &       IRLS       & \\textbf{  Log-Likelihood:    } &   -789.48   \\\\\n",
       "\\textbf{Date:}            & Mon, 23 Oct 2023 & \\textbf{  Deviance:          } &    1579.0   \\\\\n",
       "\\textbf{Time:}            &     13:23:52     & \\textbf{  Pearson chi2:      } &  6.95e+03   \\\\\n",
       "\\textbf{No. Iterations:}  &        9         & \\textbf{  Pseudo R-squ. (CS):} &   0.1256    \\\\\n",
       "\\textbf{Covariance Type:} &    nonrobust     & \\textbf{                     } &             \\\\\n",
       "\\bottomrule\n",
       "\\end{tabular}\n",
       "\\begin{tabular}{lcccccc}\n",
       "                   & \\textbf{coef} & \\textbf{std err} & \\textbf{z} & \\textbf{P$> |$z$|$} & \\textbf{[0.025} & \\textbf{0.975]}  \\\\\n",
       "\\midrule\n",
       "\\textbf{intercept} &     -11.5405  &        0.435     &   -26.544  &         0.000        &      -12.393    &      -10.688     \\\\\n",
       "\\textbf{income}    &    2.081e-05  &     4.99e-06     &     4.174  &         0.000        &      1.1e-05    &     3.06e-05     \\\\\n",
       "\\textbf{balance}   &       0.0056  &        0.000     &    24.835  &         0.000        &        0.005    &        0.006     \\\\\n",
       "\\bottomrule\n",
       "\\end{tabular}\n",
       "%\\caption{Generalized Linear Model Regression Results}\n",
       "\\end{center}"
      ],
      "text/plain": [
       "<class 'statsmodels.iolib.summary.Summary'>\n",
       "\"\"\"\n",
       "                 Generalized Linear Model Regression Results                  \n",
       "==============================================================================\n",
       "Dep. Variable:                      y   No. Observations:                10000\n",
       "Model:                            GLM   Df Residuals:                     9997\n",
       "Model Family:                Binomial   Df Model:                            2\n",
       "Link Function:                  Logit   Scale:                          1.0000\n",
       "Method:                          IRLS   Log-Likelihood:                -789.48\n",
       "Date:                Mon, 23 Oct 2023   Deviance:                       1579.0\n",
       "Time:                        13:23:52   Pearson chi2:                 6.95e+03\n",
       "No. Iterations:                     9   Pseudo R-squ. (CS):             0.1256\n",
       "Covariance Type:            nonrobust                                         \n",
       "==============================================================================\n",
       "                 coef    std err          z      P>|z|      [0.025      0.975]\n",
       "------------------------------------------------------------------------------\n",
       "intercept    -11.5405      0.435    -26.544      0.000     -12.393     -10.688\n",
       "income      2.081e-05   4.99e-06      4.174      0.000     1.1e-05    3.06e-05\n",
       "balance        0.0056      0.000     24.835      0.000       0.005       0.006\n",
       "==============================================================================\n",
       "\"\"\""
      ]
     },
     "execution_count": 18,
     "metadata": {},
     "output_type": "execute_result"
    }
   ],
   "source": [
    "X_design = MS(['income', 'balance'])\n",
    "X_train = X_design.fit_transform(default_data)\n",
    "y_train = np.where(default_data.loc[:, 'default'] == \"Yes\", 1, 0)\n",
    "lr_estim = sm.GLM(y_train, X_train, family=sm.families.Binomial())\n",
    "results = lr_estim.fit()\n",
    "\n",
    "results.summary()"
   ]
  },
  {
   "cell_type": "code",
   "execution_count": 19,
   "id": "4e9d5909-26d3-4c46-b2cd-cd1af824fa4d",
   "metadata": {},
   "outputs": [
    {
     "data": {
      "text/plain": [
       "array([4.34772469e-01, 4.98524546e-06, 2.27381384e-04])"
      ]
     },
     "execution_count": 19,
     "metadata": {},
     "output_type": "execute_result"
    }
   ],
   "source": [
    "results._results.bse"
   ]
  },
  {
   "cell_type": "markdown",
   "id": "5fe9835f-5b19-4f28-aa82-efb35b075c48",
   "metadata": {},
   "source": [
    "### Exercise 5.4.6 b\n",
    "\n",
    "Write a function, `boot_fn()`, that takes as an input the `Default` data set as well as an index of observations, and that outputs the coefficient estimates for `income` and `balance` in the multiple logistic regression."
   ]
  },
  {
   "cell_type": "code",
   "execution_count": 20,
   "id": "429d7876-c0fb-4807-bb7d-14ba03b3c651",
   "metadata": {},
   "outputs": [],
   "source": [
    "def boot_fn(model_matrix, response, data, index):\n",
    "    X_ = data.iloc[index]\n",
    "    Y_ = np.where(X_.loc[:, response] == 'Yes', 1, 0)\n",
    "    X_ = clone(model_matrix).fit_transform(X_)\n",
    "    return sm.GLM(Y_, X_, family=sm.families.Binomial()).fit().params\n"
   ]
  },
  {
   "cell_type": "code",
   "execution_count": 21,
   "id": "4e50d6f4-aacd-4bf4-af66-211e4e018f92",
   "metadata": {},
   "outputs": [
    {
     "data": {
      "text/plain": [
       "intercept   -11.540468\n",
       "income        0.000021\n",
       "balance       0.005647\n",
       "dtype: float64"
      ]
     },
     "execution_count": 21,
     "metadata": {},
     "output_type": "execute_result"
    }
   ],
   "source": [
    "boot_fn(MS(['income', 'balance']), 'default', default_data, np.arange(0, default_data.shape[0]))"
   ]
  },
  {
   "cell_type": "markdown",
   "id": "af38967c-a9fd-4cda-935b-4a11340c43a1",
   "metadata": {},
   "source": [
    "### Exercise 5.4.6 c\n",
    "\n",
    "Following the bootstrap example in the lab, use your `boot_fn()` function to estimate the standard erros for the logistic regression coefficients for `income` and `balance`."
   ]
  },
  {
   "cell_type": "code",
   "execution_count": 22,
   "id": "b78caa63-995a-45cf-8643-6fd81b84470d",
   "metadata": {},
   "outputs": [],
   "source": [
    "def boot_SE_logistic(func, D, n=None, B=1000, seed=0):\n",
    "    rng = np.random.default_rng(seed)\n",
    "    coef_samples = []\n",
    "    n = n or D.shape[0]\n",
    "    for _ in range(B):\n",
    "        idx = rng.choice(D.index, n, replace=True)\n",
    "        coef = func(D, idx)\n",
    "        coef_samples.append(coef)\n",
    "    return np.std(coef_samples, axis=0), coef_samples\n"
   ]
  },
  {
   "cell_type": "code",
   "execution_count": 23,
   "id": "10ebbf1e-abef-421e-852f-330fcc245077",
   "metadata": {},
   "outputs": [],
   "source": [
    "boot_fn_logistic = partial(boot_fn, MS(['income', 'balance']), 'default')"
   ]
  },
  {
   "cell_type": "code",
   "execution_count": 24,
   "id": "3c821fa2-e624-4d57-8541-88d6ecae6818",
   "metadata": {},
   "outputs": [],
   "source": [
    "SE_betas, coeff_samples = boot_SE_logistic(boot_fn_logistic, default_data, B=1000, seed=seed_value)"
   ]
  },
  {
   "cell_type": "code",
   "execution_count": 25,
   "id": "cbc3d4b1-e6c1-4b4e-9e23-73baa491a154",
   "metadata": {},
   "outputs": [
    {
     "data": {
      "text/plain": [
       "array([4.35692097e-01, 4.76719975e-06, 2.30435343e-04])"
      ]
     },
     "execution_count": 25,
     "metadata": {},
     "output_type": "execute_result"
    }
   ],
   "source": [
    "SE_betas"
   ]
  },
  {
   "cell_type": "code",
   "execution_count": 26,
   "id": "6f3aef70-391c-4767-a459-8004dd3938c5",
   "metadata": {},
   "outputs": [
    {
     "data": {
      "text/plain": [
       "array([-1.15651058e+01,  2.06448004e-05,  5.66167804e-03])"
      ]
     },
     "execution_count": 26,
     "metadata": {},
     "output_type": "execute_result"
    }
   ],
   "source": [
    "np.mean(coeff_samples, axis=0)"
   ]
  },
  {
   "cell_type": "markdown",
   "id": "b3cdae29-a9c2-4b8c-bb42-ac1ccc6c575f",
   "metadata": {},
   "source": [
    "### Exercise 5.4.6 d\n",
    "\n",
    "Comment on the estimated standard errors obtained using the `sm.GLM()` function and using the bootstrap.\n",
    "\n",
    "__Answer__:\n",
    "* the `sm.GLM()` method produces following estimates for $\\beta$ coefficients:\n",
    "    * $\\hat{SE}(\\beta_0) = 0.435$, $\\hat{\\beta_0} = -11.5405$;\n",
    "    * $\\hat{SE}(\\beta_1) = 0.00000499$, $\\hat{\\beta_1} = 0.00002081$;\n",
    "    * $\\hat{SE}(\\beta_2) = 0.000$, $\\hat{\\beta_2} = 0.0056$ \n",
    "* the bootstrap method, produces following estimates for $\\beta$ coefficients:\n",
    "    * $\\hat{SE}(\\beta_0) = 0.435692097$, $\\hat{\\beta_0} = -11.5651058$\n",
    "    * $\\hat{SE}(\\beta_1) = 0.00000476719975$, $\\hat{\\beta_1} = 0.0000206448004$,\n",
    "    * $\\hat{SE}(\\beta_2) = 0.000230435343$, $\\hat{\\beta_2} = 0.00566167804$\n",
    " \n",
    "__Answer__:\n",
    "\n",
    "The standard errors between `sm.GLM` and bootstrap methods appears to be close and it's well estimated;\n",
    "\n"
   ]
  },
  {
   "cell_type": "code",
   "execution_count": 27,
   "id": "6783aea7-c37b-49ce-9d6c-e2244bc42fb4",
   "metadata": {},
   "outputs": [
    {
     "data": {
      "image/png": "[encoded data removed]",
      "text/plain": [
       "<Figure size 1000x500 with 2 Axes>"
      ]
     },
     "metadata": {},
     "output_type": "display_data"
    }
   ],
   "source": [
    "income_coefficients = list(map(lambda coeff: coeff.income, coeff_samples))\n",
    "balance_coefficients = list(map(lambda coeff: coeff.balance, coeff_samples))\n",
    "num_bins = 20\n",
    "\n",
    "fig, ax = plt.subplots(1, 2, figsize=(10, 5))\n",
    "ax[0].hist(income_coefficients, bins=num_bins, alpha=0.7, color='blue', label='Income Bootstrap Coefficients')\n",
    "ax[0].set_title('Income coefficient estimation')\n",
    "ax[1].hist(balance_coefficients, bins=num_bins, alpha=0.7, color='pink', label='Balance Bootstrap Coefficients')\n",
    "ax[1].set_title('Balance coefficient estimation')\n",
    "\n",
    "for ax_ in [row for row in ax]:\n",
    "    ax_.set_xlabel('Coefficient value')\n",
    "    ax_.set_ylabel('Frequency')\n",
    "\n",
    "plt.sca(ax[1])\n",
    "plt.xticks(rotation=45)\n",
    "\n",
    "plt.suptitle('Histogram of Bootstrap Coefficients')\n",
    "plt.show()"
   ]
  },
  {
   "cell_type": "markdown",
   "id": "fcd1c37a-5ddd-4c02-b538-f00ee6edf252",
   "metadata": {},
   "source": [
    "### Exercise 5.4.7\n",
    "\n",
    "We saw, that the `cross_validate()` function can be used in order to compute the LOOCV test error estimate. Alternatively, one could compute those quantities using just `sm.GLM()` and the `predict()` method of the fitted model within a for loop. You will now take this approach in order to compute the LOOCV error for a simple logistic regression model on the `Weekly` data set. Recall that in the context of classification problems, the LOOCV error is given:\n",
    "\n",
    "$$\n",
    "\\text{CV}_{(n)} = \\frac{1}{n} \\sum_{i=1}^{n}Err_i\n",
    "$$\n",
    "\n",
    "Where:\n",
    "\n",
    "* $Err_i = I(y_i \\neq \\hat{y}_i)$"
   ]
  },
  {
   "cell_type": "code",
   "execution_count": 28,
   "id": "9f3ebf5e-523d-45b7-b06a-8c20632d7aa8",
   "metadata": {},
   "outputs": [],
   "source": [
    "weekly_data = load_data('Weekly')"
   ]
  },
  {
   "cell_type": "markdown",
   "id": "339eb271-b01b-4ea7-ad8e-73bc08a4d58e",
   "metadata": {},
   "source": [
    "### Exercise 5.4.7 a\n",
    "\n",
    "Fit a logistic regression model that predicts `Direction` using `Lag1` and `Lag2`."
   ]
  },
  {
   "cell_type": "code",
   "execution_count": 29,
   "id": "bfec2134-851a-45f1-83ff-4f5657988d31",
   "metadata": {},
   "outputs": [
    {
     "data": {
      "text/html": [
       "<table class=\"simpletable\">\n",
       "<caption>Generalized Linear Model Regression Results</caption>\n",
       "<tr>\n",
       "  <th>Dep. Variable:</th>           <td>y</td>        <th>  No. Observations:  </th>  <td>  1089</td> \n",
       "</tr>\n",
       "<tr>\n",
       "  <th>Model:</th>                  <td>GLM</td>       <th>  Df Residuals:      </th>  <td>  1086</td> \n",
       "</tr>\n",
       "<tr>\n",
       "  <th>Model Family:</th>        <td>Binomial</td>     <th>  Df Model:          </th>  <td>     2</td> \n",
       "</tr>\n",
       "<tr>\n",
       "  <th>Link Function:</th>         <td>Logit</td>      <th>  Scale:             </th> <td>  1.0000</td>\n",
       "</tr>\n",
       "<tr>\n",
       "  <th>Method:</th>                <td>IRLS</td>       <th>  Log-Likelihood:    </th> <td> -744.11</td>\n",
       "</tr>\n",
       "<tr>\n",
       "  <th>Date:</th>            <td>Mon, 23 Oct 2023</td> <th>  Deviance:          </th> <td>  1488.2</td>\n",
       "</tr>\n",
       "<tr>\n",
       "  <th>Time:</th>                <td>13:24:50</td>     <th>  Pearson chi2:      </th> <td>1.09e+03</td>\n",
       "</tr>\n",
       "<tr>\n",
       "  <th>No. Iterations:</th>          <td>4</td>        <th>  Pseudo R-squ. (CS):</th> <td>0.007303</td>\n",
       "</tr>\n",
       "<tr>\n",
       "  <th>Covariance Type:</th>     <td>nonrobust</td>    <th>                     </th>     <td> </td>   \n",
       "</tr>\n",
       "</table>\n",
       "<table class=\"simpletable\">\n",
       "<tr>\n",
       "      <td></td>         <th>coef</th>     <th>std err</th>      <th>z</th>      <th>P>|z|</th>  <th>[0.025</th>    <th>0.975]</th>  \n",
       "</tr>\n",
       "<tr>\n",
       "  <th>intercept</th> <td>    0.2212</td> <td>    0.061</td> <td>    3.599</td> <td> 0.000</td> <td>    0.101</td> <td>    0.342</td>\n",
       "</tr>\n",
       "<tr>\n",
       "  <th>Lag1</th>      <td>   -0.0387</td> <td>    0.026</td> <td>   -1.477</td> <td> 0.140</td> <td>   -0.090</td> <td>    0.013</td>\n",
       "</tr>\n",
       "<tr>\n",
       "  <th>Lag2</th>      <td>    0.0602</td> <td>    0.027</td> <td>    2.270</td> <td> 0.023</td> <td>    0.008</td> <td>    0.112</td>\n",
       "</tr>\n",
       "</table>"
      ],
      "text/latex": [
       "\\begin{center}\n",
       "\\begin{tabular}{lclc}\n",
       "\\toprule\n",
       "\\textbf{Dep. Variable:}   &        y         & \\textbf{  No. Observations:  } &     1089    \\\\\n",
       "\\textbf{Model:}           &       GLM        & \\textbf{  Df Residuals:      } &     1086    \\\\\n",
       "\\textbf{Model Family:}    &     Binomial     & \\textbf{  Df Model:          } &        2    \\\\\n",
       "\\textbf{Link Function:}   &      Logit       & \\textbf{  Scale:             } &    1.0000   \\\\\n",
       "\\textbf{Method:}          &       IRLS       & \\textbf{  Log-Likelihood:    } &   -744.11   \\\\\n",
       "\\textbf{Date:}            & Mon, 23 Oct 2023 & \\textbf{  Deviance:          } &    1488.2   \\\\\n",
       "\\textbf{Time:}            &     13:24:50     & \\textbf{  Pearson chi2:      } &  1.09e+03   \\\\\n",
       "\\textbf{No. Iterations:}  &        4         & \\textbf{  Pseudo R-squ. (CS):} &  0.007303   \\\\\n",
       "\\textbf{Covariance Type:} &    nonrobust     & \\textbf{                     } &             \\\\\n",
       "\\bottomrule\n",
       "\\end{tabular}\n",
       "\\begin{tabular}{lcccccc}\n",
       "                   & \\textbf{coef} & \\textbf{std err} & \\textbf{z} & \\textbf{P$> |$z$|$} & \\textbf{[0.025} & \\textbf{0.975]}  \\\\\n",
       "\\midrule\n",
       "\\textbf{intercept} &       0.2212  &        0.061     &     3.599  &         0.000        &        0.101    &        0.342     \\\\\n",
       "\\textbf{Lag1}      &      -0.0387  &        0.026     &    -1.477  &         0.140        &       -0.090    &        0.013     \\\\\n",
       "\\textbf{Lag2}      &       0.0602  &        0.027     &     2.270  &         0.023        &        0.008    &        0.112     \\\\\n",
       "\\bottomrule\n",
       "\\end{tabular}\n",
       "%\\caption{Generalized Linear Model Regression Results}\n",
       "\\end{center}"
      ],
      "text/plain": [
       "<class 'statsmodels.iolib.summary.Summary'>\n",
       "\"\"\"\n",
       "                 Generalized Linear Model Regression Results                  \n",
       "==============================================================================\n",
       "Dep. Variable:                      y   No. Observations:                 1089\n",
       "Model:                            GLM   Df Residuals:                     1086\n",
       "Model Family:                Binomial   Df Model:                            2\n",
       "Link Function:                  Logit   Scale:                          1.0000\n",
       "Method:                          IRLS   Log-Likelihood:                -744.11\n",
       "Date:                Mon, 23 Oct 2023   Deviance:                       1488.2\n",
       "Time:                        13:24:50   Pearson chi2:                 1.09e+03\n",
       "No. Iterations:                     4   Pseudo R-squ. (CS):           0.007303\n",
       "Covariance Type:            nonrobust                                         \n",
       "==============================================================================\n",
       "                 coef    std err          z      P>|z|      [0.025      0.975]\n",
       "------------------------------------------------------------------------------\n",
       "intercept      0.2212      0.061      3.599      0.000       0.101       0.342\n",
       "Lag1          -0.0387      0.026     -1.477      0.140      -0.090       0.013\n",
       "Lag2           0.0602      0.027      2.270      0.023       0.008       0.112\n",
       "==============================================================================\n",
       "\"\"\""
      ]
     },
     "execution_count": 29,
     "metadata": {},
     "output_type": "execute_result"
    }
   ],
   "source": [
    "X_design = MS(['Lag1', 'Lag2'])\n",
    "X_train = X_design.fit_transform(weekly_data)\n",
    "y_train = np.array(weekly_data.loc[:, 'Direction'] == 'Up').astype(int)\n",
    "lr_estim = sm.GLM(y_train, X_train, family=sm.families.Binomial())\n",
    "results  = lr_estim.fit()\n",
    "results.summary()"
   ]
  },
  {
   "cell_type": "markdown",
   "id": "90dadc33-222b-4b69-b5e3-438fee0c462a",
   "metadata": {},
   "source": [
    "### Exercise 5.4.7 b\n",
    "\n",
    "Fit a logistic regression model that predicts `Direction` using `Lag1` and `Lag2` *using all but the first observation*."
   ]
  },
  {
   "cell_type": "code",
   "execution_count": 30,
   "id": "38f1bae2-3278-4cb5-9e98-3310d3442fc3",
   "metadata": {},
   "outputs": [
    {
     "data": {
      "text/html": [
       "<table class=\"simpletable\">\n",
       "<caption>Generalized Linear Model Regression Results</caption>\n",
       "<tr>\n",
       "  <th>Dep. Variable:</th>           <td>y</td>        <th>  No. Observations:  </th>  <td>  1088</td> \n",
       "</tr>\n",
       "<tr>\n",
       "  <th>Model:</th>                  <td>GLM</td>       <th>  Df Residuals:      </th>  <td>  1085</td> \n",
       "</tr>\n",
       "<tr>\n",
       "  <th>Model Family:</th>        <td>Binomial</td>     <th>  Df Model:          </th>  <td>     2</td> \n",
       "</tr>\n",
       "<tr>\n",
       "  <th>Link Function:</th>         <td>Logit</td>      <th>  Scale:             </th> <td>  1.0000</td>\n",
       "</tr>\n",
       "<tr>\n",
       "  <th>Method:</th>                <td>IRLS</td>       <th>  Log-Likelihood:    </th> <td> -743.26</td>\n",
       "</tr>\n",
       "<tr>\n",
       "  <th>Date:</th>            <td>Mon, 23 Oct 2023</td> <th>  Deviance:          </th> <td>  1486.5</td>\n",
       "</tr>\n",
       "<tr>\n",
       "  <th>Time:</th>                <td>13:24:50</td>     <th>  Pearson chi2:      </th> <td>1.09e+03</td>\n",
       "</tr>\n",
       "<tr>\n",
       "  <th>No. Iterations:</th>          <td>4</td>        <th>  Pseudo R-squ. (CS):</th> <td>0.007373</td>\n",
       "</tr>\n",
       "<tr>\n",
       "  <th>Covariance Type:</th>     <td>nonrobust</td>    <th>                     </th>     <td> </td>   \n",
       "</tr>\n",
       "</table>\n",
       "<table class=\"simpletable\">\n",
       "<tr>\n",
       "      <td></td>         <th>coef</th>     <th>std err</th>      <th>z</th>      <th>P>|z|</th>  <th>[0.025</th>    <th>0.975]</th>  \n",
       "</tr>\n",
       "<tr>\n",
       "  <th>intercept</th> <td>    0.2232</td> <td>    0.061</td> <td>    3.630</td> <td> 0.000</td> <td>    0.103</td> <td>    0.344</td>\n",
       "</tr>\n",
       "<tr>\n",
       "  <th>Lag1</th>      <td>   -0.0384</td> <td>    0.026</td> <td>   -1.466</td> <td> 0.143</td> <td>   -0.090</td> <td>    0.013</td>\n",
       "</tr>\n",
       "<tr>\n",
       "  <th>Lag2</th>      <td>    0.0608</td> <td>    0.027</td> <td>    2.291</td> <td> 0.022</td> <td>    0.009</td> <td>    0.113</td>\n",
       "</tr>\n",
       "</table>"
      ],
      "text/latex": [
       "\\begin{center}\n",
       "\\begin{tabular}{lclc}\n",
       "\\toprule\n",
       "\\textbf{Dep. Variable:}   &        y         & \\textbf{  No. Observations:  } &     1088    \\\\\n",
       "\\textbf{Model:}           &       GLM        & \\textbf{  Df Residuals:      } &     1085    \\\\\n",
       "\\textbf{Model Family:}    &     Binomial     & \\textbf{  Df Model:          } &        2    \\\\\n",
       "\\textbf{Link Function:}   &      Logit       & \\textbf{  Scale:             } &    1.0000   \\\\\n",
       "\\textbf{Method:}          &       IRLS       & \\textbf{  Log-Likelihood:    } &   -743.26   \\\\\n",
       "\\textbf{Date:}            & Mon, 23 Oct 2023 & \\textbf{  Deviance:          } &    1486.5   \\\\\n",
       "\\textbf{Time:}            &     13:24:50     & \\textbf{  Pearson chi2:      } &  1.09e+03   \\\\\n",
       "\\textbf{No. Iterations:}  &        4         & \\textbf{  Pseudo R-squ. (CS):} &  0.007373   \\\\\n",
       "\\textbf{Covariance Type:} &    nonrobust     & \\textbf{                     } &             \\\\\n",
       "\\bottomrule\n",
       "\\end{tabular}\n",
       "\\begin{tabular}{lcccccc}\n",
       "                   & \\textbf{coef} & \\textbf{std err} & \\textbf{z} & \\textbf{P$> |$z$|$} & \\textbf{[0.025} & \\textbf{0.975]}  \\\\\n",
       "\\midrule\n",
       "\\textbf{intercept} &       0.2232  &        0.061     &     3.630  &         0.000        &        0.103    &        0.344     \\\\\n",
       "\\textbf{Lag1}      &      -0.0384  &        0.026     &    -1.466  &         0.143        &       -0.090    &        0.013     \\\\\n",
       "\\textbf{Lag2}      &       0.0608  &        0.027     &     2.291  &         0.022        &        0.009    &        0.113     \\\\\n",
       "\\bottomrule\n",
       "\\end{tabular}\n",
       "%\\caption{Generalized Linear Model Regression Results}\n",
       "\\end{center}"
      ],
      "text/plain": [
       "<class 'statsmodels.iolib.summary.Summary'>\n",
       "\"\"\"\n",
       "                 Generalized Linear Model Regression Results                  \n",
       "==============================================================================\n",
       "Dep. Variable:                      y   No. Observations:                 1088\n",
       "Model:                            GLM   Df Residuals:                     1085\n",
       "Model Family:                Binomial   Df Model:                            2\n",
       "Link Function:                  Logit   Scale:                          1.0000\n",
       "Method:                          IRLS   Log-Likelihood:                -743.26\n",
       "Date:                Mon, 23 Oct 2023   Deviance:                       1486.5\n",
       "Time:                        13:24:50   Pearson chi2:                 1.09e+03\n",
       "No. Iterations:                     4   Pseudo R-squ. (CS):           0.007373\n",
       "Covariance Type:            nonrobust                                         \n",
       "==============================================================================\n",
       "                 coef    std err          z      P>|z|      [0.025      0.975]\n",
       "------------------------------------------------------------------------------\n",
       "intercept      0.2232      0.061      3.630      0.000       0.103       0.344\n",
       "Lag1          -0.0384      0.026     -1.466      0.143      -0.090       0.013\n",
       "Lag2           0.0608      0.027      2.291      0.022       0.009       0.113\n",
       "==============================================================================\n",
       "\"\"\""
      ]
     },
     "execution_count": 30,
     "metadata": {},
     "output_type": "execute_result"
    }
   ],
   "source": [
    "X_train_omit_fo = X_design.fit_transform(weekly_data.iloc[1:])\n",
    "y_train_omit_fo = np.array(weekly_data.iloc[1:, -1] == 'Up').astype(int)\n",
    "lr_estim_fo = sm.GLM(y_train_omit_fo, X_train_omit_fo, family=sm.families.Binomial())\n",
    "results = lr_estim_fo.fit()\n",
    "\n",
    "results.summary()"
   ]
  },
  {
   "cell_type": "markdown",
   "id": "95f808d3-287f-48ab-93be-a4514d190ccb",
   "metadata": {},
   "source": [
    "### Exercise 5.4.7 c\n",
    "\n",
    "Use the model from [(b)](#Exercise-5.4.7-b) to predict the direction of the first observation. You can do this by predicting that the first observation will go up if $P(\\text{direction} = \\text{\"Up\"} \\mid \\text{Lag1, Lag2}) > 0.5$. Was the observation correctly classified?\n",
    "\n",
    "__Answer__:\n",
    "\n",
    "The observation has been missclassified."
   ]
  },
  {
   "cell_type": "code",
   "execution_count": 31,
   "id": "2f2c5b17-8971-4ac5-9af7-b7d38f41db5a",
   "metadata": {},
   "outputs": [],
   "source": [
    "first_obs_X = weekly_data.iloc[0, [1, 2]]\n",
    "first_obs_X['intercept'] = 1\n",
    "first_obs_y = weekly_data.iloc[0, -1]\n",
    "y_pred_fo = results.predict(first_obs_X.astype(float))"
   ]
  },
  {
   "cell_type": "code",
   "execution_count": 32,
   "id": "e2c3ddb3-087d-4470-a937-5ac76151a643",
   "metadata": {},
   "outputs": [
    {
     "data": {
      "text/plain": [
       "None    0.545523\n",
       "dtype: float64"
      ]
     },
     "execution_count": 32,
     "metadata": {},
     "output_type": "execute_result"
    }
   ],
   "source": [
    "y_pred_fo"
   ]
  },
  {
   "cell_type": "code",
   "execution_count": 33,
   "id": "522d91e2-3eb9-4812-92b5-d51e4ad1ed4b",
   "metadata": {},
   "outputs": [
    {
     "data": {
      "text/plain": [
       "array([False])"
      ]
     },
     "execution_count": 33,
     "metadata": {},
     "output_type": "execute_result"
    }
   ],
   "source": [
    "y_label = np.where(y_pred_fo >= 0.5, 'Up', 'Down')\n",
    "\n",
    "y_label == first_obs_y"
   ]
  },
  {
   "cell_type": "markdown",
   "id": "c8d9abff-8a34-437f-a405-c74f535b9861",
   "metadata": {},
   "source": [
    "### Exercise 5.4.7 d\n",
    "\n",
    "Write a $for$ loop from $i = 1$ to $i = n$, where $n$ is the number of observations in the data set, that performs each of the following steps:\n",
    "* fit a logistic regression model using all but the $i$-th observation to predict `Direction` using `Lag1` and `Lag2`.\n",
    "* compute the posterior probability of the market moving for the $i$th observation,\n",
    "* use the posterior probability for the $i$th observation in order to predict whether or not the market moves up,\n",
    "* determine whether or not an error was made in predicting the direction for the $i$th observation. If an error was made, then indicate this as a $1$, and the otherwise indicate it as $0$."
   ]
  },
  {
   "cell_type": "code",
   "execution_count": 34,
   "id": "aee9e227-db67-413a-83eb-3a31682b9d23",
   "metadata": {},
   "outputs": [],
   "source": [
    "n = weekly_data.shape[0]\n",
    "indicator_errors = []\n",
    "for idx in range(n):\n",
    "    subset_data = weekly_data.drop(idx)\n",
    "    test_data = weekly_data.iloc[idx]\n",
    "    X_train = X_design.fit_transform(subset_data)\n",
    "    y_train = np.where(subset_data.loc[:, 'Direction'] == 'Up', 1, 0)\n",
    "    model = sm.GLM(y_train, X_train).fit()\n",
    "    X_test = test_data.iloc[[1, 2]]\n",
    "    y_test = test_data.iloc[-1]\n",
    "    X_test['intercept'] = 1\n",
    "    y_pred = model.predict(X_test.astype(float))\n",
    "    y_label = np.where(y_pred >= 0.5, 'Up', 'Down')\n",
    "    indicator_errors.append(int(y_label == y_test))"
   ]
  },
  {
   "cell_type": "markdown",
   "id": "2a41dcfc-3835-470f-bdd5-6b1bfdc9f832",
   "metadata": {},
   "source": [
    "### Exercise 5.4.7 e\n",
    "\n",
    "Take the average of the $n$ numbers obtained in (d)iv in order to obtain the $\\text{LOOCV}$ estimate for the test error. Comment on the results.\n",
    "\n",
    "__Answer__:\n",
    "* the error is around $0.44$, so the logistic regression performs on average a little bit better than a chance,\n",
    "* using LOOCV, we decrease the bias error, however variance might be still high, so in this case the single observation as a test sample might influence the error rate in the prediction."
   ]
  },
  {
   "cell_type": "code",
   "execution_count": 35,
   "id": "075ac0f3-ee19-42ef-a470-85980abe6659",
   "metadata": {},
   "outputs": [
    {
     "data": {
      "text/plain": [
       "0.44536271808999084"
      ]
     },
     "execution_count": 35,
     "metadata": {},
     "output_type": "execute_result"
    }
   ],
   "source": [
    "avg_test_error = sum(indicator_errors) / len(indicator_errors)\n",
    "avg_test_error"
   ]
  },
  {
   "cell_type": "markdown",
   "id": "c3eb8f9a-8fc0-4221-a777-be38bae06265",
   "metadata": {},
   "source": [
    "### Exercise 5.4.8\n",
    "\n",
    "We will now perform corss-validation on a simulated data set."
   ]
  },
  {
   "cell_type": "markdown",
   "id": "af247cd5-f54e-4706-9ece-d0d8bbb0f90b",
   "metadata": {},
   "source": [
    "### Exercise 5.4.8 a\n",
    "\n",
    "Generate a simulated data set as follows:\n",
    "\n",
    "```python\n",
    "rng = np.random.default_rng(1)\n",
    "x = rng.normal(size=100)\n",
    "y = x - 2 * x**2 + rng.normal(size = 100)\n",
    "```\n",
    "In this data set, what is $n$ and what is $p$. Write out the model used to generate the data in equation form.\n",
    "\n",
    "__Answer__:\n",
    "\n",
    "Wee see that:\n",
    "$$\n",
    "Y = f(X) + \\epsilon = X - 2X^{2} + \\epsilon\n",
    "$$\n",
    "\n",
    "Where:\n",
    "* $X \\sim \\mathcal{N}(\\mu=0, \\sigma^{2}=1)$, $X \\in \\mathbb{R}^{100 \\times 1}$,\n",
    "* $\\epsilon \\sim \\mathcal{N}(\\mu=0, \\sigma^{2}=1)$, $\\epsilon$ stands for irreducible error which comes from Gaussian distribution.\n",
    "\n",
    "In this case $n = 100$, we get $100$ observations of predictors as well as dependent variable.\n",
    "$p = 1$, since we only have single predictor."
   ]
  },
  {
   "cell_type": "code",
   "execution_count": 36,
   "id": "208284d9-b1cf-4d96-a865-ad90920ac043",
   "metadata": {},
   "outputs": [],
   "source": [
    "rng = np.random.default_rng(1)\n",
    "x = rng.normal(size=100)\n",
    "y = x - 2 * x**2 + rng.normal(size = 100)"
   ]
  },
  {
   "cell_type": "markdown",
   "id": "9acae471-2453-4ae7-b054-6beb03870226",
   "metadata": {},
   "source": [
    "### Exercise 5.4.8 b\n",
    "\n",
    "Create a scatterplot of $X$ against $Y$. Comment on what you find.\n",
    "\n",
    "__Answer__:\n",
    "\n",
    "Scatterplot represents the relation between $X$ and $Y$.\n",
    "\n",
    "As we can see from that plot, the relationship is highly non-linear (quadratic), because we see asymptotic pattern among the observations.\n",
    "\n",
    "We see that, on both negative values, there exists postive relationship (negative values along $X$ increase as well as negative values of $y$).\n",
    "\n",
    "Around $X=0$ the tendency seems to be opposite; larger values of $X$ have smaller values of $y$.\n",
    "\n",
    "We see that the scatterplot, reminds the Gaussian Distribution from which $X$ predictor has been drawn.\n"
   ]
  },
  {
   "cell_type": "code",
   "execution_count": 37,
   "id": "e1d55968-67b0-46d7-8e4d-aa9fc626f155",
   "metadata": {},
   "outputs": [
    {
     "data": {
      "image/png": "[encoded data removed]",
      "text/plain": [
       "<Figure size 640x480 with 1 Axes>"
      ]
     },
     "metadata": {},
     "output_type": "display_data"
    }
   ],
   "source": [
    "sns.scatterplot(x=x, y=y, marker='x', color='blue', legend='auto')\n",
    "plt.title('Scatterplot $X$ vs. $y$: $Y = X - 2X^{2} + \\epsilon$')\n",
    "plt.xlabel('$X$ values')\n",
    "plt.ylabel('$Y$ values')\n",
    "plt.show();"
   ]
  },
  {
   "cell_type": "markdown",
   "id": "47cc3a97-efd4-4192-b793-af5004accda2",
   "metadata": {},
   "source": [
    "### Exercise 5.4.8 c\n",
    "\n",
    "Set a random seed, and then compute the $\\text{LOOCV}$ errors that result from fitting the following four models using least squares:\n",
    "\n",
    "i. $Y = \\beta_0 + \\beta_1X + \\epsilon$,\n",
    "\n",
    "ii. $Y = \\beta_0 + \\beta_1X + \\beta_2X^{2} + \\epsilon$,\n",
    "\n",
    "iii. $Y = \\beta_0 + \\beta_1X + \\beta_2X^{2} + \\beta_3X^{3} + \\epsilon$,\n",
    "\n",
    "iv. $Y = \\beta_0  + \\beta_1X + \\beta_2X^{2} + \\beta_3X^{3} + \\beta_4X^{4} + \\epsilon$."
   ]
  },
  {
   "cell_type": "code",
   "execution_count": 38,
   "id": "6a873d65-65b2-409c-812a-06e7d8fa642d",
   "metadata": {},
   "outputs": [],
   "source": [
    "\n",
    "seed_value = 0\n",
    "\n",
    "def loocv_perform(estimator, degree, X, y, reduction, seed=0):\n",
    "\n",
    "    degrees = list(range(1, degree + 1))\n",
    "    models = [estimator] * degree\n",
    "    model_parameters = []\n",
    "    \n",
    "    np.random.seed(seed)\n",
    "    rng = check_random_state(seed)\n",
    "    \n",
    "    loo = LeaveOneOut()\n",
    "    errors = defaultdict(list)\n",
    "    power_columns = []\n",
    "    \n",
    "    for i in range(1, max(degrees) + 1):\n",
    "        power_columns.append(np.power(X, i))\n",
    "    \n",
    "    for degree in degrees:\n",
    "        power_columns_index = [degree - 1 for degree in degrees[:degree]]\n",
    "        \n",
    "        X = np.column_stack([power_columns[idx] for idx in power_columns_index])\n",
    "        y = np.array(y)\n",
    "        \n",
    "        for train_index, test_index in loo.split(X):\n",
    "            X_train, X_test = X[train_index], X[test_index]\n",
    "            y_train, y_test = y[train_index], y[test_index]\n",
    "            model_index = degree - 1\n",
    "            model = models[model_index]\n",
    "            model.name = f'{degree}_linear_regression'\n",
    "            model.fit(X_train, y_train)\n",
    "            y_pred = model.predict(X_test)\n",
    "            error = mean_squared_error(y_test, y_pred)\n",
    "            errors[model.name].append(error)\n",
    "            model_parameters.append(np.hstack((model.intercept_, model.coef_)))\n",
    "\n",
    "    # average all errors\n",
    "    if reduction == 'mean':\n",
    "        avg_errors = {}\n",
    "        for model, err in errors.items():\n",
    "            avg_error = sum(err) / len(err)\n",
    "            avg_errors[model] = avg_error\n",
    "            \n",
    "        return avg_errors, model_parameters\n",
    "\n",
    "    return dict(sorted(errors.items())), model_parameters"
   ]
  },
  {
   "cell_type": "code",
   "execution_count": 39,
   "id": "cd7d83bc-c2c5-44ba-a718-3056bc5f9866",
   "metadata": {},
   "outputs": [
    {
     "data": {
      "image/png": "[encoded data removed]",
      "text/plain": [
       "<Figure size 640x480 with 1 Axes>"
      ]
     },
     "metadata": {},
     "output_type": "display_data"
    }
   ],
   "source": [
    "results, _ = loocv_perform(LinearRegression(), degree=4, X=x, y=y, reduction='mean')\n",
    "X_deg = [int(key.split('_')[0]) for key in results.keys()]\n",
    "loocv_errors = list(results.values())\n",
    "\n",
    "plt.plot(X_deg, loocv_errors, marker='o', markersize=10, label='Test Errors', color='#8A2BE2')\n",
    "\n",
    "plt.title('LOOCV Test Errors')\n",
    "plt.xlabel('Power of Predictor')\n",
    "plt.ylabel('Error')\n",
    "\n",
    "plt.legend()\n",
    "plt.show();\n"
   ]
  },
  {
   "cell_type": "markdown",
   "id": "4adec229-76dd-4e41-9551-fa656c0b6896",
   "metadata": {},
   "source": [
    "### Exercise 5.4.8 d\n",
    "\n",
    "Repeat [(d)](#Exercise-5.4.8-c) using another random seed, and report you results. Are your results the same as what you got in [(c)](#Exercise-5.4.8-c)? Why?\n",
    "\n",
    "__Answer__:\n",
    "\n",
    "* with different seed, we get similar results, because we create $n$ models with the same training subsets: $n - 1$ observations are used as training set, whereas $n$ is the validation data set. The process is repeated $n$ times, therefore, on average, we obtain similar errors regardless of the different random seed."
   ]
  },
  {
   "cell_type": "code",
   "execution_count": 40,
   "id": "b025fc6b-0d9d-4110-8ab1-bcea1f8fca3a",
   "metadata": {},
   "outputs": [
    {
     "data": {
      "image/png": "[encoded data removed]",
      "text/plain": [
       "<Figure size 640x480 with 1 Axes>"
      ]
     },
     "metadata": {},
     "output_type": "display_data"
    }
   ],
   "source": [
    "seed_value = 777\n",
    "loocv_results, model_params = loocv_perform(LinearRegression(), degree=4, X=x, y=y, reduction='mean', seed=seed_value)\n",
    "\n",
    "X_deg = [int(key.split('_')[0]) for key in loocv_results.keys()]\n",
    "loocv_errors = list(loocv_results.values())\n",
    "\n",
    "plt.plot(X_deg, loocv_errors, marker='o', markersize=10, label='Test Errors', color='#8A2BE2')\n",
    "\n",
    "plt.title('LOOCV Test Errors')\n",
    "plt.xlabel('Power of Predictor')\n",
    "plt.ylabel('Error')\n",
    "\n",
    "plt.legend()\n",
    "plt.show();\n"
   ]
  },
  {
   "cell_type": "markdown",
   "id": "fa2c4ae5-235c-4e40-8ecf-78d4b6543c04",
   "metadata": {},
   "source": [
    "### Exercise 5.4.8 e\n",
    "\n",
    "Which of the models in [(c)](#Exercise-5.4.8-c) had the smallest $\\text{LOOCV}$ error? Is this what you expected? Explain your answer.\n",
    "\n",
    "__Answer__:\n",
    "\n",
    "I expected that the model:\n",
    "\n",
    "$$\n",
    "Y = \\beta_0 + \\beta_1X + \\beta_2X^{2} + \\epsilon\n",
    "$$\n",
    "\n",
    "would obtain the lowest LOOCV error. This is because the scatterplot pattern clearly indicated a quadratic relationship between $X$ and $Y$. The quadratic formula effectively captures this relationship."
   ]
  },
  {
   "cell_type": "markdown",
   "id": "9064cbef-dcd4-4c76-b29c-c9e0a84af3d5",
   "metadata": {},
   "source": [
    "### Exercise 5.4.8 f\n",
    "\n",
    "Comment on the statistical significance of the coefficient estimates that results from fitting each of the models in [(c)](#Exercise-5.4.8-c) using least squares. Do these results agree with the conclusions drawn based on the cross-validation results?\n",
    "\n",
    "__Answer__:\n",
    "\n",
    "* based on the estimated coefficients values and true population $\\beta$ coefficients: $\\beta_0 = 0, \\beta_1 = 1, \\beta_2 = 2$, we see that in the degree of 2, quadratic polynomial regression's coeffs are very close to the true one, however, also polynomials with higher degree fit very well to those generated data. These results from the cross validation agree with the results, as well as the plot of Population Regression Line vs. Least Squares Line,\n",
    "* based on the $t-test$, we see that in the quadratic regression fit, $\\beta_0$ is statistically insignificant,\n",
    "* higher polynomials (degree=3, degree=4), we se that last coefficients are also statistically insignificant to predict dependent variable ($p$-value greater than 0.05)."
   ]
  },
  {
   "cell_type": "code",
   "execution_count": 41,
   "id": "fb928e08-e0f8-40a3-bb81-043d73b0d93e",
   "metadata": {},
   "outputs": [
    {
     "data": {
      "text/plain": [
       "{1: array([-1.46460681,  1.94917191]),\n",
       " 2: array([-0.07249093,  0.96637717, -2.0051668 ]),\n",
       " 3: array([-0.05658834,  1.11268326, -2.04810676, -0.06344034]),\n",
       " 4: array([ 0.09998277,  0.90410734, -2.50243614,  0.03442224,  0.10323634])}"
      ]
     },
     "execution_count": 41,
     "metadata": {},
     "output_type": "execute_result"
    }
   ],
   "source": [
    "models_coefficients = {}\n",
    "\n",
    "for arr in model_params:\n",
    "    num_columns = arr.shape[0] - 1\n",
    "    if num_columns not in models_coefficients:\n",
    "        models_coefficients[num_columns] = []\n",
    "    models_coefficients[num_columns].append(arr)\n",
    "\n",
    "for col in models_coefficients.keys():\n",
    "    vstack = np.vstack(models_coefficients[col])\n",
    "    models_coefficients[col] = vstack.mean(axis=0)\n",
    "\n",
    "models_coefficients"
   ]
  },
  {
   "cell_type": "code",
   "execution_count": 42,
   "id": "b574e25b-3793-45c0-be91-1127b063f450",
   "metadata": {},
   "outputs": [
    {
     "data": {
      "text/plain": [
       "{'1_linear_regression': 6.633029839181983,\n",
       " '2_linear_regression': 1.1229368563419677,\n",
       " '3_linear_regression': 1.3017965489358856,\n",
       " '4_linear_regression': 1.3323942694179345}"
      ]
     },
     "execution_count": 42,
     "metadata": {},
     "output_type": "execute_result"
    }
   ],
   "source": [
    "results"
   ]
  },
  {
   "cell_type": "code",
   "execution_count": 43,
   "id": "81e7d6ef-8772-4ee4-a7fc-559d3d310a62",
   "metadata": {},
   "outputs": [
    {
     "data": {
      "image/png": "[encoded data removed]",
      "text/plain": [
       "<Figure size 640x480 with 1 Axes>"
      ]
     },
     "metadata": {},
     "output_type": "display_data"
    }
   ],
   "source": [
    "sns.scatterplot(x=x, y=y, marker='x', color='blue', legend='auto')\n",
    "plt.title('Population Regression Line vs. Least Squares Fit Line')\n",
    "plt.xlabel('$X$ values')\n",
    "plt.ylabel('$Y$ values')\n",
    "\n",
    "x_range = np.linspace(min(x), max(x), 100)\n",
    "y_true = x_range - 2 * x_range ** 2\n",
    "\n",
    "plt.plot(x_range, y_true, color='#0b0b0b', label='True Population Regression Line')\n",
    "\n",
    "line_styles = ['--', '-.', ':', '-']\n",
    "\n",
    "colors = ['#9b59b6', '#6a24de', '#95a5a6', '#e74c3c']\n",
    "for degree, coefficients in models_coefficients.items():\n",
    "    y_fit = np.sum([coefficients[i] * x_range**i for i in range(degree+1)], axis=0)\n",
    "    plt.plot(x_range, y_fit, label=f'Degree {degree} Fit', color=colors[degree-1], alpha=0.7, linestyle=line_styles[degree-1])\n",
    "\n",
    "plt.legend()\n",
    "plt.show()\n"
   ]
  },
  {
   "cell_type": "code",
   "execution_count": 44,
   "id": "e0d94ca9-0aaf-4f78-8922-d1806c2fac24",
   "metadata": {},
   "outputs": [
    {
     "name": "stdout",
     "output_type": "stream",
     "text": [
      "Degree 1:\n",
      "Estimated coeffs: [-1.46460681  1.94917191]\n",
      "Coefficient 0:\n",
      "\tEstimated Value: -1.464606805247402\n",
      "\tStandard Error: 0.2585071718555296\n",
      "\tt-statistic: -5.665633161102076\n",
      "\tp-value: 1.469964350242492e-07\n",
      "\n",
      "Coefficient 1:\n",
      "\tEstimated Value: 1.9491719117702095\n",
      "\tStandard Error: 0.30244219978551784\n",
      "\tt-statistic: 6.4447749459318135\n",
      "\tp-value: 4.357360250395459e-09\n",
      "\n",
      "Degree 2:\n",
      "Estimated coeffs: [-0.07249093  0.96637717 -2.0051668 ]\n",
      "Coefficient 0:\n",
      "\tEstimated Value: -0.0724909309765359\n",
      "\tStandard Error: 0.1253790137432142\n",
      "\tt-statistic: -0.5781743595862292\n",
      "\tp-value: 0.5644863125332988\n",
      "\n",
      "Coefficient 1:\n",
      "\tEstimated Value: 0.9663771702858982\n",
      "\tStandard Error: 0.13297707220577412\n",
      "\tt-statistic: 7.267246558041878\n",
      "\tp-value: 9.341460938117052e-11\n",
      "\n",
      "Coefficient 2:\n",
      "\tEstimated Value: -2.005166798846129\n",
      "\tStandard Error: 0.09558723744396559\n",
      "\tt-statistic: -20.977348571472024\n",
      "\tp-value: 0.0\n",
      "\n",
      "Degree 3:\n",
      "Estimated coeffs: [-0.05658834  1.11268326 -2.04810676 -0.06344034]\n",
      "Coefficient 0:\n",
      "\tEstimated Value: -0.056588337033481484\n",
      "\tStandard Error: 0.13599821504319468\n",
      "\tt-statistic: -0.41609617461161785\n",
      "\tp-value: 0.6782683723998177\n",
      "\n",
      "Coefficient 1:\n",
      "\tEstimated Value: 1.112683264545543\n",
      "\tStandard Error: 0.21259112098841343\n",
      "\tt-statistic: 5.23391221313606\n",
      "\tp-value: 9.751359466569909e-07\n",
      "\n",
      "Coefficient 2:\n",
      "\tEstimated Value: -2.0481067627559195\n",
      "\tStandard Error: 0.1122904189163273\n",
      "\tt-statistic: -18.239372357155933\n",
      "\tp-value: 0.0\n",
      "\n",
      "Coefficient 3:\n",
      "\tEstimated Value: -0.06344033979707585\n",
      "\tStandard Error: 0.06813152579664161\n",
      "\tt-statistic: -0.9311451498449047\n",
      "\tp-value: 0.354114234652108\n",
      "\n",
      "Degree 4:\n",
      "Estimated coeffs: [ 0.09998277  0.90410734 -2.50243614  0.03442224  0.10323634]\n",
      "Coefficient 0:\n",
      "\tEstimated Value: 0.09998276634750032\n",
      "\tStandard Error: 0.1592930548431367\n",
      "\tt-statistic: 0.627665571772467\n",
      "\tp-value: 0.5317288862339482\n",
      "\n",
      "Coefficient 1:\n",
      "\tEstimated Value: 0.9041073395502882\n",
      "\tStandard Error: 0.2399786888932226\n",
      "\tt-statistic: 3.7674484501937027\n",
      "\tp-value: 0.00028602610721750743\n",
      "\n",
      "Coefficient 2:\n",
      "\tEstimated Value: -2.502436139178824\n",
      "\tStandard Error: 0.25926512755490505\n",
      "\tt-statistic: -9.652035207275913\n",
      "\tp-value: 8.881784197001252e-16\n",
      "\n",
      "Coefficient 3:\n",
      "\tEstimated Value: 0.034422236125661\n",
      "\tStandard Error: 0.08504237483971226\n",
      "\tt-statistic: 0.4047656969897651\n",
      "\tp-value: 0.6865596895866455\n",
      "\n",
      "Coefficient 4:\n",
      "\tEstimated Value: 0.10323633904697709\n",
      "\tStandard Error: 0.05293448514524609\n",
      "\tt-statistic: 1.9502662350206779\n",
      "\tp-value: 0.05409199751153282\n",
      "\n"
     ]
    }
   ],
   "source": [
    "def calculate_standard_error(X, y, MSE):\n",
    "    n = X.shape[0]\n",
    "    k = X.shape[1]\n",
    "    standard_error = np.sqrt(MSE * np.diag(np.linalg.inv(np.dot(X.T, X))))\n",
    "    return standard_error\n",
    "\n",
    "for degree, coef in models_coefficients.items():\n",
    "    print(f'Degree {degree}:')\n",
    "    X_degree = np.column_stack([np.power(x, i) for i in range(degree + 1)])\n",
    "    se = calculate_standard_error(X_degree, y, results[f'{degree}_linear_regression'])\n",
    "    t_statistic = np.divide(coef, se)\n",
    "    p_value = 2 * (1 - stats.t.cdf(np.abs(t_statistic), len(y) - X_degree.shape[1]))\n",
    "    \n",
    "    print(f'Estimated coeffs: {coef}')\n",
    "    for i, beta in enumerate(coef):\n",
    "        print(f'Coefficient {i}:')\n",
    "        print(f'\\tEstimated Value: {beta}')\n",
    "        print(f'\\tStandard Error: {se[i]}')\n",
    "        print(f'\\tt-statistic: {t_statistic[i]}')\n",
    "        print(f'\\tp-value: {p_value[i]}')\n",
    "        print()\n"
   ]
  },
  {
   "cell_type": "markdown",
   "id": "064706a7-4771-4ba2-8347-ad8e528dc367",
   "metadata": {},
   "source": [
    "### Exercise 5.4.9"
   ]
  },
  {
   "cell_type": "markdown",
   "id": "c38ca127-367e-4865-90b3-3867674d8d10",
   "metadata": {},
   "source": [
    "We will now consider the `Boston` housing data set, from the `ISLP` library.\n"
   ]
  },
  {
   "cell_type": "code",
   "execution_count": 45,
   "id": "f758a15a-c749-469a-9f9f-30ebfe62e3b5",
   "metadata": {},
   "outputs": [
    {
     "data": {
      "text/html": [
       "<div>\n",
       "<style scoped>\n",
       "    .dataframe tbody tr th:only-of-type {\n",
       "        vertical-align: middle;\n",
       "    }\n",
       "\n",
       "    .dataframe tbody tr th {\n",
       "        vertical-align: top;\n",
       "    }\n",
       "\n",
       "    .dataframe thead th {\n",
       "        text-align: right;\n",
       "    }\n",
       "</style>\n",
       "<table border=\"1\" class=\"dataframe\">\n",
       "  <thead>\n",
       "    <tr style=\"text-align: right;\">\n",
       "      <th></th>\n",
       "      <th>crim</th>\n",
       "      <th>zn</th>\n",
       "      <th>indus</th>\n",
       "      <th>chas</th>\n",
       "      <th>nox</th>\n",
       "      <th>rm</th>\n",
       "      <th>age</th>\n",
       "      <th>dis</th>\n",
       "      <th>rad</th>\n",
       "      <th>tax</th>\n",
       "      <th>ptratio</th>\n",
       "      <th>lstat</th>\n",
       "      <th>medv</th>\n",
       "    </tr>\n",
       "  </thead>\n",
       "  <tbody>\n",
       "    <tr>\n",
       "      <th>0</th>\n",
       "      <td>0.00632</td>\n",
       "      <td>18.0</td>\n",
       "      <td>2.31</td>\n",
       "      <td>0</td>\n",
       "      <td>0.538</td>\n",
       "      <td>6.575</td>\n",
       "      <td>65.2</td>\n",
       "      <td>4.0900</td>\n",
       "      <td>1</td>\n",
       "      <td>296</td>\n",
       "      <td>15.3</td>\n",
       "      <td>4.98</td>\n",
       "      <td>24.0</td>\n",
       "    </tr>\n",
       "    <tr>\n",
       "      <th>1</th>\n",
       "      <td>0.02731</td>\n",
       "      <td>0.0</td>\n",
       "      <td>7.07</td>\n",
       "      <td>0</td>\n",
       "      <td>0.469</td>\n",
       "      <td>6.421</td>\n",
       "      <td>78.9</td>\n",
       "      <td>4.9671</td>\n",
       "      <td>2</td>\n",
       "      <td>242</td>\n",
       "      <td>17.8</td>\n",
       "      <td>9.14</td>\n",
       "      <td>21.6</td>\n",
       "    </tr>\n",
       "    <tr>\n",
       "      <th>2</th>\n",
       "      <td>0.02729</td>\n",
       "      <td>0.0</td>\n",
       "      <td>7.07</td>\n",
       "      <td>0</td>\n",
       "      <td>0.469</td>\n",
       "      <td>7.185</td>\n",
       "      <td>61.1</td>\n",
       "      <td>4.9671</td>\n",
       "      <td>2</td>\n",
       "      <td>242</td>\n",
       "      <td>17.8</td>\n",
       "      <td>4.03</td>\n",
       "      <td>34.7</td>\n",
       "    </tr>\n",
       "    <tr>\n",
       "      <th>3</th>\n",
       "      <td>0.03237</td>\n",
       "      <td>0.0</td>\n",
       "      <td>2.18</td>\n",
       "      <td>0</td>\n",
       "      <td>0.458</td>\n",
       "      <td>6.998</td>\n",
       "      <td>45.8</td>\n",
       "      <td>6.0622</td>\n",
       "      <td>3</td>\n",
       "      <td>222</td>\n",
       "      <td>18.7</td>\n",
       "      <td>2.94</td>\n",
       "      <td>33.4</td>\n",
       "    </tr>\n",
       "    <tr>\n",
       "      <th>4</th>\n",
       "      <td>0.06905</td>\n",
       "      <td>0.0</td>\n",
       "      <td>2.18</td>\n",
       "      <td>0</td>\n",
       "      <td>0.458</td>\n",
       "      <td>7.147</td>\n",
       "      <td>54.2</td>\n",
       "      <td>6.0622</td>\n",
       "      <td>3</td>\n",
       "      <td>222</td>\n",
       "      <td>18.7</td>\n",
       "      <td>5.33</td>\n",
       "      <td>36.2</td>\n",
       "    </tr>\n",
       "  </tbody>\n",
       "</table>\n",
       "</div>"
      ],
      "text/plain": [
       "      crim    zn  indus  chas    nox     rm   age     dis  rad  tax  ptratio  \\\n",
       "0  0.00632  18.0   2.31     0  0.538  6.575  65.2  4.0900    1  296     15.3   \n",
       "1  0.02731   0.0   7.07     0  0.469  6.421  78.9  4.9671    2  242     17.8   \n",
       "2  0.02729   0.0   7.07     0  0.469  7.185  61.1  4.9671    2  242     17.8   \n",
       "3  0.03237   0.0   2.18     0  0.458  6.998  45.8  6.0622    3  222     18.7   \n",
       "4  0.06905   0.0   2.18     0  0.458  7.147  54.2  6.0622    3  222     18.7   \n",
       "\n",
       "   lstat  medv  \n",
       "0   4.98  24.0  \n",
       "1   9.14  21.6  \n",
       "2   4.03  34.7  \n",
       "3   2.94  33.4  \n",
       "4   5.33  36.2  "
      ]
     },
     "execution_count": 45,
     "metadata": {},
     "output_type": "execute_result"
    }
   ],
   "source": [
    "boston_data = load_data('Boston')\n",
    "\n",
    "boston_data.head()"
   ]
  },
  {
   "cell_type": "markdown",
   "id": "22d17997-7c9f-40af-a72e-4cd9c2f43f4d",
   "metadata": {},
   "source": [
    "### Exercise 5.4.9 a \n",
    "\n",
    "Based on this data set, provide an estimate for the population mean of `medv`. Call this estimate $\\hat{\\mu}$."
   ]
  },
  {
   "cell_type": "code",
   "execution_count": 46,
   "id": "22714b09-e703-42fc-bd81-d9519ac4a706",
   "metadata": {},
   "outputs": [
    {
     "data": {
      "text/plain": [
       "22.532806324110677"
      ]
     },
     "execution_count": 46,
     "metadata": {},
     "output_type": "execute_result"
    }
   ],
   "source": [
    "mean_population_estim = boston_data.medv.mean()\n",
    "\n",
    "mean_population_estim"
   ]
  },
  {
   "cell_type": "markdown",
   "id": "c68afff2-0c39-47b8-ba67-4ace56f626bd",
   "metadata": {},
   "source": [
    "### Exercise 5.4.9 b\n",
    "\n",
    "Provide an estimate of the standard error of $\\hat{\\mu}$. Interpret this result.\n",
    "\n",
    "__Answer__:\n",
    "\n",
    "* This standard error of the mean estimation indicates that on average, if we would draw some more random samples from a population regression line with the same size as `len(boston_data)` and calculate the mean, most of the samples would fall within $\\pm40$ units of the true population regression line. "
   ]
  },
  {
   "cell_type": "code",
   "execution_count": 47,
   "id": "c7f40417-1972-4b4a-bd21-2d50955950f2",
   "metadata": {},
   "outputs": [
    {
     "data": {
      "text/plain": [
       "0.40886114749753505"
      ]
     },
     "execution_count": 47,
     "metadata": {},
     "output_type": "execute_result"
    }
   ],
   "source": [
    "mean_standard_error = boston_data.medv.std() / np.sqrt(len(boston_data))\n",
    "\n",
    "mean_standard_error"
   ]
  },
  {
   "cell_type": "markdown",
   "id": "e62a98f6-f036-4fc6-b6e5-70d6b2eb5171",
   "metadata": {},
   "source": [
    "### Exercise 5.4.9 c\n",
    "\n",
    "Now estimate the standard error of $\\mu$ using the bootstrap. How does this compare to your answer from [(b)](#Exercise-5.4.9-b)?\n",
    "\n",
    "__Answer__:\n",
    "\n",
    "Using bootstrap method, we achieve $SE(\\hat{\\mu}) = 0.40782$.\n",
    "\n",
    "Using `mean()` on the sample of boston population we have $SE(\\hat{\\mu}) = 0.4088$\n",
    "\n",
    "Those standard errors of the estimated mean population are very close to each other.\n"
   ]
  },
  {
   "cell_type": "code",
   "execution_count": 48,
   "id": "6e4f9a74-7f05-43d8-8a4f-05c9410d7e33",
   "metadata": {},
   "outputs": [],
   "source": [
    "def boot_mean(data, num_samples):\n",
    "    n = len(data)\n",
    "    boostrapped_mean_standard_errors = []\n",
    "\n",
    "    for _ in range(num_samples):\n",
    "        sample = np.random.choice(data, n, replace=True)\n",
    "        estimated_standard_error = sample.std() / np.sqrt(len(sample))\n",
    "        boostrapped_mean_standard_errors.append(estimated_standard_error)\n",
    "\n",
    "    return boostrapped_mean_standard_errors\n",
    "    "
   ]
  },
  {
   "cell_type": "code",
   "execution_count": 49,
   "id": "9d61e48e-7e6f-4ffe-8f2a-b1783e2239da",
   "metadata": {},
   "outputs": [],
   "source": [
    "num_samples = 10000\n",
    "bootstrapped_means = boot_mean(boston_data.medv, num_samples)"
   ]
  },
  {
   "cell_type": "code",
   "execution_count": 50,
   "id": "04863cb5-b06b-4aa6-b9a4-e73e9bf5a483",
   "metadata": {},
   "outputs": [
    {
     "data": {
      "text/plain": [
       "[0.4235258616983018,\n",
       " 0.4170558111058695,\n",
       " 0.40435859668647905,\n",
       " 0.4108434529275743,\n",
       " 0.43643834745623666,\n",
       " 0.42372142044754657,\n",
       " 0.413020289800923,\n",
       " 0.4002264071343133,\n",
       " 0.42604583779828614,\n",
       " 0.3945168184084156]"
      ]
     },
     "execution_count": 50,
     "metadata": {},
     "output_type": "execute_result"
    }
   ],
   "source": [
    "bootstrapped_means[:10]"
   ]
  },
  {
   "cell_type": "code",
   "execution_count": 51,
   "id": "03541910-e18a-4160-b2f2-ad383f7b7133",
   "metadata": {},
   "outputs": [
    {
     "data": {
      "text/plain": [
       "0.40774586135528057"
      ]
     },
     "execution_count": 51,
     "metadata": {},
     "output_type": "execute_result"
    }
   ],
   "source": [
    "bootstrapped_mean = np.mean(bootstrapped_means)\n",
    "\n",
    "bootstrapped_mean"
   ]
  },
  {
   "cell_type": "markdown",
   "id": "d3b54a48-52c9-4117-8878-051b9aa0e782",
   "metadata": {},
   "source": [
    "### Exercise 5.4.9 d\n",
    "\n",
    "Based on your bootstrap estimate from [(c)](#Exercise-5.4.9-c), provide a $95\\%$ confidence interval for the mean of `medv`. Compare it to the results obtained by using `Boston['medv'].std()` and the two standard error rule:\n",
    "\n",
    "$$\n",
    "\\hat{\\beta_1} \\pm 2 \\cdot SE(\\hat{\\beta_1})\n",
    "$$\n",
    "\n",
    "*Hint: You can approximate a $95\\%$ confidence interval using the formula $[\\hat{\\mu} - 2SE(\\hat{\\mu}), \\hat{\\mu} + 2SE(\\hat{\\mu})]$*\n",
    "\n",
    "__Answer__:\n",
    "\n",
    "* $95\\%$ confidence interval for the bootstrap method: $[21.72, 23.35]$,\n",
    "* $95\\%$ confidence interval using `Boston['medv'].std()`: $[21.71, 23.35]$.\n",
    "\n",
    "The overall confidence interval for both methods are very close to each other and also the $\\hat{\\mu}$ fits to these confidence intervals."
   ]
  },
  {
   "cell_type": "code",
   "execution_count": 52,
   "id": "7f768ab3-b27a-45dd-8597-ab5356d3b49e",
   "metadata": {},
   "outputs": [
    {
     "data": {
      "text/plain": [
       "[21.717314601400115, 23.348298046821238]"
      ]
     },
     "execution_count": 52,
     "metadata": {},
     "output_type": "execute_result"
    }
   ],
   "source": [
    "bootstrap_confidence_interval = [mean_population_estim - 2 * bootstrapped_mean, mean_population_estim + 2 * bootstrapped_mean]\n",
    "\n",
    "bootstrap_confidence_interval"
   ]
  },
  {
   "cell_type": "code",
   "execution_count": 53,
   "id": "79c23d0d-e1af-4cda-a06c-90ae83ed4c0c",
   "metadata": {},
   "outputs": [
    {
     "data": {
      "text/plain": [
       "22.532806324110677"
      ]
     },
     "execution_count": 53,
     "metadata": {},
     "output_type": "execute_result"
    }
   ],
   "source": [
    "mean_population_estim"
   ]
  },
  {
   "cell_type": "code",
   "execution_count": 54,
   "id": "41076f28-4cfd-4b25-bf4a-606f6415395e",
   "metadata": {},
   "outputs": [],
   "source": [
    "SEM = boston_data.medv.std() / np.sqrt(len(boston_data.medv))\n",
    "confidence_interval_sems = [mean_population_estim - 2 * SEM, mean_population_estim + 2 * SEM]"
   ]
  },
  {
   "cell_type": "code",
   "execution_count": 55,
   "id": "153efe1e-d46c-44f3-9635-8cd3b822b178",
   "metadata": {},
   "outputs": [
    {
     "data": {
      "text/plain": [
       "[21.715084029115605, 23.35052861910575]"
      ]
     },
     "execution_count": 55,
     "metadata": {},
     "output_type": "execute_result"
    }
   ],
   "source": [
    "confidence_interval_sems"
   ]
  },
  {
   "cell_type": "markdown",
   "id": "f86c9630-2144-465a-934d-0c695e818680",
   "metadata": {},
   "source": [
    "### Exercise 5.4.9 e\n",
    "\n",
    "Based on this data set, provide an estimate of $\\hat{\\mu}_{\\text{med}}$, for the median value of `medv` in the population."
   ]
  },
  {
   "cell_type": "code",
   "execution_count": 56,
   "id": "065835cb-bf3a-4def-a93b-53c42f52b3dc",
   "metadata": {},
   "outputs": [
    {
     "data": {
      "text/plain": [
       "21.2"
      ]
     },
     "execution_count": 56,
     "metadata": {},
     "output_type": "execute_result"
    }
   ],
   "source": [
    "population_median_estimate = boston_data.medv.median()\n",
    "\n",
    "population_median_estimate"
   ]
  },
  {
   "cell_type": "markdown",
   "id": "7407ec5c-9365-408c-8361-8ff3e7d6d195",
   "metadata": {},
   "source": [
    "### Exercise 5.4.9 f\n",
    "\n",
    "We now would like to estimate the standard error of $\\hat{\\mu}_{\\text{med}}$. Unfortunately, there is no simple formula for computing the standard error of the median. Instead, estimate the standard error of the median using the bootstrap. Comment on your findings.\n",
    "\n",
    "__Answer__:\n",
    "\n",
    "* we see that drawing random samples with a fixed length from true population of the `boston` dataset would differ in median of the `medv` by $0.37$ units. "
   ]
  },
  {
   "cell_type": "code",
   "execution_count": 57,
   "id": "42817fdc-6003-42ea-82f6-55214c0a0db6",
   "metadata": {},
   "outputs": [],
   "source": [
    "def boot_median(data, n_samples):\n",
    "    n = len(data)\n",
    "    bootstrapped_medians = []\n",
    "    \n",
    "    for _ in range(n_samples):\n",
    "        sample = np.random.choice(data, n, replace=True)\n",
    "        sample_median_estimate = np.median(sample)\n",
    "        bootstrapped_medians.append(sample_median_estimate)\n",
    "    \n",
    "    return bootstrapped_medians\n",
    "    "
   ]
  },
  {
   "cell_type": "code",
   "execution_count": 58,
   "id": "ccb8e976-4f1f-4e42-80d7-f15c6bd0b4d4",
   "metadata": {},
   "outputs": [],
   "source": [
    "bootstrapped_medians = boot_median(boston_data.medv, 10000)\n",
    "estimated_bootstrap_median = np.mean(bootstrapped_medians)"
   ]
  },
  {
   "cell_type": "code",
   "execution_count": 59,
   "id": "c9358e6a-d8da-4dcd-913d-a6766d32633f",
   "metadata": {},
   "outputs": [
    {
     "data": {
      "text/plain": [
       "21.18492"
      ]
     },
     "execution_count": 59,
     "metadata": {},
     "output_type": "execute_result"
    }
   ],
   "source": [
    "estimated_bootstrap_median"
   ]
  },
  {
   "cell_type": "code",
   "execution_count": 60,
   "id": "7ab6bb2d-46b9-4730-810d-d5a347302e85",
   "metadata": {},
   "outputs": [
    {
     "data": {
      "text/plain": [
       "0.3803276135123504"
      ]
     },
     "execution_count": 60,
     "metadata": {},
     "output_type": "execute_result"
    }
   ],
   "source": [
    "median_standard_error = np.std(bootstrapped_medians)\n",
    "median_standard_error"
   ]
  },
  {
   "cell_type": "markdown",
   "id": "6f382ec6-0756-40ad-bd6e-d31bdeb384a3",
   "metadata": {},
   "source": [
    "### Exercise 5.4.9 g\n",
    "\n",
    "Based on this data set, provide an estimate for the tenth percentile of `medv` in Boston census tracts. Call this quantity $\\hat{\\mu}_{0.1}$. (You can use the `np.percentile` function)."
   ]
  },
  {
   "cell_type": "code",
   "execution_count": 61,
   "id": "bd47c019-63a8-4084-ba40-f29239a7f4bb",
   "metadata": {},
   "outputs": [
    {
     "data": {
      "text/plain": [
       "12.75"
      ]
     },
     "execution_count": 61,
     "metadata": {},
     "output_type": "execute_result"
    }
   ],
   "source": [
    "tenth_percentile_medv_estimate = np.percentile(boston_data.medv, 10)\n",
    "\n",
    "tenth_percentile_medv_estimate"
   ]
  },
  {
   "cell_type": "markdown",
   "id": "d8b8c6be-6409-43fe-829d-9b87c4f246ea",
   "metadata": {},
   "source": [
    "### Exercise 5.4.9 h\n",
    "\n",
    "Use the bootstrap to estimate the standard error of $\\hat{\\mu}_{0.1}$. Comment on your findings.\n",
    "\n",
    "\n",
    "__Answer__:\n",
    "\n",
    "* The $\\text{SE}(\\hat{\\mu}_{0.1}) \\approx 0.49$ indicates that the samples drawn from population regression line with fixed length (i.e. 10000) might vary by $\\pm 0.49$ units which is not very high variation."
   ]
  },
  {
   "cell_type": "code",
   "execution_count": 62,
   "id": "0bbc388b-07cb-43da-b796-f07744b2c634",
   "metadata": {},
   "outputs": [],
   "source": [
    "def bootstrap_percentile(data, num_samples, percentile):\n",
    "    n = len(data)\n",
    "    bootstrapped_percentiles = []\n",
    "\n",
    "    for _ in range(num_samples):\n",
    "        sample = np.random.choice(data, n, replace=True)\n",
    "        bootstrap_percentile = np.percentile(sample, percentile)\n",
    "        bootstrapped_percentiles.append(bootstrap_percentile)\n",
    "\n",
    "    return bootstrapped_percentiles\n"
   ]
  },
  {
   "cell_type": "code",
   "execution_count": 63,
   "id": "a945004b-e03d-4e7a-a8ac-09ee6a5ff2e2",
   "metadata": {},
   "outputs": [],
   "source": [
    "bootstrap_percentiles = bootstrap_percentile(boston_data.medv, 10000, 10)\n"
   ]
  },
  {
   "cell_type": "code",
   "execution_count": 64,
   "id": "98596500-509d-4c6e-b98c-886247a81ce5",
   "metadata": {},
   "outputs": [
    {
     "data": {
      "text/plain": [
       "12.761975"
      ]
     },
     "execution_count": 64,
     "metadata": {},
     "output_type": "execute_result"
    }
   ],
   "source": [
    "bootstrap_estimated_tenth_percentile_medv = np.mean(bootstrap_percentiles)\n",
    "bootstrap_estimated_tenth_percentile_medv"
   ]
  },
  {
   "cell_type": "code",
   "execution_count": 65,
   "id": "4e472137-f525-4686-aa17-6ce27f7ee396",
   "metadata": {},
   "outputs": [
    {
     "data": {
      "text/plain": [
       "0.502017777947156"
      ]
     },
     "execution_count": 65,
     "metadata": {},
     "output_type": "execute_result"
    }
   ],
   "source": [
    "bootstrap_standard_error_percentile = np.std(bootstrap_percentiles)\n",
    "bootstrap_standard_error_percentile"
   ]
  }
 ],
 "metadata": {
  "kernelspec": {
   "display_name": "Python 3 (ipykernel)",
   "language": "python",
   "name": "python3"
  },
  "language_info": {
   "codemirror_mode": {
    "name": "ipython",
    "version": 3
   },
   "file_extension": ".py",
   "mimetype": "text/x-python",
   "name": "python",
   "nbconvert_exporter": "python",
   "pygments_lexer": "ipython3",
   "version": "3.10.12"
  }
 },
 "nbformat": 4,
 "nbformat_minor": 5
}
