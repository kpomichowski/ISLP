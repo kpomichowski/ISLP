{
 "cells": [
  {
   "cell_type": "markdown",
   "id": "657b2a53-dec5-4643-af7a-5e8360972e98",
   "metadata": {},
   "source": [
    "### Jupyter notebook contains a solutions from Chapter V — Resampling Methods from the book \"Introduction To Statistical Learning\" in a Python edition written by Daniela Witten, Trevor Hastie, Robert Tibshirani, Gareth James and Jonathan Taylor."
   ]
  },
  {
   "cell_type": "markdown",
   "id": "2193c5a9-cbeb-4c21-a019-c1c3bbe46879",
   "metadata": {},
   "source": [
    "# Table of Contents\n",
    "\n",
    "* [Exercise 5.4.1 (a)](#Exercise-5.4.1-a)\n",
    "* [Exercise 5.4.2 (a)](#Exercise-5.4.2-a)\n",
    "* [Exercise 5.4.2 (b)](#Exercise-5.4.2-b)\n",
    "* [Exercise 5.4.2 (c)](#Exercise-5.4.2-c)\n",
    "* [Exercise 5.4.2 (d)](#Exercise-5.4.2-d)\n",
    "* [Exercise 5.4.2 (e)](#Exercise-5.4.2-e)\n",
    "* [Exercise 5.4.2 (f)](#Exercise-5.4.2-f)\n",
    "* [Exercise 5.4.2 (g)](#Exercise-5.4.2-g)\n",
    "* [Exercise 5.4.2 (h)](#Exercise-5.4.2-h)\n",
    "* [Exercise 5.4.3 (a)](#Exercise-5.4.3-a)\n",
    "* [Exercise 5.4.3 (b)](#Exercise-5.4.3-b)\n",
    "* [Exercise 5.4.4](#Exercise-5.4.4)"
   ]
  },
  {
   "cell_type": "markdown",
   "id": "b95ddbb8-3cad-48ff-85b4-df144cf68b7f",
   "metadata": {},
   "source": [
    "### Exercise 5.4.1\n",
    "\n",
    "Using basic statistical properties of the variance, as well as single variable calculus, derive:\n",
    "\n",
    "$$\n",
    "\\alpha = \\frac{\\sigma^{2}_{Y} - \\sigma_{XY}}{\\sigma^{2}_{X} + \\sigma^{2}_{Y} - 2\\sigma_{XY}}\n",
    "$$\n",
    "\n",
    "Where:\n",
    "* $\\sigma^{2}_{X} = \\text{Var}(X)$,\n",
    "* $\\sigma^{2}_{Y} = \\text{Var}(Y)$,\n",
    "* $\\sigma_{XY} = \\text{Cov}(X, Y)$.\n",
    "\n",
    "In other words, prove that $\\alpha$ given by $\\alpha = \\frac{\\sigma^{2}_{Y} - \\sigma_{XY}}{\\sigma^{2}_{X} + \\sigma^{2}_{Y} - 2\\sigma_{XY}}$ does indeed minimize $\\text{Var}(\\alpha X + (1 - \\alpha)Y)$.\n",
    "\n",
    "\n",
    "__Answer__:\n",
    "\n",
    "$$\n",
    "\\text{Var}(\\alpha X + (1 - \\alpha)Y) = \\alpha^{2}\\sigma^{2}_{X} + (1 - \\alpha)^{2}\\sigma^{2}_{Y} + 2\\alpha(1 - \\alpha)\\sigma_{XY}\n",
    "$$\n",
    "\n",
    "Now, let's take the derivative of this expression with respect to $\\alpha$:\n",
    "\n",
    "$$\n",
    "\\frac{d}{d \\alpha}\\left(\\alpha^{2}\\sigma^{2}_{X} + (1 - \\alpha)^{2}\\sigma^{2}_{Y} + 2\\alpha(1 - \\alpha)\\sigma_{XY}\\right) = 2\\alpha \\sigma^{2}_{X} - 2\\sigma^{2}_{Y} + 2\\alpha \\sigma^{2}_{Y} + 2\\sigma_{XY} - 4\\alpha\\sigma_{XY}\n",
    "$$\n",
    "\n",
    "Setting this derivative equal to 0:\n",
    "\n",
    "$$\n",
    "2\\alpha \\sigma_{X}^{2} + 2\\alpha \\sigma_{Y}^{2} - 4\\alpha \\sigma_{XY} = 2 \\sigma^{2}_{Y} - 2\\sigma_{XY}\n",
    "$$\n",
    "\n",
    "Now, factor out the common term of $2\\alpha$ on the left side and 2 on the right side:\n",
    "\n",
    "$$\n",
    "2\\alpha(\\sigma^{2}_{X} + \\sigma^{2}_{Y} - 2\\alpha\\sigma_{XY}) = 2(\\sigma_{Y}^{2} - \\sigma_{XY})\n",
    "$$\n",
    "\n",
    "Divide both sides by $2(\\sigma^{2}_{X} + \\sigma^{2}_{Y} - 2\\alpha\\sigma_{XY})$:\n",
    "\n",
    "$$\n",
    "\\alpha = \\frac{2(\\sigma_{Y}^{2} - \\sigma_{XY})}{2(\\sigma_{X}^{2} + \\sigma_{Y}^{2} - 2\\alpha \\sigma_{XY})}\n",
    "$$\n",
    "\n",
    "Now, simplifying further by canceling out the common terms:\n",
    "\n",
    "$$\n",
    "\\alpha = \\frac{\\sigma_{Y}^{2} - \\sigma_{XY}}{\\sigma_{X}^{2} + \\sigma_{Y}^{2} - 2\\alpha \\sigma_{XY}}\n",
    "$$ \n",
    "And that concludes the proof. Q.E.D."
   ]
  },
  {
   "cell_type": "markdown",
   "id": "d9f71bd5-b619-4dcb-b452-9ec7bda93832",
   "metadata": {},
   "source": [
    "### Exercise 5.4.2 \n",
    "\n",
    "We will now derive the probability that a given observation is part of bootstrap sample. Suppose that we obtain a bootstrap sample from a set of $n$ observations."
   ]
  },
  {
   "cell_type": "markdown",
   "id": "0708a709-e2e6-442a-8ecc-97ec11ca9c55",
   "metadata": {
    "scrolled": true
   },
   "source": [
    "### Exercise 5.4.2 a\n",
    "\n",
    "What is the probability that the first bootstrap observation is *not* the $j$th observation from the original sample? Justify your\n",
    "answer.\n",
    "\n",
    "__Answer__:\n",
    "\n",
    "The prob. of picking $j$th observation from $n$ is $\\frac{1}{n}$.\n",
    "\n",
    "In the context of bootstrapping, drawing is performed with replacement, so all samples have equal chance to be drawn, so we got $\\frac{1}{n}$ chances. \n",
    "\n",
    "The prob. of picking *not* $j$th observation from $n$ is: $1 - \\frac{1}{n} = \\frac{n - 1}{n}$."
   ]
  },
  {
   "cell_type": "markdown",
   "id": "46fb1b48-1860-4404-bb42-573c69a85e49",
   "metadata": {},
   "source": [
    "### Exercise 5.4.2 b\n",
    "\n",
    "What is the probability of the second bootstrap observation is *not* the $j$th observation from the original sample? Justify your answer.\n",
    "\n",
    "__Answer__:\n",
    "\n",
    "Since, the bootstrap draws the sample with replacement, the probability remains the same despite the first or second sample:\n",
    "\n",
    "$$\n",
    "\\frac{n-1}{n}\n",
    "$$"
   ]
  },
  {
   "cell_type": "markdown",
   "id": "cd4e7bba-fcbe-4e71-85e4-0a0495ae31f4",
   "metadata": {},
   "source": [
    "### Exercise 5.4.2 c\n",
    "\n",
    "Argue, that the probability that the $j$th observation is *not* in the bootstrap sample is $(1 - 1/n)^{n}$.\n",
    "\n",
    "__Answer__:\n",
    "\n",
    "First, as we mentioned above, the all samples can be drawn with equal probability in the bootstrap by: $\\frac{1}{n}$.\n",
    "\n",
    "Second, if we want to calculate the prob. that observation won't be drawn we must calculate the complementary prob. which is: $1 - \\frac{1}{n} = \\frac{n}{n} - \\frac{1}{n} = \\frac{n-1}{n}$.\n",
    "\n",
    "Now, we must explain the power of $n$. As a remainder, the bootstrap method draws a samples with replacement $n$ times. \n",
    "\n",
    "So, the probability that $j$th observation won't be drawn in the bootstrap resampling must be: $(\\frac{n-1}{n})^{n}$"
   ]
  },
  {
   "cell_type": "markdown",
   "id": "676ee2b3-3633-4918-a87c-b64595d744c2",
   "metadata": {},
   "source": [
    "### Exercise 5.4.2 d\n",
    "\n",
    "When $n = 5$, what is the probability that the $j$th observation is in the bootstrap sample?\n",
    "\n",
    "__Answer__:\n",
    "\n",
    "When we have an already the formula for probability that $j$th observation is not in the bootstrap sample, we can again calculate the complementary prob. to calculate the probability that the $j$th observation is in the boostrap sample:\n",
    "\n",
    "$$\n",
    "1 - \\left(\\frac{n - 1}{n}\\right)^{n} = 1 - \\left(\\frac{4}{5}\\right)^{5} = 0.672\n",
    "$$"
   ]
  },
  {
   "cell_type": "code",
   "execution_count": 1,
   "id": "666a0433-aec7-4b53-ad9b-2cb0fe848712",
   "metadata": {},
   "outputs": [
    {
     "data": {
      "text/plain": [
       "0.6723199999999999"
      ]
     },
     "execution_count": 1,
     "metadata": {},
     "output_type": "execute_result"
    }
   ],
   "source": [
    "1 - ((5 - 1) / 5) ** 5"
   ]
  },
  {
   "cell_type": "markdown",
   "id": "737fb269-a15c-4e7c-a102-87a264045cf2",
   "metadata": {},
   "source": [
    "### Exercise 5.4.2 e\n",
    "\n",
    "When $n = 100$, what is the probability that $j$th observation is in the bootstrap sample?\n",
    "\n",
    "__Answer__:\n",
    "\n",
    "$$\n",
    "1 - \\left(\\frac{n - 1}{n}\\right)^{n} = 1 - \\left(\\frac{99}{100}\\right)^{100} = 0.633\n",
    "$$"
   ]
  },
  {
   "cell_type": "code",
   "execution_count": 2,
   "id": "da03b14a-9895-46ff-a108-cc9f92c3a61d",
   "metadata": {},
   "outputs": [
    {
     "data": {
      "text/plain": [
       "0.6339676587267709"
      ]
     },
     "execution_count": 2,
     "metadata": {},
     "output_type": "execute_result"
    }
   ],
   "source": [
    "1 - ((100 - 1) / 100) ** 100"
   ]
  },
  {
   "cell_type": "markdown",
   "id": "1f69a4ce-4011-46a8-8f25-13a2083577a6",
   "metadata": {},
   "source": [
    "### Exercise 5.4.2 f \n",
    "\n",
    "When $n = 10000$ what is the probability that the $j$th observation is in the bootstrap sample?\n",
    "\n",
    "__Answer__:\n",
    "\n",
    "$$\n",
    "1 - \\left(\\frac{n - 1}{n}\\right)^{n} = 1 - \\left(\\frac{9999}{10000}\\right)^{10000} = 0.632\n",
    "$$"
   ]
  },
  {
   "cell_type": "code",
   "execution_count": 3,
   "id": "b6fddc5f-52bc-46c4-b6f3-6f87a2cf8c9c",
   "metadata": {},
   "outputs": [
    {
     "data": {
      "text/plain": [
       "0.6321389535670295"
      ]
     },
     "execution_count": 3,
     "metadata": {},
     "output_type": "execute_result"
    }
   ],
   "source": [
    "1 - ((10000 - 1) / 10000) ** 10000"
   ]
  },
  {
   "cell_type": "markdown",
   "id": "bcbb96e0-5252-4119-9af8-71eaa6aa241e",
   "metadata": {},
   "source": [
    "### Exercise 5.4.2 g\n",
    "\n",
    "Create a plot that displays, for each integer from value of $n$ from 1 to 100,000, the probability that the $j$th observation is in the bootstrap sample. Comment on what you observe.\n",
    "\n",
    "__Answer__:\n",
    "\n",
    "So, we can see, that the probability with an increasing values of $x$ has a constant chance for drawing that $j$th observation in the bootstrap. This exact value is: $0.63212362$. With smaller $x$ values ($x < 10$), we got probability that decrease from 1. to that certain threshold."
   ]
  },
  {
   "cell_type": "code",
   "execution_count": 4,
   "id": "861462ee-7cdf-4c11-9d1e-8c1890f2e493",
   "metadata": {},
   "outputs": [
    {
     "data": {
      "image/png": "[encoded data removed]",
      "text/plain": [
       "<Figure size 800x600 with 1 Axes>"
      ]
     },
     "metadata": {},
     "output_type": "display_data"
    }
   ],
   "source": [
    "import numpy as np\n",
    "import matplotlib.pyplot as plt\n",
    "\n",
    "n = 100000\n",
    "x_values = np.arange(1, n + 1)\n",
    "y_values = np.array([1 - np.power((x - 1) / x, x) for x in x_values])\n",
    "\n",
    "plt.figure(figsize=(8, 6))\n",
    "plt.plot(x_values, y_values, color=\"blue\", label=\"Function\")\n",
    "plt.title(\"Bootstrap probability sampling\")\n",
    "plt.xlabel(\"X Values\")\n",
    "plt.ylabel(\"Y Values\")\n",
    "plt.grid(True)\n",
    "plt.legend();"
   ]
  },
  {
   "cell_type": "code",
   "execution_count": 5,
   "id": "35256c9d-3746-42e6-8fdc-0f20de264b7e",
   "metadata": {},
   "outputs": [
    {
     "data": {
      "image/png": "[encoded data removed]",
      "text/plain": [
       "<Figure size 800x600 with 1 Axes>"
      ]
     },
     "metadata": {},
     "output_type": "display_data"
    }
   ],
   "source": [
    "x_subset = x_values[:100]\n",
    "y_subset = y_values[:100]\n",
    "\n",
    "plt.figure(figsize=(8, 6))\n",
    "plt.plot(x_subset, y_subset, color=\"red\", label=\"Subset [1, 100]\")\n",
    "plt.title(\"Function Plot with Subset [1, 100]\")\n",
    "plt.xlabel(\"X Values\")\n",
    "plt.ylabel(\"Y Values\")\n",
    "plt.grid(True)\n",
    "plt.legend();"
   ]
  },
  {
   "cell_type": "markdown",
   "id": "b6145130-90da-4d40-8a59-413ba2c75261",
   "metadata": {},
   "source": [
    "### Exercise 5.4.2 h\n",
    "\n",
    "We will now investigate numerically the probability that a bootstrap sample of size $n = 100$ contains the $j$th observation. Here $j = 4$. We first create an array `store` with values that will subsequently be overwritten using the function `np.empty()`. We then repeatedely create bootstrap samples, and each time we record whether or not the fifth observation is contained in the bootstrap sample.\n",
    "\n",
    "```python\n",
    "rng = np.random.default_rng(10)\n",
    "store = np.empty(10000)\n",
    "for i in range(10000):\n",
    "    store[i] = np.sum(rng.choice(100, replace=True) == 4) > 0\n",
    "np.mean(store)\n",
    "```\n",
    "\n",
    "Comment on the results obtained.\n",
    "\n",
    "__Answer__:\n",
    "\n",
    "* drawing the $j$th observation where $j = 4$ from a sample of size 100, is likely, because drawing 10,000 times, we get around $63.62\\%$ of the $j = 4$, so approximetely, in $6362$ bootstrap samples, the $j = 4$ will be included. "
   ]
  },
  {
   "cell_type": "code",
   "execution_count": 6,
   "id": "6059192f-2010-44c8-b8fa-9d75bfa69b7a",
   "metadata": {},
   "outputs": [
    {
     "data": {
      "text/plain": [
       "0.6362"
      ]
     },
     "execution_count": 6,
     "metadata": {},
     "output_type": "execute_result"
    }
   ],
   "source": [
    "rng = np.random.default_rng(10)\n",
    "store = np.empty(10000)\n",
    "for i in range(10000):\n",
    "    store[i] = np.sum(rng.choice(100, size=100, replace=True) == 4) > 0\n",
    "\n",
    "np.mean(store)"
   ]
  },
  {
   "cell_type": "markdown",
   "id": "1d73d81b-2def-48d0-897e-74ad08cc5d3e",
   "metadata": {},
   "source": [
    "### Exercise 5.4.3 \n",
    "\n",
    "We no review $k$-fold cross validation."
   ]
  },
  {
   "cell_type": "markdown",
   "id": "fe0d6491-46ab-4ead-8436-a2ee11980a40",
   "metadata": {},
   "source": [
    "### Exercise 5.4.3 a\n",
    "\n",
    "Explain how $k$-fold cross-validation is implemented.\n",
    "\n",
    "__Answer__:\n",
    "\n",
    "$k$-cross validation is the cross validation that is similar to \\text{LOOCV} (*Leave-One-Out Cross Validation* — in the essence $\\text{LOOCV}$ is the generalized use of $k$-cross validation where $k = n$). \n",
    "\n",
    "$k$-fold Cross Validation perfroms a splits of data set into $k$ groups, called *folds*. \n",
    "\n",
    "The first *fold* is used as validation set, whereas remaining folds, i.e. $k - 1$ are used as training set.\n",
    "\n",
    "The procedure is repeated $k$ times, with a distinction that next *fold* is used, i.e. second, third, fourth, $\\dots$, $k$th fold as validation set and remaining *folds* are used as training set.\n",
    "\n",
    "After creating $k$ models, we need to average all possible accuracy measures that were calculated on validation set. In this case, we need to calculate average (when dependent variable is quantative) MSE errors:\n",
    "\n",
    "$$\n",
    "\\text{CV}_{(k)} = \\frac{1}{k} \\sum_{i=1}^{k} MSE_i\n",
    "$$\n",
    "\n",
    "To be more precise, I will implement the $k$-fold cross validation for simulated data set and explain each line to meet the criteria:"
   ]
  },
  {
   "cell_type": "code",
   "execution_count": 7,
   "id": "0921edaa-0a59-47ef-843b-9258e66ffe23",
   "metadata": {},
   "outputs": [
    {
     "data": {
      "text/plain": [
       "80.07953791962073"
      ]
     },
     "execution_count": 7,
     "metadata": {},
     "output_type": "execute_result"
    }
   ],
   "source": [
    "from sklearn.linear_model import LinearRegression\n",
    "from sklearn.metrics import mean_squared_error\n",
    "\n",
    "\n",
    "np.random.seed(0)\n",
    "\n",
    "X = np.random.rand(100, 1) * 10\n",
    "epsilon = np.random.randn(100)\n",
    "y = 3 * X.squeeze() + epsilon\n",
    "\n",
    "\n",
    "def train_evaluate_k_fold(model, X, y, k):\n",
    "    \n",
    "    np.random.shuffle(X)\n",
    "    np.random.shuffle(y)\n",
    "    \n",
    "    k_fold_models = [model() for _ in range(k)]\n",
    "    k_fold_MSE_metrics = []\n",
    "\n",
    "    if X.shape[0] % k != 0:\n",
    "        raise ValueError(f\"Not equal division by k\")\n",
    "\n",
    "    def _fold_split(array, _k: int):\n",
    "        return np.array(\n",
    "            [(i, i + _k) for i in range(0, len(array), _k) if i + _k <= len(array)]\n",
    "        )\n",
    "\n",
    "    for _k_fold in range(k):\n",
    "        # Splitting all data to equal k folds with k sizes\n",
    "        X_indices = _fold_split(X, k)\n",
    "        y_indices = _fold_split(y, k)\n",
    "\n",
    "        # We want pick kth indices as test samples\n",
    "        X_test, y_test = (\n",
    "            X[np.arange(*X_indices[_k_fold])],\n",
    "            y[np.arange(*y_indices[_k_fold])],\n",
    "        )\n",
    "\n",
    "        # Rest of the indices should be non overlapping and k - 1 samples should be used as train set\n",
    "        X_train_indices = np.concatenate(\n",
    "            (X_indices[:_k_fold], X_indices[_k_fold + 1 :])\n",
    "        )\n",
    "        y_train_indices = np.concatenate(\n",
    "            (y_indices[:_k_fold], y_indices[_k_fold + 1 :])\n",
    "        )\n",
    "\n",
    "        # We extract all training data: remainder those are k - 1 folds, with an exclusion of kth fold as validaiton set\n",
    "        X_train = np.concatenate([X[np.arange(i, j)] for i, j in X_train_indices])\n",
    "        y_train = np.concatenate([y[np.arange(i, j)] for i, j in y_train_indices])\n",
    "\n",
    "        # Now we are fitting k different models based on those training folds\n",
    "        model = k_fold_models[_k_fold]\n",
    "\n",
    "        model.fit(X_train, y_train)\n",
    "\n",
    "        # Predict the response based on the test fold as validation set\n",
    "        y_pred = model.predict(X_test)\n",
    "\n",
    "        # Append our MSE of the kth model\n",
    "        k_fold_MSE_metrics.append(mean_squared_error(y_test, y_pred))\n",
    "\n",
    "    # We return the mean of the all k folds MSE metrics\n",
    "    return np.mean(k_fold_MSE_metrics)\n",
    "\n",
    "\n",
    "train_evaluate_k_fold(LinearRegression, X, y, k=10)"
   ]
  },
  {
   "cell_type": "code",
   "execution_count": 8,
   "id": "c8930cfd-6c5e-4654-99da-4dca9b5e39d4",
   "metadata": {},
   "outputs": [
    {
     "name": "stdout",
     "output_type": "stream",
     "text": [
      "Mean of k MSE scores: 80.07953791962073\n",
      "[ 68.97991016  96.91148845  84.28480895  71.99214571  64.01528394\n",
      " 104.03518928  84.69797147  63.40843495  49.0145968  113.45554949]\n"
     ]
    }
   ],
   "source": [
    "from sklearn.model_selection import cross_validate\n",
    "\n",
    "model = LinearRegression()\n",
    "scores = cross_validate(\n",
    "    model, X, y, cv=10, scoring=\"neg_mean_squared_error\", return_train_score=False\n",
    ")[\"test_score\"]\n",
    "\n",
    "mse_scores = -scores\n",
    "\n",
    "print(f\"Mean of k MSE scores: {np.mean(mse_scores)}\")\n",
    "print(mse_scores)"
   ]
  },
  {
   "cell_type": "markdown",
   "id": "81a5948a-f705-441d-96e3-93e37a019176",
   "metadata": {},
   "source": [
    "As we can see, we have identical results between our implemented method and `cross_validate` with `cv=10` from `sklearn` library.\n"
   ]
  },
  {
   "cell_type": "markdown",
   "id": "b8893ce2-da50-4e5d-8d5c-af31f17097b8",
   "metadata": {},
   "source": [
    "### Exercise 5.4.3 b \n",
    "\n",
    "What are the advantages and disadvantages of $k$-fold cross validation relative to:\n",
    "\n",
    "i. the validation set approach?\n",
    "\n",
    "ii. $\\text{LOOCV}$?\n",
    "\n",
    "__Answer__:\n",
    "\n",
    "Ad i.:\n",
    "\n",
    "$k$-fold cross validation has an advantage over validation approach in:\n",
    "\n",
    "* **smaller bias**, since, it trains a model by $\\frac{(k - 1)n}{k}$ observations, whereas the validation set approach trains on $\\frac{n}{2}$ (assuming that we split the data with ratio: 0.5:0.5),\n",
    "\n",
    "* **smaller variance**, because, $k$-fold cross validation produces $k$ outputs that are somewhat correlated, so the variance should be lower, whereas in the validation approach the variance can be higher, because outputs are very various, due to the randomness and split of observations into training and validation set\n",
    "\n",
    "$k$-fold cross validation has an disadvantage over validation approach in:\n",
    "\n",
    "* **computability**: since $k$-fold cross validation fits $k$ models, it is more resource exhaustive, whereas in validation approach we fit only single model.\n",
    "\n",
    "Ad ii.:\n",
    "\n",
    "$k$-fold cross validation has an advantage over $\\text{LOOCV}$ over:\n",
    "* **smaller variance**: since $k$-fold cross validation fits $k$ models, it produces again $k$th somewhat less correlated prediction errors, whereas in the $\\text{LOOCV}$ we have $n$ responses trained on very similar examples, so variance in the method $\\text{LOOCV}$ is much higher than in $k$-fold,\n",
    "* **computability**: for ($k < n$) $k$-fold only fits $k$ models, whereas in the $\\text{LOOCV}$, we have $n$ models,\n",
    "\n",
    "$k$-fold cross validation has an disadvantage over $\\text{LOOCV}$ over:\n",
    "* **larger bias**: the method $\\text{LOOCV}$ has the lowest bias from all the methods, because it fits the model on $n - 1$ observations, and model is tested on the remaining single observation. In the case of $k$-fold cross validation, we train a model using $\\frac{(k - 1)n}{k}$ observations which is much less than in $\\text{LOOCV}$ and observations are tested by $\\frac{n}{k}$."
   ]
  },
  {
   "cell_type": "markdown",
   "id": "1d5787c7-31f9-467c-bf32-2648fc5de390",
   "metadata": {},
   "source": [
    "### Exercise 5.4.4 \n",
    "\n",
    "Suppose that we use some statistical learning method to make a prediction for the response $Y$ for a particular value of the predictor $X$. Carefully describe how we might estimate the standard deviation of our prediction.\n",
    "\n",
    "__Answer__:\n",
    "\n",
    "* we could use the bootstrap method for estimation of that standard deviation from our predictions of the response $Y$ using $X$,\n",
    "  * the bootstrap method in this case, draws a sample with of specified, fixed size of $k$ from $X$, repeated $B$ times with replacement.\n",
    "* based on that samples, bootstrap fits $B$ different models, estimates those coefficients and use them to make a predictions,\n",
    "* then after $B$ different produced predictions, we could calculate the standard deviation from our response and that would be an estimation of standard deviation of that prediction $Y$ using $X$."
   ]
  }
 ],
 "metadata": {
  "kernelspec": {
   "display_name": "Python 3 (ipykernel)",
   "language": "python",
   "name": "python3"
  },
  "language_info": {
   "codemirror_mode": {
    "name": "ipython",
    "version": 3
   },
   "file_extension": ".py",
   "mimetype": "text/x-python",
   "name": "python",
   "nbconvert_exporter": "python",
   "pygments_lexer": "ipython3",
   "version": "3.10.12"
  }
 },
 "nbformat": 4,
 "nbformat_minor": 5
}
