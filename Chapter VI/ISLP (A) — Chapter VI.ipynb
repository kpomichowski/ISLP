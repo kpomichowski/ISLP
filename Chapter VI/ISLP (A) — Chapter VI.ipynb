{
 "cells": [
  {
   "cell_type": "markdown",
   "id": "1a9a1274-68f8-48cf-a4a3-b031ed9241d1",
   "metadata": {},
   "source": [
    "### Jupyter notebook contains a solutions from Chapter VI — Linear Model Selection from the book \"Introduction To Statistical Learning\" in a Python edition written by Daniela Witten, Trevor Hastie, Robert Tibshirani, Gareth James and Jonathan Taylor."
   ]
  },
  {
   "cell_type": "markdown",
   "id": "a04bc382-9081-44c3-a279-b058c0e89163",
   "metadata": {},
   "source": [
    "# Table of Contents\n",
    "\n",
    "* [Exercise 6.6.8 (a)](#Exercise-6.6.8-a)\n",
    "* [Exercise 6.6.8 (b)](#Exercise-6.6.8-b)\n",
    "* [Exercise 6.6.8 (c)](#Exercise-6.6.8-c)\n",
    "* [Exercise 6.6.8 (d)](#Exercise-6.6.8-d)\n",
    "* [Exercise 6.6.8 (e)](#Exercise-6.6.8-e)\n",
    "* [Exercise 6.6.8 (f)](#Exercise-6.6.8-f)\n",
    "* [Exercise 6.6.9 (a)](#Exercise-6.6.9-a)\n",
    "* [Exercise 6.6.9 (b)](#Exercise-6.6.9-b)\n",
    "* [Exercise 6.6.9 (c)](#Exercise-6.6.9-c)\n",
    "* [Exercise 6.6.9 (d)](#Exercise-6.6.9-d)\n",
    "* [Exercise 6.6.9 (e)](#Exercise-6.6.9-e)\n",
    "* [Exercise 6.6.9 (f)](#Exercise-6.6.9-f)\n",
    "* [Exercise 6.6.9 (g)](#Exercise-6.6.9-g)\n",
    "* [Exercise 6.6.10 (a)](#Exercise-6.6.10-a)\n",
    "* [Exercise 6.6.10 (b)](#Exercise-6.6.10-b)\n",
    "* [Exercise 6.6.10 (c)](#Exercise-6.6.10-c)\n",
    "* [Exercise 6.6.10 (d)](#Exercise-6.6.10-d)\n",
    "* [Exercise 6.6.10 (e)](#Exercise-6.6.10-e)\n",
    "* [Exercise 6.6.10 (f)](#Exercise-6.6.10-f)\n",
    "* [Exercise 6.6.10 (g)](#Exercise-6.6.10-g)\n",
    "* [Exercise 6.6.11 (a)](#Exercise-6.6.11-a)\n",
    "* [Exercise 6.6.11 (b)](#Exercise-6.6.11-b)\n",
    "* [Exercise 6.6.11 (c)](#Exercise-6.6.11-c)"
   ]
  },
  {
   "cell_type": "code",
   "execution_count": 1,
   "id": "c56c67ee-a130-401c-b452-eac070f6fbba",
   "metadata": {},
   "outputs": [],
   "source": [
    "import warnings\n",
    "warnings.filterwarnings('ignore')\n",
    "\n",
    "import random\n",
    "import numpy as np\n",
    "import matplotlib.pyplot as plt\n",
    "import seaborn as sns\n",
    "import pandas as pd\n",
    "import statsmodels.api as sm\n",
    "\n",
    "from itertools import combinations\n",
    "from functools import partial\n",
    "\n",
    "from sklearn.decomposition import PCA\n",
    "from sklearn.cross_decomposition import PLSRegression\n",
    "from sklearn.linear_model import LinearRegression, ElasticNetCV, Lasso, LassoCV, RidgeCV, Ridge\n",
    "from sklearn.preprocessing import StandardScaler, PolynomialFeatures, LabelEncoder\n",
    "from sklearn.model_selection import cross_validate, ShuffleSplit, KFold, train_test_split, GridSearchCV\n",
    "from sklearn.pipeline import Pipeline\n",
    "from sklearn.metrics import mean_squared_error\n",
    "\n",
    "from ISLP import load_data\n",
    "from ISLP.models import ModelSpec as MS\n",
    "from ISLP.models import Stepwise, sklearn_selected, sklearn_selection_path \n",
    "from ISLP.models import poly\n",
    "from l0bnb import fit_path\n",
    "\n",
    "\n",
    "scaler = StandardScaler()"
   ]
  },
  {
   "cell_type": "markdown",
   "id": "4ecebdeb-04d1-4c94-92c0-a4ba14042884",
   "metadata": {},
   "source": [
    "### Exercise 6.6.8 \n",
    "\n",
    "In this exercise, we will generate simulates data, and will then use this data to perform forward and backward stepwise selection."
   ]
  },
  {
   "cell_type": "markdown",
   "id": "27f382df-5e9f-4127-978b-c92d15d80a9d",
   "metadata": {},
   "source": [
    "#### Exercise 6.6.8 a\n",
    "\n",
    "Create a random number generator and use its `normal()` method to generate a predictor $X$ of length $n = 100$, as well as a noise vector $\\epsilon$ of length $n = 100$."
   ]
  },
  {
   "cell_type": "code",
   "execution_count": 2,
   "id": "b25efda8-0c83-499d-ab1b-a5302de767a8",
   "metadata": {},
   "outputs": [],
   "source": [
    "X = np.random.normal(size=100)\n",
    "epsilon = np.random.normal(size=100)"
   ]
  },
  {
   "cell_type": "markdown",
   "id": "38b51fb9-ca1d-493d-850f-c549c2784196",
   "metadata": {},
   "source": [
    "#### Exercise 6.6.8 b\n",
    "\n",
    "Generate a response vector $Y$ of length $n = 100$ according to the model\n",
    "\n",
    "$$\n",
    "Y = \\beta_0 + \\beta_1X + \\beta_2X^{2} + \\beta_3X^{3} + \\epsilon\n",
    "$$"
   ]
  },
  {
   "cell_type": "code",
   "execution_count": 3,
   "id": "8b3f92bd-5752-446a-8da7-2d60092d6da4",
   "metadata": {},
   "outputs": [],
   "source": [
    "beta_0, beta_1, beta_2, beta_3 = 15, 5, -3, 2\n",
    "\n",
    "Y = beta_0 + beta_1 * X + beta_2 * np.square(X) + beta_3 * np.power(X, 3) + epsilon"
   ]
  },
  {
   "cell_type": "markdown",
   "id": "31d7c28f-45a8-4298-b2f9-1fce4b860f37",
   "metadata": {},
   "source": [
    "#### Exercise 6.6.8 c\n",
    "\n",
    "Use forward stepwise selection in order to select a model containing the predictors $X, X^{2}, \\dots, X^{10}$. What is the model obtained\n",
    "according to $C_p$? Report the coefficients of the model obtained."
   ]
  },
  {
   "cell_type": "code",
   "execution_count": 4,
   "id": "72033f48-dc71-408e-93fe-c473f0fa92c8",
   "metadata": {},
   "outputs": [],
   "source": [
    "def nCp(sigma_2, estimator, X, y):\n",
    "    n, p = X.shape\n",
    "    y_hat = estimator.predict(X)\n",
    "    RSS = np.sum(np.square(y - y_hat))\n",
    "    return -(RSS + 2 * p * sigma_2) / n"
   ]
  },
  {
   "cell_type": "code",
   "execution_count": 5,
   "id": "2a28c994-4c2f-4660-aa84-b36386edc991",
   "metadata": {},
   "outputs": [],
   "source": [
    "X_poly = PolynomialFeatures(degree=10, include_bias=False)"
   ]
  },
  {
   "cell_type": "code",
   "execution_count": 6,
   "id": "c6775d76-8e49-4ef5-be6b-76beff0877e8",
   "metadata": {},
   "outputs": [],
   "source": [
    "preds = X_poly.fit_transform(X.reshape(-1, 1))"
   ]
  },
  {
   "cell_type": "code",
   "execution_count": 7,
   "id": "6b78e2e6-fc20-4fc3-ab4b-fb17f21a6d7f",
   "metadata": {},
   "outputs": [],
   "source": [
    "data = pd.DataFrame(preds)\n",
    "data.columns = ['x' + str(i) for i in range(1, 11)]"
   ]
  },
  {
   "cell_type": "code",
   "execution_count": 8,
   "id": "71bf84a5-6a94-4ae1-9d50-0ee716c81dac",
   "metadata": {},
   "outputs": [],
   "source": [
    "data['y'] = Y"
   ]
  },
  {
   "cell_type": "code",
   "execution_count": 9,
   "id": "6e4d7e4c-cd1b-4c12-9a07-30c5507815c6",
   "metadata": {},
   "outputs": [
    {
     "data": {
      "text/html": [
       "<div>\n",
       "<style scoped>\n",
       "    .dataframe tbody tr th:only-of-type {\n",
       "        vertical-align: middle;\n",
       "    }\n",
       "\n",
       "    .dataframe tbody tr th {\n",
       "        vertical-align: top;\n",
       "    }\n",
       "\n",
       "    .dataframe thead th {\n",
       "        text-align: right;\n",
       "    }\n",
       "</style>\n",
       "<table border=\"1\" class=\"dataframe\">\n",
       "  <thead>\n",
       "    <tr style=\"text-align: right;\">\n",
       "      <th></th>\n",
       "      <th>x1</th>\n",
       "      <th>x2</th>\n",
       "      <th>x3</th>\n",
       "      <th>x4</th>\n",
       "      <th>x5</th>\n",
       "      <th>x6</th>\n",
       "      <th>x7</th>\n",
       "      <th>x8</th>\n",
       "      <th>x9</th>\n",
       "      <th>x10</th>\n",
       "      <th>y</th>\n",
       "    </tr>\n",
       "  </thead>\n",
       "  <tbody>\n",
       "    <tr>\n",
       "      <th>0</th>\n",
       "      <td>0.399617</td>\n",
       "      <td>0.159694</td>\n",
       "      <td>0.063816</td>\n",
       "      <td>0.025502</td>\n",
       "      <td>0.010191</td>\n",
       "      <td>0.004073</td>\n",
       "      <td>0.001627</td>\n",
       "      <td>0.000650</td>\n",
       "      <td>0.000260</td>\n",
       "      <td>0.000104</td>\n",
       "      <td>16.138826</td>\n",
       "    </tr>\n",
       "    <tr>\n",
       "      <th>1</th>\n",
       "      <td>0.932998</td>\n",
       "      <td>0.870486</td>\n",
       "      <td>0.812162</td>\n",
       "      <td>0.757746</td>\n",
       "      <td>0.706976</td>\n",
       "      <td>0.659607</td>\n",
       "      <td>0.615413</td>\n",
       "      <td>0.574179</td>\n",
       "      <td>0.535708</td>\n",
       "      <td>0.499815</td>\n",
       "      <td>19.370027</td>\n",
       "    </tr>\n",
       "    <tr>\n",
       "      <th>2</th>\n",
       "      <td>-1.051131</td>\n",
       "      <td>1.104877</td>\n",
       "      <td>-1.161370</td>\n",
       "      <td>1.220752</td>\n",
       "      <td>-1.283171</td>\n",
       "      <td>1.348781</td>\n",
       "      <td>-1.417745</td>\n",
       "      <td>1.490236</td>\n",
       "      <td>-1.566433</td>\n",
       "      <td>1.646527</td>\n",
       "      <td>2.055220</td>\n",
       "    </tr>\n",
       "    <tr>\n",
       "      <th>3</th>\n",
       "      <td>2.119025</td>\n",
       "      <td>4.490269</td>\n",
       "      <td>9.514994</td>\n",
       "      <td>20.162515</td>\n",
       "      <td>42.724882</td>\n",
       "      <td>90.535112</td>\n",
       "      <td>191.846207</td>\n",
       "      <td>406.526997</td>\n",
       "      <td>861.441055</td>\n",
       "      <td>1825.415524</td>\n",
       "      <td>30.437328</td>\n",
       "    </tr>\n",
       "    <tr>\n",
       "      <th>4</th>\n",
       "      <td>-0.634067</td>\n",
       "      <td>0.402042</td>\n",
       "      <td>-0.254921</td>\n",
       "      <td>0.161637</td>\n",
       "      <td>-0.102489</td>\n",
       "      <td>0.064985</td>\n",
       "      <td>-0.041205</td>\n",
       "      <td>0.026127</td>\n",
       "      <td>-0.016566</td>\n",
       "      <td>0.010504</td>\n",
       "      <td>10.288292</td>\n",
       "    </tr>\n",
       "  </tbody>\n",
       "</table>\n",
       "</div>"
      ],
      "text/plain": [
       "         x1        x2        x3         x4         x5         x6          x7  \\\n",
       "0  0.399617  0.159694  0.063816   0.025502   0.010191   0.004073    0.001627   \n",
       "1  0.932998  0.870486  0.812162   0.757746   0.706976   0.659607    0.615413   \n",
       "2 -1.051131  1.104877 -1.161370   1.220752  -1.283171   1.348781   -1.417745   \n",
       "3  2.119025  4.490269  9.514994  20.162515  42.724882  90.535112  191.846207   \n",
       "4 -0.634067  0.402042 -0.254921   0.161637  -0.102489   0.064985   -0.041205   \n",
       "\n",
       "           x8          x9          x10          y  \n",
       "0    0.000650    0.000260     0.000104  16.138826  \n",
       "1    0.574179    0.535708     0.499815  19.370027  \n",
       "2    1.490236   -1.566433     1.646527   2.055220  \n",
       "3  406.526997  861.441055  1825.415524  30.437328  \n",
       "4    0.026127   -0.016566     0.010504  10.288292  "
      ]
     },
     "execution_count": 9,
     "metadata": {},
     "output_type": "execute_result"
    }
   ],
   "source": [
    "data.head()"
   ]
  },
  {
   "cell_type": "code",
   "execution_count": 10,
   "id": "900332af-1f4e-479b-aa1f-74c22d189baa",
   "metadata": {},
   "outputs": [],
   "source": [
    "def forward_stepwise_selection(data, target, criterion):\n",
    "    selected_features = []\n",
    "    adjusted_r2, cps, bics = [], [], []\n",
    "    remaining_features = list(range(len([col for col in data.columns if col != target])))\n",
    "    total_features = []\n",
    "    models = []\n",
    "\n",
    "    while remaining_features:\n",
    "\n",
    "        best_score = -np.inf\n",
    "        best_feature = None\n",
    "\n",
    "        for feature in remaining_features:\n",
    "            current_features = selected_features + [feature]\n",
    "            X_train_sub = data.iloc[:, current_features]\n",
    "\n",
    "            X_train_design = sm.add_constant(X_train_sub)\n",
    "            model = sm.OLS(data[target], X_train_design).fit()\n",
    "            negCp = partial(criterion, model.scale)\n",
    "            score = negCp(model, X_train_design, data[target])\n",
    "            \n",
    "            if score > best_score:\n",
    "                best_score = score\n",
    "                best_feature = feature\n",
    "                best_model = model\n",
    "\n",
    "        selected_features.append(best_feature)\n",
    "        remaining_features.remove(best_feature)\n",
    "        cps.append(-best_score)\n",
    "        adjusted_r2.append(best_model.rsquared_adj)\n",
    "        bics.append(best_model.bic)\n",
    "        total_features.append(selected_features.copy())\n",
    "        models.append(best_model.params.values)\n",
    "        \n",
    "    return pd.DataFrame({'n_features': list(map(len, total_features)), \n",
    "                         'adj_R_squared': adjusted_r2, 'Cp': cps, 'BIC': bics, \n",
    "                         'features': [data.columns[i].values for i in total_features],\n",
    "                         'model_coeffs': models\n",
    "                        })"
   ]
  },
  {
   "cell_type": "code",
   "execution_count": 11,
   "id": "fc120ffb-b0c2-41f0-9292-175ae7db47db",
   "metadata": {},
   "outputs": [],
   "source": [
    "forward_best_features = forward_stepwise_selection(data, 'y', nCp)"
   ]
  },
  {
   "cell_type": "code",
   "execution_count": 12,
   "id": "71d8adcc-ccf5-4193-83f5-cb9047e705b5",
   "metadata": {},
   "outputs": [
    {
     "data": {
      "text/html": [
       "<div>\n",
       "<style scoped>\n",
       "    .dataframe tbody tr th:only-of-type {\n",
       "        vertical-align: middle;\n",
       "    }\n",
       "\n",
       "    .dataframe tbody tr th {\n",
       "        vertical-align: top;\n",
       "    }\n",
       "\n",
       "    .dataframe thead th {\n",
       "        text-align: right;\n",
       "    }\n",
       "</style>\n",
       "<table border=\"1\" class=\"dataframe\">\n",
       "  <thead>\n",
       "    <tr style=\"text-align: right;\">\n",
       "      <th></th>\n",
       "      <th>n_features</th>\n",
       "      <th>adj_R_squared</th>\n",
       "      <th>Cp</th>\n",
       "      <th>BIC</th>\n",
       "      <th>features</th>\n",
       "      <th>model_coeffs</th>\n",
       "    </tr>\n",
       "  </thead>\n",
       "  <tbody>\n",
       "    <tr>\n",
       "      <th>0</th>\n",
       "      <td>1</td>\n",
       "      <td>0.951732</td>\n",
       "      <td>26.769633</td>\n",
       "      <td>617.724328</td>\n",
       "      <td>[x3]</td>\n",
       "      <td>[12.076891808475885, 3.010702418127681]</td>\n",
       "    </tr>\n",
       "    <tr>\n",
       "      <th>1</th>\n",
       "      <td>2</td>\n",
       "      <td>0.973316</td>\n",
       "      <td>14.944049</td>\n",
       "      <td>562.032735</td>\n",
       "      <td>[x3, x2]</td>\n",
       "      <td>[14.505384127676427, 2.7055474205685557, -1.98...</td>\n",
       "    </tr>\n",
       "    <tr>\n",
       "      <th>2</th>\n",
       "      <td>3</td>\n",
       "      <td>0.997326</td>\n",
       "      <td>1.512085</td>\n",
       "      <td>335.553076</td>\n",
       "      <td>[x3, x2, x1]</td>\n",
       "      <td>[15.036891617307095, 2.020539704333503, -3.017...</td>\n",
       "    </tr>\n",
       "    <tr>\n",
       "      <th>3</th>\n",
       "      <td>4</td>\n",
       "      <td>0.997315</td>\n",
       "      <td>1.532682</td>\n",
       "      <td>339.507109</td>\n",
       "      <td>[x3, x2, x1, x4]</td>\n",
       "      <td>[15.096274873604155, 2.0699627768834095, -3.13...</td>\n",
       "    </tr>\n",
       "    <tr>\n",
       "      <th>4</th>\n",
       "      <td>5</td>\n",
       "      <td>0.997366</td>\n",
       "      <td>1.518360</td>\n",
       "      <td>341.167347</td>\n",
       "      <td>[x3, x2, x1, x4, x6]</td>\n",
       "      <td>[15.226623511941042, 2.035899203800227, -3.554...</td>\n",
       "    </tr>\n",
       "    <tr>\n",
       "      <th>5</th>\n",
       "      <td>6</td>\n",
       "      <td>0.997345</td>\n",
       "      <td>1.544549</td>\n",
       "      <td>345.474150</td>\n",
       "      <td>[x3, x2, x1, x4, x6, x5]</td>\n",
       "      <td>[15.23659290587996, 2.1857295336517053, -3.590...</td>\n",
       "    </tr>\n",
       "    <tr>\n",
       "      <th>6</th>\n",
       "      <td>7</td>\n",
       "      <td>0.997320</td>\n",
       "      <td>1.573664</td>\n",
       "      <td>349.935477</td>\n",
       "      <td>[x3, x2, x1, x4, x6, x5, x7]</td>\n",
       "      <td>[15.206716473215463, 2.277306431495015, -3.416...</td>\n",
       "    </tr>\n",
       "    <tr>\n",
       "      <th>7</th>\n",
       "      <td>8</td>\n",
       "      <td>0.997341</td>\n",
       "      <td>1.576129</td>\n",
       "      <td>352.682577</td>\n",
       "      <td>[x3, x2, x1, x4, x6, x5, x7, x8]</td>\n",
       "      <td>[15.301246207910024, 3.137511197604807, -4.034...</td>\n",
       "    </tr>\n",
       "    <tr>\n",
       "      <th>8</th>\n",
       "      <td>9</td>\n",
       "      <td>0.997377</td>\n",
       "      <td>1.568894</td>\n",
       "      <td>354.809406</td>\n",
       "      <td>[x3, x2, x1, x4, x6, x5, x7, x8, x10]</td>\n",
       "      <td>[15.44227459455763, 2.537848165610022, -5.4338...</td>\n",
       "    </tr>\n",
       "    <tr>\n",
       "      <th>9</th>\n",
       "      <td>10</td>\n",
       "      <td>0.997393</td>\n",
       "      <td>1.573642</td>\n",
       "      <td>357.694475</td>\n",
       "      <td>[x3, x2, x1, x4, x6, x5, x7, x8, x10, x9]</td>\n",
       "      <td>[15.518578182120304, 4.218817577214825, -6.246...</td>\n",
       "    </tr>\n",
       "  </tbody>\n",
       "</table>\n",
       "</div>"
      ],
      "text/plain": [
       "   n_features  adj_R_squared         Cp         BIC  \\\n",
       "0           1       0.951732  26.769633  617.724328   \n",
       "1           2       0.973316  14.944049  562.032735   \n",
       "2           3       0.997326   1.512085  335.553076   \n",
       "3           4       0.997315   1.532682  339.507109   \n",
       "4           5       0.997366   1.518360  341.167347   \n",
       "5           6       0.997345   1.544549  345.474150   \n",
       "6           7       0.997320   1.573664  349.935477   \n",
       "7           8       0.997341   1.576129  352.682577   \n",
       "8           9       0.997377   1.568894  354.809406   \n",
       "9          10       0.997393   1.573642  357.694475   \n",
       "\n",
       "                                    features  \\\n",
       "0                                       [x3]   \n",
       "1                                   [x3, x2]   \n",
       "2                               [x3, x2, x1]   \n",
       "3                           [x3, x2, x1, x4]   \n",
       "4                       [x3, x2, x1, x4, x6]   \n",
       "5                   [x3, x2, x1, x4, x6, x5]   \n",
       "6               [x3, x2, x1, x4, x6, x5, x7]   \n",
       "7           [x3, x2, x1, x4, x6, x5, x7, x8]   \n",
       "8      [x3, x2, x1, x4, x6, x5, x7, x8, x10]   \n",
       "9  [x3, x2, x1, x4, x6, x5, x7, x8, x10, x9]   \n",
       "\n",
       "                                        model_coeffs  \n",
       "0            [12.076891808475885, 3.010702418127681]  \n",
       "1  [14.505384127676427, 2.7055474205685557, -1.98...  \n",
       "2  [15.036891617307095, 2.020539704333503, -3.017...  \n",
       "3  [15.096274873604155, 2.0699627768834095, -3.13...  \n",
       "4  [15.226623511941042, 2.035899203800227, -3.554...  \n",
       "5  [15.23659290587996, 2.1857295336517053, -3.590...  \n",
       "6  [15.206716473215463, 2.277306431495015, -3.416...  \n",
       "7  [15.301246207910024, 3.137511197604807, -4.034...  \n",
       "8  [15.44227459455763, 2.537848165610022, -5.4338...  \n",
       "9  [15.518578182120304, 4.218817577214825, -6.246...  "
      ]
     },
     "execution_count": 12,
     "metadata": {},
     "output_type": "execute_result"
    }
   ],
   "source": [
    "forward_best_features"
   ]
  },
  {
   "cell_type": "code",
   "execution_count": 13,
   "id": "688cb581-ced0-47a5-b4fe-a17adb6cf084",
   "metadata": {},
   "outputs": [],
   "source": [
    "def plot_selection_method_results(data):\n",
    "    fig, ax = plt.subplots(3, 1, figsize=(5, 15))\n",
    "    measures = ['Cp', 'BIC', 'adj_R_squared']\n",
    "    \n",
    "    for index, metric in enumerate(measures):\n",
    "        ax[index].plot(data['n_features'], data[metric], marker='o')\n",
    "        ax[index].axhline(y=data[metric].min() if metric != 'adj_R_squared' else data[metric].max(), linestyle='dashed', linewidth=0.5, color='black')\n",
    "        ax[index].axvline(x =data.sort_values(metric,ascending=True)['n_features'].values[0 if metric != 'adj_R_squared' else -1], color='black', linestyle='dashed', linewidth=0.5)\n",
    "        ax[index].set_title(f'{metric}')\n",
    "        ax[index].set_xlabel('Number of features')\n",
    "        ax[index].set_ylabel(f'{metric} values')\n"
   ]
  },
  {
   "cell_type": "code",
   "execution_count": 14,
   "id": "13ad4953-3651-4c97-b848-61835afa88ff",
   "metadata": {},
   "outputs": [
    {
     "data": {
      "image/png": "[encoded data removed]",
      "text/plain": [
       "<Figure size 500x1500 with 3 Axes>"
      ]
     },
     "metadata": {},
     "output_type": "display_data"
    }
   ],
   "source": [
    "plot_selection_method_results(forward_best_features)"
   ]
  },
  {
   "cell_type": "code",
   "execution_count": 15,
   "id": "e646738c-c322-444a-b6c2-7bfbae7b7ce7",
   "metadata": {},
   "outputs": [
    {
     "data": {
      "text/plain": [
       "array([array([15.03689162,  2.0205397 , -3.01764534,  5.06248667])],\n",
       "      dtype=object)"
      ]
     },
     "execution_count": 15,
     "metadata": {},
     "output_type": "execute_result"
    }
   ],
   "source": [
    "forward_best_features[forward_best_features.Cp == forward_best_features.Cp.min()].model_coeffs.values"
   ]
  },
  {
   "cell_type": "markdown",
   "id": "e4969d42-7cc8-476d-bbfc-a064c2d3258f",
   "metadata": {},
   "source": [
    "#### Exercise 6.6.8\n",
    "\n",
    "Repeat [(c)](#Exercise-6.6.8-c), using backwards stepwise selection. How does your answer compare to the results in [(c)](#Exercise-6.6.8-c)?\n",
    "\n",
    "__Answer__:\n",
    "\n",
    "- The results does not might vary to much, both methods picked the same amount of features and also the same feautres with a distinction of the order of that features."
   ]
  },
  {
   "cell_type": "code",
   "execution_count": 16,
   "id": "12020937-4cc9-4e63-99ff-8dddd8457f6b",
   "metadata": {},
   "outputs": [],
   "source": [
    "def backward_stepwise_selection(data, target, criterion):\n",
    "    selected_features = list(range(len([col for col in data.columns if col != target])))\n",
    "    adjusted_r2, cps, bics = [], [], []\n",
    "    total_features = []\n",
    "    models = []\n",
    "\n",
    "    while len(selected_features) > 1:\n",
    "\n",
    "        best_score = -np.inf\n",
    "        worst_feature = None\n",
    "\n",
    "        for feature in selected_features:\n",
    "            current_features = selected_features.copy()\n",
    "            current_features.remove(feature)\n",
    "            X_train_sub = data.iloc[:, current_features]\n",
    "\n",
    "            X_train_design = sm.add_constant(X_train_sub)\n",
    "            model = sm.OLS(data[target], X_train_design).fit()\n",
    "            negCp = partial(criterion, model.scale)\n",
    "            score = negCp(model, X_train_design, data[target])\n",
    "\n",
    "            if score > best_score:\n",
    "                best_score = score\n",
    "                worst_feature = feature\n",
    "                best_model = model\n",
    "\n",
    "        selected_features.remove(worst_feature)\n",
    "        cps.append(-best_score)\n",
    "        adjusted_r2.append(best_model.rsquared_adj)\n",
    "        bics.append(best_model.bic)\n",
    "        total_features.append(selected_features.copy())\n",
    "        models.append(best_model.params.values)\n",
    "        \n",
    "    selected_features = [0]\n",
    "    X_train_sub = data.iloc[:, selected_features]\n",
    "\n",
    "    X_train_design = sm.add_constant(X_train_sub)\n",
    "    model = sm.OLS(data[target], X_train_design).fit()\n",
    "    negCp = partial(criterion, model.scale)\n",
    "    score = negCp(model, X_train_design, data[target])\n",
    "    cps.append(-score)\n",
    "    adjusted_r2.append(model.rsquared_adj)\n",
    "    bics.append(model.bic)\n",
    "    total_features.append(selected_features)\n",
    "    models.append(model.params.values)\n",
    "\n",
    "    return pd.DataFrame({'n_features': list(map(len, total_features)), \n",
    "                         'adj_R_squared': adjusted_r2, 'Cp': cps, 'BIC': bics, \n",
    "                         'features': [data.columns[i].values for i in total_features],\n",
    "                         'model_coeffs': models\n",
    "                        })\n"
   ]
  },
  {
   "cell_type": "code",
   "execution_count": 17,
   "id": "3934a9fd-76ed-41e8-81b3-a8806298e35d",
   "metadata": {},
   "outputs": [],
   "source": [
    "backward_best_features = backward_stepwise_selection(data, 'y', nCp)"
   ]
  },
  {
   "cell_type": "code",
   "execution_count": 18,
   "id": "43f02a9f-d7a4-4532-bd52-a33bf2fbdf80",
   "metadata": {},
   "outputs": [
    {
     "data": {
      "text/html": [
       "<div>\n",
       "<style scoped>\n",
       "    .dataframe tbody tr th:only-of-type {\n",
       "        vertical-align: middle;\n",
       "    }\n",
       "\n",
       "    .dataframe tbody tr th {\n",
       "        vertical-align: top;\n",
       "    }\n",
       "\n",
       "    .dataframe thead th {\n",
       "        text-align: right;\n",
       "    }\n",
       "</style>\n",
       "<table border=\"1\" class=\"dataframe\">\n",
       "  <thead>\n",
       "    <tr style=\"text-align: right;\">\n",
       "      <th></th>\n",
       "      <th>n_features</th>\n",
       "      <th>adj_R_squared</th>\n",
       "      <th>Cp</th>\n",
       "      <th>BIC</th>\n",
       "      <th>features</th>\n",
       "      <th>model_coeffs</th>\n",
       "    </tr>\n",
       "  </thead>\n",
       "  <tbody>\n",
       "    <tr>\n",
       "      <th>0</th>\n",
       "      <td>9</td>\n",
       "      <td>0.997377</td>\n",
       "      <td>1.568894</td>\n",
       "      <td>354.809406</td>\n",
       "      <td>[x1, x2, x3, x4, x5, x6, x7, x8, x10]</td>\n",
       "      <td>[15.442274594586166, 4.68887216936668, -5.4338...</td>\n",
       "    </tr>\n",
       "    <tr>\n",
       "      <th>1</th>\n",
       "      <td>8</td>\n",
       "      <td>0.997399</td>\n",
       "      <td>1.541631</td>\n",
       "      <td>350.469514</td>\n",
       "      <td>[x1, x2, x3, x4, x6, x7, x8, x10]</td>\n",
       "      <td>[15.445030326179218, 4.896402890988008, -5.526...</td>\n",
       "    </tr>\n",
       "    <tr>\n",
       "      <th>2</th>\n",
       "      <td>7</td>\n",
       "      <td>0.997416</td>\n",
       "      <td>1.517351</td>\n",
       "      <td>346.291424</td>\n",
       "      <td>[x1, x2, x3, x4, x6, x8, x10]</td>\n",
       "      <td>[15.42344980951955, 4.778305537215743, -5.2751...</td>\n",
       "    </tr>\n",
       "    <tr>\n",
       "      <th>3</th>\n",
       "      <td>6</td>\n",
       "      <td>0.997338</td>\n",
       "      <td>1.548857</td>\n",
       "      <td>345.752694</td>\n",
       "      <td>[x1, x2, x3, x4, x8, x10]</td>\n",
       "      <td>[15.19988516704224, 4.980050884131021, -3.4070...</td>\n",
       "    </tr>\n",
       "    <tr>\n",
       "      <th>4</th>\n",
       "      <td>5</td>\n",
       "      <td>0.997366</td>\n",
       "      <td>1.518369</td>\n",
       "      <td>341.168000</td>\n",
       "      <td>[x1, x2, x3, x4, x10]</td>\n",
       "      <td>[15.212057231569677, 4.996209239829323, -3.470...</td>\n",
       "    </tr>\n",
       "  </tbody>\n",
       "</table>\n",
       "</div>"
      ],
      "text/plain": [
       "   n_features  adj_R_squared        Cp         BIC  \\\n",
       "0           9       0.997377  1.568894  354.809406   \n",
       "1           8       0.997399  1.541631  350.469514   \n",
       "2           7       0.997416  1.517351  346.291424   \n",
       "3           6       0.997338  1.548857  345.752694   \n",
       "4           5       0.997366  1.518369  341.168000   \n",
       "\n",
       "                                features  \\\n",
       "0  [x1, x2, x3, x4, x5, x6, x7, x8, x10]   \n",
       "1      [x1, x2, x3, x4, x6, x7, x8, x10]   \n",
       "2          [x1, x2, x3, x4, x6, x8, x10]   \n",
       "3              [x1, x2, x3, x4, x8, x10]   \n",
       "4                  [x1, x2, x3, x4, x10]   \n",
       "\n",
       "                                        model_coeffs  \n",
       "0  [15.442274594586166, 4.68887216936668, -5.4338...  \n",
       "1  [15.445030326179218, 4.896402890988008, -5.526...  \n",
       "2  [15.42344980951955, 4.778305537215743, -5.2751...  \n",
       "3  [15.19988516704224, 4.980050884131021, -3.4070...  \n",
       "4  [15.212057231569677, 4.996209239829323, -3.470...  "
      ]
     },
     "execution_count": 18,
     "metadata": {},
     "output_type": "execute_result"
    }
   ],
   "source": [
    "backward_best_features.head()"
   ]
  },
  {
   "cell_type": "code",
   "execution_count": 19,
   "id": "f8f44d14-a533-4584-b1e7-222cec5aadbb",
   "metadata": {},
   "outputs": [
    {
     "data": {
      "image/png": "[encoded data removed]",
      "text/plain": [
       "<Figure size 500x1500 with 3 Axes>"
      ]
     },
     "metadata": {},
     "output_type": "display_data"
    }
   ],
   "source": [
    "plot_selection_method_results(backward_best_features)"
   ]
  },
  {
   "cell_type": "code",
   "execution_count": 20,
   "id": "0c7adce7-aa0f-4d22-b505-8f246362f432",
   "metadata": {},
   "outputs": [
    {
     "data": {
      "text/plain": [
       "array([array([15.03689162,  5.06248667, -3.01764534,  2.0205397 ])],\n",
       "      dtype=object)"
      ]
     },
     "execution_count": 20,
     "metadata": {},
     "output_type": "execute_result"
    }
   ],
   "source": [
    "backward_best_features.loc[backward_best_features['Cp'] == backward_best_features['Cp'].min()].model_coeffs.values"
   ]
  },
  {
   "cell_type": "markdown",
   "id": "1fea918c-6e1a-4027-9537-5b1094c42a9f",
   "metadata": {},
   "source": [
    "#### Exercise 6.6.8 e\n",
    "\n",
    "Now fit a lasso model to the simulated data, again using, $X, X^{2}, \\dots,X^{10}$ as predictors. Use cross-validation to select the optimal value of $\\lambda$. Create plots of the cross validation error as function of $\\lambda$. Report the resulting coefficients estimates, and discuss the results obtained."
   ]
  },
  {
   "cell_type": "code",
   "execution_count": 21,
   "id": "568a3669-f162-4f8e-8064-63b7103b76ec",
   "metadata": {},
   "outputs": [
    {
     "data": {
      "text/html": [
       "<style>#sk-container-id-1 {color: black;}#sk-container-id-1 pre{padding: 0;}#sk-container-id-1 div.sk-toggleable {background-color: white;}#sk-container-id-1 label.sk-toggleable__label {cursor: pointer;display: block;width: 100%;margin-bottom: 0;padding: 0.3em;box-sizing: border-box;text-align: center;}#sk-container-id-1 label.sk-toggleable__label-arrow:before {content: \"▸\";float: left;margin-right: 0.25em;color: #696969;}#sk-container-id-1 label.sk-toggleable__label-arrow:hover:before {color: black;}#sk-container-id-1 div.sk-estimator:hover label.sk-toggleable__label-arrow:before {color: black;}#sk-container-id-1 div.sk-toggleable__content {max-height: 0;max-width: 0;overflow: hidden;text-align: left;background-color: #f0f8ff;}#sk-container-id-1 div.sk-toggleable__content pre {margin: 0.2em;color: black;border-radius: 0.25em;background-color: #f0f8ff;}#sk-container-id-1 input.sk-toggleable__control:checked~div.sk-toggleable__content {max-height: 200px;max-width: 100%;overflow: auto;}#sk-container-id-1 input.sk-toggleable__control:checked~label.sk-toggleable__label-arrow:before {content: \"▾\";}#sk-container-id-1 div.sk-estimator input.sk-toggleable__control:checked~label.sk-toggleable__label {background-color: #d4ebff;}#sk-container-id-1 div.sk-label input.sk-toggleable__control:checked~label.sk-toggleable__label {background-color: #d4ebff;}#sk-container-id-1 input.sk-hidden--visually {border: 0;clip: rect(1px 1px 1px 1px);clip: rect(1px, 1px, 1px, 1px);height: 1px;margin: -1px;overflow: hidden;padding: 0;position: absolute;width: 1px;}#sk-container-id-1 div.sk-estimator {font-family: monospace;background-color: #f0f8ff;border: 1px dotted black;border-radius: 0.25em;box-sizing: border-box;margin-bottom: 0.5em;}#sk-container-id-1 div.sk-estimator:hover {background-color: #d4ebff;}#sk-container-id-1 div.sk-parallel-item::after {content: \"\";width: 100%;border-bottom: 1px solid gray;flex-grow: 1;}#sk-container-id-1 div.sk-label:hover label.sk-toggleable__label {background-color: #d4ebff;}#sk-container-id-1 div.sk-serial::before {content: \"\";position: absolute;border-left: 1px solid gray;box-sizing: border-box;top: 0;bottom: 0;left: 50%;z-index: 0;}#sk-container-id-1 div.sk-serial {display: flex;flex-direction: column;align-items: center;background-color: white;padding-right: 0.2em;padding-left: 0.2em;position: relative;}#sk-container-id-1 div.sk-item {position: relative;z-index: 1;}#sk-container-id-1 div.sk-parallel {display: flex;align-items: stretch;justify-content: center;background-color: white;position: relative;}#sk-container-id-1 div.sk-item::before, #sk-container-id-1 div.sk-parallel-item::before {content: \"\";position: absolute;border-left: 1px solid gray;box-sizing: border-box;top: 0;bottom: 0;left: 50%;z-index: -1;}#sk-container-id-1 div.sk-parallel-item {display: flex;flex-direction: column;z-index: 1;position: relative;background-color: white;}#sk-container-id-1 div.sk-parallel-item:first-child::after {align-self: flex-end;width: 50%;}#sk-container-id-1 div.sk-parallel-item:last-child::after {align-self: flex-start;width: 50%;}#sk-container-id-1 div.sk-parallel-item:only-child::after {width: 0;}#sk-container-id-1 div.sk-dashed-wrapped {border: 1px dashed gray;margin: 0 0.4em 0.5em 0.4em;box-sizing: border-box;padding-bottom: 0.4em;background-color: white;}#sk-container-id-1 div.sk-label label {font-family: monospace;font-weight: bold;display: inline-block;line-height: 1.2em;}#sk-container-id-1 div.sk-label-container {text-align: center;}#sk-container-id-1 div.sk-container {/* jupyter's `normalize.less` sets `[hidden] { display: none; }` but bootstrap.min.css set `[hidden] { display: none !important; }` so we also need the `!important` here to be able to override the default hidden behavior on the sphinx rendered scikit-learn.org. See: https://github.com/scikit-learn/scikit-learn/issues/21755 */display: inline-block !important;position: relative;}#sk-container-id-1 div.sk-text-repr-fallback {display: none;}</style><div id=\"sk-container-id-1\" class=\"sk-top-container\"><div class=\"sk-text-repr-fallback\"><pre>Pipeline(steps=[(&#x27;scaler&#x27;, StandardScaler()),\n",
       "                (&#x27;lasso&#x27;,\n",
       "                 ElasticNetCV(alphas=array([1.00000000e-04, 1.20450354e-04, 1.45082878e-04, 1.74752840e-04,\n",
       "       2.10490414e-04, 2.53536449e-04, 3.05385551e-04, 3.67837977e-04,\n",
       "       4.43062146e-04, 5.33669923e-04, 6.42807312e-04, 7.74263683e-04,\n",
       "       9.32603347e-04, 1.12332403e-03, 1.35304777e-03, 1.62975083e-03,\n",
       "       1.96304065e-03, 2.36448941e-03,...\n",
       "       2.91505306e+02, 3.51119173e+02, 4.22924287e+02, 5.09413801e+02,\n",
       "       6.13590727e+02, 7.39072203e+02, 8.90215085e+02, 1.07226722e+03,\n",
       "       1.29154967e+03, 1.55567614e+03, 1.87381742e+03, 2.25701972e+03,\n",
       "       2.71858824e+03, 3.27454916e+03, 3.94420606e+03, 4.75081016e+03,\n",
       "       5.72236766e+03, 6.89261210e+03, 8.30217568e+03, 1.00000000e+04]),\n",
       "                              cv=KFold(n_splits=5, random_state=0, shuffle=True),\n",
       "                              l1_ratio=1))])</pre><b>In a Jupyter environment, please rerun this cell to show the HTML representation or trust the notebook. <br />On GitHub, the HTML representation is unable to render, please try loading this page with nbviewer.org.</b></div><div class=\"sk-container\" hidden><div class=\"sk-item sk-dashed-wrapped\"><div class=\"sk-label-container\"><div class=\"sk-label sk-toggleable\"><input class=\"sk-toggleable__control sk-hidden--visually\" id=\"sk-estimator-id-1\" type=\"checkbox\" ><label for=\"sk-estimator-id-1\" class=\"sk-toggleable__label sk-toggleable__label-arrow\">Pipeline</label><div class=\"sk-toggleable__content\"><pre>Pipeline(steps=[(&#x27;scaler&#x27;, StandardScaler()),\n",
       "                (&#x27;lasso&#x27;,\n",
       "                 ElasticNetCV(alphas=array([1.00000000e-04, 1.20450354e-04, 1.45082878e-04, 1.74752840e-04,\n",
       "       2.10490414e-04, 2.53536449e-04, 3.05385551e-04, 3.67837977e-04,\n",
       "       4.43062146e-04, 5.33669923e-04, 6.42807312e-04, 7.74263683e-04,\n",
       "       9.32603347e-04, 1.12332403e-03, 1.35304777e-03, 1.62975083e-03,\n",
       "       1.96304065e-03, 2.36448941e-03,...\n",
       "       2.91505306e+02, 3.51119173e+02, 4.22924287e+02, 5.09413801e+02,\n",
       "       6.13590727e+02, 7.39072203e+02, 8.90215085e+02, 1.07226722e+03,\n",
       "       1.29154967e+03, 1.55567614e+03, 1.87381742e+03, 2.25701972e+03,\n",
       "       2.71858824e+03, 3.27454916e+03, 3.94420606e+03, 4.75081016e+03,\n",
       "       5.72236766e+03, 6.89261210e+03, 8.30217568e+03, 1.00000000e+04]),\n",
       "                              cv=KFold(n_splits=5, random_state=0, shuffle=True),\n",
       "                              l1_ratio=1))])</pre></div></div></div><div class=\"sk-serial\"><div class=\"sk-item\"><div class=\"sk-estimator sk-toggleable\"><input class=\"sk-toggleable__control sk-hidden--visually\" id=\"sk-estimator-id-2\" type=\"checkbox\" ><label for=\"sk-estimator-id-2\" class=\"sk-toggleable__label sk-toggleable__label-arrow\">StandardScaler</label><div class=\"sk-toggleable__content\"><pre>StandardScaler()</pre></div></div></div><div class=\"sk-item\"><div class=\"sk-estimator sk-toggleable\"><input class=\"sk-toggleable__control sk-hidden--visually\" id=\"sk-estimator-id-3\" type=\"checkbox\" ><label for=\"sk-estimator-id-3\" class=\"sk-toggleable__label sk-toggleable__label-arrow\">ElasticNetCV</label><div class=\"sk-toggleable__content\"><pre>ElasticNetCV(alphas=array([1.00000000e-04, 1.20450354e-04, 1.45082878e-04, 1.74752840e-04,\n",
       "       2.10490414e-04, 2.53536449e-04, 3.05385551e-04, 3.67837977e-04,\n",
       "       4.43062146e-04, 5.33669923e-04, 6.42807312e-04, 7.74263683e-04,\n",
       "       9.32603347e-04, 1.12332403e-03, 1.35304777e-03, 1.62975083e-03,\n",
       "       1.96304065e-03, 2.36448941e-03, 2.84803587e-03, 3.43046929e-03,\n",
       "       4.13201240e-03, 4.977023...\n",
       "       2.91505306e+02, 3.51119173e+02, 4.22924287e+02, 5.09413801e+02,\n",
       "       6.13590727e+02, 7.39072203e+02, 8.90215085e+02, 1.07226722e+03,\n",
       "       1.29154967e+03, 1.55567614e+03, 1.87381742e+03, 2.25701972e+03,\n",
       "       2.71858824e+03, 3.27454916e+03, 3.94420606e+03, 4.75081016e+03,\n",
       "       5.72236766e+03, 6.89261210e+03, 8.30217568e+03, 1.00000000e+04]),\n",
       "             cv=KFold(n_splits=5, random_state=0, shuffle=True), l1_ratio=1)</pre></div></div></div></div></div></div></div>"
      ],
      "text/plain": [
       "Pipeline(steps=[('scaler', StandardScaler()),\n",
       "                ('lasso',\n",
       "                 ElasticNetCV(alphas=array([1.00000000e-04, 1.20450354e-04, 1.45082878e-04, 1.74752840e-04,\n",
       "       2.10490414e-04, 2.53536449e-04, 3.05385551e-04, 3.67837977e-04,\n",
       "       4.43062146e-04, 5.33669923e-04, 6.42807312e-04, 7.74263683e-04,\n",
       "       9.32603347e-04, 1.12332403e-03, 1.35304777e-03, 1.62975083e-03,\n",
       "       1.96304065e-03, 2.36448941e-03,...\n",
       "       2.91505306e+02, 3.51119173e+02, 4.22924287e+02, 5.09413801e+02,\n",
       "       6.13590727e+02, 7.39072203e+02, 8.90215085e+02, 1.07226722e+03,\n",
       "       1.29154967e+03, 1.55567614e+03, 1.87381742e+03, 2.25701972e+03,\n",
       "       2.71858824e+03, 3.27454916e+03, 3.94420606e+03, 4.75081016e+03,\n",
       "       5.72236766e+03, 6.89261210e+03, 8.30217568e+03, 1.00000000e+04]),\n",
       "                              cv=KFold(n_splits=5, random_state=0, shuffle=True),\n",
       "                              l1_ratio=1))])"
      ]
     },
     "execution_count": 21,
     "metadata": {},
     "output_type": "execute_result"
    }
   ],
   "source": [
    "K = 5\n",
    "kfold = KFold(K, random_state=0, shuffle=True)\n",
    "lasso_cv = ElasticNetCV(l1_ratio=1, alphas=np.logspace(-4, 4, 100), cv=kfold)\n",
    "pipe_cv = Pipeline(steps=[('scaler', scaler), ('lasso', lasso_cv)])\n",
    "pipe_cv.fit(preds, Y)\n"
   ]
  },
  {
   "cell_type": "code",
   "execution_count": 22,
   "id": "66ede2cc-7d09-4672-992e-23f05c0d058d",
   "metadata": {},
   "outputs": [
    {
     "data": {
      "text/plain": [
       "0.015199110829529346"
      ]
     },
     "execution_count": 22,
     "metadata": {},
     "output_type": "execute_result"
    }
   ],
   "source": [
    "tuned_lasso_cv = pipe_cv.named_steps['lasso']\n",
    "tuned_lasso_cv.alpha_"
   ]
  },
  {
   "cell_type": "code",
   "execution_count": 23,
   "id": "ab8605c2-d07a-4ca5-8116-c547529f7c05",
   "metadata": {},
   "outputs": [
    {
     "data": {
      "image/png": "[encoded data removed]",
      "text/plain": [
       "<Figure size 800x800 with 1 Axes>"
      ]
     },
     "metadata": {},
     "output_type": "display_data"
    }
   ],
   "source": [
    "lasso_cv, ax = plt.subplots(figsize =(8,8))\n",
    "ax.errorbar(-np.log(tuned_lasso_cv.alphas_), tuned_lasso_cv.mse_path_.mean(1), yerr=tuned_lasso_cv.mse_path_.std(1) / np.sqrt(K))\n",
    "ax.axvline(-np.log(tuned_lasso_cv.alpha_), c='k', ls='--')\n",
    "ax.set_xlabel('$-\\log(\\ lambda)$', fontsize = 20)\n",
    "ax.set_ylabel('Cross -validated MSE', fontsize = 20);"
   ]
  },
  {
   "cell_type": "code",
   "execution_count": 24,
   "id": "41822a24-4f04-455b-a35f-36157ad0df1d",
   "metadata": {},
   "outputs": [],
   "source": [
    "X_scaled = scaler.fit_transform(preds)"
   ]
  },
  {
   "cell_type": "code",
   "execution_count": 25,
   "id": "fbe4dd7f-da61-4b6c-8ec9-6b2dcd06a364",
   "metadata": {},
   "outputs": [],
   "source": [
    "lambdas, soln_array = Lasso.path(X_scaled, Y, l1_ratio=1, n_alphas=100)[:2]\n",
    "soln_path = pd.DataFrame(soln_array.T, columns=range(X_scaled.shape[1]), index=-np.log(lambdas))"
   ]
  },
  {
   "cell_type": "code",
   "execution_count": 26,
   "id": "f13d766d-79a1-4a4d-bb74-62287dd8c3c8",
   "metadata": {},
   "outputs": [
    {
     "data": {
      "image/png": "[encoded data removed]",
      "text/plain": [
       "<Figure size 800x800 with 1 Axes>"
      ]
     },
     "metadata": {},
     "output_type": "display_data"
    }
   ],
   "source": [
    "path_fig, ax = plt.subplots(figsize=(8 ,8))\n",
    "soln_path.plot(ax=ax, legend=False)\n",
    "ax.legend(loc='upper left')\n",
    "ax.set_xlabel('$-\\log(\\ lambda)$', fontsize=20)\n",
    "ax.set_ylabel('Standardized coefficiients', fontsize=20);"
   ]
  },
  {
   "cell_type": "code",
   "execution_count": 27,
   "id": "0d347779-a8f9-4443-8a38-0ba41d9838a5",
   "metadata": {},
   "outputs": [
    {
     "data": {
      "text/plain": [
       "array([ 5.59044148, -6.24103823, 15.20358404,  0.        ,  0.        ,\n",
       "       -0.        ,  0.        , -0.        ,  0.        , -0.        ])"
      ]
     },
     "execution_count": 27,
     "metadata": {},
     "output_type": "execute_result"
    }
   ],
   "source": [
    "tuned_lasso_cv.coef_"
   ]
  },
  {
   "cell_type": "markdown",
   "id": "d68b4eb0-56a7-49af-9675-c217c5cc5aa8",
   "metadata": {},
   "source": [
    "#### Exercise 6.6.8 f\n",
    "\n",
    "Now generate a response vector $Y$ according to the model\n",
    "\n",
    "$$\n",
    "Y = \\beta_0 + \\beta_7X^{7} + \\epsilon\n",
    "$$\n",
    "\n",
    "and perform forward stepwise selection and the lasso. Discuss the results obtained.\n",
    "\n",
    "__Answer__:\n",
    "\n",
    "- with a model $Y = \\beta_0 + \\beta_7 \\cdot X^{7} + \\epsilon$, the only one feature is associated with a response variable, the forward selection method recognized this association, since the first row of the found feature is $X^{7}$,\n",
    "- The plots of the forward stepwise selection suggests huge overfitting of all models, $C_p, \\text{BIC}$ increases, instaed of decreasing, it suggests very high variance, since the model tries to fit all powers of predictors from $1$ to $10$, whereas in reality, only $7th$ power is associated with response variable $y$,\n",
    "- Lasso finds that trend as well, we see that model coefficients of the Lasso Regression, zeroed out all $\\beta$s with an exception of $\\beta_7$ which in fact is associated with predictor and $\\beta_8, \\beta_9, \\beta_10$ which have a small values,\n",
    "- the estimated values for real $\\beta_0 = 10$ and $\\beta_1 = 5$ of the lasso model: $\\hat{\\beta_0} = 7.96$ and $\\hat{\\beta_7} = 4.93$ suggests close estimation to the real values of $\\beta$."
   ]
  },
  {
   "cell_type": "code",
   "execution_count": 28,
   "id": "5a3f6c31-8ff5-4f5b-bb04-de0ebfbdcc9a",
   "metadata": {},
   "outputs": [],
   "source": [
    "beta_0, beta_7 = 10, 5\n",
    "Y = beta_0 + beta_7 * np.power(X, 7) + epsilon"
   ]
  },
  {
   "cell_type": "code",
   "execution_count": 29,
   "id": "78a9e62d-e46b-4c54-bb6a-c6fc60117b01",
   "metadata": {},
   "outputs": [],
   "source": [
    "data['y'] = Y"
   ]
  },
  {
   "cell_type": "code",
   "execution_count": 30,
   "id": "6bbf0504-a4bf-4b3d-9c88-25b457dd692c",
   "metadata": {},
   "outputs": [],
   "source": [
    "forward_best_subset = forward_stepwise_selection(data, 'y', nCp)"
   ]
  },
  {
   "cell_type": "code",
   "execution_count": 31,
   "id": "5e462f71-5b53-4ed6-9d9e-ef759b39f00f",
   "metadata": {},
   "outputs": [
    {
     "data": {
      "text/html": [
       "<div>\n",
       "<style scoped>\n",
       "    .dataframe tbody tr th:only-of-type {\n",
       "        vertical-align: middle;\n",
       "    }\n",
       "\n",
       "    .dataframe tbody tr th {\n",
       "        vertical-align: top;\n",
       "    }\n",
       "\n",
       "    .dataframe thead th {\n",
       "        text-align: right;\n",
       "    }\n",
       "</style>\n",
       "<table border=\"1\" class=\"dataframe\">\n",
       "  <thead>\n",
       "    <tr style=\"text-align: right;\">\n",
       "      <th></th>\n",
       "      <th>n_features</th>\n",
       "      <th>adj_R_squared</th>\n",
       "      <th>Cp</th>\n",
       "      <th>BIC</th>\n",
       "      <th>features</th>\n",
       "      <th>model_coeffs</th>\n",
       "    </tr>\n",
       "  </thead>\n",
       "  <tbody>\n",
       "    <tr>\n",
       "      <th>0</th>\n",
       "      <td>1</td>\n",
       "      <td>1.0</td>\n",
       "      <td>1.468291</td>\n",
       "      <td>327.407416</td>\n",
       "      <td>[x7]</td>\n",
       "      <td>[10.038923475274267, 5.000108001864551]</td>\n",
       "    </tr>\n",
       "    <tr>\n",
       "      <th>1</th>\n",
       "      <td>2</td>\n",
       "      <td>1.0</td>\n",
       "      <td>1.481459</td>\n",
       "      <td>330.904148</td>\n",
       "      <td>[x7, x6]</td>\n",
       "      <td>[9.992256366311468, 5.000905053170066, 0.00324...</td>\n",
       "    </tr>\n",
       "    <tr>\n",
       "      <th>2</th>\n",
       "      <td>3</td>\n",
       "      <td>1.0</td>\n",
       "      <td>1.476628</td>\n",
       "      <td>333.180207</td>\n",
       "      <td>[x7, x6, x2]</td>\n",
       "      <td>[10.149469751192115, 5.002575851327314, 0.0108...</td>\n",
       "    </tr>\n",
       "    <tr>\n",
       "      <th>3</th>\n",
       "      <td>4</td>\n",
       "      <td>1.0</td>\n",
       "      <td>1.495282</td>\n",
       "      <td>337.036679</td>\n",
       "      <td>[x7, x6, x2, x4]</td>\n",
       "      <td>[10.211717049203552, 5.0015066108793045, 0.001...</td>\n",
       "    </tr>\n",
       "    <tr>\n",
       "      <th>4</th>\n",
       "      <td>5</td>\n",
       "      <td>1.0</td>\n",
       "      <td>1.517250</td>\n",
       "      <td>341.094216</td>\n",
       "      <td>[x7, x6, x2, x4, x3]</td>\n",
       "      <td>[10.23660560559263, 4.998918548863951, -0.0135...</td>\n",
       "    </tr>\n",
       "    <tr>\n",
       "      <th>5</th>\n",
       "      <td>6</td>\n",
       "      <td>1.0</td>\n",
       "      <td>1.546462</td>\n",
       "      <td>345.597923</td>\n",
       "      <td>[x7, x6, x2, x4, x3, x5]</td>\n",
       "      <td>[10.212226019827, 5.001459238403985, -0.003926...</td>\n",
       "    </tr>\n",
       "    <tr>\n",
       "      <th>6</th>\n",
       "      <td>7</td>\n",
       "      <td>1.0</td>\n",
       "      <td>1.568016</td>\n",
       "      <td>349.575907</td>\n",
       "      <td>[x7, x6, x2, x4, x3, x5, x8]</td>\n",
       "      <td>[10.261772879418064, 5.02014036492692, -0.0745...</td>\n",
       "    </tr>\n",
       "    <tr>\n",
       "      <th>7</th>\n",
       "      <td>8</td>\n",
       "      <td>1.0</td>\n",
       "      <td>1.543161</td>\n",
       "      <td>350.568716</td>\n",
       "      <td>[x7, x6, x2, x4, x3, x5, x8, x10]</td>\n",
       "      <td>[10.443341355339797, 5.006567455861266, -0.950...</td>\n",
       "    </tr>\n",
       "    <tr>\n",
       "      <th>8</th>\n",
       "      <td>9</td>\n",
       "      <td>1.0</td>\n",
       "      <td>1.566849</td>\n",
       "      <td>354.679028</td>\n",
       "      <td>[x7, x6, x2, x4, x3, x5, x8, x10, x9]</td>\n",
       "      <td>[10.477391302363948, 5.167825513454872, -1.293...</td>\n",
       "    </tr>\n",
       "    <tr>\n",
       "      <th>9</th>\n",
       "      <td>10</td>\n",
       "      <td>1.0</td>\n",
       "      <td>1.573642</td>\n",
       "      <td>357.694475</td>\n",
       "      <td>[x7, x6, x2, x4, x3, x5, x8, x10, x9, x1]</td>\n",
       "      <td>[10.518578182114924, 5.416765870375585, -1.555...</td>\n",
       "    </tr>\n",
       "  </tbody>\n",
       "</table>\n",
       "</div>"
      ],
      "text/plain": [
       "   n_features  adj_R_squared        Cp         BIC  \\\n",
       "0           1            1.0  1.468291  327.407416   \n",
       "1           2            1.0  1.481459  330.904148   \n",
       "2           3            1.0  1.476628  333.180207   \n",
       "3           4            1.0  1.495282  337.036679   \n",
       "4           5            1.0  1.517250  341.094216   \n",
       "5           6            1.0  1.546462  345.597923   \n",
       "6           7            1.0  1.568016  349.575907   \n",
       "7           8            1.0  1.543161  350.568716   \n",
       "8           9            1.0  1.566849  354.679028   \n",
       "9          10            1.0  1.573642  357.694475   \n",
       "\n",
       "                                    features  \\\n",
       "0                                       [x7]   \n",
       "1                                   [x7, x6]   \n",
       "2                               [x7, x6, x2]   \n",
       "3                           [x7, x6, x2, x4]   \n",
       "4                       [x7, x6, x2, x4, x3]   \n",
       "5                   [x7, x6, x2, x4, x3, x5]   \n",
       "6               [x7, x6, x2, x4, x3, x5, x8]   \n",
       "7          [x7, x6, x2, x4, x3, x5, x8, x10]   \n",
       "8      [x7, x6, x2, x4, x3, x5, x8, x10, x9]   \n",
       "9  [x7, x6, x2, x4, x3, x5, x8, x10, x9, x1]   \n",
       "\n",
       "                                        model_coeffs  \n",
       "0            [10.038923475274267, 5.000108001864551]  \n",
       "1  [9.992256366311468, 5.000905053170066, 0.00324...  \n",
       "2  [10.149469751192115, 5.002575851327314, 0.0108...  \n",
       "3  [10.211717049203552, 5.0015066108793045, 0.001...  \n",
       "4  [10.23660560559263, 4.998918548863951, -0.0135...  \n",
       "5  [10.212226019827, 5.001459238403985, -0.003926...  \n",
       "6  [10.261772879418064, 5.02014036492692, -0.0745...  \n",
       "7  [10.443341355339797, 5.006567455861266, -0.950...  \n",
       "8  [10.477391302363948, 5.167825513454872, -1.293...  \n",
       "9  [10.518578182114924, 5.416765870375585, -1.555...  "
      ]
     },
     "execution_count": 31,
     "metadata": {},
     "output_type": "execute_result"
    }
   ],
   "source": [
    "forward_best_subset"
   ]
  },
  {
   "cell_type": "code",
   "execution_count": 32,
   "id": "f2efbb68-66b7-4609-8d39-08e9589fbe0d",
   "metadata": {},
   "outputs": [
    {
     "data": {
      "image/png": "[encoded data removed]",
      "text/plain": [
       "<Figure size 500x1500 with 3 Axes>"
      ]
     },
     "metadata": {},
     "output_type": "display_data"
    }
   ],
   "source": [
    "plot_selection_method_results(forward_best_subset)"
   ]
  },
  {
   "cell_type": "code",
   "execution_count": 33,
   "id": "df78f911-a655-4f4b-969e-71354d2f868e",
   "metadata": {},
   "outputs": [
    {
     "data": {
      "text/html": [
       "<style>#sk-container-id-2 {color: black;}#sk-container-id-2 pre{padding: 0;}#sk-container-id-2 div.sk-toggleable {background-color: white;}#sk-container-id-2 label.sk-toggleable__label {cursor: pointer;display: block;width: 100%;margin-bottom: 0;padding: 0.3em;box-sizing: border-box;text-align: center;}#sk-container-id-2 label.sk-toggleable__label-arrow:before {content: \"▸\";float: left;margin-right: 0.25em;color: #696969;}#sk-container-id-2 label.sk-toggleable__label-arrow:hover:before {color: black;}#sk-container-id-2 div.sk-estimator:hover label.sk-toggleable__label-arrow:before {color: black;}#sk-container-id-2 div.sk-toggleable__content {max-height: 0;max-width: 0;overflow: hidden;text-align: left;background-color: #f0f8ff;}#sk-container-id-2 div.sk-toggleable__content pre {margin: 0.2em;color: black;border-radius: 0.25em;background-color: #f0f8ff;}#sk-container-id-2 input.sk-toggleable__control:checked~div.sk-toggleable__content {max-height: 200px;max-width: 100%;overflow: auto;}#sk-container-id-2 input.sk-toggleable__control:checked~label.sk-toggleable__label-arrow:before {content: \"▾\";}#sk-container-id-2 div.sk-estimator input.sk-toggleable__control:checked~label.sk-toggleable__label {background-color: #d4ebff;}#sk-container-id-2 div.sk-label input.sk-toggleable__control:checked~label.sk-toggleable__label {background-color: #d4ebff;}#sk-container-id-2 input.sk-hidden--visually {border: 0;clip: rect(1px 1px 1px 1px);clip: rect(1px, 1px, 1px, 1px);height: 1px;margin: -1px;overflow: hidden;padding: 0;position: absolute;width: 1px;}#sk-container-id-2 div.sk-estimator {font-family: monospace;background-color: #f0f8ff;border: 1px dotted black;border-radius: 0.25em;box-sizing: border-box;margin-bottom: 0.5em;}#sk-container-id-2 div.sk-estimator:hover {background-color: #d4ebff;}#sk-container-id-2 div.sk-parallel-item::after {content: \"\";width: 100%;border-bottom: 1px solid gray;flex-grow: 1;}#sk-container-id-2 div.sk-label:hover label.sk-toggleable__label {background-color: #d4ebff;}#sk-container-id-2 div.sk-serial::before {content: \"\";position: absolute;border-left: 1px solid gray;box-sizing: border-box;top: 0;bottom: 0;left: 50%;z-index: 0;}#sk-container-id-2 div.sk-serial {display: flex;flex-direction: column;align-items: center;background-color: white;padding-right: 0.2em;padding-left: 0.2em;position: relative;}#sk-container-id-2 div.sk-item {position: relative;z-index: 1;}#sk-container-id-2 div.sk-parallel {display: flex;align-items: stretch;justify-content: center;background-color: white;position: relative;}#sk-container-id-2 div.sk-item::before, #sk-container-id-2 div.sk-parallel-item::before {content: \"\";position: absolute;border-left: 1px solid gray;box-sizing: border-box;top: 0;bottom: 0;left: 50%;z-index: -1;}#sk-container-id-2 div.sk-parallel-item {display: flex;flex-direction: column;z-index: 1;position: relative;background-color: white;}#sk-container-id-2 div.sk-parallel-item:first-child::after {align-self: flex-end;width: 50%;}#sk-container-id-2 div.sk-parallel-item:last-child::after {align-self: flex-start;width: 50%;}#sk-container-id-2 div.sk-parallel-item:only-child::after {width: 0;}#sk-container-id-2 div.sk-dashed-wrapped {border: 1px dashed gray;margin: 0 0.4em 0.5em 0.4em;box-sizing: border-box;padding-bottom: 0.4em;background-color: white;}#sk-container-id-2 div.sk-label label {font-family: monospace;font-weight: bold;display: inline-block;line-height: 1.2em;}#sk-container-id-2 div.sk-label-container {text-align: center;}#sk-container-id-2 div.sk-container {/* jupyter's `normalize.less` sets `[hidden] { display: none; }` but bootstrap.min.css set `[hidden] { display: none !important; }` so we also need the `!important` here to be able to override the default hidden behavior on the sphinx rendered scikit-learn.org. See: https://github.com/scikit-learn/scikit-learn/issues/21755 */display: inline-block !important;position: relative;}#sk-container-id-2 div.sk-text-repr-fallback {display: none;}</style><div id=\"sk-container-id-2\" class=\"sk-top-container\"><div class=\"sk-text-repr-fallback\"><pre>LassoCV(alphas=array([1.00000000e-05, 1.20450354e-05, 1.45082878e-05, 1.74752840e-05,\n",
       "       2.10490414e-05, 2.53536449e-05, 3.05385551e-05, 3.67837977e-05,\n",
       "       4.43062146e-05, 5.33669923e-05, 6.42807312e-05, 7.74263683e-05,\n",
       "       9.32603347e-05, 1.12332403e-04, 1.35304777e-04, 1.62975083e-04,\n",
       "       1.96304065e-04, 2.36448941e-04, 2.84803587e-04, 3.43046929e-04,\n",
       "       4.13201240e-04, 4.97702356e-0...\n",
       "       1.38488637e+01, 1.66810054e+01, 2.00923300e+01, 2.42012826e+01,\n",
       "       2.91505306e+01, 3.51119173e+01, 4.22924287e+01, 5.09413801e+01,\n",
       "       6.13590727e+01, 7.39072203e+01, 8.90215085e+01, 1.07226722e+02,\n",
       "       1.29154967e+02, 1.55567614e+02, 1.87381742e+02, 2.25701972e+02,\n",
       "       2.71858824e+02, 3.27454916e+02, 3.94420606e+02, 4.75081016e+02,\n",
       "       5.72236766e+02, 6.89261210e+02, 8.30217568e+02, 1.00000000e+03]),\n",
       "        max_iter=100000)</pre><b>In a Jupyter environment, please rerun this cell to show the HTML representation or trust the notebook. <br />On GitHub, the HTML representation is unable to render, please try loading this page with nbviewer.org.</b></div><div class=\"sk-container\" hidden><div class=\"sk-item\"><div class=\"sk-estimator sk-toggleable\"><input class=\"sk-toggleable__control sk-hidden--visually\" id=\"sk-estimator-id-4\" type=\"checkbox\" checked><label for=\"sk-estimator-id-4\" class=\"sk-toggleable__label sk-toggleable__label-arrow\">LassoCV</label><div class=\"sk-toggleable__content\"><pre>LassoCV(alphas=array([1.00000000e-05, 1.20450354e-05, 1.45082878e-05, 1.74752840e-05,\n",
       "       2.10490414e-05, 2.53536449e-05, 3.05385551e-05, 3.67837977e-05,\n",
       "       4.43062146e-05, 5.33669923e-05, 6.42807312e-05, 7.74263683e-05,\n",
       "       9.32603347e-05, 1.12332403e-04, 1.35304777e-04, 1.62975083e-04,\n",
       "       1.96304065e-04, 2.36448941e-04, 2.84803587e-04, 3.43046929e-04,\n",
       "       4.13201240e-04, 4.97702356e-0...\n",
       "       1.38488637e+01, 1.66810054e+01, 2.00923300e+01, 2.42012826e+01,\n",
       "       2.91505306e+01, 3.51119173e+01, 4.22924287e+01, 5.09413801e+01,\n",
       "       6.13590727e+01, 7.39072203e+01, 8.90215085e+01, 1.07226722e+02,\n",
       "       1.29154967e+02, 1.55567614e+02, 1.87381742e+02, 2.25701972e+02,\n",
       "       2.71858824e+02, 3.27454916e+02, 3.94420606e+02, 4.75081016e+02,\n",
       "       5.72236766e+02, 6.89261210e+02, 8.30217568e+02, 1.00000000e+03]),\n",
       "        max_iter=100000)</pre></div></div></div></div></div>"
      ],
      "text/plain": [
       "LassoCV(alphas=array([1.00000000e-05, 1.20450354e-05, 1.45082878e-05, 1.74752840e-05,\n",
       "       2.10490414e-05, 2.53536449e-05, 3.05385551e-05, 3.67837977e-05,\n",
       "       4.43062146e-05, 5.33669923e-05, 6.42807312e-05, 7.74263683e-05,\n",
       "       9.32603347e-05, 1.12332403e-04, 1.35304777e-04, 1.62975083e-04,\n",
       "       1.96304065e-04, 2.36448941e-04, 2.84803587e-04, 3.43046929e-04,\n",
       "       4.13201240e-04, 4.97702356e-0...\n",
       "       1.38488637e+01, 1.66810054e+01, 2.00923300e+01, 2.42012826e+01,\n",
       "       2.91505306e+01, 3.51119173e+01, 4.22924287e+01, 5.09413801e+01,\n",
       "       6.13590727e+01, 7.39072203e+01, 8.90215085e+01, 1.07226722e+02,\n",
       "       1.29154967e+02, 1.55567614e+02, 1.87381742e+02, 2.25701972e+02,\n",
       "       2.71858824e+02, 3.27454916e+02, 3.94420606e+02, 4.75081016e+02,\n",
       "       5.72236766e+02, 6.89261210e+02, 8.30217568e+02, 1.00000000e+03]),\n",
       "        max_iter=100000)"
      ]
     },
     "execution_count": 33,
     "metadata": {},
     "output_type": "execute_result"
    }
   ],
   "source": [
    "lasso_cv = LassoCV(alphas=np.logspace(-5, 3, 100), max_iter=100000)\n",
    "lasso_cv.fit(data.loc[:, data.columns.drop('y')], Y)"
   ]
  },
  {
   "cell_type": "code",
   "execution_count": 34,
   "id": "121b4e70-b210-4d8f-a063-ed5a0ca47bbb",
   "metadata": {},
   "outputs": [
    {
     "data": {
      "text/plain": [
       "(24.098194936601203,\n",
       " array([ 5.09305084e+01, -7.68463122e+01, -7.92327204e+01,  4.26919272e+01,\n",
       "         3.10398166e+01, -4.76485748e+00,  1.24961734e+00, -1.62281058e-01,\n",
       "         3.62678092e-02, -4.29422318e-03]))"
      ]
     },
     "execution_count": 34,
     "metadata": {},
     "output_type": "execute_result"
    }
   ],
   "source": [
    "lasso_cv.intercept_, lasso_cv.coef_"
   ]
  },
  {
   "cell_type": "code",
   "execution_count": 35,
   "id": "e26bacfb-3090-4b00-aa83-1d654e333def",
   "metadata": {},
   "outputs": [
    {
     "data": {
      "text/plain": [
       "Intercept    24.098195\n",
       "X1           50.930508\n",
       "X2          -76.846312\n",
       "X3          -79.232720\n",
       "X4           42.691927\n",
       "X5           31.039817\n",
       "X6           -4.764857\n",
       "X7            1.249617\n",
       "X8           -0.162281\n",
       "X9            0.036268\n",
       "X10          -0.004294\n",
       "dtype: float64"
      ]
     },
     "execution_count": 35,
     "metadata": {},
     "output_type": "execute_result"
    }
   ],
   "source": [
    "pd.Series(np.hstack([lasso_cv.intercept_,lasso_cv.coef_]),index = ['Intercept']+['X' + str(i) for i in range(1,11)])"
   ]
  },
  {
   "cell_type": "markdown",
   "id": "c7b6896f-0505-4df6-a0e0-7c1414254ea0",
   "metadata": {},
   "source": [
    "### Exercise 6.6.9 \n",
    "\n",
    "In this exercise, we will predict the number of applications received using the other variables in the `College` data set."
   ]
  },
  {
   "cell_type": "markdown",
   "id": "2423d39d-a664-477c-b2e1-6ba3b7d9dac6",
   "metadata": {},
   "source": [
    "#### Exercise 6.6.9 a\n",
    "\n",
    "Split the data set into a training and test set."
   ]
  },
  {
   "cell_type": "code",
   "execution_count": 36,
   "id": "18e4c5d4-5084-489a-9748-9842dd012dd2",
   "metadata": {},
   "outputs": [],
   "source": [
    "college_data = load_data('College')\n",
    "le = LabelEncoder()\n",
    "college_data['Private'] = le.fit_transform(college_data['Private'])\n",
    "X = college_data.loc[:, college_data.columns.drop('Apps')]\n",
    "y = college_data['Apps']"
   ]
  },
  {
   "cell_type": "code",
   "execution_count": 37,
   "id": "8c49fd63-4905-4154-b54b-76466cddf68b",
   "metadata": {},
   "outputs": [],
   "source": [
    "X_train, X_test, y_train, y_test = train_test_split(X, y, test_size=0.2, random_state=0)"
   ]
  },
  {
   "cell_type": "markdown",
   "id": "9c0de338-2f91-46f9-bf1d-13cb8ab61606",
   "metadata": {},
   "source": [
    "#### Exercise 6.6.9 b\n",
    "\n",
    "Fit a linear model using least squares on the training set, and report the test error obtained."
   ]
  },
  {
   "cell_type": "code",
   "execution_count": 38,
   "id": "c0dfb1b5-5c6b-4811-a004-c9dbff8e9c5c",
   "metadata": {},
   "outputs": [],
   "source": [
    "lr = LinearRegression()\n",
    "lr.fit(X_train, y_train)\n",
    "y_pred = lr.predict(X_test)"
   ]
  },
  {
   "cell_type": "code",
   "execution_count": 39,
   "id": "cc092383-ccb4-44f9-a5bd-812ec80d9663",
   "metadata": {},
   "outputs": [
    {
     "data": {
      "text/plain": [
       "1176083.9778028482"
      ]
     },
     "execution_count": 39,
     "metadata": {},
     "output_type": "execute_result"
    }
   ],
   "source": [
    "test_mse_ls = mean_squared_error(y_test, y_pred)\n",
    "test_mse_ls"
   ]
  },
  {
   "cell_type": "code",
   "execution_count": 40,
   "id": "706af9c2-272d-4877-b74f-5622e616938b",
   "metadata": {},
   "outputs": [
    {
     "data": {
      "text/plain": [
       "1084.4740558458964"
      ]
     },
     "execution_count": 40,
     "metadata": {},
     "output_type": "execute_result"
    }
   ],
   "source": [
    "test_rmse_ls = np.sqrt(test_mse_ls)\n",
    "test_rmse_ls"
   ]
  },
  {
   "cell_type": "markdown",
   "id": "09266cc1-30c5-4984-988b-39e033aac4b2",
   "metadata": {},
   "source": [
    "#### Exercise 6.6.9 c\n",
    "\n",
    "Fit a ridge regression model on the training set, with $\\lambda$ chosen by cross-validation. Report the test error obtained."
   ]
  },
  {
   "cell_type": "code",
   "execution_count": 41,
   "id": "faf58245-57a1-4d00-a6d9-2b964ce679f8",
   "metadata": {},
   "outputs": [],
   "source": [
    "validation = ShuffleSplit(n_splits=1, random_state=0, test_size=0.2)\n",
    "ridge_cv = RidgeCV(alphas=np.logspace(-4, 4, 100), cv=validation, )"
   ]
  },
  {
   "cell_type": "code",
   "execution_count": 42,
   "id": "9bd6c0a6-a085-4336-a70d-6ba75b035dcf",
   "metadata": {},
   "outputs": [],
   "source": [
    "scaler = StandardScaler()\n",
    "X_std = scaler.fit_transform(X)\n"
   ]
  },
  {
   "cell_type": "code",
   "execution_count": 43,
   "id": "68acf32e-18e8-4ae1-95a3-97b32b364c7f",
   "metadata": {},
   "outputs": [
    {
     "data": {
      "text/html": [
       "<style>#sk-container-id-3 {color: black;}#sk-container-id-3 pre{padding: 0;}#sk-container-id-3 div.sk-toggleable {background-color: white;}#sk-container-id-3 label.sk-toggleable__label {cursor: pointer;display: block;width: 100%;margin-bottom: 0;padding: 0.3em;box-sizing: border-box;text-align: center;}#sk-container-id-3 label.sk-toggleable__label-arrow:before {content: \"▸\";float: left;margin-right: 0.25em;color: #696969;}#sk-container-id-3 label.sk-toggleable__label-arrow:hover:before {color: black;}#sk-container-id-3 div.sk-estimator:hover label.sk-toggleable__label-arrow:before {color: black;}#sk-container-id-3 div.sk-toggleable__content {max-height: 0;max-width: 0;overflow: hidden;text-align: left;background-color: #f0f8ff;}#sk-container-id-3 div.sk-toggleable__content pre {margin: 0.2em;color: black;border-radius: 0.25em;background-color: #f0f8ff;}#sk-container-id-3 input.sk-toggleable__control:checked~div.sk-toggleable__content {max-height: 200px;max-width: 100%;overflow: auto;}#sk-container-id-3 input.sk-toggleable__control:checked~label.sk-toggleable__label-arrow:before {content: \"▾\";}#sk-container-id-3 div.sk-estimator input.sk-toggleable__control:checked~label.sk-toggleable__label {background-color: #d4ebff;}#sk-container-id-3 div.sk-label input.sk-toggleable__control:checked~label.sk-toggleable__label {background-color: #d4ebff;}#sk-container-id-3 input.sk-hidden--visually {border: 0;clip: rect(1px 1px 1px 1px);clip: rect(1px, 1px, 1px, 1px);height: 1px;margin: -1px;overflow: hidden;padding: 0;position: absolute;width: 1px;}#sk-container-id-3 div.sk-estimator {font-family: monospace;background-color: #f0f8ff;border: 1px dotted black;border-radius: 0.25em;box-sizing: border-box;margin-bottom: 0.5em;}#sk-container-id-3 div.sk-estimator:hover {background-color: #d4ebff;}#sk-container-id-3 div.sk-parallel-item::after {content: \"\";width: 100%;border-bottom: 1px solid gray;flex-grow: 1;}#sk-container-id-3 div.sk-label:hover label.sk-toggleable__label {background-color: #d4ebff;}#sk-container-id-3 div.sk-serial::before {content: \"\";position: absolute;border-left: 1px solid gray;box-sizing: border-box;top: 0;bottom: 0;left: 50%;z-index: 0;}#sk-container-id-3 div.sk-serial {display: flex;flex-direction: column;align-items: center;background-color: white;padding-right: 0.2em;padding-left: 0.2em;position: relative;}#sk-container-id-3 div.sk-item {position: relative;z-index: 1;}#sk-container-id-3 div.sk-parallel {display: flex;align-items: stretch;justify-content: center;background-color: white;position: relative;}#sk-container-id-3 div.sk-item::before, #sk-container-id-3 div.sk-parallel-item::before {content: \"\";position: absolute;border-left: 1px solid gray;box-sizing: border-box;top: 0;bottom: 0;left: 50%;z-index: -1;}#sk-container-id-3 div.sk-parallel-item {display: flex;flex-direction: column;z-index: 1;position: relative;background-color: white;}#sk-container-id-3 div.sk-parallel-item:first-child::after {align-self: flex-end;width: 50%;}#sk-container-id-3 div.sk-parallel-item:last-child::after {align-self: flex-start;width: 50%;}#sk-container-id-3 div.sk-parallel-item:only-child::after {width: 0;}#sk-container-id-3 div.sk-dashed-wrapped {border: 1px dashed gray;margin: 0 0.4em 0.5em 0.4em;box-sizing: border-box;padding-bottom: 0.4em;background-color: white;}#sk-container-id-3 div.sk-label label {font-family: monospace;font-weight: bold;display: inline-block;line-height: 1.2em;}#sk-container-id-3 div.sk-label-container {text-align: center;}#sk-container-id-3 div.sk-container {/* jupyter's `normalize.less` sets `[hidden] { display: none; }` but bootstrap.min.css set `[hidden] { display: none !important; }` so we also need the `!important` here to be able to override the default hidden behavior on the sphinx rendered scikit-learn.org. See: https://github.com/scikit-learn/scikit-learn/issues/21755 */display: inline-block !important;position: relative;}#sk-container-id-3 div.sk-text-repr-fallback {display: none;}</style><div id=\"sk-container-id-3\" class=\"sk-top-container\"><div class=\"sk-text-repr-fallback\"><pre>RidgeCV(alphas=array([1.00000000e-04, 1.20450354e-04, 1.45082878e-04, 1.74752840e-04,\n",
       "       2.10490414e-04, 2.53536449e-04, 3.05385551e-04, 3.67837977e-04,\n",
       "       4.43062146e-04, 5.33669923e-04, 6.42807312e-04, 7.74263683e-04,\n",
       "       9.32603347e-04, 1.12332403e-03, 1.35304777e-03, 1.62975083e-03,\n",
       "       1.96304065e-03, 2.36448941e-03, 2.84803587e-03, 3.43046929e-03,\n",
       "       4.13201240e-03, 4.97702356e-0...\n",
       "       2.91505306e+02, 3.51119173e+02, 4.22924287e+02, 5.09413801e+02,\n",
       "       6.13590727e+02, 7.39072203e+02, 8.90215085e+02, 1.07226722e+03,\n",
       "       1.29154967e+03, 1.55567614e+03, 1.87381742e+03, 2.25701972e+03,\n",
       "       2.71858824e+03, 3.27454916e+03, 3.94420606e+03, 4.75081016e+03,\n",
       "       5.72236766e+03, 6.89261210e+03, 8.30217568e+03, 1.00000000e+04]),\n",
       "        cv=ShuffleSplit(n_splits=1, random_state=0, test_size=0.2, train_size=None))</pre><b>In a Jupyter environment, please rerun this cell to show the HTML representation or trust the notebook. <br />On GitHub, the HTML representation is unable to render, please try loading this page with nbviewer.org.</b></div><div class=\"sk-container\" hidden><div class=\"sk-item\"><div class=\"sk-estimator sk-toggleable\"><input class=\"sk-toggleable__control sk-hidden--visually\" id=\"sk-estimator-id-5\" type=\"checkbox\" checked><label for=\"sk-estimator-id-5\" class=\"sk-toggleable__label sk-toggleable__label-arrow\">RidgeCV</label><div class=\"sk-toggleable__content\"><pre>RidgeCV(alphas=array([1.00000000e-04, 1.20450354e-04, 1.45082878e-04, 1.74752840e-04,\n",
       "       2.10490414e-04, 2.53536449e-04, 3.05385551e-04, 3.67837977e-04,\n",
       "       4.43062146e-04, 5.33669923e-04, 6.42807312e-04, 7.74263683e-04,\n",
       "       9.32603347e-04, 1.12332403e-03, 1.35304777e-03, 1.62975083e-03,\n",
       "       1.96304065e-03, 2.36448941e-03, 2.84803587e-03, 3.43046929e-03,\n",
       "       4.13201240e-03, 4.97702356e-0...\n",
       "       2.91505306e+02, 3.51119173e+02, 4.22924287e+02, 5.09413801e+02,\n",
       "       6.13590727e+02, 7.39072203e+02, 8.90215085e+02, 1.07226722e+03,\n",
       "       1.29154967e+03, 1.55567614e+03, 1.87381742e+03, 2.25701972e+03,\n",
       "       2.71858824e+03, 3.27454916e+03, 3.94420606e+03, 4.75081016e+03,\n",
       "       5.72236766e+03, 6.89261210e+03, 8.30217568e+03, 1.00000000e+04]),\n",
       "        cv=ShuffleSplit(n_splits=1, random_state=0, test_size=0.2, train_size=None))</pre></div></div></div></div></div>"
      ],
      "text/plain": [
       "RidgeCV(alphas=array([1.00000000e-04, 1.20450354e-04, 1.45082878e-04, 1.74752840e-04,\n",
       "       2.10490414e-04, 2.53536449e-04, 3.05385551e-04, 3.67837977e-04,\n",
       "       4.43062146e-04, 5.33669923e-04, 6.42807312e-04, 7.74263683e-04,\n",
       "       9.32603347e-04, 1.12332403e-03, 1.35304777e-03, 1.62975083e-03,\n",
       "       1.96304065e-03, 2.36448941e-03, 2.84803587e-03, 3.43046929e-03,\n",
       "       4.13201240e-03, 4.97702356e-0...\n",
       "       2.91505306e+02, 3.51119173e+02, 4.22924287e+02, 5.09413801e+02,\n",
       "       6.13590727e+02, 7.39072203e+02, 8.90215085e+02, 1.07226722e+03,\n",
       "       1.29154967e+03, 1.55567614e+03, 1.87381742e+03, 2.25701972e+03,\n",
       "       2.71858824e+03, 3.27454916e+03, 3.94420606e+03, 4.75081016e+03,\n",
       "       5.72236766e+03, 6.89261210e+03, 8.30217568e+03, 1.00000000e+04]),\n",
       "        cv=ShuffleSplit(n_splits=1, random_state=0, test_size=0.2, train_size=None))"
      ]
     },
     "execution_count": 43,
     "metadata": {},
     "output_type": "execute_result"
    }
   ],
   "source": [
    "ridge_cv.fit(X_std, y)"
   ]
  },
  {
   "cell_type": "code",
   "execution_count": 44,
   "id": "d4e899a8-5297-4c99-9e60-15a0233cf01c",
   "metadata": {},
   "outputs": [
    {
     "data": {
      "text/plain": [
       "17.886495290574352"
      ]
     },
     "execution_count": 44,
     "metadata": {},
     "output_type": "execute_result"
    }
   ],
   "source": [
    "optimal_alpha = ridge_cv.alpha_\n",
    "optimal_alpha"
   ]
  },
  {
   "cell_type": "code",
   "execution_count": 45,
   "id": "8e117c63-a882-4b4c-8f52-a1624f6a0885",
   "metadata": {},
   "outputs": [],
   "source": [
    "X_train_std = scaler.fit_transform(X_train)\n",
    "X_test_std = scaler.transform(X_test)"
   ]
  },
  {
   "cell_type": "code",
   "execution_count": 46,
   "id": "2581ebd9-2d45-431b-8e95-fa2ea3031848",
   "metadata": {},
   "outputs": [
    {
     "data": {
      "text/html": [
       "<style>#sk-container-id-4 {color: black;}#sk-container-id-4 pre{padding: 0;}#sk-container-id-4 div.sk-toggleable {background-color: white;}#sk-container-id-4 label.sk-toggleable__label {cursor: pointer;display: block;width: 100%;margin-bottom: 0;padding: 0.3em;box-sizing: border-box;text-align: center;}#sk-container-id-4 label.sk-toggleable__label-arrow:before {content: \"▸\";float: left;margin-right: 0.25em;color: #696969;}#sk-container-id-4 label.sk-toggleable__label-arrow:hover:before {color: black;}#sk-container-id-4 div.sk-estimator:hover label.sk-toggleable__label-arrow:before {color: black;}#sk-container-id-4 div.sk-toggleable__content {max-height: 0;max-width: 0;overflow: hidden;text-align: left;background-color: #f0f8ff;}#sk-container-id-4 div.sk-toggleable__content pre {margin: 0.2em;color: black;border-radius: 0.25em;background-color: #f0f8ff;}#sk-container-id-4 input.sk-toggleable__control:checked~div.sk-toggleable__content {max-height: 200px;max-width: 100%;overflow: auto;}#sk-container-id-4 input.sk-toggleable__control:checked~label.sk-toggleable__label-arrow:before {content: \"▾\";}#sk-container-id-4 div.sk-estimator input.sk-toggleable__control:checked~label.sk-toggleable__label {background-color: #d4ebff;}#sk-container-id-4 div.sk-label input.sk-toggleable__control:checked~label.sk-toggleable__label {background-color: #d4ebff;}#sk-container-id-4 input.sk-hidden--visually {border: 0;clip: rect(1px 1px 1px 1px);clip: rect(1px, 1px, 1px, 1px);height: 1px;margin: -1px;overflow: hidden;padding: 0;position: absolute;width: 1px;}#sk-container-id-4 div.sk-estimator {font-family: monospace;background-color: #f0f8ff;border: 1px dotted black;border-radius: 0.25em;box-sizing: border-box;margin-bottom: 0.5em;}#sk-container-id-4 div.sk-estimator:hover {background-color: #d4ebff;}#sk-container-id-4 div.sk-parallel-item::after {content: \"\";width: 100%;border-bottom: 1px solid gray;flex-grow: 1;}#sk-container-id-4 div.sk-label:hover label.sk-toggleable__label {background-color: #d4ebff;}#sk-container-id-4 div.sk-serial::before {content: \"\";position: absolute;border-left: 1px solid gray;box-sizing: border-box;top: 0;bottom: 0;left: 50%;z-index: 0;}#sk-container-id-4 div.sk-serial {display: flex;flex-direction: column;align-items: center;background-color: white;padding-right: 0.2em;padding-left: 0.2em;position: relative;}#sk-container-id-4 div.sk-item {position: relative;z-index: 1;}#sk-container-id-4 div.sk-parallel {display: flex;align-items: stretch;justify-content: center;background-color: white;position: relative;}#sk-container-id-4 div.sk-item::before, #sk-container-id-4 div.sk-parallel-item::before {content: \"\";position: absolute;border-left: 1px solid gray;box-sizing: border-box;top: 0;bottom: 0;left: 50%;z-index: -1;}#sk-container-id-4 div.sk-parallel-item {display: flex;flex-direction: column;z-index: 1;position: relative;background-color: white;}#sk-container-id-4 div.sk-parallel-item:first-child::after {align-self: flex-end;width: 50%;}#sk-container-id-4 div.sk-parallel-item:last-child::after {align-self: flex-start;width: 50%;}#sk-container-id-4 div.sk-parallel-item:only-child::after {width: 0;}#sk-container-id-4 div.sk-dashed-wrapped {border: 1px dashed gray;margin: 0 0.4em 0.5em 0.4em;box-sizing: border-box;padding-bottom: 0.4em;background-color: white;}#sk-container-id-4 div.sk-label label {font-family: monospace;font-weight: bold;display: inline-block;line-height: 1.2em;}#sk-container-id-4 div.sk-label-container {text-align: center;}#sk-container-id-4 div.sk-container {/* jupyter's `normalize.less` sets `[hidden] { display: none; }` but bootstrap.min.css set `[hidden] { display: none !important; }` so we also need the `!important` here to be able to override the default hidden behavior on the sphinx rendered scikit-learn.org. See: https://github.com/scikit-learn/scikit-learn/issues/21755 */display: inline-block !important;position: relative;}#sk-container-id-4 div.sk-text-repr-fallback {display: none;}</style><div id=\"sk-container-id-4\" class=\"sk-top-container\"><div class=\"sk-text-repr-fallback\"><pre>Ridge(alpha=17.886495290574352)</pre><b>In a Jupyter environment, please rerun this cell to show the HTML representation or trust the notebook. <br />On GitHub, the HTML representation is unable to render, please try loading this page with nbviewer.org.</b></div><div class=\"sk-container\" hidden><div class=\"sk-item\"><div class=\"sk-estimator sk-toggleable\"><input class=\"sk-toggleable__control sk-hidden--visually\" id=\"sk-estimator-id-6\" type=\"checkbox\" checked><label for=\"sk-estimator-id-6\" class=\"sk-toggleable__label sk-toggleable__label-arrow\">Ridge</label><div class=\"sk-toggleable__content\"><pre>Ridge(alpha=17.886495290574352)</pre></div></div></div></div></div>"
      ],
      "text/plain": [
       "Ridge(alpha=17.886495290574352)"
      ]
     },
     "execution_count": 46,
     "metadata": {},
     "output_type": "execute_result"
    }
   ],
   "source": [
    "ridge = Ridge(alpha=optimal_alpha)\n",
    "ridge.fit(X_train_std, y_train)"
   ]
  },
  {
   "cell_type": "code",
   "execution_count": 47,
   "id": "09134170-d51d-4eac-bb5d-ff01255dcb1d",
   "metadata": {},
   "outputs": [],
   "source": [
    "y_pred = ridge.predict(X_test_std)"
   ]
  },
  {
   "cell_type": "code",
   "execution_count": 48,
   "id": "0054c8ed-0e7d-4a51-a72f-12befbf9abc7",
   "metadata": {},
   "outputs": [
    {
     "data": {
      "text/plain": [
       "1111801.8490036551"
      ]
     },
     "execution_count": 48,
     "metadata": {},
     "output_type": "execute_result"
    }
   ],
   "source": [
    "ridge_test_mse = mean_squared_error(y_test, y_pred)\n",
    "ridge_test_mse"
   ]
  },
  {
   "cell_type": "code",
   "execution_count": 49,
   "id": "c84ac7f9-dcda-4161-b218-ebf68fed6b84",
   "metadata": {},
   "outputs": [
    {
     "data": {
      "text/plain": [
       "1054.4201482348747"
      ]
     },
     "execution_count": 49,
     "metadata": {},
     "output_type": "execute_result"
    }
   ],
   "source": [
    "ridge_test_rmse = np.sqrt(ridge_test_mse)\n",
    "ridge_test_rmse"
   ]
  },
  {
   "cell_type": "markdown",
   "id": "e18fae72-48a4-4e3f-b80b-f6170b8ed3bf",
   "metadata": {},
   "source": [
    "#### Exercise 6.6.9 d\n",
    "\n",
    "Fit a lasso model on the training set, with $\\lambda$ chosen by cross-validation. Report the test error obtained, along with the num-\n",
    "ber of non-zero coefficient estimates."
   ]
  },
  {
   "cell_type": "code",
   "execution_count": 50,
   "id": "9d57582d-6bb7-43e8-b13c-44e05cfae9bc",
   "metadata": {},
   "outputs": [
    {
     "data": {
      "text/html": [
       "<style>#sk-container-id-5 {color: black;}#sk-container-id-5 pre{padding: 0;}#sk-container-id-5 div.sk-toggleable {background-color: white;}#sk-container-id-5 label.sk-toggleable__label {cursor: pointer;display: block;width: 100%;margin-bottom: 0;padding: 0.3em;box-sizing: border-box;text-align: center;}#sk-container-id-5 label.sk-toggleable__label-arrow:before {content: \"▸\";float: left;margin-right: 0.25em;color: #696969;}#sk-container-id-5 label.sk-toggleable__label-arrow:hover:before {color: black;}#sk-container-id-5 div.sk-estimator:hover label.sk-toggleable__label-arrow:before {color: black;}#sk-container-id-5 div.sk-toggleable__content {max-height: 0;max-width: 0;overflow: hidden;text-align: left;background-color: #f0f8ff;}#sk-container-id-5 div.sk-toggleable__content pre {margin: 0.2em;color: black;border-radius: 0.25em;background-color: #f0f8ff;}#sk-container-id-5 input.sk-toggleable__control:checked~div.sk-toggleable__content {max-height: 200px;max-width: 100%;overflow: auto;}#sk-container-id-5 input.sk-toggleable__control:checked~label.sk-toggleable__label-arrow:before {content: \"▾\";}#sk-container-id-5 div.sk-estimator input.sk-toggleable__control:checked~label.sk-toggleable__label {background-color: #d4ebff;}#sk-container-id-5 div.sk-label input.sk-toggleable__control:checked~label.sk-toggleable__label {background-color: #d4ebff;}#sk-container-id-5 input.sk-hidden--visually {border: 0;clip: rect(1px 1px 1px 1px);clip: rect(1px, 1px, 1px, 1px);height: 1px;margin: -1px;overflow: hidden;padding: 0;position: absolute;width: 1px;}#sk-container-id-5 div.sk-estimator {font-family: monospace;background-color: #f0f8ff;border: 1px dotted black;border-radius: 0.25em;box-sizing: border-box;margin-bottom: 0.5em;}#sk-container-id-5 div.sk-estimator:hover {background-color: #d4ebff;}#sk-container-id-5 div.sk-parallel-item::after {content: \"\";width: 100%;border-bottom: 1px solid gray;flex-grow: 1;}#sk-container-id-5 div.sk-label:hover label.sk-toggleable__label {background-color: #d4ebff;}#sk-container-id-5 div.sk-serial::before {content: \"\";position: absolute;border-left: 1px solid gray;box-sizing: border-box;top: 0;bottom: 0;left: 50%;z-index: 0;}#sk-container-id-5 div.sk-serial {display: flex;flex-direction: column;align-items: center;background-color: white;padding-right: 0.2em;padding-left: 0.2em;position: relative;}#sk-container-id-5 div.sk-item {position: relative;z-index: 1;}#sk-container-id-5 div.sk-parallel {display: flex;align-items: stretch;justify-content: center;background-color: white;position: relative;}#sk-container-id-5 div.sk-item::before, #sk-container-id-5 div.sk-parallel-item::before {content: \"\";position: absolute;border-left: 1px solid gray;box-sizing: border-box;top: 0;bottom: 0;left: 50%;z-index: -1;}#sk-container-id-5 div.sk-parallel-item {display: flex;flex-direction: column;z-index: 1;position: relative;background-color: white;}#sk-container-id-5 div.sk-parallel-item:first-child::after {align-self: flex-end;width: 50%;}#sk-container-id-5 div.sk-parallel-item:last-child::after {align-self: flex-start;width: 50%;}#sk-container-id-5 div.sk-parallel-item:only-child::after {width: 0;}#sk-container-id-5 div.sk-dashed-wrapped {border: 1px dashed gray;margin: 0 0.4em 0.5em 0.4em;box-sizing: border-box;padding-bottom: 0.4em;background-color: white;}#sk-container-id-5 div.sk-label label {font-family: monospace;font-weight: bold;display: inline-block;line-height: 1.2em;}#sk-container-id-5 div.sk-label-container {text-align: center;}#sk-container-id-5 div.sk-container {/* jupyter's `normalize.less` sets `[hidden] { display: none; }` but bootstrap.min.css set `[hidden] { display: none !important; }` so we also need the `!important` here to be able to override the default hidden behavior on the sphinx rendered scikit-learn.org. See: https://github.com/scikit-learn/scikit-learn/issues/21755 */display: inline-block !important;position: relative;}#sk-container-id-5 div.sk-text-repr-fallback {display: none;}</style><div id=\"sk-container-id-5\" class=\"sk-top-container\"><div class=\"sk-text-repr-fallback\"><pre>LassoCV(alphas=array([1.00000000e-04, 1.20450354e-04, 1.45082878e-04, 1.74752840e-04,\n",
       "       2.10490414e-04, 2.53536449e-04, 3.05385551e-04, 3.67837977e-04,\n",
       "       4.43062146e-04, 5.33669923e-04, 6.42807312e-04, 7.74263683e-04,\n",
       "       9.32603347e-04, 1.12332403e-03, 1.35304777e-03, 1.62975083e-03,\n",
       "       1.96304065e-03, 2.36448941e-03, 2.84803587e-03, 3.43046929e-03,\n",
       "       4.13201240e-03, 4.97702356e-0...\n",
       "       2.91505306e+02, 3.51119173e+02, 4.22924287e+02, 5.09413801e+02,\n",
       "       6.13590727e+02, 7.39072203e+02, 8.90215085e+02, 1.07226722e+03,\n",
       "       1.29154967e+03, 1.55567614e+03, 1.87381742e+03, 2.25701972e+03,\n",
       "       2.71858824e+03, 3.27454916e+03, 3.94420606e+03, 4.75081016e+03,\n",
       "       5.72236766e+03, 6.89261210e+03, 8.30217568e+03, 1.00000000e+04]),\n",
       "        cv=ShuffleSplit(n_splits=1, random_state=0, test_size=0.2, train_size=None))</pre><b>In a Jupyter environment, please rerun this cell to show the HTML representation or trust the notebook. <br />On GitHub, the HTML representation is unable to render, please try loading this page with nbviewer.org.</b></div><div class=\"sk-container\" hidden><div class=\"sk-item\"><div class=\"sk-estimator sk-toggleable\"><input class=\"sk-toggleable__control sk-hidden--visually\" id=\"sk-estimator-id-7\" type=\"checkbox\" checked><label for=\"sk-estimator-id-7\" class=\"sk-toggleable__label sk-toggleable__label-arrow\">LassoCV</label><div class=\"sk-toggleable__content\"><pre>LassoCV(alphas=array([1.00000000e-04, 1.20450354e-04, 1.45082878e-04, 1.74752840e-04,\n",
       "       2.10490414e-04, 2.53536449e-04, 3.05385551e-04, 3.67837977e-04,\n",
       "       4.43062146e-04, 5.33669923e-04, 6.42807312e-04, 7.74263683e-04,\n",
       "       9.32603347e-04, 1.12332403e-03, 1.35304777e-03, 1.62975083e-03,\n",
       "       1.96304065e-03, 2.36448941e-03, 2.84803587e-03, 3.43046929e-03,\n",
       "       4.13201240e-03, 4.97702356e-0...\n",
       "       2.91505306e+02, 3.51119173e+02, 4.22924287e+02, 5.09413801e+02,\n",
       "       6.13590727e+02, 7.39072203e+02, 8.90215085e+02, 1.07226722e+03,\n",
       "       1.29154967e+03, 1.55567614e+03, 1.87381742e+03, 2.25701972e+03,\n",
       "       2.71858824e+03, 3.27454916e+03, 3.94420606e+03, 4.75081016e+03,\n",
       "       5.72236766e+03, 6.89261210e+03, 8.30217568e+03, 1.00000000e+04]),\n",
       "        cv=ShuffleSplit(n_splits=1, random_state=0, test_size=0.2, train_size=None))</pre></div></div></div></div></div>"
      ],
      "text/plain": [
       "LassoCV(alphas=array([1.00000000e-04, 1.20450354e-04, 1.45082878e-04, 1.74752840e-04,\n",
       "       2.10490414e-04, 2.53536449e-04, 3.05385551e-04, 3.67837977e-04,\n",
       "       4.43062146e-04, 5.33669923e-04, 6.42807312e-04, 7.74263683e-04,\n",
       "       9.32603347e-04, 1.12332403e-03, 1.35304777e-03, 1.62975083e-03,\n",
       "       1.96304065e-03, 2.36448941e-03, 2.84803587e-03, 3.43046929e-03,\n",
       "       4.13201240e-03, 4.97702356e-0...\n",
       "       2.91505306e+02, 3.51119173e+02, 4.22924287e+02, 5.09413801e+02,\n",
       "       6.13590727e+02, 7.39072203e+02, 8.90215085e+02, 1.07226722e+03,\n",
       "       1.29154967e+03, 1.55567614e+03, 1.87381742e+03, 2.25701972e+03,\n",
       "       2.71858824e+03, 3.27454916e+03, 3.94420606e+03, 4.75081016e+03,\n",
       "       5.72236766e+03, 6.89261210e+03, 8.30217568e+03, 1.00000000e+04]),\n",
       "        cv=ShuffleSplit(n_splits=1, random_state=0, test_size=0.2, train_size=None))"
      ]
     },
     "execution_count": 50,
     "metadata": {},
     "output_type": "execute_result"
    }
   ],
   "source": [
    "lasso_cv = LassoCV(alphas=np.logspace(-4, 4, 100), cv=validation,)\n",
    "lasso_cv.fit(X, y)"
   ]
  },
  {
   "cell_type": "code",
   "execution_count": 51,
   "id": "493ea7ae-2244-488b-bc1f-a907edd60d02",
   "metadata": {},
   "outputs": [
    {
     "data": {
      "text/plain": [
       "2257.0197196339213"
      ]
     },
     "execution_count": 51,
     "metadata": {},
     "output_type": "execute_result"
    }
   ],
   "source": [
    "lasso_optimal_alpha = lasso_cv.alpha_\n",
    "lasso_optimal_alpha"
   ]
  },
  {
   "cell_type": "code",
   "execution_count": 52,
   "id": "d4330b1f-1986-4433-a00e-e4c7ece7ced9",
   "metadata": {},
   "outputs": [
    {
     "data": {
      "text/html": [
       "<style>#sk-container-id-6 {color: black;}#sk-container-id-6 pre{padding: 0;}#sk-container-id-6 div.sk-toggleable {background-color: white;}#sk-container-id-6 label.sk-toggleable__label {cursor: pointer;display: block;width: 100%;margin-bottom: 0;padding: 0.3em;box-sizing: border-box;text-align: center;}#sk-container-id-6 label.sk-toggleable__label-arrow:before {content: \"▸\";float: left;margin-right: 0.25em;color: #696969;}#sk-container-id-6 label.sk-toggleable__label-arrow:hover:before {color: black;}#sk-container-id-6 div.sk-estimator:hover label.sk-toggleable__label-arrow:before {color: black;}#sk-container-id-6 div.sk-toggleable__content {max-height: 0;max-width: 0;overflow: hidden;text-align: left;background-color: #f0f8ff;}#sk-container-id-6 div.sk-toggleable__content pre {margin: 0.2em;color: black;border-radius: 0.25em;background-color: #f0f8ff;}#sk-container-id-6 input.sk-toggleable__control:checked~div.sk-toggleable__content {max-height: 200px;max-width: 100%;overflow: auto;}#sk-container-id-6 input.sk-toggleable__control:checked~label.sk-toggleable__label-arrow:before {content: \"▾\";}#sk-container-id-6 div.sk-estimator input.sk-toggleable__control:checked~label.sk-toggleable__label {background-color: #d4ebff;}#sk-container-id-6 div.sk-label input.sk-toggleable__control:checked~label.sk-toggleable__label {background-color: #d4ebff;}#sk-container-id-6 input.sk-hidden--visually {border: 0;clip: rect(1px 1px 1px 1px);clip: rect(1px, 1px, 1px, 1px);height: 1px;margin: -1px;overflow: hidden;padding: 0;position: absolute;width: 1px;}#sk-container-id-6 div.sk-estimator {font-family: monospace;background-color: #f0f8ff;border: 1px dotted black;border-radius: 0.25em;box-sizing: border-box;margin-bottom: 0.5em;}#sk-container-id-6 div.sk-estimator:hover {background-color: #d4ebff;}#sk-container-id-6 div.sk-parallel-item::after {content: \"\";width: 100%;border-bottom: 1px solid gray;flex-grow: 1;}#sk-container-id-6 div.sk-label:hover label.sk-toggleable__label {background-color: #d4ebff;}#sk-container-id-6 div.sk-serial::before {content: \"\";position: absolute;border-left: 1px solid gray;box-sizing: border-box;top: 0;bottom: 0;left: 50%;z-index: 0;}#sk-container-id-6 div.sk-serial {display: flex;flex-direction: column;align-items: center;background-color: white;padding-right: 0.2em;padding-left: 0.2em;position: relative;}#sk-container-id-6 div.sk-item {position: relative;z-index: 1;}#sk-container-id-6 div.sk-parallel {display: flex;align-items: stretch;justify-content: center;background-color: white;position: relative;}#sk-container-id-6 div.sk-item::before, #sk-container-id-6 div.sk-parallel-item::before {content: \"\";position: absolute;border-left: 1px solid gray;box-sizing: border-box;top: 0;bottom: 0;left: 50%;z-index: -1;}#sk-container-id-6 div.sk-parallel-item {display: flex;flex-direction: column;z-index: 1;position: relative;background-color: white;}#sk-container-id-6 div.sk-parallel-item:first-child::after {align-self: flex-end;width: 50%;}#sk-container-id-6 div.sk-parallel-item:last-child::after {align-self: flex-start;width: 50%;}#sk-container-id-6 div.sk-parallel-item:only-child::after {width: 0;}#sk-container-id-6 div.sk-dashed-wrapped {border: 1px dashed gray;margin: 0 0.4em 0.5em 0.4em;box-sizing: border-box;padding-bottom: 0.4em;background-color: white;}#sk-container-id-6 div.sk-label label {font-family: monospace;font-weight: bold;display: inline-block;line-height: 1.2em;}#sk-container-id-6 div.sk-label-container {text-align: center;}#sk-container-id-6 div.sk-container {/* jupyter's `normalize.less` sets `[hidden] { display: none; }` but bootstrap.min.css set `[hidden] { display: none !important; }` so we also need the `!important` here to be able to override the default hidden behavior on the sphinx rendered scikit-learn.org. See: https://github.com/scikit-learn/scikit-learn/issues/21755 */display: inline-block !important;position: relative;}#sk-container-id-6 div.sk-text-repr-fallback {display: none;}</style><div id=\"sk-container-id-6\" class=\"sk-top-container\"><div class=\"sk-text-repr-fallback\"><pre>Lasso(alpha=2257.0197196339213)</pre><b>In a Jupyter environment, please rerun this cell to show the HTML representation or trust the notebook. <br />On GitHub, the HTML representation is unable to render, please try loading this page with nbviewer.org.</b></div><div class=\"sk-container\" hidden><div class=\"sk-item\"><div class=\"sk-estimator sk-toggleable\"><input class=\"sk-toggleable__control sk-hidden--visually\" id=\"sk-estimator-id-8\" type=\"checkbox\" checked><label for=\"sk-estimator-id-8\" class=\"sk-toggleable__label sk-toggleable__label-arrow\">Lasso</label><div class=\"sk-toggleable__content\"><pre>Lasso(alpha=2257.0197196339213)</pre></div></div></div></div></div>"
      ],
      "text/plain": [
       "Lasso(alpha=2257.0197196339213)"
      ]
     },
     "execution_count": 52,
     "metadata": {},
     "output_type": "execute_result"
    }
   ],
   "source": [
    "lasso = Lasso(alpha=lasso_optimal_alpha)\n",
    "lasso.fit(X_train, y_train)"
   ]
  },
  {
   "cell_type": "code",
   "execution_count": 53,
   "id": "ed6ffd01-b34a-4b6f-9ad5-af29430e774c",
   "metadata": {},
   "outputs": [],
   "source": [
    "y_hat = lasso.predict(X_test)"
   ]
  },
  {
   "cell_type": "code",
   "execution_count": 54,
   "id": "f2041896-d59c-4f0e-8c17-2a6d781ae53d",
   "metadata": {},
   "outputs": [
    {
     "data": {
      "text/plain": [
       "1122032.0550546928"
      ]
     },
     "execution_count": 54,
     "metadata": {},
     "output_type": "execute_result"
    }
   ],
   "source": [
    "lasso_test_mse = mean_squared_error(y_test, y_hat)\n",
    "lasso_test_mse"
   ]
  },
  {
   "cell_type": "code",
   "execution_count": 55,
   "id": "491c5782-2281-405a-8dc6-99ed4badb0b5",
   "metadata": {},
   "outputs": [
    {
     "data": {
      "text/plain": [
       "1059.2601451271037"
      ]
     },
     "execution_count": 55,
     "metadata": {},
     "output_type": "execute_result"
    }
   ],
   "source": [
    "lasso_test_rmse = np.sqrt(lasso_test_mse)\n",
    "lasso_test_rmse"
   ]
  },
  {
   "cell_type": "code",
   "execution_count": 56,
   "id": "fd751e8a-bb4b-400f-80bd-43ef8c80aa35",
   "metadata": {},
   "outputs": [
    {
     "data": {
      "text/plain": [
       "array([-0.00000000e+00,  1.58836493e+00, -8.29792341e-01,  2.20287423e+01,\n",
       "        0.00000000e+00,  7.24709214e-02,  1.73895761e-02, -8.01065988e-02,\n",
       "        1.33962958e-01,  5.58469090e-03, -1.67997844e-02, -0.00000000e+00,\n",
       "       -0.00000000e+00,  0.00000000e+00,  0.00000000e+00,  7.57048799e-02,\n",
       "        0.00000000e+00])"
      ]
     },
     "execution_count": 56,
     "metadata": {},
     "output_type": "execute_result"
    }
   ],
   "source": [
    "lasso.coef_"
   ]
  },
  {
   "cell_type": "markdown",
   "id": "66356520-0662-4b68-b234-393e086ca6ca",
   "metadata": {},
   "source": [
    "#### Exercise 6.6.9 e\n",
    "\n",
    "Fit a PCR model on the training set, with $M$ chosen by cross validation. Report the test error obtained, along with the value of $M$ selected by cross-validation."
   ]
  },
  {
   "cell_type": "code",
   "execution_count": 57,
   "id": "150c0b74-2e02-41a5-aad4-1265abb18456",
   "metadata": {},
   "outputs": [
    {
     "data": {
      "text/html": [
       "<style>#sk-container-id-7 {color: black;}#sk-container-id-7 pre{padding: 0;}#sk-container-id-7 div.sk-toggleable {background-color: white;}#sk-container-id-7 label.sk-toggleable__label {cursor: pointer;display: block;width: 100%;margin-bottom: 0;padding: 0.3em;box-sizing: border-box;text-align: center;}#sk-container-id-7 label.sk-toggleable__label-arrow:before {content: \"▸\";float: left;margin-right: 0.25em;color: #696969;}#sk-container-id-7 label.sk-toggleable__label-arrow:hover:before {color: black;}#sk-container-id-7 div.sk-estimator:hover label.sk-toggleable__label-arrow:before {color: black;}#sk-container-id-7 div.sk-toggleable__content {max-height: 0;max-width: 0;overflow: hidden;text-align: left;background-color: #f0f8ff;}#sk-container-id-7 div.sk-toggleable__content pre {margin: 0.2em;color: black;border-radius: 0.25em;background-color: #f0f8ff;}#sk-container-id-7 input.sk-toggleable__control:checked~div.sk-toggleable__content {max-height: 200px;max-width: 100%;overflow: auto;}#sk-container-id-7 input.sk-toggleable__control:checked~label.sk-toggleable__label-arrow:before {content: \"▾\";}#sk-container-id-7 div.sk-estimator input.sk-toggleable__control:checked~label.sk-toggleable__label {background-color: #d4ebff;}#sk-container-id-7 div.sk-label input.sk-toggleable__control:checked~label.sk-toggleable__label {background-color: #d4ebff;}#sk-container-id-7 input.sk-hidden--visually {border: 0;clip: rect(1px 1px 1px 1px);clip: rect(1px, 1px, 1px, 1px);height: 1px;margin: -1px;overflow: hidden;padding: 0;position: absolute;width: 1px;}#sk-container-id-7 div.sk-estimator {font-family: monospace;background-color: #f0f8ff;border: 1px dotted black;border-radius: 0.25em;box-sizing: border-box;margin-bottom: 0.5em;}#sk-container-id-7 div.sk-estimator:hover {background-color: #d4ebff;}#sk-container-id-7 div.sk-parallel-item::after {content: \"\";width: 100%;border-bottom: 1px solid gray;flex-grow: 1;}#sk-container-id-7 div.sk-label:hover label.sk-toggleable__label {background-color: #d4ebff;}#sk-container-id-7 div.sk-serial::before {content: \"\";position: absolute;border-left: 1px solid gray;box-sizing: border-box;top: 0;bottom: 0;left: 50%;z-index: 0;}#sk-container-id-7 div.sk-serial {display: flex;flex-direction: column;align-items: center;background-color: white;padding-right: 0.2em;padding-left: 0.2em;position: relative;}#sk-container-id-7 div.sk-item {position: relative;z-index: 1;}#sk-container-id-7 div.sk-parallel {display: flex;align-items: stretch;justify-content: center;background-color: white;position: relative;}#sk-container-id-7 div.sk-item::before, #sk-container-id-7 div.sk-parallel-item::before {content: \"\";position: absolute;border-left: 1px solid gray;box-sizing: border-box;top: 0;bottom: 0;left: 50%;z-index: -1;}#sk-container-id-7 div.sk-parallel-item {display: flex;flex-direction: column;z-index: 1;position: relative;background-color: white;}#sk-container-id-7 div.sk-parallel-item:first-child::after {align-self: flex-end;width: 50%;}#sk-container-id-7 div.sk-parallel-item:last-child::after {align-self: flex-start;width: 50%;}#sk-container-id-7 div.sk-parallel-item:only-child::after {width: 0;}#sk-container-id-7 div.sk-dashed-wrapped {border: 1px dashed gray;margin: 0 0.4em 0.5em 0.4em;box-sizing: border-box;padding-bottom: 0.4em;background-color: white;}#sk-container-id-7 div.sk-label label {font-family: monospace;font-weight: bold;display: inline-block;line-height: 1.2em;}#sk-container-id-7 div.sk-label-container {text-align: center;}#sk-container-id-7 div.sk-container {/* jupyter's `normalize.less` sets `[hidden] { display: none; }` but bootstrap.min.css set `[hidden] { display: none !important; }` so we also need the `!important` here to be able to override the default hidden behavior on the sphinx rendered scikit-learn.org. See: https://github.com/scikit-learn/scikit-learn/issues/21755 */display: inline-block !important;position: relative;}#sk-container-id-7 div.sk-text-repr-fallback {display: none;}</style><div id=\"sk-container-id-7\" class=\"sk-top-container\"><div class=\"sk-text-repr-fallback\"><pre>Pipeline(steps=[(&#x27;scaler&#x27;, StandardScaler()), (&#x27;pca&#x27;, PCA(n_components=2)),\n",
       "                (&#x27;regression&#x27;, LinearRegression())])</pre><b>In a Jupyter environment, please rerun this cell to show the HTML representation or trust the notebook. <br />On GitHub, the HTML representation is unable to render, please try loading this page with nbviewer.org.</b></div><div class=\"sk-container\" hidden><div class=\"sk-item sk-dashed-wrapped\"><div class=\"sk-label-container\"><div class=\"sk-label sk-toggleable\"><input class=\"sk-toggleable__control sk-hidden--visually\" id=\"sk-estimator-id-9\" type=\"checkbox\" ><label for=\"sk-estimator-id-9\" class=\"sk-toggleable__label sk-toggleable__label-arrow\">Pipeline</label><div class=\"sk-toggleable__content\"><pre>Pipeline(steps=[(&#x27;scaler&#x27;, StandardScaler()), (&#x27;pca&#x27;, PCA(n_components=2)),\n",
       "                (&#x27;regression&#x27;, LinearRegression())])</pre></div></div></div><div class=\"sk-serial\"><div class=\"sk-item\"><div class=\"sk-estimator sk-toggleable\"><input class=\"sk-toggleable__control sk-hidden--visually\" id=\"sk-estimator-id-10\" type=\"checkbox\" ><label for=\"sk-estimator-id-10\" class=\"sk-toggleable__label sk-toggleable__label-arrow\">StandardScaler</label><div class=\"sk-toggleable__content\"><pre>StandardScaler()</pre></div></div></div><div class=\"sk-item\"><div class=\"sk-estimator sk-toggleable\"><input class=\"sk-toggleable__control sk-hidden--visually\" id=\"sk-estimator-id-11\" type=\"checkbox\" ><label for=\"sk-estimator-id-11\" class=\"sk-toggleable__label sk-toggleable__label-arrow\">PCA</label><div class=\"sk-toggleable__content\"><pre>PCA(n_components=2)</pre></div></div></div><div class=\"sk-item\"><div class=\"sk-estimator sk-toggleable\"><input class=\"sk-toggleable__control sk-hidden--visually\" id=\"sk-estimator-id-12\" type=\"checkbox\" ><label for=\"sk-estimator-id-12\" class=\"sk-toggleable__label sk-toggleable__label-arrow\">LinearRegression</label><div class=\"sk-toggleable__content\"><pre>LinearRegression()</pre></div></div></div></div></div></div></div>"
      ],
      "text/plain": [
       "Pipeline(steps=[('scaler', StandardScaler()), ('pca', PCA(n_components=2)),\n",
       "                ('regression', LinearRegression())])"
      ]
     },
     "execution_count": 57,
     "metadata": {},
     "output_type": "execute_result"
    }
   ],
   "source": [
    "regression = LinearRegression()\n",
    "scaler = StandardScaler()\n",
    "pca = PCA(n_components=2)\n",
    "pipe = Pipeline(steps=[('scaler', scaler), ('pca', pca), ('regression',  regression)])\n",
    "pipe.fit(X, y)"
   ]
  },
  {
   "cell_type": "code",
   "execution_count": 58,
   "id": "32218d07-b8c8-45f5-bce8-2ef98f61090e",
   "metadata": {},
   "outputs": [
    {
     "data": {
      "text/plain": [
       "array([ 253.66931688, 1558.60007943])"
      ]
     },
     "execution_count": 58,
     "metadata": {},
     "output_type": "execute_result"
    }
   ],
   "source": [
    "pipe.named_steps['regression'].coef_"
   ]
  },
  {
   "cell_type": "code",
   "execution_count": 59,
   "id": "25db7f28-7735-49b2-b9bd-9e2a8b52ab45",
   "metadata": {},
   "outputs": [
    {
     "data": {
      "text/plain": [
       "17"
      ]
     },
     "execution_count": 59,
     "metadata": {},
     "output_type": "execute_result"
    }
   ],
   "source": [
    "X.shape[1]"
   ]
  },
  {
   "cell_type": "code",
   "execution_count": 60,
   "id": "6327909e-d636-4cee-b0b9-f9f0e1518a2c",
   "metadata": {},
   "outputs": [
    {
     "data": {
      "text/html": [
       "<style>#sk-container-id-8 {color: black;}#sk-container-id-8 pre{padding: 0;}#sk-container-id-8 div.sk-toggleable {background-color: white;}#sk-container-id-8 label.sk-toggleable__label {cursor: pointer;display: block;width: 100%;margin-bottom: 0;padding: 0.3em;box-sizing: border-box;text-align: center;}#sk-container-id-8 label.sk-toggleable__label-arrow:before {content: \"▸\";float: left;margin-right: 0.25em;color: #696969;}#sk-container-id-8 label.sk-toggleable__label-arrow:hover:before {color: black;}#sk-container-id-8 div.sk-estimator:hover label.sk-toggleable__label-arrow:before {color: black;}#sk-container-id-8 div.sk-toggleable__content {max-height: 0;max-width: 0;overflow: hidden;text-align: left;background-color: #f0f8ff;}#sk-container-id-8 div.sk-toggleable__content pre {margin: 0.2em;color: black;border-radius: 0.25em;background-color: #f0f8ff;}#sk-container-id-8 input.sk-toggleable__control:checked~div.sk-toggleable__content {max-height: 200px;max-width: 100%;overflow: auto;}#sk-container-id-8 input.sk-toggleable__control:checked~label.sk-toggleable__label-arrow:before {content: \"▾\";}#sk-container-id-8 div.sk-estimator input.sk-toggleable__control:checked~label.sk-toggleable__label {background-color: #d4ebff;}#sk-container-id-8 div.sk-label input.sk-toggleable__control:checked~label.sk-toggleable__label {background-color: #d4ebff;}#sk-container-id-8 input.sk-hidden--visually {border: 0;clip: rect(1px 1px 1px 1px);clip: rect(1px, 1px, 1px, 1px);height: 1px;margin: -1px;overflow: hidden;padding: 0;position: absolute;width: 1px;}#sk-container-id-8 div.sk-estimator {font-family: monospace;background-color: #f0f8ff;border: 1px dotted black;border-radius: 0.25em;box-sizing: border-box;margin-bottom: 0.5em;}#sk-container-id-8 div.sk-estimator:hover {background-color: #d4ebff;}#sk-container-id-8 div.sk-parallel-item::after {content: \"\";width: 100%;border-bottom: 1px solid gray;flex-grow: 1;}#sk-container-id-8 div.sk-label:hover label.sk-toggleable__label {background-color: #d4ebff;}#sk-container-id-8 div.sk-serial::before {content: \"\";position: absolute;border-left: 1px solid gray;box-sizing: border-box;top: 0;bottom: 0;left: 50%;z-index: 0;}#sk-container-id-8 div.sk-serial {display: flex;flex-direction: column;align-items: center;background-color: white;padding-right: 0.2em;padding-left: 0.2em;position: relative;}#sk-container-id-8 div.sk-item {position: relative;z-index: 1;}#sk-container-id-8 div.sk-parallel {display: flex;align-items: stretch;justify-content: center;background-color: white;position: relative;}#sk-container-id-8 div.sk-item::before, #sk-container-id-8 div.sk-parallel-item::before {content: \"\";position: absolute;border-left: 1px solid gray;box-sizing: border-box;top: 0;bottom: 0;left: 50%;z-index: -1;}#sk-container-id-8 div.sk-parallel-item {display: flex;flex-direction: column;z-index: 1;position: relative;background-color: white;}#sk-container-id-8 div.sk-parallel-item:first-child::after {align-self: flex-end;width: 50%;}#sk-container-id-8 div.sk-parallel-item:last-child::after {align-self: flex-start;width: 50%;}#sk-container-id-8 div.sk-parallel-item:only-child::after {width: 0;}#sk-container-id-8 div.sk-dashed-wrapped {border: 1px dashed gray;margin: 0 0.4em 0.5em 0.4em;box-sizing: border-box;padding-bottom: 0.4em;background-color: white;}#sk-container-id-8 div.sk-label label {font-family: monospace;font-weight: bold;display: inline-block;line-height: 1.2em;}#sk-container-id-8 div.sk-label-container {text-align: center;}#sk-container-id-8 div.sk-container {/* jupyter's `normalize.less` sets `[hidden] { display: none; }` but bootstrap.min.css set `[hidden] { display: none !important; }` so we also need the `!important` here to be able to override the default hidden behavior on the sphinx rendered scikit-learn.org. See: https://github.com/scikit-learn/scikit-learn/issues/21755 */display: inline-block !important;position: relative;}#sk-container-id-8 div.sk-text-repr-fallback {display: none;}</style><div id=\"sk-container-id-8\" class=\"sk-top-container\"><div class=\"sk-text-repr-fallback\"><pre>GridSearchCV(cv=KFold(n_splits=5, random_state=0, shuffle=True),\n",
       "             estimator=Pipeline(steps=[(&#x27;scaler&#x27;, StandardScaler()),\n",
       "                                       (&#x27;pca&#x27;, PCA(n_components=2)),\n",
       "                                       (&#x27;regression&#x27;, LinearRegression())]),\n",
       "             param_grid={&#x27;pca__n_components&#x27;: range(1, 18)},\n",
       "             scoring=&#x27;neg_mean_squared_error&#x27;)</pre><b>In a Jupyter environment, please rerun this cell to show the HTML representation or trust the notebook. <br />On GitHub, the HTML representation is unable to render, please try loading this page with nbviewer.org.</b></div><div class=\"sk-container\" hidden><div class=\"sk-item sk-dashed-wrapped\"><div class=\"sk-label-container\"><div class=\"sk-label sk-toggleable\"><input class=\"sk-toggleable__control sk-hidden--visually\" id=\"sk-estimator-id-13\" type=\"checkbox\" ><label for=\"sk-estimator-id-13\" class=\"sk-toggleable__label sk-toggleable__label-arrow\">GridSearchCV</label><div class=\"sk-toggleable__content\"><pre>GridSearchCV(cv=KFold(n_splits=5, random_state=0, shuffle=True),\n",
       "             estimator=Pipeline(steps=[(&#x27;scaler&#x27;, StandardScaler()),\n",
       "                                       (&#x27;pca&#x27;, PCA(n_components=2)),\n",
       "                                       (&#x27;regression&#x27;, LinearRegression())]),\n",
       "             param_grid={&#x27;pca__n_components&#x27;: range(1, 18)},\n",
       "             scoring=&#x27;neg_mean_squared_error&#x27;)</pre></div></div></div><div class=\"sk-parallel\"><div class=\"sk-parallel-item\"><div class=\"sk-item\"><div class=\"sk-label-container\"><div class=\"sk-label sk-toggleable\"><input class=\"sk-toggleable__control sk-hidden--visually\" id=\"sk-estimator-id-14\" type=\"checkbox\" ><label for=\"sk-estimator-id-14\" class=\"sk-toggleable__label sk-toggleable__label-arrow\">estimator: Pipeline</label><div class=\"sk-toggleable__content\"><pre>Pipeline(steps=[(&#x27;scaler&#x27;, StandardScaler()), (&#x27;pca&#x27;, PCA(n_components=2)),\n",
       "                (&#x27;regression&#x27;, LinearRegression())])</pre></div></div></div><div class=\"sk-serial\"><div class=\"sk-item\"><div class=\"sk-serial\"><div class=\"sk-item\"><div class=\"sk-estimator sk-toggleable\"><input class=\"sk-toggleable__control sk-hidden--visually\" id=\"sk-estimator-id-15\" type=\"checkbox\" ><label for=\"sk-estimator-id-15\" class=\"sk-toggleable__label sk-toggleable__label-arrow\">StandardScaler</label><div class=\"sk-toggleable__content\"><pre>StandardScaler()</pre></div></div></div><div class=\"sk-item\"><div class=\"sk-estimator sk-toggleable\"><input class=\"sk-toggleable__control sk-hidden--visually\" id=\"sk-estimator-id-16\" type=\"checkbox\" ><label for=\"sk-estimator-id-16\" class=\"sk-toggleable__label sk-toggleable__label-arrow\">PCA</label><div class=\"sk-toggleable__content\"><pre>PCA(n_components=2)</pre></div></div></div><div class=\"sk-item\"><div class=\"sk-estimator sk-toggleable\"><input class=\"sk-toggleable__control sk-hidden--visually\" id=\"sk-estimator-id-17\" type=\"checkbox\" ><label for=\"sk-estimator-id-17\" class=\"sk-toggleable__label sk-toggleable__label-arrow\">LinearRegression</label><div class=\"sk-toggleable__content\"><pre>LinearRegression()</pre></div></div></div></div></div></div></div></div></div></div></div></div>"
      ],
      "text/plain": [
       "GridSearchCV(cv=KFold(n_splits=5, random_state=0, shuffle=True),\n",
       "             estimator=Pipeline(steps=[('scaler', StandardScaler()),\n",
       "                                       ('pca', PCA(n_components=2)),\n",
       "                                       ('regression', LinearRegression())]),\n",
       "             param_grid={'pca__n_components': range(1, 18)},\n",
       "             scoring='neg_mean_squared_error')"
      ]
     },
     "execution_count": 60,
     "metadata": {},
     "output_type": "execute_result"
    }
   ],
   "source": [
    "param_grid = {\n",
    "    'pca__n_components': range(1, X.shape[1] + 1),\n",
    "}\n",
    "K = 5\n",
    "kfold = KFold(K, random_state=0, shuffle=True)\n",
    "grid = GridSearchCV(pipe, param_grid, cv=kfold, scoring='neg_mean_squared_error')\n",
    "grid.fit(X, y)"
   ]
  },
  {
   "cell_type": "code",
   "execution_count": 61,
   "id": "30af982c-bbb3-4480-a8c9-29f60e9aa605",
   "metadata": {},
   "outputs": [
    {
     "data": {
      "image/png": "[encoded data removed]",
      "text/plain": [
       "<Figure size 800x800 with 1 Axes>"
      ]
     },
     "metadata": {},
     "output_type": "display_data"
    }
   ],
   "source": [
    "pcr_fig, ax = plt.subplots(figsize =(8 ,8))\n",
    "n_comp = param_grid['pca__n_components'] \n",
    "ax.errorbar(n_comp, -grid.cv_results_['mean_test_score'], grid.cv_results_['std_test_score'] / np.sqrt(K))\n",
    "ax.set_ylabel('Cross -validated MSE', fontsize=20)\n",
    "ax.set_xlabel('# principal components ', fontsize=20)\n",
    "ax.set_xticks(n_comp[::2]);"
   ]
  },
  {
   "cell_type": "code",
   "execution_count": 62,
   "id": "0c0fb046-cd2c-4d15-8909-5d5a2947aafb",
   "metadata": {},
   "outputs": [
    {
     "data": {
      "text/plain": [
       "array([0.31669858, 0.25627714])"
      ]
     },
     "execution_count": 62,
     "metadata": {},
     "output_type": "execute_result"
    }
   ],
   "source": [
    "pipe.named_steps['pca'].explained_variance_ratio_"
   ]
  },
  {
   "cell_type": "code",
   "execution_count": 63,
   "id": "65f4d2e2-3e83-41e7-9ef9-fede28806927",
   "metadata": {},
   "outputs": [
    {
     "data": {
      "text/plain": [
       "3196477.6711712354"
      ]
     },
     "execution_count": 63,
     "metadata": {},
     "output_type": "execute_result"
    }
   ],
   "source": [
    "test_mse_pcr_cv = -grid.cv_results_['mean_test_score'].mean()\n",
    "test_mse_pcr_cv"
   ]
  },
  {
   "cell_type": "code",
   "execution_count": 64,
   "id": "9646064f-0c2c-4d0c-baa9-8636f67c66bb",
   "metadata": {},
   "outputs": [
    {
     "data": {
      "text/plain": [
       "1787.8695900907412"
      ]
     },
     "execution_count": 64,
     "metadata": {},
     "output_type": "execute_result"
    }
   ],
   "source": [
    "np.sqrt(test_mse_pcr_cv)"
   ]
  },
  {
   "cell_type": "code",
   "execution_count": 65,
   "id": "c800cc37-c0ed-40fa-a5b2-a4d545488ca8",
   "metadata": {},
   "outputs": [
    {
     "data": {
      "text/plain": [
       "1633711.7120079682"
      ]
     },
     "execution_count": 65,
     "metadata": {},
     "output_type": "execute_result"
    }
   ],
   "source": [
    "scaler = StandardScaler()  # Fitting PCR with M = 10\n",
    "X_train_std = scaler.fit_transform(X_train)\n",
    "X_test_std = scaler.transform(X_test)\n",
    "\n",
    "pca = PCA(n_components=10)\n",
    "X_train_dcmp = pca.fit_transform(X_train_std)\n",
    "X_test_dcmp = pca.transform(X_test_std)\n",
    "\n",
    "pcr = LinearRegression()\n",
    "pcr.fit(X_train_dcmp, y_train)\n",
    "\n",
    "y_hat = pcr.predict(X_test_dcmp)\n",
    "\n",
    "pcr_test_mse = mean_squared_error(y_test, y_hat)\n",
    "pcr_test_mse\n"
   ]
  },
  {
   "cell_type": "code",
   "execution_count": 66,
   "id": "55a3496a-31f5-45a4-b94d-decaacb97e42",
   "metadata": {},
   "outputs": [
    {
     "data": {
      "text/plain": [
       "1278.1673255125747"
      ]
     },
     "execution_count": 66,
     "metadata": {},
     "output_type": "execute_result"
    }
   ],
   "source": [
    "pcr_test_rmse = np.sqrt(pcr_test_mse)\n",
    "pcr_test_rmse"
   ]
  },
  {
   "cell_type": "markdown",
   "id": "a4dbbcf1-a02f-4738-97e2-25f601e21a8d",
   "metadata": {},
   "source": [
    "#### Exercise 6.6.9 f\n",
    "\n",
    "Fit a PLS model on the training set, with $M$ chosen by cross-validation. Report the test error obtained, along with the value of $M$ selected by cross-validation."
   ]
  },
  {
   "cell_type": "code",
   "execution_count": 67,
   "id": "a771b362-52db-4e32-a41c-91ea27d6817e",
   "metadata": {},
   "outputs": [],
   "source": [
    "param_grid = {'n_components': range(1, X.shape[1] + 1)}\n",
    "pls = PLSRegression(n_components=2, scale=True)\n",
    "grid = GridSearchCV(pls, param_grid, cv=kfold, scoring='neg_mean_squared_error')"
   ]
  },
  {
   "cell_type": "code",
   "execution_count": 68,
   "id": "a6451650-395b-43b4-9ed9-e4d0535af442",
   "metadata": {},
   "outputs": [
    {
     "data": {
      "text/html": [
       "<style>#sk-container-id-9 {color: black;}#sk-container-id-9 pre{padding: 0;}#sk-container-id-9 div.sk-toggleable {background-color: white;}#sk-container-id-9 label.sk-toggleable__label {cursor: pointer;display: block;width: 100%;margin-bottom: 0;padding: 0.3em;box-sizing: border-box;text-align: center;}#sk-container-id-9 label.sk-toggleable__label-arrow:before {content: \"▸\";float: left;margin-right: 0.25em;color: #696969;}#sk-container-id-9 label.sk-toggleable__label-arrow:hover:before {color: black;}#sk-container-id-9 div.sk-estimator:hover label.sk-toggleable__label-arrow:before {color: black;}#sk-container-id-9 div.sk-toggleable__content {max-height: 0;max-width: 0;overflow: hidden;text-align: left;background-color: #f0f8ff;}#sk-container-id-9 div.sk-toggleable__content pre {margin: 0.2em;color: black;border-radius: 0.25em;background-color: #f0f8ff;}#sk-container-id-9 input.sk-toggleable__control:checked~div.sk-toggleable__content {max-height: 200px;max-width: 100%;overflow: auto;}#sk-container-id-9 input.sk-toggleable__control:checked~label.sk-toggleable__label-arrow:before {content: \"▾\";}#sk-container-id-9 div.sk-estimator input.sk-toggleable__control:checked~label.sk-toggleable__label {background-color: #d4ebff;}#sk-container-id-9 div.sk-label input.sk-toggleable__control:checked~label.sk-toggleable__label {background-color: #d4ebff;}#sk-container-id-9 input.sk-hidden--visually {border: 0;clip: rect(1px 1px 1px 1px);clip: rect(1px, 1px, 1px, 1px);height: 1px;margin: -1px;overflow: hidden;padding: 0;position: absolute;width: 1px;}#sk-container-id-9 div.sk-estimator {font-family: monospace;background-color: #f0f8ff;border: 1px dotted black;border-radius: 0.25em;box-sizing: border-box;margin-bottom: 0.5em;}#sk-container-id-9 div.sk-estimator:hover {background-color: #d4ebff;}#sk-container-id-9 div.sk-parallel-item::after {content: \"\";width: 100%;border-bottom: 1px solid gray;flex-grow: 1;}#sk-container-id-9 div.sk-label:hover label.sk-toggleable__label {background-color: #d4ebff;}#sk-container-id-9 div.sk-serial::before {content: \"\";position: absolute;border-left: 1px solid gray;box-sizing: border-box;top: 0;bottom: 0;left: 50%;z-index: 0;}#sk-container-id-9 div.sk-serial {display: flex;flex-direction: column;align-items: center;background-color: white;padding-right: 0.2em;padding-left: 0.2em;position: relative;}#sk-container-id-9 div.sk-item {position: relative;z-index: 1;}#sk-container-id-9 div.sk-parallel {display: flex;align-items: stretch;justify-content: center;background-color: white;position: relative;}#sk-container-id-9 div.sk-item::before, #sk-container-id-9 div.sk-parallel-item::before {content: \"\";position: absolute;border-left: 1px solid gray;box-sizing: border-box;top: 0;bottom: 0;left: 50%;z-index: -1;}#sk-container-id-9 div.sk-parallel-item {display: flex;flex-direction: column;z-index: 1;position: relative;background-color: white;}#sk-container-id-9 div.sk-parallel-item:first-child::after {align-self: flex-end;width: 50%;}#sk-container-id-9 div.sk-parallel-item:last-child::after {align-self: flex-start;width: 50%;}#sk-container-id-9 div.sk-parallel-item:only-child::after {width: 0;}#sk-container-id-9 div.sk-dashed-wrapped {border: 1px dashed gray;margin: 0 0.4em 0.5em 0.4em;box-sizing: border-box;padding-bottom: 0.4em;background-color: white;}#sk-container-id-9 div.sk-label label {font-family: monospace;font-weight: bold;display: inline-block;line-height: 1.2em;}#sk-container-id-9 div.sk-label-container {text-align: center;}#sk-container-id-9 div.sk-container {/* jupyter's `normalize.less` sets `[hidden] { display: none; }` but bootstrap.min.css set `[hidden] { display: none !important; }` so we also need the `!important` here to be able to override the default hidden behavior on the sphinx rendered scikit-learn.org. See: https://github.com/scikit-learn/scikit-learn/issues/21755 */display: inline-block !important;position: relative;}#sk-container-id-9 div.sk-text-repr-fallback {display: none;}</style><div id=\"sk-container-id-9\" class=\"sk-top-container\"><div class=\"sk-text-repr-fallback\"><pre>GridSearchCV(cv=KFold(n_splits=5, random_state=0, shuffle=True),\n",
       "             estimator=PLSRegression(),\n",
       "             param_grid={&#x27;n_components&#x27;: range(1, 18)},\n",
       "             scoring=&#x27;neg_mean_squared_error&#x27;)</pre><b>In a Jupyter environment, please rerun this cell to show the HTML representation or trust the notebook. <br />On GitHub, the HTML representation is unable to render, please try loading this page with nbviewer.org.</b></div><div class=\"sk-container\" hidden><div class=\"sk-item sk-dashed-wrapped\"><div class=\"sk-label-container\"><div class=\"sk-label sk-toggleable\"><input class=\"sk-toggleable__control sk-hidden--visually\" id=\"sk-estimator-id-18\" type=\"checkbox\" ><label for=\"sk-estimator-id-18\" class=\"sk-toggleable__label sk-toggleable__label-arrow\">GridSearchCV</label><div class=\"sk-toggleable__content\"><pre>GridSearchCV(cv=KFold(n_splits=5, random_state=0, shuffle=True),\n",
       "             estimator=PLSRegression(),\n",
       "             param_grid={&#x27;n_components&#x27;: range(1, 18)},\n",
       "             scoring=&#x27;neg_mean_squared_error&#x27;)</pre></div></div></div><div class=\"sk-parallel\"><div class=\"sk-parallel-item\"><div class=\"sk-item\"><div class=\"sk-label-container\"><div class=\"sk-label sk-toggleable\"><input class=\"sk-toggleable__control sk-hidden--visually\" id=\"sk-estimator-id-19\" type=\"checkbox\" ><label for=\"sk-estimator-id-19\" class=\"sk-toggleable__label sk-toggleable__label-arrow\">estimator: PLSRegression</label><div class=\"sk-toggleable__content\"><pre>PLSRegression()</pre></div></div></div><div class=\"sk-serial\"><div class=\"sk-item\"><div class=\"sk-estimator sk-toggleable\"><input class=\"sk-toggleable__control sk-hidden--visually\" id=\"sk-estimator-id-20\" type=\"checkbox\" ><label for=\"sk-estimator-id-20\" class=\"sk-toggleable__label sk-toggleable__label-arrow\">PLSRegression</label><div class=\"sk-toggleable__content\"><pre>PLSRegression()</pre></div></div></div></div></div></div></div></div></div></div>"
      ],
      "text/plain": [
       "GridSearchCV(cv=KFold(n_splits=5, random_state=0, shuffle=True),\n",
       "             estimator=PLSRegression(),\n",
       "             param_grid={'n_components': range(1, 18)},\n",
       "             scoring='neg_mean_squared_error')"
      ]
     },
     "execution_count": 68,
     "metadata": {},
     "output_type": "execute_result"
    }
   ],
   "source": [
    "grid.fit(X, y)"
   ]
  },
  {
   "cell_type": "code",
   "execution_count": 69,
   "id": "6509f679-e0c5-45d3-bba6-1be09235ecab",
   "metadata": {},
   "outputs": [
    {
     "data": {
      "text/plain": [
       "1587492.2344234933"
      ]
     },
     "execution_count": 69,
     "metadata": {},
     "output_type": "execute_result"
    }
   ],
   "source": [
    "pls_test_mse_grid_cv = -grid.cv_results_['mean_test_score'].mean()\n",
    "pls_test_mse_grid_cv"
   ]
  },
  {
   "cell_type": "code",
   "execution_count": 70,
   "id": "105a7784-c5ae-4b52-881a-2fc2cc1054ed",
   "metadata": {},
   "outputs": [
    {
     "data": {
      "text/plain": [
       "1259.9572351566117"
      ]
     },
     "execution_count": 70,
     "metadata": {},
     "output_type": "execute_result"
    }
   ],
   "source": [
    "pls_test_rmse_grid_cv = np.sqrt(pls_test_mse_grid_cv)\n",
    "pls_test_rmse_grid_cv"
   ]
  },
  {
   "cell_type": "code",
   "execution_count": 71,
   "id": "ee0457c6-aaaa-4004-8c2d-851b5b304ae4",
   "metadata": {},
   "outputs": [
    {
     "data": {
      "image/png": "[encoded data removed]",
      "text/plain": [
       "<Figure size 800x800 with 1 Axes>"
      ]
     },
     "metadata": {},
     "output_type": "display_data"
    }
   ],
   "source": [
    "pls_fig, ax = plt.subplots(figsize=(8 ,8))\n",
    "n_comp = param_grid['n_components']\n",
    "ax.errorbar(n_comp, -grid.cv_results_['mean_test_score'], grid.cv_results_['std_test_score'] / np.sqrt(K))\n",
    "ax.set_ylabel('Cross -validated MSE', fontsize =20)\n",
    "ax.set_xlabel('# principal components ', fontsize =20)\n",
    "ax.set_xticks(n_comp[::2]);"
   ]
  },
  {
   "cell_type": "code",
   "execution_count": 72,
   "id": "ac6f5a10-47bc-4408-a067-b9c8f8a7b6bb",
   "metadata": {},
   "outputs": [
    {
     "data": {
      "text/html": [
       "<style>#sk-container-id-10 {color: black;}#sk-container-id-10 pre{padding: 0;}#sk-container-id-10 div.sk-toggleable {background-color: white;}#sk-container-id-10 label.sk-toggleable__label {cursor: pointer;display: block;width: 100%;margin-bottom: 0;padding: 0.3em;box-sizing: border-box;text-align: center;}#sk-container-id-10 label.sk-toggleable__label-arrow:before {content: \"▸\";float: left;margin-right: 0.25em;color: #696969;}#sk-container-id-10 label.sk-toggleable__label-arrow:hover:before {color: black;}#sk-container-id-10 div.sk-estimator:hover label.sk-toggleable__label-arrow:before {color: black;}#sk-container-id-10 div.sk-toggleable__content {max-height: 0;max-width: 0;overflow: hidden;text-align: left;background-color: #f0f8ff;}#sk-container-id-10 div.sk-toggleable__content pre {margin: 0.2em;color: black;border-radius: 0.25em;background-color: #f0f8ff;}#sk-container-id-10 input.sk-toggleable__control:checked~div.sk-toggleable__content {max-height: 200px;max-width: 100%;overflow: auto;}#sk-container-id-10 input.sk-toggleable__control:checked~label.sk-toggleable__label-arrow:before {content: \"▾\";}#sk-container-id-10 div.sk-estimator input.sk-toggleable__control:checked~label.sk-toggleable__label {background-color: #d4ebff;}#sk-container-id-10 div.sk-label input.sk-toggleable__control:checked~label.sk-toggleable__label {background-color: #d4ebff;}#sk-container-id-10 input.sk-hidden--visually {border: 0;clip: rect(1px 1px 1px 1px);clip: rect(1px, 1px, 1px, 1px);height: 1px;margin: -1px;overflow: hidden;padding: 0;position: absolute;width: 1px;}#sk-container-id-10 div.sk-estimator {font-family: monospace;background-color: #f0f8ff;border: 1px dotted black;border-radius: 0.25em;box-sizing: border-box;margin-bottom: 0.5em;}#sk-container-id-10 div.sk-estimator:hover {background-color: #d4ebff;}#sk-container-id-10 div.sk-parallel-item::after {content: \"\";width: 100%;border-bottom: 1px solid gray;flex-grow: 1;}#sk-container-id-10 div.sk-label:hover label.sk-toggleable__label {background-color: #d4ebff;}#sk-container-id-10 div.sk-serial::before {content: \"\";position: absolute;border-left: 1px solid gray;box-sizing: border-box;top: 0;bottom: 0;left: 50%;z-index: 0;}#sk-container-id-10 div.sk-serial {display: flex;flex-direction: column;align-items: center;background-color: white;padding-right: 0.2em;padding-left: 0.2em;position: relative;}#sk-container-id-10 div.sk-item {position: relative;z-index: 1;}#sk-container-id-10 div.sk-parallel {display: flex;align-items: stretch;justify-content: center;background-color: white;position: relative;}#sk-container-id-10 div.sk-item::before, #sk-container-id-10 div.sk-parallel-item::before {content: \"\";position: absolute;border-left: 1px solid gray;box-sizing: border-box;top: 0;bottom: 0;left: 50%;z-index: -1;}#sk-container-id-10 div.sk-parallel-item {display: flex;flex-direction: column;z-index: 1;position: relative;background-color: white;}#sk-container-id-10 div.sk-parallel-item:first-child::after {align-self: flex-end;width: 50%;}#sk-container-id-10 div.sk-parallel-item:last-child::after {align-self: flex-start;width: 50%;}#sk-container-id-10 div.sk-parallel-item:only-child::after {width: 0;}#sk-container-id-10 div.sk-dashed-wrapped {border: 1px dashed gray;margin: 0 0.4em 0.5em 0.4em;box-sizing: border-box;padding-bottom: 0.4em;background-color: white;}#sk-container-id-10 div.sk-label label {font-family: monospace;font-weight: bold;display: inline-block;line-height: 1.2em;}#sk-container-id-10 div.sk-label-container {text-align: center;}#sk-container-id-10 div.sk-container {/* jupyter's `normalize.less` sets `[hidden] { display: none; }` but bootstrap.min.css set `[hidden] { display: none !important; }` so we also need the `!important` here to be able to override the default hidden behavior on the sphinx rendered scikit-learn.org. See: https://github.com/scikit-learn/scikit-learn/issues/21755 */display: inline-block !important;position: relative;}#sk-container-id-10 div.sk-text-repr-fallback {display: none;}</style><div id=\"sk-container-id-10\" class=\"sk-top-container\"><div class=\"sk-text-repr-fallback\"><pre>PLSRegression(n_components=5)</pre><b>In a Jupyter environment, please rerun this cell to show the HTML representation or trust the notebook. <br />On GitHub, the HTML representation is unable to render, please try loading this page with nbviewer.org.</b></div><div class=\"sk-container\" hidden><div class=\"sk-item\"><div class=\"sk-estimator sk-toggleable\"><input class=\"sk-toggleable__control sk-hidden--visually\" id=\"sk-estimator-id-21\" type=\"checkbox\" checked><label for=\"sk-estimator-id-21\" class=\"sk-toggleable__label sk-toggleable__label-arrow\">PLSRegression</label><div class=\"sk-toggleable__content\"><pre>PLSRegression(n_components=5)</pre></div></div></div></div></div>"
      ],
      "text/plain": [
       "PLSRegression(n_components=5)"
      ]
     },
     "execution_count": 72,
     "metadata": {},
     "output_type": "execute_result"
    }
   ],
   "source": [
    "pls = PLSRegression(n_components=5, scale=True)\n",
    "pls.fit(X_train, y_train)"
   ]
  },
  {
   "cell_type": "code",
   "execution_count": 73,
   "id": "08651f2d-0bde-4121-a139-5fdced8c898a",
   "metadata": {},
   "outputs": [],
   "source": [
    "y_hat = pls.predict(X_test)"
   ]
  },
  {
   "cell_type": "code",
   "execution_count": 74,
   "id": "55e6b096-640c-4de5-8c63-f8a634192096",
   "metadata": {},
   "outputs": [
    {
     "data": {
      "text/plain": [
       "1106991.1725039529"
      ]
     },
     "execution_count": 74,
     "metadata": {},
     "output_type": "execute_result"
    }
   ],
   "source": [
    "pls_test_mse = mean_squared_error(y_test, y_hat)\n",
    "pls_test_mse"
   ]
  },
  {
   "cell_type": "code",
   "execution_count": 75,
   "id": "4f8cd4fd-76a1-402f-96a8-cb39ab327be1",
   "metadata": {},
   "outputs": [
    {
     "data": {
      "text/plain": [
       "1052.1364799796427"
      ]
     },
     "execution_count": 75,
     "metadata": {},
     "output_type": "execute_result"
    }
   ],
   "source": [
    "pls_test_rmse = np.sqrt(pls_test_mse)\n",
    "pls_test_rmse"
   ]
  },
  {
   "cell_type": "markdown",
   "id": "8da477c2-676a-4d85-be71-0b6f4e211649",
   "metadata": {},
   "source": [
    "#### Exercise 6.6.9 g\n",
    "\n",
    "Comment on the results obtained. How accurately can we predict the number of college applications received? Is there much\n",
    "difference among the test errors resulting from these five approaches?\n",
    "\n",
    "__Answer__:\n",
    "\n",
    "### Interpretation of Results:\n",
    "\n",
    "1. **Least Squares Regression:**\n",
    "   - MSE: 1176083.98\n",
    "   - RMSE: 1084.47\n",
    "\n",
    "2. **Ridge Regression:**\n",
    "   - MSE: 1111801.85\n",
    "   - RMSE: 1054.42\n",
    "\n",
    "3. **Lasso Regression:**\n",
    "   - MSE: 1122032.06\n",
    "   - RMSE: 1059.26\n",
    "\n",
    "4. **PCR (Principal Component Regression):**\n",
    "   - MSE: 1633711.71\n",
    "   - RMSE: 1278.17\n",
    "\n",
    "5. **PLS (Partial Least Squares):**\n",
    "   - MSE: 1106991.17\n",
    "   - RMSE: 1052.14\n",
    "\n",
    "\n",
    "As we can see, all the methods have a similar test MSE. The lowest one achieved PLS method, which would indicate that this method will give the most accurate prediction among all these methods. Ridge and PLS have also the lowest RMSE. The average number of application for each college is around $3001$ applications. Our the best method, on average, produces prediction error rate by $35\\%$.\n"
   ]
  },
  {
   "cell_type": "code",
   "execution_count": 76,
   "id": "a1e64291-94a8-4d82-8a82-6e91d73bc34f",
   "metadata": {},
   "outputs": [
    {
     "name": "stdout",
     "output_type": "stream",
     "text": [
      "Variance of MSE: 41329811184.38417\n",
      "Variance of RMSE: 7570.319816000001\n"
     ]
    }
   ],
   "source": [
    "mse_values = [1176083.98, 1111801.85, 1122032.06, 1633711.71, 1106991.17]\n",
    "mse_variance = np.var(mse_values)\n",
    "print(f\"Variance of MSE: {mse_variance}\")\n",
    "\n",
    "rmse_values = [1084.47, 1054.42, 1059.26, 1278.17, 1052.14]\n",
    "rmse_variance = np.var(rmse_values)\n",
    "print(f\"Variance of RMSE: {rmse_variance}\")"
   ]
  },
  {
   "cell_type": "code",
   "execution_count": 77,
   "id": "fcbc786b-183b-4344-8a4e-d09c2ce803e7",
   "metadata": {},
   "outputs": [
    {
     "data": {
      "text/plain": [
       "3001.6383526383524"
      ]
     },
     "execution_count": 77,
     "metadata": {},
     "output_type": "execute_result"
    }
   ],
   "source": [
    "average_apps = college_data['Apps'].mean()\n",
    "average_apps"
   ]
  },
  {
   "cell_type": "code",
   "execution_count": 78,
   "id": "9f62f0cf-1287-4714-aa8b-9e97f17477f4",
   "metadata": {},
   "outputs": [
    {
     "data": {
      "text/plain": [
       "0.3505219071695295"
      ]
     },
     "execution_count": 78,
     "metadata": {},
     "output_type": "execute_result"
    }
   ],
   "source": [
    "min(rmse_values) / average_apps"
   ]
  },
  {
   "cell_type": "code",
   "execution_count": 79,
   "id": "42945310-7f51-443f-8fce-1a939230b996",
   "metadata": {},
   "outputs": [
    {
     "data": {
      "image/png": "[encoded data removed]",
      "text/plain": [
       "<Figure size 1000x500 with 1 Axes>"
      ]
     },
     "metadata": {},
     "output_type": "display_data"
    }
   ],
   "source": [
    "methods = ['Least Squares', 'Ridge Regression', 'Lasso Regression', 'PCR', 'PLS']\n",
    "rmse_values = [1084.47, 1054.42, 1059.26, 1278.17, 1052.14] \n",
    "\n",
    "plt.figure(figsize=(10, 5))\n",
    "plt.bar(methods, rmse_values, color='skyblue')\n",
    "plt.xlabel('Regression Methods')\n",
    "plt.ylabel('Test RMSE')\n",
    "plt.title('Test RMSE for Different Regression Methods')\n",
    "plt.xticks(rotation=45)\n",
    "plt.tight_layout()\n",
    "plt.show();\n"
   ]
  },
  {
   "cell_type": "markdown",
   "id": "21a6cc7e-d732-45d6-92fd-bf30705e4296",
   "metadata": {},
   "source": [
    "#### Exercise 6.6.10\n",
    "\n",
    "We have seen that as the number of features used in a model increases, the training error will necessarily decrease, but the test error may not. We will now explore this in a simulated data set."
   ]
  },
  {
   "cell_type": "markdown",
   "id": "d8e8fc81-3dcf-45fb-b94e-a16b8d4a3703",
   "metadata": {},
   "source": [
    "#### Exercise 6.6.10\n",
    "\n",
    "Generate a data set with $p = 20$ features, $n = 1000$ observations, and an associated quantative response vector, generated according to the model\n",
    "\n",
    "$$\n",
    "Y = X\\beta + \\epsilon\n",
    "$$\n",
    "\n",
    "Where $\\beta$ has some elements that are exactly equal to 0."
   ]
  },
  {
   "cell_type": "code",
   "execution_count": 80,
   "id": "c6b25db7-e27a-4349-b03f-3d42cb055076",
   "metadata": {},
   "outputs": [],
   "source": [
    "X = np.random.normal(size=(1000, 20))\n",
    "epsilon = np.random.normal(size=(1000, 1))\n",
    "beta = np.random.randint(-5, 10, size=(20,))\n",
    "num_zero_elements = 8\n",
    "zero_indices = np.random.choice(np.prod(*beta.shape), num_zero_elements, replace=False)\n",
    "zero_indices = np.unravel_index(zero_indices, beta.shape)\n",
    "beta = beta.copy()\n",
    "beta[zero_indices] = 0"
   ]
  },
  {
   "cell_type": "code",
   "execution_count": 81,
   "id": "adeb25f9-0c2c-413a-a279-4992f5899374",
   "metadata": {},
   "outputs": [],
   "source": [
    "Y = X @ beta.reshape(-1, 1) + epsilon"
   ]
  },
  {
   "cell_type": "markdown",
   "id": "63916639-e84f-40a8-9d09-769ac980420c",
   "metadata": {},
   "source": [
    "#### Exercise 6.6.10 b\n",
    "\n",
    "Split your data set into a training set containing 100 observations, and a test set containing 900 observations."
   ]
  },
  {
   "cell_type": "code",
   "execution_count": 82,
   "id": "db5045f3-275e-4453-924e-3ad0900b2a52",
   "metadata": {},
   "outputs": [],
   "source": [
    "X_train, X_test, y_train, y_test = train_test_split(X, Y, test_size=0.9, random_state=0, shuffle=True)"
   ]
  },
  {
   "cell_type": "markdown",
   "id": "04b7402c-d397-4495-9fd8-504ea37f7367",
   "metadata": {},
   "source": [
    "#### Exercise 6.6.10 c\n",
    "\n",
    "Perform best subset selection on the training set, and plot the training set MSE associated with the best model of each size."
   ]
  },
  {
   "cell_type": "code",
   "execution_count": 83,
   "id": "dbdc6be3-6aa7-47b6-b0f5-17792fce5402",
   "metadata": {},
   "outputs": [],
   "source": [
    "def best_subset_selection(X_train, X_test, y_train, y_test):\n",
    "    training_mses = []\n",
    "    testing_mses = []\n",
    "    selected_features = []\n",
    "    best_models = []\n",
    "    p = X.shape[1]\n",
    "    k = 1\n",
    "    while k <= p:\n",
    "        \n",
    "        feature_combinations = list(combinations(range(p), r=k))\n",
    "        train_mses, columns = [], []\n",
    "        test_mses = []\n",
    "        models = []\n",
    "        for feature_index in feature_combinations:\n",
    "            model = LinearRegression(n_jobs=-1)\n",
    "            fitted_model = model.fit(X_train[:, feature_index], y_train)\n",
    "            y_hat = fitted_model.predict(X_train[:, feature_index])\n",
    "            train_mses.append(mean_squared_error(y_train, y_hat))\n",
    "            y_hat = fitted_model.predict(X_test[:, feature_index])\n",
    "            test_mses.append(mean_squared_error(y_test, y_hat))\n",
    "            columns.append(feature_index)\n",
    "            models.append(fitted_model)\n",
    "            \n",
    "        train_index = train_mses.index(min(train_mses))\n",
    "        test_index = test_mses.index(min(test_mses))\n",
    "        \n",
    "        the_best_train_mse = min(train_mses)\n",
    "        the_best_test_mse = min(test_mses)\n",
    "        \n",
    "        the_best_features = columns[test_mses.index(the_best_test_mse)]\n",
    "        best_models.append(models[test_mses.index(the_best_test_mse)])\n",
    "        \n",
    "        training_mses.append(the_best_train_mse)\n",
    "        testing_mses.append(the_best_test_mse)\n",
    "        selected_features.append(the_best_features)\n",
    "        \n",
    "        k += 1\n",
    "        print(f'Starting best subset at: {k}')\n",
    "        \n",
    "    return training_mses, testing_mses, selected_features, best_models"
   ]
  },
  {
   "cell_type": "code",
   "execution_count": 84,
   "id": "76bd409e-715e-4537-a50a-126b679cb6bf",
   "metadata": {},
   "outputs": [
    {
     "name": "stdout",
     "output_type": "stream",
     "text": [
      "Starting best subset at: 2\n",
      "Starting best subset at: 3\n",
      "Starting best subset at: 4\n",
      "Starting best subset at: 5\n",
      "Starting best subset at: 6\n",
      "Starting best subset at: 7\n",
      "Starting best subset at: 8\n",
      "Starting best subset at: 9\n",
      "Starting best subset at: 10\n",
      "Starting best subset at: 11\n",
      "Starting best subset at: 12\n",
      "Starting best subset at: 13\n",
      "Starting best subset at: 14\n",
      "Starting best subset at: 15\n",
      "Starting best subset at: 16\n",
      "Starting best subset at: 17\n",
      "Starting best subset at: 18\n",
      "Starting best subset at: 19\n",
      "Starting best subset at: 20\n",
      "Starting best subset at: 21\n"
     ]
    }
   ],
   "source": [
    "training_mses, test_mses, selected_features, best_models = best_subset_selection(X_train, X_test, y_train, y_test)"
   ]
  },
  {
   "cell_type": "code",
   "execution_count": 85,
   "id": "fc5a07a8-348c-4c10-9232-44910b709278",
   "metadata": {},
   "outputs": [
    {
     "data": {
      "image/png": "[encoded data removed]",
      "text/plain": [
       "<Figure size 640x480 with 1 Axes>"
      ]
     },
     "metadata": {},
     "output_type": "display_data"
    }
   ],
   "source": [
    "plt.title('Best Subset Selection — MSE')\n",
    "plt.plot(list(map(len, selected_features)), training_mses, marker='o', color='black', label='Train MSE');\n",
    "plt.plot(list(map(len, selected_features)), test_mses, marker='x', color='red', label='Test MSE')\n",
    "plt.ylabel('MSE values')\n",
    "plt.xlabel('Number of features')\n",
    "plt.legend()\n",
    "\n",
    "\n",
    "min_test_mse_idx = test_mses.index(min(test_mses))\n",
    "min_train_mse_idx = training_mses.index(min(training_mses))\n",
    "\n",
    "plt.annotate(f'Lowest Test MSE: {min(test_mses):.2f}', \n",
    "             xy=(len(selected_features[min_test_mse_idx]), test_mses[min_test_mse_idx]), \n",
    "             xytext=(len(selected_features[min_test_mse_idx]) - 5, test_mses[min_test_mse_idx] + 40),\n",
    "             arrowprops=dict(facecolor='black', arrowstyle='->'))\n",
    "\n",
    "plt.annotate(f'Lowest Train MSE: {min(training_mses):.2f}', \n",
    "             xy=(len(selected_features[min_train_mse_idx]), training_mses[min_train_mse_idx]), \n",
    "             xytext=(len(selected_features[min_train_mse_idx]) + 1, training_mses[min_train_mse_idx] + 40),\n",
    "             arrowprops=dict(facecolor='black', arrowstyle='->'))\n",
    "\n",
    "plt.show();\n"
   ]
  },
  {
   "cell_type": "markdown",
   "id": "8c268190-2b42-414b-9b59-7dcb2f5f6de9",
   "metadata": {},
   "source": [
    "#### Exercise 6.6.10 d\n",
    "\n",
    "Plot the test MSE associated with the best model of each size.\n",
    "\n",
    "The test MSE has been plotted on the above graph."
   ]
  },
  {
   "cell_type": "markdown",
   "id": "e0a318ce-2b65-4c4f-9920-66e8f4518c5c",
   "metadata": {},
   "source": [
    "#### Exercise 6.6.10 e\n",
    "\n",
    "For which model size does the test set MSE take on its minimum value? Comment on your results. If it takes on its minimum value for a model containing only an intercept or a model containing all of the features, then play around with the way that you are generating the data in (a) until you come up with a scenario in which the test set MSE is minimized for an intermediate model size.\n",
    "\n",
    "__Answer__:\n",
    "\n",
    "- the best test MSE is $0.9992$ for 10 features."
   ]
  },
  {
   "cell_type": "code",
   "execution_count": 86,
   "id": "fe7b868b-1982-45c9-8822-255fd206fbb6",
   "metadata": {},
   "outputs": [
    {
     "data": {
      "text/plain": [
       "1.0745775808287232"
      ]
     },
     "execution_count": 86,
     "metadata": {},
     "output_type": "execute_result"
    }
   ],
   "source": [
    "the_best_mse = min(test_mses)\n",
    "the_best_mse"
   ]
  },
  {
   "cell_type": "code",
   "execution_count": 87,
   "id": "429f0c2e-0c5c-4b18-b4b1-6e6d5445ca5a",
   "metadata": {},
   "outputs": [
    {
     "data": {
      "text/plain": [
       "(0, 1, 2, 4, 5, 6, 7, 8, 9, 11, 14, 16, 18, 19)"
      ]
     },
     "execution_count": 87,
     "metadata": {},
     "output_type": "execute_result"
    }
   ],
   "source": [
    "features = selected_features[test_mses.index(the_best_mse)]\n",
    "features"
   ]
  },
  {
   "cell_type": "code",
   "execution_count": 88,
   "id": "cc9c699c-8065-4116-9fc0-23c25219283c",
   "metadata": {},
   "outputs": [
    {
     "data": {
      "text/plain": [
       "14"
      ]
     },
     "execution_count": 88,
     "metadata": {},
     "output_type": "execute_result"
    }
   ],
   "source": [
    "len(features)"
   ]
  },
  {
   "cell_type": "markdown",
   "id": "1880075f-565f-4418-ba47-4faf15d6de4c",
   "metadata": {},
   "source": [
    "#### Exercise 6.6.10 f\n",
    "\n",
    "How does the model at which the test set MSE is minimized compare to the true model used to generate the data? Comment on the coefficient values.\n",
    "\n",
    "__Answer__:\n",
    "\n",
    "- estimated coefficients with the lowest test set error are not close to the true one. The reason might be high bias due to the split of the data: $90\\%$ of whole data are used as test set, whereas $10\\%$ are used as training set. The model in this way, may not capture the real relationship."
   ]
  },
  {
   "cell_type": "code",
   "execution_count": 89,
   "id": "8f526abc-b26d-4d57-b7e2-69cc9f24c51d",
   "metadata": {},
   "outputs": [
    {
     "data": {
      "text/plain": [
       "array([ 0,  9,  9,  0,  2, -2,  7,  4, -3, -1,  0,  6,  0,  0,  9,  0,  0,\n",
       "        0,  7,  8])"
      ]
     },
     "execution_count": 89,
     "metadata": {},
     "output_type": "execute_result"
    }
   ],
   "source": [
    "beta"
   ]
  },
  {
   "cell_type": "code",
   "execution_count": 90,
   "id": "2bbf7acc-31bc-4164-9da5-4ab4ce8d9f45",
   "metadata": {},
   "outputs": [
    {
     "data": {
      "text/plain": [
       "array([[ 0.0420032 ,  8.98644693,  8.97141316,  2.06835847, -1.88056694,\n",
       "         6.99383073,  3.92960267, -2.97024628, -0.89712499,  5.8409484 ,\n",
       "         9.1059533 , -0.06412954,  7.11506402,  8.18520146]])"
      ]
     },
     "execution_count": 90,
     "metadata": {},
     "output_type": "execute_result"
    }
   ],
   "source": [
    "best_models[test_mses.index(min(test_mses))].coef_"
   ]
  },
  {
   "cell_type": "markdown",
   "id": "31f8fa13-7dea-4f06-acb4-2993af0342ab",
   "metadata": {},
   "source": [
    "#### Exercise 6.6.10 g\n",
    "\n",
    "Create a plot displaying $\\sqrt{\\sum_{j=1}^p\\left(\\beta_j - \\hat{\\beta}^{r}_j \\right)^{2}}$ for a range of values of $r$, where $\\hat{\\beta}^{r}_j$ is the $j$th coefficient estimate for the best model containing $r$ coefficients. Comment on what you observe. How does this compare to the test MSE plot from [(d)](#Exercise-6.6.10-d)?\n",
    "\n",
    "__Answer__:\n",
    "\n",
    "- The plot suggests, that the lowest difference between real coefficient values and esimated one is above 15 features.\n",
    "- With an increasing $r$, the estimates gets better and better."
   ]
  },
  {
   "cell_type": "code",
   "execution_count": 91,
   "id": "a4669f77-bcc6-4d2f-87b8-0c4ed085a7c5",
   "metadata": {},
   "outputs": [],
   "source": [
    "data=[model.coef_ for model in best_models]"
   ]
  },
  {
   "cell_type": "code",
   "execution_count": 92,
   "id": "7f0d4a3e-9e81-4224-a825-d7960ecaedee",
   "metadata": {},
   "outputs": [],
   "source": [
    "max_length = max(len(subarray[0]) for subarray in data)\n",
    "padded_data = [np.pad(subarray[0], (0, max_length - len(subarray[0])) , mode='constant') for subarray in data]\n",
    "result = np.vstack(padded_data)"
   ]
  },
  {
   "cell_type": "code",
   "execution_count": 93,
   "id": "03f460a6-ede6-4087-98cc-01d77fb8faff",
   "metadata": {},
   "outputs": [],
   "source": [
    "sqrt_diff = np.sqrt(np.sum(np.square(beta - result), axis=1))"
   ]
  },
  {
   "cell_type": "code",
   "execution_count": 94,
   "id": "c54ebb22-743a-4668-bc1e-3d46a00008f7",
   "metadata": {},
   "outputs": [
    {
     "data": {
      "image/png": "[encoded data removed]",
      "text/plain": [
       "<Figure size 640x480 with 1 Axes>"
      ]
     },
     "metadata": {},
     "output_type": "display_data"
    }
   ],
   "source": [
    "plt.title('Squared difference $\\\\beta$ vs. $\\\\hat{\\\\beta}$')\n",
    "plt.plot([array.shape[1] for array in data], sqrt_diff, marker='x', color='purple');\n",
    "plt.xlabel('$r$ coefficients')\n",
    "plt.ylabel('Squared diff. value')\n",
    "plt.show();"
   ]
  },
  {
   "cell_type": "markdown",
   "id": "e6043df3-b9e5-45fc-b772-cdc67369f14c",
   "metadata": {},
   "source": [
    "### Exercise 6.6.11\n",
    "\n",
    "We will now try to predict per capita crime rate in the `Boston` data set."
   ]
  },
  {
   "cell_type": "markdown",
   "id": "f202f23b-22ee-44a4-be3f-b4cf54b5eaef",
   "metadata": {},
   "source": [
    "#### Exercise 6.6.11 a\n",
    "\n",
    "Try out some regression methods explored in this chapter, such as best subset selection, the lasso, ridge regression, and PCR. Present and discuss results for the approaches that you consider."
   ]
  },
  {
   "cell_type": "code",
   "execution_count": 95,
   "id": "650be7e0-6634-4ecf-8f77-219ba2ce7682",
   "metadata": {},
   "outputs": [],
   "source": [
    "boston_data = load_data('Boston')"
   ]
  },
  {
   "cell_type": "code",
   "execution_count": 96,
   "id": "b11573b0-dac4-4ffa-8425-79f2db5f3c1e",
   "metadata": {},
   "outputs": [
    {
     "data": {
      "text/html": [
       "<div>\n",
       "<style scoped>\n",
       "    .dataframe tbody tr th:only-of-type {\n",
       "        vertical-align: middle;\n",
       "    }\n",
       "\n",
       "    .dataframe tbody tr th {\n",
       "        vertical-align: top;\n",
       "    }\n",
       "\n",
       "    .dataframe thead th {\n",
       "        text-align: right;\n",
       "    }\n",
       "</style>\n",
       "<table border=\"1\" class=\"dataframe\">\n",
       "  <thead>\n",
       "    <tr style=\"text-align: right;\">\n",
       "      <th></th>\n",
       "      <th>crim</th>\n",
       "      <th>zn</th>\n",
       "      <th>indus</th>\n",
       "      <th>chas</th>\n",
       "      <th>nox</th>\n",
       "      <th>rm</th>\n",
       "      <th>age</th>\n",
       "      <th>dis</th>\n",
       "      <th>rad</th>\n",
       "      <th>tax</th>\n",
       "      <th>ptratio</th>\n",
       "      <th>lstat</th>\n",
       "      <th>medv</th>\n",
       "    </tr>\n",
       "  </thead>\n",
       "  <tbody>\n",
       "    <tr>\n",
       "      <th>0</th>\n",
       "      <td>0.00632</td>\n",
       "      <td>18.0</td>\n",
       "      <td>2.31</td>\n",
       "      <td>0</td>\n",
       "      <td>0.538</td>\n",
       "      <td>6.575</td>\n",
       "      <td>65.2</td>\n",
       "      <td>4.0900</td>\n",
       "      <td>1</td>\n",
       "      <td>296</td>\n",
       "      <td>15.3</td>\n",
       "      <td>4.98</td>\n",
       "      <td>24.0</td>\n",
       "    </tr>\n",
       "    <tr>\n",
       "      <th>1</th>\n",
       "      <td>0.02731</td>\n",
       "      <td>0.0</td>\n",
       "      <td>7.07</td>\n",
       "      <td>0</td>\n",
       "      <td>0.469</td>\n",
       "      <td>6.421</td>\n",
       "      <td>78.9</td>\n",
       "      <td>4.9671</td>\n",
       "      <td>2</td>\n",
       "      <td>242</td>\n",
       "      <td>17.8</td>\n",
       "      <td>9.14</td>\n",
       "      <td>21.6</td>\n",
       "    </tr>\n",
       "    <tr>\n",
       "      <th>2</th>\n",
       "      <td>0.02729</td>\n",
       "      <td>0.0</td>\n",
       "      <td>7.07</td>\n",
       "      <td>0</td>\n",
       "      <td>0.469</td>\n",
       "      <td>7.185</td>\n",
       "      <td>61.1</td>\n",
       "      <td>4.9671</td>\n",
       "      <td>2</td>\n",
       "      <td>242</td>\n",
       "      <td>17.8</td>\n",
       "      <td>4.03</td>\n",
       "      <td>34.7</td>\n",
       "    </tr>\n",
       "    <tr>\n",
       "      <th>3</th>\n",
       "      <td>0.03237</td>\n",
       "      <td>0.0</td>\n",
       "      <td>2.18</td>\n",
       "      <td>0</td>\n",
       "      <td>0.458</td>\n",
       "      <td>6.998</td>\n",
       "      <td>45.8</td>\n",
       "      <td>6.0622</td>\n",
       "      <td>3</td>\n",
       "      <td>222</td>\n",
       "      <td>18.7</td>\n",
       "      <td>2.94</td>\n",
       "      <td>33.4</td>\n",
       "    </tr>\n",
       "    <tr>\n",
       "      <th>4</th>\n",
       "      <td>0.06905</td>\n",
       "      <td>0.0</td>\n",
       "      <td>2.18</td>\n",
       "      <td>0</td>\n",
       "      <td>0.458</td>\n",
       "      <td>7.147</td>\n",
       "      <td>54.2</td>\n",
       "      <td>6.0622</td>\n",
       "      <td>3</td>\n",
       "      <td>222</td>\n",
       "      <td>18.7</td>\n",
       "      <td>5.33</td>\n",
       "      <td>36.2</td>\n",
       "    </tr>\n",
       "  </tbody>\n",
       "</table>\n",
       "</div>"
      ],
      "text/plain": [
       "      crim    zn  indus  chas    nox     rm   age     dis  rad  tax  ptratio  \\\n",
       "0  0.00632  18.0   2.31     0  0.538  6.575  65.2  4.0900    1  296     15.3   \n",
       "1  0.02731   0.0   7.07     0  0.469  6.421  78.9  4.9671    2  242     17.8   \n",
       "2  0.02729   0.0   7.07     0  0.469  7.185  61.1  4.9671    2  242     17.8   \n",
       "3  0.03237   0.0   2.18     0  0.458  6.998  45.8  6.0622    3  222     18.7   \n",
       "4  0.06905   0.0   2.18     0  0.458  7.147  54.2  6.0622    3  222     18.7   \n",
       "\n",
       "   lstat  medv  \n",
       "0   4.98  24.0  \n",
       "1   9.14  21.6  \n",
       "2   4.03  34.7  \n",
       "3   2.94  33.4  \n",
       "4   5.33  36.2  "
      ]
     },
     "execution_count": 96,
     "metadata": {},
     "output_type": "execute_result"
    }
   ],
   "source": [
    "boston_data.head()"
   ]
  },
  {
   "cell_type": "code",
   "execution_count": 97,
   "id": "b81b36b4-6578-4272-bd7e-194b50521cc2",
   "metadata": {},
   "outputs": [
    {
     "data": {
      "text/plain": [
       "3.613523557312254"
      ]
     },
     "execution_count": 97,
     "metadata": {},
     "output_type": "execute_result"
    }
   ],
   "source": [
    "boston_data.crim.mean()"
   ]
  },
  {
   "cell_type": "code",
   "execution_count": 98,
   "id": "a6d86f52-2cc8-4b17-a789-239ae14a0afd",
   "metadata": {},
   "outputs": [],
   "source": [
    "X = boston_data.loc[:, boston_data.columns.drop('crim')]\n",
    "y = boston_data['crim']"
   ]
  },
  {
   "cell_type": "code",
   "execution_count": 99,
   "id": "d00e6356-d023-40cf-a6f3-01d966475087",
   "metadata": {},
   "outputs": [],
   "source": [
    "scaler = StandardScaler()\n",
    "X_train, X_test, y_train, y_test = train_test_split(X, y, test_size=0.2, random_state=0)"
   ]
  },
  {
   "cell_type": "code",
   "execution_count": 100,
   "id": "9e7e1ca3-b30e-4f4d-abe8-c89db0790a9e",
   "metadata": {},
   "outputs": [],
   "source": [
    "X_train_std = scaler.fit_transform(X_train)\n",
    "X_test_std = scaler.transform(X_test)"
   ]
  },
  {
   "cell_type": "code",
   "execution_count": 101,
   "id": "97aeb016-1bd8-40a1-bb9b-58d9e76a0875",
   "metadata": {},
   "outputs": [],
   "source": [
    "# First, creating the Ridge with Cross-Validation to find optimal alpha\n",
    "K = 5\n",
    "kfold = KFold(n_splits=K, random_state=0, shuffle=True)\n",
    "alphas = np.logspace(-5, 4, 100)\n",
    "ridge_cv = RidgeCV(alphas=alphas, cv=kfold, scoring='neg_mean_squared_error',)"
   ]
  },
  {
   "cell_type": "code",
   "execution_count": 102,
   "id": "597c7283-eda7-4680-bd7c-358470aa103f",
   "metadata": {},
   "outputs": [
    {
     "data": {
      "text/html": [
       "<style>#sk-container-id-11 {color: black;}#sk-container-id-11 pre{padding: 0;}#sk-container-id-11 div.sk-toggleable {background-color: white;}#sk-container-id-11 label.sk-toggleable__label {cursor: pointer;display: block;width: 100%;margin-bottom: 0;padding: 0.3em;box-sizing: border-box;text-align: center;}#sk-container-id-11 label.sk-toggleable__label-arrow:before {content: \"▸\";float: left;margin-right: 0.25em;color: #696969;}#sk-container-id-11 label.sk-toggleable__label-arrow:hover:before {color: black;}#sk-container-id-11 div.sk-estimator:hover label.sk-toggleable__label-arrow:before {color: black;}#sk-container-id-11 div.sk-toggleable__content {max-height: 0;max-width: 0;overflow: hidden;text-align: left;background-color: #f0f8ff;}#sk-container-id-11 div.sk-toggleable__content pre {margin: 0.2em;color: black;border-radius: 0.25em;background-color: #f0f8ff;}#sk-container-id-11 input.sk-toggleable__control:checked~div.sk-toggleable__content {max-height: 200px;max-width: 100%;overflow: auto;}#sk-container-id-11 input.sk-toggleable__control:checked~label.sk-toggleable__label-arrow:before {content: \"▾\";}#sk-container-id-11 div.sk-estimator input.sk-toggleable__control:checked~label.sk-toggleable__label {background-color: #d4ebff;}#sk-container-id-11 div.sk-label input.sk-toggleable__control:checked~label.sk-toggleable__label {background-color: #d4ebff;}#sk-container-id-11 input.sk-hidden--visually {border: 0;clip: rect(1px 1px 1px 1px);clip: rect(1px, 1px, 1px, 1px);height: 1px;margin: -1px;overflow: hidden;padding: 0;position: absolute;width: 1px;}#sk-container-id-11 div.sk-estimator {font-family: monospace;background-color: #f0f8ff;border: 1px dotted black;border-radius: 0.25em;box-sizing: border-box;margin-bottom: 0.5em;}#sk-container-id-11 div.sk-estimator:hover {background-color: #d4ebff;}#sk-container-id-11 div.sk-parallel-item::after {content: \"\";width: 100%;border-bottom: 1px solid gray;flex-grow: 1;}#sk-container-id-11 div.sk-label:hover label.sk-toggleable__label {background-color: #d4ebff;}#sk-container-id-11 div.sk-serial::before {content: \"\";position: absolute;border-left: 1px solid gray;box-sizing: border-box;top: 0;bottom: 0;left: 50%;z-index: 0;}#sk-container-id-11 div.sk-serial {display: flex;flex-direction: column;align-items: center;background-color: white;padding-right: 0.2em;padding-left: 0.2em;position: relative;}#sk-container-id-11 div.sk-item {position: relative;z-index: 1;}#sk-container-id-11 div.sk-parallel {display: flex;align-items: stretch;justify-content: center;background-color: white;position: relative;}#sk-container-id-11 div.sk-item::before, #sk-container-id-11 div.sk-parallel-item::before {content: \"\";position: absolute;border-left: 1px solid gray;box-sizing: border-box;top: 0;bottom: 0;left: 50%;z-index: -1;}#sk-container-id-11 div.sk-parallel-item {display: flex;flex-direction: column;z-index: 1;position: relative;background-color: white;}#sk-container-id-11 div.sk-parallel-item:first-child::after {align-self: flex-end;width: 50%;}#sk-container-id-11 div.sk-parallel-item:last-child::after {align-self: flex-start;width: 50%;}#sk-container-id-11 div.sk-parallel-item:only-child::after {width: 0;}#sk-container-id-11 div.sk-dashed-wrapped {border: 1px dashed gray;margin: 0 0.4em 0.5em 0.4em;box-sizing: border-box;padding-bottom: 0.4em;background-color: white;}#sk-container-id-11 div.sk-label label {font-family: monospace;font-weight: bold;display: inline-block;line-height: 1.2em;}#sk-container-id-11 div.sk-label-container {text-align: center;}#sk-container-id-11 div.sk-container {/* jupyter's `normalize.less` sets `[hidden] { display: none; }` but bootstrap.min.css set `[hidden] { display: none !important; }` so we also need the `!important` here to be able to override the default hidden behavior on the sphinx rendered scikit-learn.org. See: https://github.com/scikit-learn/scikit-learn/issues/21755 */display: inline-block !important;position: relative;}#sk-container-id-11 div.sk-text-repr-fallback {display: none;}</style><div id=\"sk-container-id-11\" class=\"sk-top-container\"><div class=\"sk-text-repr-fallback\"><pre>RidgeCV(alphas=array([1.00000000e-05, 1.23284674e-05, 1.51991108e-05, 1.87381742e-05,\n",
       "       2.31012970e-05, 2.84803587e-05, 3.51119173e-05, 4.32876128e-05,\n",
       "       5.33669923e-05, 6.57933225e-05, 8.11130831e-05, 1.00000000e-04,\n",
       "       1.23284674e-04, 1.51991108e-04, 1.87381742e-04, 2.31012970e-04,\n",
       "       2.84803587e-04, 3.51119173e-04, 4.32876128e-04, 5.33669923e-04,\n",
       "       6.57933225e-04, 8.11130831e-0...\n",
       "       1.87381742e+02, 2.31012970e+02, 2.84803587e+02, 3.51119173e+02,\n",
       "       4.32876128e+02, 5.33669923e+02, 6.57933225e+02, 8.11130831e+02,\n",
       "       1.00000000e+03, 1.23284674e+03, 1.51991108e+03, 1.87381742e+03,\n",
       "       2.31012970e+03, 2.84803587e+03, 3.51119173e+03, 4.32876128e+03,\n",
       "       5.33669923e+03, 6.57933225e+03, 8.11130831e+03, 1.00000000e+04]),\n",
       "        cv=KFold(n_splits=5, random_state=0, shuffle=True),\n",
       "        scoring=&#x27;neg_mean_squared_error&#x27;)</pre><b>In a Jupyter environment, please rerun this cell to show the HTML representation or trust the notebook. <br />On GitHub, the HTML representation is unable to render, please try loading this page with nbviewer.org.</b></div><div class=\"sk-container\" hidden><div class=\"sk-item\"><div class=\"sk-estimator sk-toggleable\"><input class=\"sk-toggleable__control sk-hidden--visually\" id=\"sk-estimator-id-22\" type=\"checkbox\" checked><label for=\"sk-estimator-id-22\" class=\"sk-toggleable__label sk-toggleable__label-arrow\">RidgeCV</label><div class=\"sk-toggleable__content\"><pre>RidgeCV(alphas=array([1.00000000e-05, 1.23284674e-05, 1.51991108e-05, 1.87381742e-05,\n",
       "       2.31012970e-05, 2.84803587e-05, 3.51119173e-05, 4.32876128e-05,\n",
       "       5.33669923e-05, 6.57933225e-05, 8.11130831e-05, 1.00000000e-04,\n",
       "       1.23284674e-04, 1.51991108e-04, 1.87381742e-04, 2.31012970e-04,\n",
       "       2.84803587e-04, 3.51119173e-04, 4.32876128e-04, 5.33669923e-04,\n",
       "       6.57933225e-04, 8.11130831e-0...\n",
       "       1.87381742e+02, 2.31012970e+02, 2.84803587e+02, 3.51119173e+02,\n",
       "       4.32876128e+02, 5.33669923e+02, 6.57933225e+02, 8.11130831e+02,\n",
       "       1.00000000e+03, 1.23284674e+03, 1.51991108e+03, 1.87381742e+03,\n",
       "       2.31012970e+03, 2.84803587e+03, 3.51119173e+03, 4.32876128e+03,\n",
       "       5.33669923e+03, 6.57933225e+03, 8.11130831e+03, 1.00000000e+04]),\n",
       "        cv=KFold(n_splits=5, random_state=0, shuffle=True),\n",
       "        scoring=&#x27;neg_mean_squared_error&#x27;)</pre></div></div></div></div></div>"
      ],
      "text/plain": [
       "RidgeCV(alphas=array([1.00000000e-05, 1.23284674e-05, 1.51991108e-05, 1.87381742e-05,\n",
       "       2.31012970e-05, 2.84803587e-05, 3.51119173e-05, 4.32876128e-05,\n",
       "       5.33669923e-05, 6.57933225e-05, 8.11130831e-05, 1.00000000e-04,\n",
       "       1.23284674e-04, 1.51991108e-04, 1.87381742e-04, 2.31012970e-04,\n",
       "       2.84803587e-04, 3.51119173e-04, 4.32876128e-04, 5.33669923e-04,\n",
       "       6.57933225e-04, 8.11130831e-0...\n",
       "       1.87381742e+02, 2.31012970e+02, 2.84803587e+02, 3.51119173e+02,\n",
       "       4.32876128e+02, 5.33669923e+02, 6.57933225e+02, 8.11130831e+02,\n",
       "       1.00000000e+03, 1.23284674e+03, 1.51991108e+03, 1.87381742e+03,\n",
       "       2.31012970e+03, 2.84803587e+03, 3.51119173e+03, 4.32876128e+03,\n",
       "       5.33669923e+03, 6.57933225e+03, 8.11130831e+03, 1.00000000e+04]),\n",
       "        cv=KFold(n_splits=5, random_state=0, shuffle=True),\n",
       "        scoring='neg_mean_squared_error')"
      ]
     },
     "execution_count": 102,
     "metadata": {},
     "output_type": "execute_result"
    }
   ],
   "source": [
    "ridge_cv.fit(X_train_std, y_train)"
   ]
  },
  {
   "cell_type": "code",
   "execution_count": 103,
   "id": "9363d205-f27e-49ae-a459-31017e217510",
   "metadata": {},
   "outputs": [
    {
     "data": {
      "text/plain": [
       "8.111308307896872"
      ]
     },
     "execution_count": 103,
     "metadata": {},
     "output_type": "execute_result"
    }
   ],
   "source": [
    "ridge_optimal_alpha = ridge_cv.alpha_\n",
    "ridge_optimal_alpha"
   ]
  },
  {
   "cell_type": "code",
   "execution_count": 104,
   "id": "c2b6c34c-1293-4234-bc2d-a8af7171bc68",
   "metadata": {},
   "outputs": [
    {
     "data": {
      "text/plain": [
       "61.18545479509455"
      ]
     },
     "execution_count": 104,
     "metadata": {},
     "output_type": "execute_result"
    }
   ],
   "source": [
    "ridge_y_hat = ridge_cv.predict(X_test_std)\n",
    "ridge_test_mse_cv = mean_squared_error(y_test, ridge_y_hat)\n",
    "ridge_test_mse_cv"
   ]
  },
  {
   "cell_type": "code",
   "execution_count": 105,
   "id": "44604316-9e31-4f7e-9cb3-8055decbb942",
   "metadata": {},
   "outputs": [
    {
     "data": {
      "text/plain": [
       "61.18545479509455"
      ]
     },
     "execution_count": 105,
     "metadata": {},
     "output_type": "execute_result"
    }
   ],
   "source": [
    "ridge = Ridge(alpha=ridge_optimal_alpha)\n",
    "ridge.fit(X_train_std, y_train)\n",
    "ridge_y_hat = ridge.predict(X_test_std)\n",
    "ridge_test_mse = mean_squared_error(y_test, ridge_y_hat)\n",
    "ridge_test_mse"
   ]
  },
  {
   "cell_type": "code",
   "execution_count": 106,
   "id": "1330092b-5361-4f28-be4e-75890aaa266a",
   "metadata": {},
   "outputs": [
    {
     "data": {
      "text/plain": [
       "7.822113192424062"
      ]
     },
     "execution_count": 106,
     "metadata": {},
     "output_type": "execute_result"
    }
   ],
   "source": [
    "ridge_test_rmse = np.sqrt(ridge_test_mse)\n",
    "ridge_test_rmse"
   ]
  },
  {
   "cell_type": "code",
   "execution_count": 107,
   "id": "7928c3e4-32e7-4a4c-a750-c88c183fb737",
   "metadata": {},
   "outputs": [
    {
     "data": {
      "text/plain": [
       "array([ 0.81762707, -0.53493069, -0.21756829, -0.70767787,  0.76082876,\n",
       "       -0.37119647, -1.73446427,  4.30191789, -0.05130438, -0.48740378,\n",
       "        1.45303085, -1.78477678])"
      ]
     },
     "execution_count": 107,
     "metadata": {},
     "output_type": "execute_result"
    }
   ],
   "source": [
    "ridge.coef_"
   ]
  },
  {
   "cell_type": "code",
   "execution_count": 108,
   "id": "dde5308e-cce1-424b-b9aa-924e8cc449c5",
   "metadata": {},
   "outputs": [
    {
     "data": {
      "text/plain": [
       "0.4619625756390298"
      ]
     },
     "execution_count": 108,
     "metadata": {},
     "output_type": "execute_result"
    }
   ],
   "source": [
    "err_prediction_rate = boston_data.crim.mean() / ridge_test_rmse\n",
    "err_prediction_rate"
   ]
  },
  {
   "cell_type": "code",
   "execution_count": 109,
   "id": "88010244-23a5-4a8f-8f9b-9a6e59fbcfd9",
   "metadata": {},
   "outputs": [],
   "source": [
    "lasso_cv = LassoCV(alphas=alphas, max_iter=10000, random_state=0, cv=kfold, n_jobs=-1)\n",
    "lasso_cv = lasso_cv.fit(X_train, y_train)"
   ]
  },
  {
   "cell_type": "code",
   "execution_count": 110,
   "id": "ca6bf64c-ede5-4c09-8b03-be9054d610b2",
   "metadata": {},
   "outputs": [
    {
     "data": {
      "text/plain": [
       "0.2310129700083158"
      ]
     },
     "execution_count": 110,
     "metadata": {},
     "output_type": "execute_result"
    }
   ],
   "source": [
    "lasso_optimal_alpha = lasso_cv.alpha_\n",
    "lasso_optimal_alpha"
   ]
  },
  {
   "cell_type": "code",
   "execution_count": 111,
   "id": "13273ec1-bc33-4d47-a1e2-6beed4f6ec00",
   "metadata": {},
   "outputs": [
    {
     "data": {
      "text/plain": [
       "60.68167966284746"
      ]
     },
     "execution_count": 111,
     "metadata": {},
     "output_type": "execute_result"
    }
   ],
   "source": [
    "lasso_y_hat = lasso_cv.predict(X_test)\n",
    "lasso_test_mse = mean_squared_error(y_test, lasso_y_hat)\n",
    "lasso_test_mse"
   ]
  },
  {
   "cell_type": "code",
   "execution_count": 112,
   "id": "538a819c-2c98-4544-94a7-4f400b4595df",
   "metadata": {},
   "outputs": [
    {
     "data": {
      "text/plain": [
       "7.789844649468143"
      ]
     },
     "execution_count": 112,
     "metadata": {},
     "output_type": "execute_result"
    }
   ],
   "source": [
    "lasso_test_rmse = np.sqrt(lasso_test_mse)\n",
    "lasso_test_rmse"
   ]
  },
  {
   "cell_type": "code",
   "execution_count": 113,
   "id": "639cdc78-12de-4aa5-932a-d44bd1b9cd12",
   "metadata": {},
   "outputs": [
    {
     "data": {
      "text/plain": [
       "0.4638762029174702"
      ]
     },
     "execution_count": 113,
     "metadata": {},
     "output_type": "execute_result"
    }
   ],
   "source": [
    "lasso_prediction_err_rate = boston_data.crim.mean() / lasso_test_rmse\n",
    "lasso_prediction_err_rate"
   ]
  },
  {
   "cell_type": "code",
   "execution_count": 114,
   "id": "3dd905f0-db24-4ce7-8956-bf371f451091",
   "metadata": {},
   "outputs": [
    {
     "data": {
      "text/plain": [
       "array([ 0.03974928, -0.0834035 , -0.        , -0.        ,  0.05792214,\n",
       "       -0.01025349, -0.62040538,  0.53486469, -0.00293246, -0.09870577,\n",
       "        0.16561335, -0.13984272])"
      ]
     },
     "execution_count": 114,
     "metadata": {},
     "output_type": "execute_result"
    }
   ],
   "source": [
    "lasso_cv.coef_"
   ]
  },
  {
   "cell_type": "code",
   "execution_count": 115,
   "id": "caacfbb5-24f2-4086-befb-60fd87aaf385",
   "metadata": {},
   "outputs": [
    {
     "name": "stdout",
     "output_type": "stream",
     "text": [
      "Starting best subset at: 2\n",
      "Starting best subset at: 3\n",
      "Starting best subset at: 4\n",
      "Starting best subset at: 5\n",
      "Starting best subset at: 6\n",
      "Starting best subset at: 7\n",
      "Starting best subset at: 8\n",
      "Starting best subset at: 9\n",
      "Starting best subset at: 10\n",
      "Starting best subset at: 11\n",
      "Starting best subset at: 12\n",
      "Starting best subset at: 13\n"
     ]
    }
   ],
   "source": [
    "training_mses, test_mses, selected_features, best_models = best_subset_selection(X_train.values, X_test.values, y_train.values, y_test.values)"
   ]
  },
  {
   "cell_type": "code",
   "execution_count": 116,
   "id": "7c81a1e0-c555-4ff5-ae51-9d15db1bfceb",
   "metadata": {},
   "outputs": [
    {
     "data": {
      "text/plain": [
       "(35.88760222442699, 59.144929269707006)"
      ]
     },
     "execution_count": 116,
     "metadata": {},
     "output_type": "execute_result"
    }
   ],
   "source": [
    "best_train_mse = min(training_mses)\n",
    "best_test_mse = min(test_mses)\n",
    "\n",
    "best_train_mse, best_test_mse"
   ]
  },
  {
   "cell_type": "code",
   "execution_count": 117,
   "id": "283ddc4e-57f0-43de-818a-788d19b4124d",
   "metadata": {},
   "outputs": [
    {
     "data": {
      "text/plain": [
       "(0, 2, 3, 5, 6, 7, 9, 11)"
      ]
     },
     "execution_count": 117,
     "metadata": {},
     "output_type": "execute_result"
    }
   ],
   "source": [
    "best_features = selected_features[test_mses.index(best_test_mse)]\n",
    "best_features"
   ]
  },
  {
   "cell_type": "code",
   "execution_count": 118,
   "id": "ca333e20-c7db-4b8e-8640-2ca5a95b8eae",
   "metadata": {},
   "outputs": [
    {
     "data": {
      "text/html": [
       "<style>#sk-container-id-12 {color: black;}#sk-container-id-12 pre{padding: 0;}#sk-container-id-12 div.sk-toggleable {background-color: white;}#sk-container-id-12 label.sk-toggleable__label {cursor: pointer;display: block;width: 100%;margin-bottom: 0;padding: 0.3em;box-sizing: border-box;text-align: center;}#sk-container-id-12 label.sk-toggleable__label-arrow:before {content: \"▸\";float: left;margin-right: 0.25em;color: #696969;}#sk-container-id-12 label.sk-toggleable__label-arrow:hover:before {color: black;}#sk-container-id-12 div.sk-estimator:hover label.sk-toggleable__label-arrow:before {color: black;}#sk-container-id-12 div.sk-toggleable__content {max-height: 0;max-width: 0;overflow: hidden;text-align: left;background-color: #f0f8ff;}#sk-container-id-12 div.sk-toggleable__content pre {margin: 0.2em;color: black;border-radius: 0.25em;background-color: #f0f8ff;}#sk-container-id-12 input.sk-toggleable__control:checked~div.sk-toggleable__content {max-height: 200px;max-width: 100%;overflow: auto;}#sk-container-id-12 input.sk-toggleable__control:checked~label.sk-toggleable__label-arrow:before {content: \"▾\";}#sk-container-id-12 div.sk-estimator input.sk-toggleable__control:checked~label.sk-toggleable__label {background-color: #d4ebff;}#sk-container-id-12 div.sk-label input.sk-toggleable__control:checked~label.sk-toggleable__label {background-color: #d4ebff;}#sk-container-id-12 input.sk-hidden--visually {border: 0;clip: rect(1px 1px 1px 1px);clip: rect(1px, 1px, 1px, 1px);height: 1px;margin: -1px;overflow: hidden;padding: 0;position: absolute;width: 1px;}#sk-container-id-12 div.sk-estimator {font-family: monospace;background-color: #f0f8ff;border: 1px dotted black;border-radius: 0.25em;box-sizing: border-box;margin-bottom: 0.5em;}#sk-container-id-12 div.sk-estimator:hover {background-color: #d4ebff;}#sk-container-id-12 div.sk-parallel-item::after {content: \"\";width: 100%;border-bottom: 1px solid gray;flex-grow: 1;}#sk-container-id-12 div.sk-label:hover label.sk-toggleable__label {background-color: #d4ebff;}#sk-container-id-12 div.sk-serial::before {content: \"\";position: absolute;border-left: 1px solid gray;box-sizing: border-box;top: 0;bottom: 0;left: 50%;z-index: 0;}#sk-container-id-12 div.sk-serial {display: flex;flex-direction: column;align-items: center;background-color: white;padding-right: 0.2em;padding-left: 0.2em;position: relative;}#sk-container-id-12 div.sk-item {position: relative;z-index: 1;}#sk-container-id-12 div.sk-parallel {display: flex;align-items: stretch;justify-content: center;background-color: white;position: relative;}#sk-container-id-12 div.sk-item::before, #sk-container-id-12 div.sk-parallel-item::before {content: \"\";position: absolute;border-left: 1px solid gray;box-sizing: border-box;top: 0;bottom: 0;left: 50%;z-index: -1;}#sk-container-id-12 div.sk-parallel-item {display: flex;flex-direction: column;z-index: 1;position: relative;background-color: white;}#sk-container-id-12 div.sk-parallel-item:first-child::after {align-self: flex-end;width: 50%;}#sk-container-id-12 div.sk-parallel-item:last-child::after {align-self: flex-start;width: 50%;}#sk-container-id-12 div.sk-parallel-item:only-child::after {width: 0;}#sk-container-id-12 div.sk-dashed-wrapped {border: 1px dashed gray;margin: 0 0.4em 0.5em 0.4em;box-sizing: border-box;padding-bottom: 0.4em;background-color: white;}#sk-container-id-12 div.sk-label label {font-family: monospace;font-weight: bold;display: inline-block;line-height: 1.2em;}#sk-container-id-12 div.sk-label-container {text-align: center;}#sk-container-id-12 div.sk-container {/* jupyter's `normalize.less` sets `[hidden] { display: none; }` but bootstrap.min.css set `[hidden] { display: none !important; }` so we also need the `!important` here to be able to override the default hidden behavior on the sphinx rendered scikit-learn.org. See: https://github.com/scikit-learn/scikit-learn/issues/21755 */display: inline-block !important;position: relative;}#sk-container-id-12 div.sk-text-repr-fallback {display: none;}</style><div id=\"sk-container-id-12\" class=\"sk-top-container\"><div class=\"sk-text-repr-fallback\"><pre>LinearRegression()</pre><b>In a Jupyter environment, please rerun this cell to show the HTML representation or trust the notebook. <br />On GitHub, the HTML representation is unable to render, please try loading this page with nbviewer.org.</b></div><div class=\"sk-container\" hidden><div class=\"sk-item\"><div class=\"sk-estimator sk-toggleable\"><input class=\"sk-toggleable__control sk-hidden--visually\" id=\"sk-estimator-id-23\" type=\"checkbox\" checked><label for=\"sk-estimator-id-23\" class=\"sk-toggleable__label sk-toggleable__label-arrow\">LinearRegression</label><div class=\"sk-toggleable__content\"><pre>LinearRegression()</pre></div></div></div></div></div>"
      ],
      "text/plain": [
       "LinearRegression()"
      ]
     },
     "execution_count": 118,
     "metadata": {},
     "output_type": "execute_result"
    }
   ],
   "source": [
    "lr = LinearRegression()\n",
    "lr.fit(X_train.values[:, best_features], y_train)"
   ]
  },
  {
   "cell_type": "code",
   "execution_count": 119,
   "id": "15565212-cb95-4566-8441-64791a6b7f2b",
   "metadata": {},
   "outputs": [
    {
     "data": {
      "text/plain": [
       "array([ 4.46493089e-02, -8.12455265e-01, -1.13538305e+01,  2.21204013e-03,\n",
       "       -9.60962136e-01,  5.41600028e-01, -3.80836656e-01, -2.41587201e-01])"
      ]
     },
     "execution_count": 119,
     "metadata": {},
     "output_type": "execute_result"
    }
   ],
   "source": [
    "lr.coef_"
   ]
  },
  {
   "cell_type": "code",
   "execution_count": 120,
   "id": "ba52c1c0-8662-4a4e-a4f6-8b2ec692bb87",
   "metadata": {},
   "outputs": [
    {
     "data": {
      "text/plain": [
       "59.144929269707006"
      ]
     },
     "execution_count": 120,
     "metadata": {},
     "output_type": "execute_result"
    }
   ],
   "source": [
    "lr_y_hat = lr.predict(X_test.values[:, best_features])\n",
    "lr_test_mse = mean_squared_error(y_test, lr_y_hat)\n",
    "lr_test_mse"
   ]
  },
  {
   "cell_type": "code",
   "execution_count": 121,
   "id": "f47c4dee-292e-4dcd-8ff0-3df77796960d",
   "metadata": {},
   "outputs": [
    {
     "data": {
      "text/plain": [
       "7.690574053327034"
      ]
     },
     "execution_count": 121,
     "metadata": {},
     "output_type": "execute_result"
    }
   ],
   "source": [
    "lr_test_rmse = np.sqrt(lr_test_mse)\n",
    "lr_test_rmse"
   ]
  },
  {
   "cell_type": "code",
   "execution_count": 122,
   "id": "2d06556e-e3c1-41fb-83b1-169da0832edd",
   "metadata": {},
   "outputs": [
    {
     "data": {
      "text/plain": [
       "0.46986395713191276"
      ]
     },
     "execution_count": 122,
     "metadata": {},
     "output_type": "execute_result"
    }
   ],
   "source": [
    "lr_test_err_rate = boston_data.crim.mean() / lr_test_rmse\n",
    "lr_test_err_rate"
   ]
  },
  {
   "cell_type": "code",
   "execution_count": 123,
   "id": "52399451-9a8c-44ac-9687-c776a987ef5d",
   "metadata": {},
   "outputs": [
    {
     "data": {
      "text/html": [
       "<style>#sk-container-id-13 {color: black;}#sk-container-id-13 pre{padding: 0;}#sk-container-id-13 div.sk-toggleable {background-color: white;}#sk-container-id-13 label.sk-toggleable__label {cursor: pointer;display: block;width: 100%;margin-bottom: 0;padding: 0.3em;box-sizing: border-box;text-align: center;}#sk-container-id-13 label.sk-toggleable__label-arrow:before {content: \"▸\";float: left;margin-right: 0.25em;color: #696969;}#sk-container-id-13 label.sk-toggleable__label-arrow:hover:before {color: black;}#sk-container-id-13 div.sk-estimator:hover label.sk-toggleable__label-arrow:before {color: black;}#sk-container-id-13 div.sk-toggleable__content {max-height: 0;max-width: 0;overflow: hidden;text-align: left;background-color: #f0f8ff;}#sk-container-id-13 div.sk-toggleable__content pre {margin: 0.2em;color: black;border-radius: 0.25em;background-color: #f0f8ff;}#sk-container-id-13 input.sk-toggleable__control:checked~div.sk-toggleable__content {max-height: 200px;max-width: 100%;overflow: auto;}#sk-container-id-13 input.sk-toggleable__control:checked~label.sk-toggleable__label-arrow:before {content: \"▾\";}#sk-container-id-13 div.sk-estimator input.sk-toggleable__control:checked~label.sk-toggleable__label {background-color: #d4ebff;}#sk-container-id-13 div.sk-label input.sk-toggleable__control:checked~label.sk-toggleable__label {background-color: #d4ebff;}#sk-container-id-13 input.sk-hidden--visually {border: 0;clip: rect(1px 1px 1px 1px);clip: rect(1px, 1px, 1px, 1px);height: 1px;margin: -1px;overflow: hidden;padding: 0;position: absolute;width: 1px;}#sk-container-id-13 div.sk-estimator {font-family: monospace;background-color: #f0f8ff;border: 1px dotted black;border-radius: 0.25em;box-sizing: border-box;margin-bottom: 0.5em;}#sk-container-id-13 div.sk-estimator:hover {background-color: #d4ebff;}#sk-container-id-13 div.sk-parallel-item::after {content: \"\";width: 100%;border-bottom: 1px solid gray;flex-grow: 1;}#sk-container-id-13 div.sk-label:hover label.sk-toggleable__label {background-color: #d4ebff;}#sk-container-id-13 div.sk-serial::before {content: \"\";position: absolute;border-left: 1px solid gray;box-sizing: border-box;top: 0;bottom: 0;left: 50%;z-index: 0;}#sk-container-id-13 div.sk-serial {display: flex;flex-direction: column;align-items: center;background-color: white;padding-right: 0.2em;padding-left: 0.2em;position: relative;}#sk-container-id-13 div.sk-item {position: relative;z-index: 1;}#sk-container-id-13 div.sk-parallel {display: flex;align-items: stretch;justify-content: center;background-color: white;position: relative;}#sk-container-id-13 div.sk-item::before, #sk-container-id-13 div.sk-parallel-item::before {content: \"\";position: absolute;border-left: 1px solid gray;box-sizing: border-box;top: 0;bottom: 0;left: 50%;z-index: -1;}#sk-container-id-13 div.sk-parallel-item {display: flex;flex-direction: column;z-index: 1;position: relative;background-color: white;}#sk-container-id-13 div.sk-parallel-item:first-child::after {align-self: flex-end;width: 50%;}#sk-container-id-13 div.sk-parallel-item:last-child::after {align-self: flex-start;width: 50%;}#sk-container-id-13 div.sk-parallel-item:only-child::after {width: 0;}#sk-container-id-13 div.sk-dashed-wrapped {border: 1px dashed gray;margin: 0 0.4em 0.5em 0.4em;box-sizing: border-box;padding-bottom: 0.4em;background-color: white;}#sk-container-id-13 div.sk-label label {font-family: monospace;font-weight: bold;display: inline-block;line-height: 1.2em;}#sk-container-id-13 div.sk-label-container {text-align: center;}#sk-container-id-13 div.sk-container {/* jupyter's `normalize.less` sets `[hidden] { display: none; }` but bootstrap.min.css set `[hidden] { display: none !important; }` so we also need the `!important` here to be able to override the default hidden behavior on the sphinx rendered scikit-learn.org. See: https://github.com/scikit-learn/scikit-learn/issues/21755 */display: inline-block !important;position: relative;}#sk-container-id-13 div.sk-text-repr-fallback {display: none;}</style><div id=\"sk-container-id-13\" class=\"sk-top-container\"><div class=\"sk-text-repr-fallback\"><pre>Pipeline(steps=[(&#x27;scaler&#x27;, StandardScaler()), (&#x27;pca&#x27;, PCA(n_components=2)),\n",
       "                (&#x27;lr&#x27;, LinearRegression())])</pre><b>In a Jupyter environment, please rerun this cell to show the HTML representation or trust the notebook. <br />On GitHub, the HTML representation is unable to render, please try loading this page with nbviewer.org.</b></div><div class=\"sk-container\" hidden><div class=\"sk-item sk-dashed-wrapped\"><div class=\"sk-label-container\"><div class=\"sk-label sk-toggleable\"><input class=\"sk-toggleable__control sk-hidden--visually\" id=\"sk-estimator-id-24\" type=\"checkbox\" ><label for=\"sk-estimator-id-24\" class=\"sk-toggleable__label sk-toggleable__label-arrow\">Pipeline</label><div class=\"sk-toggleable__content\"><pre>Pipeline(steps=[(&#x27;scaler&#x27;, StandardScaler()), (&#x27;pca&#x27;, PCA(n_components=2)),\n",
       "                (&#x27;lr&#x27;, LinearRegression())])</pre></div></div></div><div class=\"sk-serial\"><div class=\"sk-item\"><div class=\"sk-estimator sk-toggleable\"><input class=\"sk-toggleable__control sk-hidden--visually\" id=\"sk-estimator-id-25\" type=\"checkbox\" ><label for=\"sk-estimator-id-25\" class=\"sk-toggleable__label sk-toggleable__label-arrow\">StandardScaler</label><div class=\"sk-toggleable__content\"><pre>StandardScaler()</pre></div></div></div><div class=\"sk-item\"><div class=\"sk-estimator sk-toggleable\"><input class=\"sk-toggleable__control sk-hidden--visually\" id=\"sk-estimator-id-26\" type=\"checkbox\" ><label for=\"sk-estimator-id-26\" class=\"sk-toggleable__label sk-toggleable__label-arrow\">PCA</label><div class=\"sk-toggleable__content\"><pre>PCA(n_components=2)</pre></div></div></div><div class=\"sk-item\"><div class=\"sk-estimator sk-toggleable\"><input class=\"sk-toggleable__control sk-hidden--visually\" id=\"sk-estimator-id-27\" type=\"checkbox\" ><label for=\"sk-estimator-id-27\" class=\"sk-toggleable__label sk-toggleable__label-arrow\">LinearRegression</label><div class=\"sk-toggleable__content\"><pre>LinearRegression()</pre></div></div></div></div></div></div></div>"
      ],
      "text/plain": [
       "Pipeline(steps=[('scaler', StandardScaler()), ('pca', PCA(n_components=2)),\n",
       "                ('lr', LinearRegression())])"
      ]
     },
     "execution_count": 123,
     "metadata": {},
     "output_type": "execute_result"
    }
   ],
   "source": [
    "scaler = StandardScaler()\n",
    "pca = PCA(n_components=2)\n",
    "lr = LinearRegression()\n",
    "\n",
    "PCR_pipe = Pipeline(steps=[('scaler', scaler), ('pca', pca), ('lr', lr)])\n",
    "PCR_pipe.fit(X_train, y_train)\n",
    "\n"
   ]
  },
  {
   "cell_type": "code",
   "execution_count": 124,
   "id": "b7c3cece-c61e-4cdf-8b2e-0df0921f2d34",
   "metadata": {},
   "outputs": [
    {
     "data": {
      "text/plain": [
       "73.23674644906072"
      ]
     },
     "execution_count": 124,
     "metadata": {},
     "output_type": "execute_result"
    }
   ],
   "source": [
    "pcr_y_hat = PCR_pipe.predict(X_test)\n",
    "pcr_test_mse = mean_squared_error(y_test, pcr_y_hat)\n",
    "pcr_test_mse"
   ]
  },
  {
   "cell_type": "code",
   "execution_count": 125,
   "id": "05c207d4-c977-4b9f-9cb6-88fba1049896",
   "metadata": {},
   "outputs": [
    {
     "data": {
      "text/plain": [
       "8.55784706857167"
      ]
     },
     "execution_count": 125,
     "metadata": {},
     "output_type": "execute_result"
    }
   ],
   "source": [
    "pcr_test_rmse = np.sqrt(pcr_test_mse)\n",
    "pcr_test_rmse"
   ]
  },
  {
   "cell_type": "code",
   "execution_count": 126,
   "id": "7a1b3b1e-5b31-4dee-9191-c1dcc4f7ac67",
   "metadata": {},
   "outputs": [
    {
     "data": {
      "text/html": [
       "<style>#sk-container-id-14 {color: black;}#sk-container-id-14 pre{padding: 0;}#sk-container-id-14 div.sk-toggleable {background-color: white;}#sk-container-id-14 label.sk-toggleable__label {cursor: pointer;display: block;width: 100%;margin-bottom: 0;padding: 0.3em;box-sizing: border-box;text-align: center;}#sk-container-id-14 label.sk-toggleable__label-arrow:before {content: \"▸\";float: left;margin-right: 0.25em;color: #696969;}#sk-container-id-14 label.sk-toggleable__label-arrow:hover:before {color: black;}#sk-container-id-14 div.sk-estimator:hover label.sk-toggleable__label-arrow:before {color: black;}#sk-container-id-14 div.sk-toggleable__content {max-height: 0;max-width: 0;overflow: hidden;text-align: left;background-color: #f0f8ff;}#sk-container-id-14 div.sk-toggleable__content pre {margin: 0.2em;color: black;border-radius: 0.25em;background-color: #f0f8ff;}#sk-container-id-14 input.sk-toggleable__control:checked~div.sk-toggleable__content {max-height: 200px;max-width: 100%;overflow: auto;}#sk-container-id-14 input.sk-toggleable__control:checked~label.sk-toggleable__label-arrow:before {content: \"▾\";}#sk-container-id-14 div.sk-estimator input.sk-toggleable__control:checked~label.sk-toggleable__label {background-color: #d4ebff;}#sk-container-id-14 div.sk-label input.sk-toggleable__control:checked~label.sk-toggleable__label {background-color: #d4ebff;}#sk-container-id-14 input.sk-hidden--visually {border: 0;clip: rect(1px 1px 1px 1px);clip: rect(1px, 1px, 1px, 1px);height: 1px;margin: -1px;overflow: hidden;padding: 0;position: absolute;width: 1px;}#sk-container-id-14 div.sk-estimator {font-family: monospace;background-color: #f0f8ff;border: 1px dotted black;border-radius: 0.25em;box-sizing: border-box;margin-bottom: 0.5em;}#sk-container-id-14 div.sk-estimator:hover {background-color: #d4ebff;}#sk-container-id-14 div.sk-parallel-item::after {content: \"\";width: 100%;border-bottom: 1px solid gray;flex-grow: 1;}#sk-container-id-14 div.sk-label:hover label.sk-toggleable__label {background-color: #d4ebff;}#sk-container-id-14 div.sk-serial::before {content: \"\";position: absolute;border-left: 1px solid gray;box-sizing: border-box;top: 0;bottom: 0;left: 50%;z-index: 0;}#sk-container-id-14 div.sk-serial {display: flex;flex-direction: column;align-items: center;background-color: white;padding-right: 0.2em;padding-left: 0.2em;position: relative;}#sk-container-id-14 div.sk-item {position: relative;z-index: 1;}#sk-container-id-14 div.sk-parallel {display: flex;align-items: stretch;justify-content: center;background-color: white;position: relative;}#sk-container-id-14 div.sk-item::before, #sk-container-id-14 div.sk-parallel-item::before {content: \"\";position: absolute;border-left: 1px solid gray;box-sizing: border-box;top: 0;bottom: 0;left: 50%;z-index: -1;}#sk-container-id-14 div.sk-parallel-item {display: flex;flex-direction: column;z-index: 1;position: relative;background-color: white;}#sk-container-id-14 div.sk-parallel-item:first-child::after {align-self: flex-end;width: 50%;}#sk-container-id-14 div.sk-parallel-item:last-child::after {align-self: flex-start;width: 50%;}#sk-container-id-14 div.sk-parallel-item:only-child::after {width: 0;}#sk-container-id-14 div.sk-dashed-wrapped {border: 1px dashed gray;margin: 0 0.4em 0.5em 0.4em;box-sizing: border-box;padding-bottom: 0.4em;background-color: white;}#sk-container-id-14 div.sk-label label {font-family: monospace;font-weight: bold;display: inline-block;line-height: 1.2em;}#sk-container-id-14 div.sk-label-container {text-align: center;}#sk-container-id-14 div.sk-container {/* jupyter's `normalize.less` sets `[hidden] { display: none; }` but bootstrap.min.css set `[hidden] { display: none !important; }` so we also need the `!important` here to be able to override the default hidden behavior on the sphinx rendered scikit-learn.org. See: https://github.com/scikit-learn/scikit-learn/issues/21755 */display: inline-block !important;position: relative;}#sk-container-id-14 div.sk-text-repr-fallback {display: none;}</style><div id=\"sk-container-id-14\" class=\"sk-top-container\"><div class=\"sk-text-repr-fallback\"><pre>GridSearchCV(cv=KFold(n_splits=5, random_state=0, shuffle=True),\n",
       "             estimator=Pipeline(steps=[(&#x27;scaler&#x27;, StandardScaler()),\n",
       "                                       (&#x27;pca&#x27;, PCA(n_components=2)),\n",
       "                                       (&#x27;lr&#x27;, LinearRegression())]),\n",
       "             param_grid={&#x27;pca__n_components&#x27;: range(1, 13)},\n",
       "             scoring=&#x27;neg_mean_squared_error&#x27;)</pre><b>In a Jupyter environment, please rerun this cell to show the HTML representation or trust the notebook. <br />On GitHub, the HTML representation is unable to render, please try loading this page with nbviewer.org.</b></div><div class=\"sk-container\" hidden><div class=\"sk-item sk-dashed-wrapped\"><div class=\"sk-label-container\"><div class=\"sk-label sk-toggleable\"><input class=\"sk-toggleable__control sk-hidden--visually\" id=\"sk-estimator-id-28\" type=\"checkbox\" ><label for=\"sk-estimator-id-28\" class=\"sk-toggleable__label sk-toggleable__label-arrow\">GridSearchCV</label><div class=\"sk-toggleable__content\"><pre>GridSearchCV(cv=KFold(n_splits=5, random_state=0, shuffle=True),\n",
       "             estimator=Pipeline(steps=[(&#x27;scaler&#x27;, StandardScaler()),\n",
       "                                       (&#x27;pca&#x27;, PCA(n_components=2)),\n",
       "                                       (&#x27;lr&#x27;, LinearRegression())]),\n",
       "             param_grid={&#x27;pca__n_components&#x27;: range(1, 13)},\n",
       "             scoring=&#x27;neg_mean_squared_error&#x27;)</pre></div></div></div><div class=\"sk-parallel\"><div class=\"sk-parallel-item\"><div class=\"sk-item\"><div class=\"sk-label-container\"><div class=\"sk-label sk-toggleable\"><input class=\"sk-toggleable__control sk-hidden--visually\" id=\"sk-estimator-id-29\" type=\"checkbox\" ><label for=\"sk-estimator-id-29\" class=\"sk-toggleable__label sk-toggleable__label-arrow\">estimator: Pipeline</label><div class=\"sk-toggleable__content\"><pre>Pipeline(steps=[(&#x27;scaler&#x27;, StandardScaler()), (&#x27;pca&#x27;, PCA(n_components=2)),\n",
       "                (&#x27;lr&#x27;, LinearRegression())])</pre></div></div></div><div class=\"sk-serial\"><div class=\"sk-item\"><div class=\"sk-serial\"><div class=\"sk-item\"><div class=\"sk-estimator sk-toggleable\"><input class=\"sk-toggleable__control sk-hidden--visually\" id=\"sk-estimator-id-30\" type=\"checkbox\" ><label for=\"sk-estimator-id-30\" class=\"sk-toggleable__label sk-toggleable__label-arrow\">StandardScaler</label><div class=\"sk-toggleable__content\"><pre>StandardScaler()</pre></div></div></div><div class=\"sk-item\"><div class=\"sk-estimator sk-toggleable\"><input class=\"sk-toggleable__control sk-hidden--visually\" id=\"sk-estimator-id-31\" type=\"checkbox\" ><label for=\"sk-estimator-id-31\" class=\"sk-toggleable__label sk-toggleable__label-arrow\">PCA</label><div class=\"sk-toggleable__content\"><pre>PCA(n_components=2)</pre></div></div></div><div class=\"sk-item\"><div class=\"sk-estimator sk-toggleable\"><input class=\"sk-toggleable__control sk-hidden--visually\" id=\"sk-estimator-id-32\" type=\"checkbox\" ><label for=\"sk-estimator-id-32\" class=\"sk-toggleable__label sk-toggleable__label-arrow\">LinearRegression</label><div class=\"sk-toggleable__content\"><pre>LinearRegression()</pre></div></div></div></div></div></div></div></div></div></div></div></div>"
      ],
      "text/plain": [
       "GridSearchCV(cv=KFold(n_splits=5, random_state=0, shuffle=True),\n",
       "             estimator=Pipeline(steps=[('scaler', StandardScaler()),\n",
       "                                       ('pca', PCA(n_components=2)),\n",
       "                                       ('lr', LinearRegression())]),\n",
       "             param_grid={'pca__n_components': range(1, 13)},\n",
       "             scoring='neg_mean_squared_error')"
      ]
     },
     "execution_count": 126,
     "metadata": {},
     "output_type": "execute_result"
    }
   ],
   "source": [
    "param_grid = {\n",
    "    'pca__n_components': range(1, X.shape[1] + 1),\n",
    "}\n",
    "K = 5\n",
    "kfold = KFold(K, random_state=0, shuffle=True)\n",
    "grid = GridSearchCV(PCR_pipe, param_grid, cv=kfold, scoring='neg_mean_squared_error')\n",
    "grid.fit(X_train, y_train)"
   ]
  },
  {
   "cell_type": "code",
   "execution_count": 127,
   "id": "954b3885-d564-45e5-8875-bb7568b8fb74",
   "metadata": {},
   "outputs": [
    {
     "data": {
      "text/plain": [
       "41.004951326220684"
      ]
     },
     "execution_count": 127,
     "metadata": {},
     "output_type": "execute_result"
    }
   ],
   "source": [
    "pcr_test_mse_cv = -grid.cv_results_['mean_test_score'].mean()\n",
    "pcr_test_mse_cv"
   ]
  },
  {
   "cell_type": "code",
   "execution_count": 128,
   "id": "bb81b09a-8276-4115-90b4-7eecfe632d41",
   "metadata": {},
   "outputs": [
    {
     "data": {
      "image/png": "[encoded data removed]",
      "text/plain": [
       "<Figure size 800x800 with 1 Axes>"
      ]
     },
     "metadata": {},
     "output_type": "display_data"
    }
   ],
   "source": [
    "pcr_fig, ax = plt.subplots(figsize =(8 ,8))\n",
    "n_comp = param_grid['pca__n_components'] \n",
    "ax.errorbar(n_comp, -grid.cv_results_['mean_test_score'], grid.cv_results_['std_test_score'] / np.sqrt(K))\n",
    "ax.set_ylabel('Cross -validated MSE', fontsize=20)\n",
    "ax.set_xlabel('# principal components ', fontsize=20)\n",
    "plt.ylim([0, 100])\n",
    "ax.set_xticks(n_comp[::2]);"
   ]
  },
  {
   "cell_type": "code",
   "execution_count": 129,
   "id": "c857c865-e422-4674-8c47-df73f04ff23d",
   "metadata": {},
   "outputs": [],
   "source": [
    "pca = PCA(n_components=3)\n",
    "X_train_dcmp = pca.fit_transform(X_train_std)\n",
    "X_test_dcmp = pca.transform(X_test_std)"
   ]
  },
  {
   "cell_type": "code",
   "execution_count": 130,
   "id": "e8664629-0182-41cf-ba4e-2f0130949d6f",
   "metadata": {},
   "outputs": [
    {
     "data": {
      "text/html": [
       "<style>#sk-container-id-15 {color: black;}#sk-container-id-15 pre{padding: 0;}#sk-container-id-15 div.sk-toggleable {background-color: white;}#sk-container-id-15 label.sk-toggleable__label {cursor: pointer;display: block;width: 100%;margin-bottom: 0;padding: 0.3em;box-sizing: border-box;text-align: center;}#sk-container-id-15 label.sk-toggleable__label-arrow:before {content: \"▸\";float: left;margin-right: 0.25em;color: #696969;}#sk-container-id-15 label.sk-toggleable__label-arrow:hover:before {color: black;}#sk-container-id-15 div.sk-estimator:hover label.sk-toggleable__label-arrow:before {color: black;}#sk-container-id-15 div.sk-toggleable__content {max-height: 0;max-width: 0;overflow: hidden;text-align: left;background-color: #f0f8ff;}#sk-container-id-15 div.sk-toggleable__content pre {margin: 0.2em;color: black;border-radius: 0.25em;background-color: #f0f8ff;}#sk-container-id-15 input.sk-toggleable__control:checked~div.sk-toggleable__content {max-height: 200px;max-width: 100%;overflow: auto;}#sk-container-id-15 input.sk-toggleable__control:checked~label.sk-toggleable__label-arrow:before {content: \"▾\";}#sk-container-id-15 div.sk-estimator input.sk-toggleable__control:checked~label.sk-toggleable__label {background-color: #d4ebff;}#sk-container-id-15 div.sk-label input.sk-toggleable__control:checked~label.sk-toggleable__label {background-color: #d4ebff;}#sk-container-id-15 input.sk-hidden--visually {border: 0;clip: rect(1px 1px 1px 1px);clip: rect(1px, 1px, 1px, 1px);height: 1px;margin: -1px;overflow: hidden;padding: 0;position: absolute;width: 1px;}#sk-container-id-15 div.sk-estimator {font-family: monospace;background-color: #f0f8ff;border: 1px dotted black;border-radius: 0.25em;box-sizing: border-box;margin-bottom: 0.5em;}#sk-container-id-15 div.sk-estimator:hover {background-color: #d4ebff;}#sk-container-id-15 div.sk-parallel-item::after {content: \"\";width: 100%;border-bottom: 1px solid gray;flex-grow: 1;}#sk-container-id-15 div.sk-label:hover label.sk-toggleable__label {background-color: #d4ebff;}#sk-container-id-15 div.sk-serial::before {content: \"\";position: absolute;border-left: 1px solid gray;box-sizing: border-box;top: 0;bottom: 0;left: 50%;z-index: 0;}#sk-container-id-15 div.sk-serial {display: flex;flex-direction: column;align-items: center;background-color: white;padding-right: 0.2em;padding-left: 0.2em;position: relative;}#sk-container-id-15 div.sk-item {position: relative;z-index: 1;}#sk-container-id-15 div.sk-parallel {display: flex;align-items: stretch;justify-content: center;background-color: white;position: relative;}#sk-container-id-15 div.sk-item::before, #sk-container-id-15 div.sk-parallel-item::before {content: \"\";position: absolute;border-left: 1px solid gray;box-sizing: border-box;top: 0;bottom: 0;left: 50%;z-index: -1;}#sk-container-id-15 div.sk-parallel-item {display: flex;flex-direction: column;z-index: 1;position: relative;background-color: white;}#sk-container-id-15 div.sk-parallel-item:first-child::after {align-self: flex-end;width: 50%;}#sk-container-id-15 div.sk-parallel-item:last-child::after {align-self: flex-start;width: 50%;}#sk-container-id-15 div.sk-parallel-item:only-child::after {width: 0;}#sk-container-id-15 div.sk-dashed-wrapped {border: 1px dashed gray;margin: 0 0.4em 0.5em 0.4em;box-sizing: border-box;padding-bottom: 0.4em;background-color: white;}#sk-container-id-15 div.sk-label label {font-family: monospace;font-weight: bold;display: inline-block;line-height: 1.2em;}#sk-container-id-15 div.sk-label-container {text-align: center;}#sk-container-id-15 div.sk-container {/* jupyter's `normalize.less` sets `[hidden] { display: none; }` but bootstrap.min.css set `[hidden] { display: none !important; }` so we also need the `!important` here to be able to override the default hidden behavior on the sphinx rendered scikit-learn.org. See: https://github.com/scikit-learn/scikit-learn/issues/21755 */display: inline-block !important;position: relative;}#sk-container-id-15 div.sk-text-repr-fallback {display: none;}</style><div id=\"sk-container-id-15\" class=\"sk-top-container\"><div class=\"sk-text-repr-fallback\"><pre>LinearRegression()</pre><b>In a Jupyter environment, please rerun this cell to show the HTML representation or trust the notebook. <br />On GitHub, the HTML representation is unable to render, please try loading this page with nbviewer.org.</b></div><div class=\"sk-container\" hidden><div class=\"sk-item\"><div class=\"sk-estimator sk-toggleable\"><input class=\"sk-toggleable__control sk-hidden--visually\" id=\"sk-estimator-id-33\" type=\"checkbox\" checked><label for=\"sk-estimator-id-33\" class=\"sk-toggleable__label sk-toggleable__label-arrow\">LinearRegression</label><div class=\"sk-toggleable__content\"><pre>LinearRegression()</pre></div></div></div></div></div>"
      ],
      "text/plain": [
       "LinearRegression()"
      ]
     },
     "execution_count": 130,
     "metadata": {},
     "output_type": "execute_result"
    }
   ],
   "source": [
    "pcr = LinearRegression()\n",
    "pcr.fit(X_train_dcmp, y_train)"
   ]
  },
  {
   "cell_type": "code",
   "execution_count": 131,
   "id": "f36e7528-ca7c-40ba-a780-37d26b886c86",
   "metadata": {},
   "outputs": [
    {
     "data": {
      "text/plain": [
       "array([-1.77151398, -0.08699185, -2.28270839])"
      ]
     },
     "execution_count": 131,
     "metadata": {},
     "output_type": "execute_result"
    }
   ],
   "source": [
    "pcr.coef_"
   ]
  },
  {
   "cell_type": "code",
   "execution_count": 132,
   "id": "05065736-6674-47ec-8e10-9e7ff782d2be",
   "metadata": {},
   "outputs": [
    {
     "data": {
      "text/plain": [
       "65.3798926756243"
      ]
     },
     "execution_count": 132,
     "metadata": {},
     "output_type": "execute_result"
    }
   ],
   "source": [
    "pcr_y_hat = pcr.predict(X_test_dcmp)\n",
    "pcr_test_mse = mean_squared_error(y_test, pcr_y_hat)\n",
    "pcr_test_mse"
   ]
  },
  {
   "cell_type": "code",
   "execution_count": 133,
   "id": "209cf502-e695-496a-99fe-a59ed2c44852",
   "metadata": {},
   "outputs": [
    {
     "data": {
      "text/plain": [
       "8.085783368086503"
      ]
     },
     "execution_count": 133,
     "metadata": {},
     "output_type": "execute_result"
    }
   ],
   "source": [
    "pcr_test_rmse = np.sqrt(pcr_test_mse)\n",
    "pcr_test_rmse"
   ]
  },
  {
   "cell_type": "code",
   "execution_count": 134,
   "id": "0642c040-9ca3-4513-97ef-5889bc445a8c",
   "metadata": {},
   "outputs": [
    {
     "data": {
      "text/plain": [
       "0.44689838854381686"
      ]
     },
     "execution_count": 134,
     "metadata": {},
     "output_type": "execute_result"
    }
   ],
   "source": [
    "pcr_test_err_rate = boston_data.crim.mean() / pcr_test_rmse \n",
    "pcr_test_err_rate"
   ]
  },
  {
   "cell_type": "code",
   "execution_count": 135,
   "id": "9ea907a0-23c7-447d-bbe9-a66a8828f1ae",
   "metadata": {},
   "outputs": [
    {
     "data": {
      "image/png": "[encoded data removed]",
      "text/plain": [
       "<Figure size 1000x600 with 1 Axes>"
      ]
     },
     "metadata": {},
     "output_type": "display_data"
    }
   ],
   "source": [
    "methods = ['Least Squares', 'Ridge Regression', 'Lasso Regression', 'PCR']\n",
    "mse_values = [59.144929269707006, 61.26410431049417, 60.69464788290825, 65.3798926756243]\n",
    "rmse_values = [7.690574053327034, 7.827138960724676, 7.790676984890867, 8.085783368086503]\n",
    "\n",
    "plt.figure(figsize=(10, 6))\n",
    "\n",
    "plt.bar([methods[i] for i in np.argsort(mse_values)], sorted(mse_values), alpha=0.7, label='MSE')\n",
    "plt.bar([methods[i] for i in np.argsort(rmse_values)], sorted(rmse_values), alpha=0.7, label='RMSE')\n",
    "\n",
    "plt.xlabel('Regression Methods')\n",
    "plt.ylabel('Error')\n",
    "plt.title('Performance Comparison of Regression Methods')\n",
    "plt.legend()\n",
    "plt.show()\n"
   ]
  },
  {
   "cell_type": "markdown",
   "id": "ebd33c92-4db7-47f6-a5fc-d97d66c88424",
   "metadata": {},
   "source": [
    "#### Exercise 6.6.11 b\n",
    "\n",
    "Propose a model (or set of models) that seem to perform well on this data set, and justify your answer. Make sure that you are evaluating model performance using validation set error, cross-validation, or some other reasonable alternative, as opposed to using training error.\n",
    "\n",
    "__Answer__:\n",
    "\n",
    "During fitting various models on  `Boston` dataset, the best method was Best Subset Selection method with fitting Linear Regression, it achieves the lowest MSE on the `Boston` dataset. Second algorithm with a regard to test RMSE and MSE was a Lasso Regression. All methods except Best Subset Selection, performed cross-validation with K-Fold where $K=5$. "
   ]
  },
  {
   "cell_type": "markdown",
   "id": "acb27740-1980-4e82-adbc-65795b55475c",
   "metadata": {},
   "source": [
    "#### Exercise 6.6.12 c\n",
    "\n",
    "Does your chosen model involve all of the features in the data set? Why or why not?\n",
    "\n",
    "__Answer__:\n",
    "\n",
    "- No, the models that I've chosen do not contain all the features. The reason might be that in fact, those features that are not present in the model (Lasso or Best Subset Selection), might not be associated with response variable $Y$."
   ]
  },
  {
   "cell_type": "code",
   "execution_count": 136,
   "id": "2b8cb9d1-1a4c-4e5e-8f34-7dd3d48f345f",
   "metadata": {},
   "outputs": [
    {
     "data": {
      "text/plain": [
       "(0, 2, 3, 5, 6, 7, 9, 11)"
      ]
     },
     "execution_count": 136,
     "metadata": {},
     "output_type": "execute_result"
    }
   ],
   "source": [
    "best_features"
   ]
  },
  {
   "cell_type": "code",
   "execution_count": 137,
   "id": "da262b57-ee18-4b6b-8dc9-19ee81df3603",
   "metadata": {},
   "outputs": [
    {
     "data": {
      "text/plain": [
       "array([-0.00000000e+00,  1.58836493e+00, -8.29792341e-01,  2.20287423e+01,\n",
       "        0.00000000e+00,  7.24709214e-02,  1.73895761e-02, -8.01065988e-02,\n",
       "        1.33962958e-01,  5.58469090e-03, -1.67997844e-02, -0.00000000e+00,\n",
       "       -0.00000000e+00,  0.00000000e+00,  0.00000000e+00,  7.57048799e-02,\n",
       "        0.00000000e+00])"
      ]
     },
     "execution_count": 137,
     "metadata": {},
     "output_type": "execute_result"
    }
   ],
   "source": [
    "lasso.coef_"
   ]
  },
  {
   "cell_type": "code",
   "execution_count": 138,
   "id": "c0292195-b9e2-4eb8-b5f8-528d00cc06e1",
   "metadata": {},
   "outputs": [
    {
     "data": {
      "text/html": [
       "<table class=\"simpletable\">\n",
       "<caption>OLS Regression Results</caption>\n",
       "<tr>\n",
       "  <th>Dep. Variable:</th>          <td>crim</td>       <th>  R-squared (uncentered):</th>      <td>   0.528</td>\n",
       "</tr>\n",
       "<tr>\n",
       "  <th>Model:</th>                   <td>OLS</td>       <th>  Adj. R-squared (uncentered):</th> <td>   0.517</td>\n",
       "</tr>\n",
       "<tr>\n",
       "  <th>Method:</th>             <td>Least Squares</td>  <th>  F-statistic:       </th>          <td>   46.14</td>\n",
       "</tr>\n",
       "<tr>\n",
       "  <th>Date:</th>             <td>Wed, 15 Nov 2023</td> <th>  Prob (F-statistic):</th>          <td>7.69e-73</td>\n",
       "</tr>\n",
       "<tr>\n",
       "  <th>Time:</th>                 <td>13:59:40</td>     <th>  Log-Likelihood:    </th>          <td> -1657.4</td>\n",
       "</tr>\n",
       "<tr>\n",
       "  <th>No. Observations:</th>      <td>   506</td>      <th>  AIC:               </th>          <td>   3339.</td>\n",
       "</tr>\n",
       "<tr>\n",
       "  <th>Df Residuals:</th>          <td>   494</td>      <th>  BIC:               </th>          <td>   3389.</td>\n",
       "</tr>\n",
       "<tr>\n",
       "  <th>Df Model:</th>              <td>    12</td>      <th>                     </th>              <td> </td>   \n",
       "</tr>\n",
       "<tr>\n",
       "  <th>Covariance Type:</th>      <td>nonrobust</td>    <th>                     </th>              <td> </td>   \n",
       "</tr>\n",
       "</table>\n",
       "<table class=\"simpletable\">\n",
       "<tr>\n",
       "     <td></td>        <th>coef</th>     <th>std err</th>      <th>t</th>      <th>P>|t|</th>  <th>[0.025</th>    <th>0.975]</th>  \n",
       "</tr>\n",
       "<tr>\n",
       "  <th>zn</th>      <td>    0.0450</td> <td>    0.019</td> <td>    2.391</td> <td> 0.017</td> <td>    0.008</td> <td>    0.082</td>\n",
       "</tr>\n",
       "<tr>\n",
       "  <th>indus</th>   <td>   -0.0699</td> <td>    0.084</td> <td>   -0.835</td> <td> 0.404</td> <td>   -0.234</td> <td>    0.095</td>\n",
       "</tr>\n",
       "<tr>\n",
       "  <th>chas</th>    <td>   -0.8568</td> <td>    1.187</td> <td>   -0.722</td> <td> 0.471</td> <td>   -3.188</td> <td>    1.475</td>\n",
       "</tr>\n",
       "<tr>\n",
       "  <th>nox</th>     <td>   -4.0431</td> <td>    4.341</td> <td>   -0.931</td> <td> 0.352</td> <td>  -12.573</td> <td>    4.487</td>\n",
       "</tr>\n",
       "<tr>\n",
       "  <th>rm</th>      <td>    1.2173</td> <td>    0.528</td> <td>    2.306</td> <td> 0.022</td> <td>    0.180</td> <td>    2.254</td>\n",
       "</tr>\n",
       "<tr>\n",
       "  <th>age</th>     <td>   -0.0033</td> <td>    0.018</td> <td>   -0.182</td> <td> 0.856</td> <td>   -0.039</td> <td>    0.032</td>\n",
       "</tr>\n",
       "<tr>\n",
       "  <th>dis</th>     <td>   -0.7762</td> <td>    0.256</td> <td>   -3.034</td> <td> 0.003</td> <td>   -1.279</td> <td>   -0.274</td>\n",
       "</tr>\n",
       "<tr>\n",
       "  <th>rad</th>     <td>    0.5523</td> <td>    0.082</td> <td>    6.725</td> <td> 0.000</td> <td>    0.391</td> <td>    0.714</td>\n",
       "</tr>\n",
       "<tr>\n",
       "  <th>tax</th>     <td>   -0.0023</td> <td>    0.005</td> <td>   -0.444</td> <td> 0.657</td> <td>   -0.012</td> <td>    0.008</td>\n",
       "</tr>\n",
       "<tr>\n",
       "  <th>ptratio</th> <td>   -0.0598</td> <td>    0.138</td> <td>   -0.433</td> <td> 0.665</td> <td>   -0.331</td> <td>    0.212</td>\n",
       "</tr>\n",
       "<tr>\n",
       "  <th>lstat</th>   <td>    0.1966</td> <td>    0.070</td> <td>    2.814</td> <td> 0.005</td> <td>    0.059</td> <td>    0.334</td>\n",
       "</tr>\n",
       "<tr>\n",
       "  <th>medv</th>    <td>   -0.1797</td> <td>    0.056</td> <td>   -3.194</td> <td> 0.001</td> <td>   -0.290</td> <td>   -0.069</td>\n",
       "</tr>\n",
       "</table>\n",
       "<table class=\"simpletable\">\n",
       "<tr>\n",
       "  <th>Omnibus:</th>       <td>663.243</td> <th>  Durbin-Watson:     </th> <td>   1.511</td> \n",
       "</tr>\n",
       "<tr>\n",
       "  <th>Prob(Omnibus):</th> <td> 0.000</td>  <th>  Jarque-Bera (JB):  </th> <td>80159.962</td>\n",
       "</tr>\n",
       "<tr>\n",
       "  <th>Skew:</th>          <td> 6.580</td>  <th>  Prob(JB):          </th> <td>    0.00</td> \n",
       "</tr>\n",
       "<tr>\n",
       "  <th>Kurtosis:</th>      <td>63.240</td>  <th>  Cond. No.          </th> <td>6.77e+03</td> \n",
       "</tr>\n",
       "</table><br/><br/>Notes:<br/>[1] R² is computed without centering (uncentered) since the model does not contain a constant.<br/>[2] Standard Errors assume that the covariance matrix of the errors is correctly specified.<br/>[3] The condition number is large, 6.77e+03. This might indicate that there are<br/>strong multicollinearity or other numerical problems."
      ],
      "text/latex": [
       "\\begin{center}\n",
       "\\begin{tabular}{lclc}\n",
       "\\toprule\n",
       "\\textbf{Dep. Variable:}    &       crim       & \\textbf{  R-squared (uncentered):}      &     0.528   \\\\\n",
       "\\textbf{Model:}            &       OLS        & \\textbf{  Adj. R-squared (uncentered):} &     0.517   \\\\\n",
       "\\textbf{Method:}           &  Least Squares   & \\textbf{  F-statistic:       }          &     46.14   \\\\\n",
       "\\textbf{Date:}             & Wed, 15 Nov 2023 & \\textbf{  Prob (F-statistic):}          &  7.69e-73   \\\\\n",
       "\\textbf{Time:}             &     13:59:40     & \\textbf{  Log-Likelihood:    }          &   -1657.4   \\\\\n",
       "\\textbf{No. Observations:} &         506      & \\textbf{  AIC:               }          &     3339.   \\\\\n",
       "\\textbf{Df Residuals:}     &         494      & \\textbf{  BIC:               }          &     3389.   \\\\\n",
       "\\textbf{Df Model:}         &          12      & \\textbf{                     }          &             \\\\\n",
       "\\textbf{Covariance Type:}  &    nonrobust     & \\textbf{                     }          &             \\\\\n",
       "\\bottomrule\n",
       "\\end{tabular}\n",
       "\\begin{tabular}{lcccccc}\n",
       "                 & \\textbf{coef} & \\textbf{std err} & \\textbf{t} & \\textbf{P$> |$t$|$} & \\textbf{[0.025} & \\textbf{0.975]}  \\\\\n",
       "\\midrule\n",
       "\\textbf{zn}      &       0.0450  &        0.019     &     2.391  &         0.017        &        0.008    &        0.082     \\\\\n",
       "\\textbf{indus}   &      -0.0699  &        0.084     &    -0.835  &         0.404        &       -0.234    &        0.095     \\\\\n",
       "\\textbf{chas}    &      -0.8568  &        1.187     &    -0.722  &         0.471        &       -3.188    &        1.475     \\\\\n",
       "\\textbf{nox}     &      -4.0431  &        4.341     &    -0.931  &         0.352        &      -12.573    &        4.487     \\\\\n",
       "\\textbf{rm}      &       1.2173  &        0.528     &     2.306  &         0.022        &        0.180    &        2.254     \\\\\n",
       "\\textbf{age}     &      -0.0033  &        0.018     &    -0.182  &         0.856        &       -0.039    &        0.032     \\\\\n",
       "\\textbf{dis}     &      -0.7762  &        0.256     &    -3.034  &         0.003        &       -1.279    &       -0.274     \\\\\n",
       "\\textbf{rad}     &       0.5523  &        0.082     &     6.725  &         0.000        &        0.391    &        0.714     \\\\\n",
       "\\textbf{tax}     &      -0.0023  &        0.005     &    -0.444  &         0.657        &       -0.012    &        0.008     \\\\\n",
       "\\textbf{ptratio} &      -0.0598  &        0.138     &    -0.433  &         0.665        &       -0.331    &        0.212     \\\\\n",
       "\\textbf{lstat}   &       0.1966  &        0.070     &     2.814  &         0.005        &        0.059    &        0.334     \\\\\n",
       "\\textbf{medv}    &      -0.1797  &        0.056     &    -3.194  &         0.001        &       -0.290    &       -0.069     \\\\\n",
       "\\bottomrule\n",
       "\\end{tabular}\n",
       "\\begin{tabular}{lclc}\n",
       "\\textbf{Omnibus:}       & 663.243 & \\textbf{  Durbin-Watson:     } &     1.511  \\\\\n",
       "\\textbf{Prob(Omnibus):} &   0.000 & \\textbf{  Jarque-Bera (JB):  } & 80159.962  \\\\\n",
       "\\textbf{Skew:}          &   6.580 & \\textbf{  Prob(JB):          } &      0.00  \\\\\n",
       "\\textbf{Kurtosis:}      &  63.240 & \\textbf{  Cond. No.          } &  6.77e+03  \\\\\n",
       "\\bottomrule\n",
       "\\end{tabular}\n",
       "%\\caption{OLS Regression Results}\n",
       "\\end{center}\n",
       "\n",
       "Notes: \\newline\n",
       " [1] R² is computed without centering (uncentered) since the model does not contain a constant. \\newline\n",
       " [2] Standard Errors assume that the covariance matrix of the errors is correctly specified. \\newline\n",
       " [3] The condition number is large, 6.77e+03. This might indicate that there are \\newline\n",
       " strong multicollinearity or other numerical problems."
      ],
      "text/plain": [
       "<class 'statsmodels.iolib.summary.Summary'>\n",
       "\"\"\"\n",
       "                                 OLS Regression Results                                \n",
       "=======================================================================================\n",
       "Dep. Variable:                   crim   R-squared (uncentered):                   0.528\n",
       "Model:                            OLS   Adj. R-squared (uncentered):              0.517\n",
       "Method:                 Least Squares   F-statistic:                              46.14\n",
       "Date:                Wed, 15 Nov 2023   Prob (F-statistic):                    7.69e-73\n",
       "Time:                        13:59:40   Log-Likelihood:                         -1657.4\n",
       "No. Observations:                 506   AIC:                                      3339.\n",
       "Df Residuals:                     494   BIC:                                      3389.\n",
       "Df Model:                          12                                                  \n",
       "Covariance Type:            nonrobust                                                  \n",
       "==============================================================================\n",
       "                 coef    std err          t      P>|t|      [0.025      0.975]\n",
       "------------------------------------------------------------------------------\n",
       "zn             0.0450      0.019      2.391      0.017       0.008       0.082\n",
       "indus         -0.0699      0.084     -0.835      0.404      -0.234       0.095\n",
       "chas          -0.8568      1.187     -0.722      0.471      -3.188       1.475\n",
       "nox           -4.0431      4.341     -0.931      0.352     -12.573       4.487\n",
       "rm             1.2173      0.528      2.306      0.022       0.180       2.254\n",
       "age           -0.0033      0.018     -0.182      0.856      -0.039       0.032\n",
       "dis           -0.7762      0.256     -3.034      0.003      -1.279      -0.274\n",
       "rad            0.5523      0.082      6.725      0.000       0.391       0.714\n",
       "tax           -0.0023      0.005     -0.444      0.657      -0.012       0.008\n",
       "ptratio       -0.0598      0.138     -0.433      0.665      -0.331       0.212\n",
       "lstat          0.1966      0.070      2.814      0.005       0.059       0.334\n",
       "medv          -0.1797      0.056     -3.194      0.001      -0.290      -0.069\n",
       "==============================================================================\n",
       "Omnibus:                      663.243   Durbin-Watson:                   1.511\n",
       "Prob(Omnibus):                  0.000   Jarque-Bera (JB):            80159.962\n",
       "Skew:                           6.580   Prob(JB):                         0.00\n",
       "Kurtosis:                      63.240   Cond. No.                     6.77e+03\n",
       "==============================================================================\n",
       "\n",
       "Notes:\n",
       "[1] R² is computed without centering (uncentered) since the model does not contain a constant.\n",
       "[2] Standard Errors assume that the covariance matrix of the errors is correctly specified.\n",
       "[3] The condition number is large, 6.77e+03. This might indicate that there are\n",
       "strong multicollinearity or other numerical problems.\n",
       "\"\"\""
      ]
     },
     "execution_count": 138,
     "metadata": {},
     "output_type": "execute_result"
    }
   ],
   "source": [
    "results = sm.OLS(y, X).fit()\n",
    "results.summary()"
   ]
  }
 ],
 "metadata": {
  "kernelspec": {
   "display_name": "Python 3 (ipykernel)",
   "language": "python",
   "name": "python3"
  },
  "language_info": {
   "codemirror_mode": {
    "name": "ipython",
    "version": 3
   },
   "file_extension": ".py",
   "mimetype": "text/x-python",
   "name": "python",
   "nbconvert_exporter": "python",
   "pygments_lexer": "ipython3",
   "version": "3.10.12"
  }
 },
 "nbformat": 4,
 "nbformat_minor": 5
}
