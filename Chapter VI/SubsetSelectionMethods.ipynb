{
 "cells": [
  {
   "cell_type": "code",
   "execution_count": 176,
   "id": "b938bdde-99f7-4e4d-a510-d35c712d5d13",
   "metadata": {},
   "outputs": [],
   "source": [
    "import numpy as np\n",
    "import pandas as pd \n",
    "import seaborn as sns\n",
    "\n",
    "from sklearn.model_selection import train_test_split\n",
    "from sklearn.linear_model import LinearRegression\n",
    "from sklearn.utils import check_random_state\n",
    "\n",
    "from sklearn.preprocessing import StandardScaler, OneHotEncoder, LabelBinarizer\n",
    "\n",
    "from ISLP import load_data\n",
    "\n"
   ]
  },
  {
   "cell_type": "code",
   "execution_count": 3,
   "id": "3c61a9bc-d96a-4744-a3a6-968753455bf3",
   "metadata": {},
   "outputs": [],
   "source": [
    "SEED_VALUE = 0\n",
    "np.random.seed(SEED_VALUE)\n",
    "rng = check_random_state(SEED_VALUE)"
   ]
  },
  {
   "cell_type": "code",
   "execution_count": 5,
   "id": "28cc4990-b272-4e02-950d-479dd01a4557",
   "metadata": {},
   "outputs": [
    {
     "data": {
      "text/html": [
       "<div>\n",
       "<style scoped>\n",
       "    .dataframe tbody tr th:only-of-type {\n",
       "        vertical-align: middle;\n",
       "    }\n",
       "\n",
       "    .dataframe tbody tr th {\n",
       "        vertical-align: top;\n",
       "    }\n",
       "\n",
       "    .dataframe thead th {\n",
       "        text-align: right;\n",
       "    }\n",
       "</style>\n",
       "<table border=\"1\" class=\"dataframe\">\n",
       "  <thead>\n",
       "    <tr style=\"text-align: right;\">\n",
       "      <th></th>\n",
       "      <th>ID</th>\n",
       "      <th>Income</th>\n",
       "      <th>Limit</th>\n",
       "      <th>Rating</th>\n",
       "      <th>Cards</th>\n",
       "      <th>Age</th>\n",
       "      <th>Education</th>\n",
       "      <th>Gender</th>\n",
       "      <th>Student</th>\n",
       "      <th>Married</th>\n",
       "      <th>Ethnicity</th>\n",
       "      <th>Balance</th>\n",
       "    </tr>\n",
       "  </thead>\n",
       "  <tbody>\n",
       "    <tr>\n",
       "      <th>0</th>\n",
       "      <td>1</td>\n",
       "      <td>14.891</td>\n",
       "      <td>3606</td>\n",
       "      <td>283</td>\n",
       "      <td>2</td>\n",
       "      <td>34</td>\n",
       "      <td>11</td>\n",
       "      <td>Male</td>\n",
       "      <td>No</td>\n",
       "      <td>Yes</td>\n",
       "      <td>Caucasian</td>\n",
       "      <td>333</td>\n",
       "    </tr>\n",
       "    <tr>\n",
       "      <th>1</th>\n",
       "      <td>2</td>\n",
       "      <td>106.025</td>\n",
       "      <td>6645</td>\n",
       "      <td>483</td>\n",
       "      <td>3</td>\n",
       "      <td>82</td>\n",
       "      <td>15</td>\n",
       "      <td>Female</td>\n",
       "      <td>Yes</td>\n",
       "      <td>Yes</td>\n",
       "      <td>Asian</td>\n",
       "      <td>903</td>\n",
       "    </tr>\n",
       "    <tr>\n",
       "      <th>2</th>\n",
       "      <td>3</td>\n",
       "      <td>104.593</td>\n",
       "      <td>7075</td>\n",
       "      <td>514</td>\n",
       "      <td>4</td>\n",
       "      <td>71</td>\n",
       "      <td>11</td>\n",
       "      <td>Male</td>\n",
       "      <td>No</td>\n",
       "      <td>No</td>\n",
       "      <td>Asian</td>\n",
       "      <td>580</td>\n",
       "    </tr>\n",
       "    <tr>\n",
       "      <th>3</th>\n",
       "      <td>4</td>\n",
       "      <td>148.924</td>\n",
       "      <td>9504</td>\n",
       "      <td>681</td>\n",
       "      <td>3</td>\n",
       "      <td>36</td>\n",
       "      <td>11</td>\n",
       "      <td>Female</td>\n",
       "      <td>No</td>\n",
       "      <td>No</td>\n",
       "      <td>Asian</td>\n",
       "      <td>964</td>\n",
       "    </tr>\n",
       "    <tr>\n",
       "      <th>4</th>\n",
       "      <td>5</td>\n",
       "      <td>55.882</td>\n",
       "      <td>4897</td>\n",
       "      <td>357</td>\n",
       "      <td>2</td>\n",
       "      <td>68</td>\n",
       "      <td>16</td>\n",
       "      <td>Male</td>\n",
       "      <td>No</td>\n",
       "      <td>Yes</td>\n",
       "      <td>Caucasian</td>\n",
       "      <td>331</td>\n",
       "    </tr>\n",
       "  </tbody>\n",
       "</table>\n",
       "</div>"
      ],
      "text/plain": [
       "   ID   Income  Limit  Rating  Cards  Age  Education  Gender Student Married  \\\n",
       "0   1   14.891   3606     283      2   34         11    Male      No     Yes   \n",
       "1   2  106.025   6645     483      3   82         15  Female     Yes     Yes   \n",
       "2   3  104.593   7075     514      4   71         11    Male      No      No   \n",
       "3   4  148.924   9504     681      3   36         11  Female      No      No   \n",
       "4   5   55.882   4897     357      2   68         16    Male      No     Yes   \n",
       "\n",
       "   Ethnicity  Balance  \n",
       "0  Caucasian      333  \n",
       "1      Asian      903  \n",
       "2      Asian      580  \n",
       "3      Asian      964  \n",
       "4  Caucasian      331  "
      ]
     },
     "execution_count": 5,
     "metadata": {},
     "output_type": "execute_result"
    }
   ],
   "source": [
    "data = load_data('Credit')\n",
    "\n",
    "data.head()"
   ]
  },
  {
   "cell_type": "code",
   "execution_count": 7,
   "id": "1ba1416f-d44b-4e3c-93e2-49b19eee47de",
   "metadata": {},
   "outputs": [
    {
     "data": {
      "text/plain": [
       "array(['Caucasian', 'Asian', 'African American'], dtype=object)"
      ]
     },
     "execution_count": 7,
     "metadata": {},
     "output_type": "execute_result"
    }
   ],
   "source": [
    "data.Ethnicity.unique()"
   ]
  },
  {
   "cell_type": "code",
   "execution_count": 48,
   "id": "340ad154-ee39-407b-b268-fe3c8bf3dd52",
   "metadata": {},
   "outputs": [],
   "source": [
    "scaler = StandardScaler()\n",
    "one_hot_encoder = OneHotEncoder(sparse_output=False)\n",
    "label_binarizer = LabelBinarizer()"
   ]
  },
  {
   "cell_type": "code",
   "execution_count": 49,
   "id": "b89ec38f-66d8-4b62-b52e-2dfd1767e464",
   "metadata": {},
   "outputs": [],
   "source": [
    "preds_numeric = data.loc[:, ['Income', 'Limit', 'Rating', 'Cards', 'Age', 'Education']]\n",
    "preds_cat = data.loc[:, ['Gender', 'Student', 'Married', 'Ethnicity']]\n",
    "y_response = data.iloc[:, -1]"
   ]
  },
  {
   "cell_type": "code",
   "execution_count": 50,
   "id": "9725b20c-d3fd-45d2-ba32-b0510019cb03",
   "metadata": {},
   "outputs": [],
   "source": [
    "for column in preds_cat.columns[:-1]:\n",
    "    data[f'bin_{column}'] = label_binarizer.fit_transform(data[column])"
   ]
  },
  {
   "cell_type": "code",
   "execution_count": 71,
   "id": "542fbe0e-0982-4ecd-8dae-0a1acc9fad77",
   "metadata": {},
   "outputs": [
    {
     "data": {
      "text/plain": [
       "array(['Caucasian', 'Asian', 'African American'], dtype=object)"
      ]
     },
     "execution_count": 71,
     "metadata": {},
     "output_type": "execute_result"
    }
   ],
   "source": [
    "data['Ethnicity'].unique()"
   ]
  },
  {
   "cell_type": "code",
   "execution_count": 72,
   "id": "b73f8d9f-4f74-442c-a864-029e29a6da9b",
   "metadata": {},
   "outputs": [],
   "source": [
    "dummy_ethnicity = pd.get_dummies(data['Ethnicity'], prefix='Ethnicity', drop_first=True)\n",
    "\n",
    "df = pd.concat([data, dummy_ethnicity], axis=1)"
   ]
  },
  {
   "cell_type": "code",
   "execution_count": 85,
   "id": "f4ca6146-4481-4a9d-99e6-13c531ca48c0",
   "metadata": {},
   "outputs": [],
   "source": [
    "df['Ethnicity_Asian'] = label_binarizer.fit_transform(df['Ethnicity_Asian'])"
   ]
  },
  {
   "cell_type": "code",
   "execution_count": 86,
   "id": "f942b210-831e-40f9-a276-1ec289f31441",
   "metadata": {},
   "outputs": [],
   "source": [
    "df['Ethnicity_Caucasian'] = label_binarizer.fit_transform(df['Ethnicity_Caucasian'])"
   ]
  },
  {
   "cell_type": "code",
   "execution_count": 87,
   "id": "4ad80b4f-da31-462d-b369-0f0e96c08e90",
   "metadata": {},
   "outputs": [],
   "source": [
    "predictors = df.loc[:, ['Income', 'Limit', 'Rating', 'Cards', 'Age', 'Education', 'Balance', 'bin_Gender', 'bin_Student', 'bin_Married', 'Ethnicity_Asian', 'Ethnicity_Caucasian']]"
   ]
  },
  {
   "cell_type": "code",
   "execution_count": 172,
   "id": "87d887f8-26cc-458f-bc44-e325a46f2405",
   "metadata": {},
   "outputs": [
    {
     "data": {
      "text/html": [
       "<div>\n",
       "<style scoped>\n",
       "    .dataframe tbody tr th:only-of-type {\n",
       "        vertical-align: middle;\n",
       "    }\n",
       "\n",
       "    .dataframe tbody tr th {\n",
       "        vertical-align: top;\n",
       "    }\n",
       "\n",
       "    .dataframe thead th {\n",
       "        text-align: right;\n",
       "    }\n",
       "</style>\n",
       "<table border=\"1\" class=\"dataframe\">\n",
       "  <thead>\n",
       "    <tr style=\"text-align: right;\">\n",
       "      <th></th>\n",
       "      <th>Income</th>\n",
       "      <th>Limit</th>\n",
       "      <th>Rating</th>\n",
       "      <th>Cards</th>\n",
       "      <th>Age</th>\n",
       "      <th>Education</th>\n",
       "      <th>Balance</th>\n",
       "      <th>bin_Gender</th>\n",
       "      <th>bin_Student</th>\n",
       "      <th>bin_Married</th>\n",
       "      <th>Ethnicity_Asian</th>\n",
       "      <th>Ethnicity_Caucasian</th>\n",
       "    </tr>\n",
       "  </thead>\n",
       "  <tbody>\n",
       "    <tr>\n",
       "      <th>0</th>\n",
       "      <td>14.891</td>\n",
       "      <td>3606</td>\n",
       "      <td>283</td>\n",
       "      <td>2</td>\n",
       "      <td>34</td>\n",
       "      <td>11</td>\n",
       "      <td>333</td>\n",
       "      <td>0</td>\n",
       "      <td>0</td>\n",
       "      <td>1</td>\n",
       "      <td>0</td>\n",
       "      <td>1</td>\n",
       "    </tr>\n",
       "    <tr>\n",
       "      <th>1</th>\n",
       "      <td>106.025</td>\n",
       "      <td>6645</td>\n",
       "      <td>483</td>\n",
       "      <td>3</td>\n",
       "      <td>82</td>\n",
       "      <td>15</td>\n",
       "      <td>903</td>\n",
       "      <td>1</td>\n",
       "      <td>1</td>\n",
       "      <td>1</td>\n",
       "      <td>1</td>\n",
       "      <td>0</td>\n",
       "    </tr>\n",
       "    <tr>\n",
       "      <th>2</th>\n",
       "      <td>104.593</td>\n",
       "      <td>7075</td>\n",
       "      <td>514</td>\n",
       "      <td>4</td>\n",
       "      <td>71</td>\n",
       "      <td>11</td>\n",
       "      <td>580</td>\n",
       "      <td>0</td>\n",
       "      <td>0</td>\n",
       "      <td>0</td>\n",
       "      <td>1</td>\n",
       "      <td>0</td>\n",
       "    </tr>\n",
       "    <tr>\n",
       "      <th>3</th>\n",
       "      <td>148.924</td>\n",
       "      <td>9504</td>\n",
       "      <td>681</td>\n",
       "      <td>3</td>\n",
       "      <td>36</td>\n",
       "      <td>11</td>\n",
       "      <td>964</td>\n",
       "      <td>1</td>\n",
       "      <td>0</td>\n",
       "      <td>0</td>\n",
       "      <td>1</td>\n",
       "      <td>0</td>\n",
       "    </tr>\n",
       "    <tr>\n",
       "      <th>4</th>\n",
       "      <td>55.882</td>\n",
       "      <td>4897</td>\n",
       "      <td>357</td>\n",
       "      <td>2</td>\n",
       "      <td>68</td>\n",
       "      <td>16</td>\n",
       "      <td>331</td>\n",
       "      <td>0</td>\n",
       "      <td>0</td>\n",
       "      <td>1</td>\n",
       "      <td>0</td>\n",
       "      <td>1</td>\n",
       "    </tr>\n",
       "    <tr>\n",
       "      <th>...</th>\n",
       "      <td>...</td>\n",
       "      <td>...</td>\n",
       "      <td>...</td>\n",
       "      <td>...</td>\n",
       "      <td>...</td>\n",
       "      <td>...</td>\n",
       "      <td>...</td>\n",
       "      <td>...</td>\n",
       "      <td>...</td>\n",
       "      <td>...</td>\n",
       "      <td>...</td>\n",
       "      <td>...</td>\n",
       "    </tr>\n",
       "    <tr>\n",
       "      <th>395</th>\n",
       "      <td>12.096</td>\n",
       "      <td>4100</td>\n",
       "      <td>307</td>\n",
       "      <td>3</td>\n",
       "      <td>32</td>\n",
       "      <td>13</td>\n",
       "      <td>560</td>\n",
       "      <td>0</td>\n",
       "      <td>0</td>\n",
       "      <td>1</td>\n",
       "      <td>0</td>\n",
       "      <td>1</td>\n",
       "    </tr>\n",
       "    <tr>\n",
       "      <th>396</th>\n",
       "      <td>13.364</td>\n",
       "      <td>3838</td>\n",
       "      <td>296</td>\n",
       "      <td>5</td>\n",
       "      <td>65</td>\n",
       "      <td>17</td>\n",
       "      <td>480</td>\n",
       "      <td>0</td>\n",
       "      <td>0</td>\n",
       "      <td>0</td>\n",
       "      <td>0</td>\n",
       "      <td>0</td>\n",
       "    </tr>\n",
       "    <tr>\n",
       "      <th>397</th>\n",
       "      <td>57.872</td>\n",
       "      <td>4171</td>\n",
       "      <td>321</td>\n",
       "      <td>5</td>\n",
       "      <td>67</td>\n",
       "      <td>12</td>\n",
       "      <td>138</td>\n",
       "      <td>1</td>\n",
       "      <td>0</td>\n",
       "      <td>1</td>\n",
       "      <td>0</td>\n",
       "      <td>1</td>\n",
       "    </tr>\n",
       "    <tr>\n",
       "      <th>398</th>\n",
       "      <td>37.728</td>\n",
       "      <td>2525</td>\n",
       "      <td>192</td>\n",
       "      <td>1</td>\n",
       "      <td>44</td>\n",
       "      <td>13</td>\n",
       "      <td>0</td>\n",
       "      <td>0</td>\n",
       "      <td>0</td>\n",
       "      <td>1</td>\n",
       "      <td>0</td>\n",
       "      <td>1</td>\n",
       "    </tr>\n",
       "    <tr>\n",
       "      <th>399</th>\n",
       "      <td>18.701</td>\n",
       "      <td>5524</td>\n",
       "      <td>415</td>\n",
       "      <td>5</td>\n",
       "      <td>64</td>\n",
       "      <td>7</td>\n",
       "      <td>966</td>\n",
       "      <td>1</td>\n",
       "      <td>0</td>\n",
       "      <td>0</td>\n",
       "      <td>1</td>\n",
       "      <td>0</td>\n",
       "    </tr>\n",
       "  </tbody>\n",
       "</table>\n",
       "<p>400 rows × 12 columns</p>\n",
       "</div>"
      ],
      "text/plain": [
       "      Income  Limit  Rating  Cards  Age  Education  Balance  bin_Gender  \\\n",
       "0     14.891   3606     283      2   34         11      333           0   \n",
       "1    106.025   6645     483      3   82         15      903           1   \n",
       "2    104.593   7075     514      4   71         11      580           0   \n",
       "3    148.924   9504     681      3   36         11      964           1   \n",
       "4     55.882   4897     357      2   68         16      331           0   \n",
       "..       ...    ...     ...    ...  ...        ...      ...         ...   \n",
       "395   12.096   4100     307      3   32         13      560           0   \n",
       "396   13.364   3838     296      5   65         17      480           0   \n",
       "397   57.872   4171     321      5   67         12      138           1   \n",
       "398   37.728   2525     192      1   44         13        0           0   \n",
       "399   18.701   5524     415      5   64          7      966           1   \n",
       "\n",
       "     bin_Student  bin_Married  Ethnicity_Asian  Ethnicity_Caucasian  \n",
       "0              0            1                0                    1  \n",
       "1              1            1                1                    0  \n",
       "2              0            0                1                    0  \n",
       "3              0            0                1                    0  \n",
       "4              0            1                0                    1  \n",
       "..           ...          ...              ...                  ...  \n",
       "395            0            1                0                    1  \n",
       "396            0            0                0                    0  \n",
       "397            0            1                0                    1  \n",
       "398            0            1                0                    1  \n",
       "399            0            0                1                    0  \n",
       "\n",
       "[400 rows x 12 columns]"
      ]
     },
     "execution_count": 172,
     "metadata": {},
     "output_type": "execute_result"
    }
   ],
   "source": [
    "predictors"
   ]
  },
  {
   "cell_type": "code",
   "execution_count": 88,
   "id": "376168cc-be73-437e-802f-8d44793b34f5",
   "metadata": {},
   "outputs": [],
   "source": [
    "X_train, X_test, y_train, y_test = train_test_split(predictors, y_response, test_size=.2, random_state=rng, shuffle=True)"
   ]
  },
  {
   "cell_type": "code",
   "execution_count": 92,
   "id": "a0a10bb6-70f2-4a45-baec-241e5fe45911",
   "metadata": {},
   "outputs": [],
   "source": [
    "X_train_std = scaler.fit_transform(X_train)\n",
    "X_test_std = scaler.transform(X_test)"
   ]
  },
  {
   "cell_type": "markdown",
   "id": "322cdced-0dec-4f3d-9064-4a61e0162e55",
   "metadata": {},
   "source": [
    "### Best Subset Selection method \n"
   ]
  },
  {
   "attachments": {
    "1f8b0628-cb30-4190-986d-fd93cdb3a697.png": {
     "image/png": "[encoded data removed]"
    }
   },
   "cell_type": "markdown",
   "id": "b5f07d54-d3a2-4c45-914f-ec4379b49cbc",
   "metadata": {},
   "source": [
    "![image.png](attachment:1f8b0628-cb30-4190-986d-fd93cdb3a697.png)"
   ]
  },
  {
   "cell_type": "code",
   "execution_count": 311,
   "id": "6f931546-8239-4f34-8f27-b2502b85dabf",
   "metadata": {},
   "outputs": [
    {
     "name": "stdout",
     "output_type": "stream",
     "text": [
      "BIC: [0, 1, 2, 9]\n",
      "Index(['Income', 'Limit', 'Rating', 'bin_Married'], dtype='object')\n",
      "AIC: [9]\n",
      "Index(['bin_Married'], dtype='object')\n",
      "Adjusted R^2: [9]\n",
      "Index(['bin_Married'], dtype='object')\n"
     ]
    }
   ],
   "source": [
    "from itertools import combinations\n",
    "from sklearn.metrics import r2_score, mean_squared_error\n",
    "\n",
    "def null_model(X, y):\n",
    "    y_hat_mean = np.mean(y)\n",
    "    return np.full(len(X), y_hat_mean)\n",
    "\n",
    "\n",
    "def calculate_AIC(X_test, y_test, y_pred):\n",
    "    n = len(X_test)\n",
    "    p = X_test.shape[1] + 1\n",
    "    sse = ( (y_test - y_pred) ** 2 ).sum() + 1e-10\n",
    "    AIC = n * np.log(sse / n) + 2 * p\n",
    "    return AIC\n",
    "\n",
    "\n",
    "def calculate_BIC(X_test, y_test, y_pred):\n",
    "    n = len(X_test)\n",
    "    p = X_test.shape[1] + 1\n",
    "    sse = ( (y_test - y_pred) ** 2 ).sum()\n",
    "    BIC = (n * np.log(sse / n)) + (p * np.log(n))\n",
    "    return BIC\n",
    "    \n",
    "\n",
    "def calculate_adjR2_score(X_test, y_test, y_pred):\n",
    "    n = len(y_test)\n",
    "    p = X_test.shape[1]\n",
    "    r_squared = r2_score(y_test, y_pred)\n",
    "    adjusted_r_squared = 1 - (((1 - r_squared) * (n - 1)) / (n - p - 1))\n",
    "    return adjusted_r_squared\n",
    "\n",
    "\n",
    "def best_subset_selection(X_train, X_test, y_train, y_test, test_metric='AIC'):\n",
    "    \n",
    "    if test_metric not in ['AIC', 'BIC', 'ADJ_R2']:\n",
    "        raise ValueError(f\"Invalid test_metric: {test_metric}\")\n",
    "    \n",
    "    if test_metric in ['AIC', 'BIC']:\n",
    "        best_score = float('inf')\n",
    "    else:\n",
    "        best_score = -float('inf')\n",
    "    \n",
    "    M_k_models = [] # In this list are stored $M_k$ models, those are the best among ${p \\choose k}$ models.\n",
    "    test_metrics = {\n",
    "        'AIC': calculate_AIC,\n",
    "        'BIC': calculate_BIC,\n",
    "        'ADJ_R2': calculate_adjR2_score,\n",
    "    }\n",
    "    \n",
    "    def get_subsets(predictors, k):\n",
    "        return list(combinations(predictors, k))\n",
    "\n",
    "    def select_features(data_set, columns_index_combinations):\n",
    "        return data_set[:, list(columns_index_combinations)]\n",
    "        \n",
    "    p = X_train.shape[1]\n",
    "    # Training models\n",
    "    for k in range(1, p + 1):\n",
    "        predictor_combinations = get_subsets(np.arange(p), k)        \n",
    "        models_k = []\n",
    "        for index_column in predictor_combinations:\n",
    "            X_train_features = select_features(X_train, index_column)\n",
    "            \n",
    "            linear_model = LinearRegression()\n",
    "            linear_model.fit(X_train_features, y_train)\n",
    "\n",
    "            r2_score_train = linear_model.score(X_train_features, y_train)\n",
    "            \n",
    "            models_k.append(\n",
    "                {'model': linear_model, 'train_r2_score': r2_score_train, 'column_combination_index': list(index_column)}\n",
    "            )\n",
    "\n",
    "        # Here, we got our $M_k$ model — this is the model with the largest training R^{2} score.\n",
    "        index_of_max_r2_score = max(range(len(models_k)), key=lambda i: models_k[i]['train_r2_score'])\n",
    "        M_k_models.append(models_k[index_of_max_r2_score])\n",
    "\n",
    "    for model_m_k in M_k_models:\n",
    "        model = model_m_k.get('model')\n",
    "        test_columns_index = model_m_k.get('column_combination_index')\n",
    "        X_test_features = select_features(X_test, test_columns_index)\n",
    "        y_pred = model.predict(X_test_features)\n",
    "        test_score = test_metrics.get(test_metric)(X_test_features, y_test, y_pred)\n",
    "        if (test_metric in ['AIC', 'BIC'] and test_score < best_score) or \\\n",
    "           (test_metric == 'ADJ_R2' and test_score > best_score):\n",
    "            best_score = test_score\n",
    "            best_model = model\n",
    "            best_subset_of_features_index = test_columns_index\n",
    "\n",
    "    return best_subset_of_features_index\n",
    "\n",
    "best_subset_features_index = best_subset_selection(X_train_std, X_test_std, y_train, y_test, test_metric='BIC')\n",
    "print(f'BIC: {best_subset_features_index}')\n",
    "print(predictors.columns[best_subset_features_index])\n",
    "\n",
    "best_subset_features_index = best_subset_selection(X_train_std, X_test_std, y_train, y_test, test_metric='AIC')\n",
    "print(f'AIC: {best_subset_features_index}')\n",
    "print(predictors.columns[best_subset_features_index])\n",
    "\n",
    "best_subset_features_index = best_subset_selection(X_train_std, X_test_std, y_train, y_test, test_metric='ADJ_R2')\n",
    "print(f'Adjusted R^2: {best_subset_features_index}') \n",
    "print(predictors.columns[best_subset_features_index])"
   ]
  },
  {
   "cell_type": "markdown",
   "id": "9b50d38a-e21e-4a5d-8026-4253c859ace8",
   "metadata": {},
   "source": [
    "### Forward Subset Selection method"
   ]
  },
  {
   "cell_type": "code",
   "execution_count": 289,
   "id": "ffc86636-3dff-4feb-b76d-d02ed86e1b35",
   "metadata": {},
   "outputs": [],
   "source": [
    "def forward_subset_selection(X_train, X_test, y_train, y_test, test_metric='AIC'):\n",
    "\n",
    "    if test_metric not in ['AIC', 'BIC', 'ADJ_R2']:\n",
    "        raise ValueError(f\"Invalid test_metric: {test_metric}\")\n",
    "    \n",
    "    if test_metric in ['AIC', 'BIC']:\n",
    "        best_criterion = float('inf')\n",
    "    else:\n",
    "        best_criterion = -float('inf')\n",
    "        \n",
    "    test_metrics = {\n",
    "        'AIC': calculate_AIC,\n",
    "        'BIC': calculate_BIC,\n",
    "        'ADJ_R2': calculate_adjR2_score,\n",
    "    }\n",
    "    \n",
    "    selected_predictors = []\n",
    "    best_model = None\n",
    "    \n",
    "    # Repeat this unitl no improvement\n",
    "    while True:\n",
    "        improvement_found = False\n",
    "\n",
    "        for predictor_idx in range(X_train.shape[1]):\n",
    "            if predictor_idx not in selected_predictors:\n",
    "                predictors_to_include = selected_predictors + [predictor_idx]\n",
    "                X_train_subset = X_train[:, predictors_to_include]\n",
    "\n",
    "                # Fitting a model\n",
    "                model = LinearRegression()\n",
    "                model.fit(X_train_subset, y_train)\n",
    "\n",
    "                X_test_subset = X_test[:, predictors_to_include]\n",
    "                y_pred = model.predict(X_test_subset)\n",
    "\n",
    "                # Evalutaing model based on the criterion like AIC, BIC, Adjusted R^{2}\n",
    "                criterion = test_metrics.get(test_metric)(X_test_subset, y_test, y_pred)\n",
    "\n",
    "                if (test_metric in ['AIC', 'BIC'] and criterion < best_criterion) or \\\n",
    "                    (test_metric == 'ADJ_R2' and criterion > best_criterion):\n",
    "                    best_model = model\n",
    "                    best_criterion = criterion\n",
    "                    best_predictor_idx = predictor_idx\n",
    "                    improvement_found = True\n",
    "        \n",
    "        if improvement_found:\n",
    "            selected_predictors.append(best_predictor_idx)\n",
    "        else:\n",
    "            break\n",
    "\n",
    "\n",
    "    return selected_predictors"
   ]
  },
  {
   "cell_type": "code",
   "execution_count": 312,
   "id": "a0d20e76-9d47-410d-b052-2ec396d59c9b",
   "metadata": {},
   "outputs": [
    {
     "name": "stdout",
     "output_type": "stream",
     "text": [
      "Index(['bin_Married'], dtype='object')\n"
     ]
    }
   ],
   "source": [
    "best_subset_features_index = forward_subset_selection(X_train_std, X_test_std, y_train, y_test) # AIC\n",
    "print(predictors.columns[best_subset_features_index])"
   ]
  },
  {
   "cell_type": "code",
   "execution_count": 313,
   "id": "b8858a9d-9cf8-441f-b832-d33304332402",
   "metadata": {},
   "outputs": [
    {
     "name": "stdout",
     "output_type": "stream",
     "text": [
      "Index(['bin_Married', 'Education', 'Income'], dtype='object')\n"
     ]
    }
   ],
   "source": [
    "best_subset_features_index = forward_subset_selection(X_train_std, X_test_std, y_train, y_test, test_metric='BIC')\n",
    "print(predictors.columns[best_subset_features_index])"
   ]
  },
  {
   "cell_type": "code",
   "execution_count": 314,
   "id": "63e7f661-7867-4891-bd58-0afd44a02192",
   "metadata": {},
   "outputs": [
    {
     "name": "stdout",
     "output_type": "stream",
     "text": [
      "Index(['bin_Married'], dtype='object')\n"
     ]
    }
   ],
   "source": [
    "best_subset_features_index = forward_subset_selection(X_train_std, X_test_std, y_train, y_test, test_metric='ADJ_R2')\n",
    "print(predictors.columns[best_subset_features_index])"
   ]
  },
  {
   "cell_type": "markdown",
   "id": "49bf3838-9ca3-4bed-95f3-c8e988e1bf26",
   "metadata": {},
   "source": [
    "### Backward Stepwise Selection"
   ]
  },
  {
   "cell_type": "code",
   "execution_count": 293,
   "id": "98bf5c91-0c0d-4305-800a-a99ca79f3746",
   "metadata": {},
   "outputs": [],
   "source": [
    "def backward_stepwise_selection(X_train, X_test, y_train, y_test, test_metric='AIC'):\n",
    "\n",
    "    if test_metric not in ['AIC', 'BIC', 'ADJ_R2']:\n",
    "        raise ValueError(f\"Invalid test_metric: {test_metric}\")\n",
    "\n",
    "    if X_train.shape[1] > X_train.shape[0]:\n",
    "        raise ValueError('In backward stepwise selection method, it\\'s not possible to perform when p > n')\n",
    "        \n",
    "    test_metrics = {\n",
    "        'AIC': calculate_AIC,\n",
    "        'BIC': calculate_BIC,\n",
    "        'ADJ_R2': calculate_adjR2_score,\n",
    "    }\n",
    "\n",
    "    num_predictors = X_train.shape[1]\n",
    "    selected_predictors = list(range(num_predictors))  \n",
    "    best_model = LinearRegression().fit(X_train, y_train)         \n",
    "    y_pred = best_model.predict(X_test)\n",
    "    best_criterion = test_metrics.get(test_metric)(X_test, y_test, y_pred)\n",
    "\n",
    "    while True:\n",
    "        improvement_found = False\n",
    "\n",
    "        for predictor_idx in selected_predictors:\n",
    "            if len(selected_predictors) == 1:\n",
    "                break\n",
    "            predictors_to_exclude = [i for i in selected_predictors if i != predictor_idx]\n",
    "            X_train_subset = X_train[:, predictors_to_exclude]\n",
    "            # Fit a model without the predictor\n",
    "            model = LinearRegression().fit(X_train_subset, y_train)\n",
    "\n",
    "            X_test_subset = X_test[:, predictors_to_exclude]\n",
    "            # Evaluate using a criterion \n",
    "            y_pred = model.predict(X_test_subset)\n",
    "            criterion = test_metrics.get(test_metric)(X_test_subset, y_test, y_pred)\n",
    "\n",
    "            # Check for improvement\n",
    "            if (test_metric in ['AIC', 'BIC'] and criterion < best_criterion) or \\\n",
    "                (test_metric == 'ADJ_R2' and criterion > best_criterion):\n",
    "                best_model = model\n",
    "                best_criterion = criterion\n",
    "                best_predictors = predictors_to_exclude\n",
    "                improvement_found = True\n",
    "\n",
    "        # Step 3: Deletion\n",
    "        if improvement_found:\n",
    "            selected_predictors = best_predictors.copy()\n",
    "        else:\n",
    "            break\n",
    "\n",
    "    return selected_predictors\n"
   ]
  },
  {
   "cell_type": "code",
   "execution_count": 306,
   "id": "cb3a169f-5f50-44b8-8acc-e51a665517f0",
   "metadata": {},
   "outputs": [
    {
     "data": {
      "text/plain": [
       "Index(['bin_Married'], dtype='object')"
      ]
     },
     "execution_count": 306,
     "metadata": {},
     "output_type": "execute_result"
    }
   ],
   "source": [
    "best_predictor_subset = backward_stepwise_selection(X_train_std, X_test_std, y_train, y_test)\n",
    "\n",
    "predictors.columns[[i for i in best_predictor_subset]]"
   ]
  },
  {
   "cell_type": "code",
   "execution_count": 310,
   "id": "35772f47-9f84-4c54-be00-1c19cc773b19",
   "metadata": {},
   "outputs": [
    {
     "data": {
      "text/plain": [
       "Index(['Income', 'Limit', 'Rating', 'Cards', 'Age', 'Education', 'Balance',\n",
       "       'bin_Student', 'bin_Married', 'Ethnicity_Asian', 'Ethnicity_Caucasian'],\n",
       "      dtype='object')"
      ]
     },
     "execution_count": 310,
     "metadata": {},
     "output_type": "execute_result"
    }
   ],
   "source": [
    "best_predictor_subset = backward_stepwise_selection(X_train_std, X_test_std, y_train, y_test, test_metric='BIC')\n",
    "predictors.columns[[i for i in best_predictor_subset]]"
   ]
  },
  {
   "cell_type": "code",
   "execution_count": 309,
   "id": "18fe28d7-caf4-4afc-a9cb-6f96d7b1049b",
   "metadata": {},
   "outputs": [
    {
     "data": {
      "text/plain": [
       "Index(['Income', 'Limit', 'Rating', 'Cards', 'Age', 'Education', 'Balance',\n",
       "       'bin_Gender', 'bin_Student', 'bin_Married', 'Ethnicity_Asian',\n",
       "       'Ethnicity_Caucasian'],\n",
       "      dtype='object')"
      ]
     },
     "execution_count": 309,
     "metadata": {},
     "output_type": "execute_result"
    }
   ],
   "source": [
    "best_predictor_subset = backward_stepwise_selection(X_train_std, X_test_std, y_train, y_test, test_metric='ADJ_R2')\n",
    "predictors.columns[[i for i in best_predictor_subset]]"
   ]
  }
 ],
 "metadata": {
  "kernelspec": {
   "display_name": "Python 3 (ipykernel)",
   "language": "python",
   "name": "python3"
  },
  "language_info": {
   "codemirror_mode": {
    "name": "ipython",
    "version": 3
   },
   "file_extension": ".py",
   "mimetype": "text/x-python",
   "name": "python",
   "nbconvert_exporter": "python",
   "pygments_lexer": "ipython3",
   "version": "3.10.12"
  }
 },
 "nbformat": 4,
 "nbformat_minor": 5
}
