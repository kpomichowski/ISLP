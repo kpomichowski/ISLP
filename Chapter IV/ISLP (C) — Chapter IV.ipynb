{
 "cells": [
  {
   "cell_type": "markdown",
   "id": "9f7071db-1472-4034-83c4-61085bb24209",
   "metadata": {},
   "source": [
    "### Jupyter notebook contains a solutions from Chapter IV — classification concepts from the book \"Introduction To Statistical Learning\" in a Python edition written by Daniela Witten, Trevor Hastie, Robert Tibshirani, Gareth James and Jonathan Taylor."
   ]
  },
  {
   "cell_type": "markdown",
   "id": "8d5dcb80-5a70-4bf8-b84a-e2ffebe74ecf",
   "metadata": {},
   "source": [
    "# Table of Contents\n",
    "\n",
    "* [Exercise 4.8.1](#Exercise-4.8.1)\n",
    "* [Exercise 4.8.2](#Exercise-4.8.2)\n",
    "* [Exercise 4.8.3](#Exercise-4.8.3)\n",
    "* [Exercise 4.8.4 (a)](#Exercise-4.8.4-a)\n",
    "* [Exercise 4.8.4 (b)](#Exercise-4.8.4-b)\n",
    "* [Exercise 4.8.4 (c)](#Exercise-4.8.4-c)\n",
    "* [Exercise 4.8.4 (d)](#Exercise-4.8.4-d)\n",
    "* [Exercise 4.8.4 (e)](#Exercise-4.8.4-e)\n",
    "* [Exercise 4.8.5 (a)](#Exercise-4.8.5-a)\n",
    "* [Exercise 4.8.5 (b)](#Exercise-4.8.5-b)\n",
    "* [Exercise 4.8.5 (c)](#Exercise-4.8.5-c)\n",
    "* [Exercise 4.8.5 (d)](#Exercise-4.8.5-d)\n",
    "* [Exercise 4.8.6 (a)](#Exercise-4.8.6-a)\n",
    "* [Exercise 4.8.6 (b)](#Exercise-4.8.6-b)\n",
    "* [Exercise 4.8.7](#Exercise-4.8.7)\n",
    "* [Exercise 4.8.8](#Exercise-4.8.8)\n",
    "* [Exercise 4.8.9 (a)](#Exercise-4.8.9-a)\n",
    "* [Exercise 4.8.9 (b)](#Exercise-4.8.9-b)\n",
    "* [Exercise 4.8.10](#Exercise-4.8.10)\n",
    "* [Exercise 4.8.11](#Exercise-4.8.11)\n",
    "* [Exercise 4.8.12 (a)](#Exercise-4.8.12-a)\n",
    "* [Exercise 4.8.12 (b)](#Exercise-4.8.12-b)\n",
    "* [Exercise 4.8.12 (c)](#Exercise-4.8.12-c)\n",
    "* [Exercise 4.8.12 (d)](#Exercise-4.8.12-d)\n",
    "* [Exercise 4.8.12 (e)](#Exercise-4.8.12-e)"
   ]
  },
  {
   "cell_type": "markdown",
   "id": "dc19ae46-4cd5-4d57-8ab2-5065283e0567",
   "metadata": {},
   "source": [
    "### Exercise 4.8.1\n",
    "\n",
    "Using a little bit of algebra, prove that (4.2) is equivalent to (4.3). In other words, the logistic function representation and logit representation for the logistic regression model are equivalent.\n",
    "\n",
    "$$\n",
    "p(X) = \\frac{e^{\\beta_0 + \\beta_1X}}{1 + e^{\\beta_0 + \\beta_1X}}\n",
    "$$\n",
    "\n",
    "$$\n",
    "\\frac{p(X)}{1 - p(X)} = e^{\\beta_0 + \\beta_1X}\n",
    "$$\n",
    "\n"
   ]
  },
  {
   "cell_type": "markdown",
   "id": "25be2ab8-ccd3-42d6-b387-afa19a09dfab",
   "metadata": {},
   "source": [
    "### Answer:\n",
    "\n",
    "1. Substitue $1 - p(X)$ first:\n",
    "$$\n",
    "1 - p(X) = 1 - \\frac{e^{\\beta_0+\\beta_1X}}{1 + e^{\\beta_0 + \\beta_1X}} = \\frac{1 + e^{\\beta_0 + \\beta_1X}}{1 + e^{\\beta_0 + \\beta_1X}} - \\frac{e^{\\beta_0 + \\beta_1X}}{1 + e^{\\beta_0 + \\beta_1X}} = \\frac{1}{1 + e^{\\beta_0 + \\beta_1X}}\n",
    "$$\n",
    "\n",
    "2. Substitute our calculated $1 - p(X)$ into a fraction: $\\frac{p(X)}{1 - p(X)}$\n",
    "\n",
    "$$\n",
    "\\frac{p(X)}{1 - p(X)} = \\frac{\\frac{e^{\\beta_0 + \\beta_1X}}{1 + e^{\\beta_0+\\beta_1X}}}{\\frac{1}{1 + e^{\\beta_0 + \\beta_1X}}} = \\frac{e^{\\beta_0 + \\beta_1X}}{1 + e^{\\beta_0+\\beta_1X}} \\times \\frac{1 + e^{\\beta_0 + \\beta_1X}}{1} = e^{\\beta_0 + \\beta_1X}\n",
    "$$\n",
    "\n",
    "Q.E.D"
   ]
  },
  {
   "cell_type": "markdown",
   "id": "d70841f0-cc54-4c42-89b6-3bd44a426cb8",
   "metadata": {},
   "source": [
    "### Exercise 4.8.2\n",
    " \n",
    "It was stated in the text that classifying an observation to the class for which (4.17) is largest is equivalent to classifying an observation to the class for which (4.18) is largest. Prove that this is the case. In other words, under the assumption that the observations in the $k$th class are drawn from a $\\mathcal{N}(\\mu_k, \\sigma^{2})$ distribution, the Bayes classifier assigns an observation to the class for which the discriminant function is maximized.\n",
    "\n",
    "$$\n",
    "p_k(x) = \\frac{\\pi_k \\frac{1}{\\sqrt{2\\pi}\\sigma} \\exp\\left( - \\frac{(x - \\mu_k)^{2}}{2\\sigma^{2}} \\right)}{\\sum_{l=1}^{K} \\pi_l \\frac{1}{\\sqrt{2\\pi}\\sigma} \\exp\\left( - \\frac{(x - \\mu_l)^{2}}{2\\sigma^{2}} \\right)}\n",
    "$$\n",
    "\n",
    "$$\n",
    "\\delta_k(x) = x \\cdot \\frac{\\mu_k}{\\sigma^{2}} - \\frac{\\mu_k^{2}}{2\\sigma^{2}} + \\log(\\pi_k)\n",
    "$$"
   ]
  },
  {
   "cell_type": "markdown",
   "id": "bacb1c6e-fa93-406d-a536-227e8d4aad50",
   "metadata": {},
   "source": [
    "### Answer:\n",
    "\n",
    "$$\n",
    "\\begin{align*}\n",
    "1. \\text{ Taking natural logarithm of both sides of equation } p_k(x): \\quad & \\ln(p_k(x)) = \\ln\\left(\\frac{\\pi_k}{\\sqrt{2\\pi}\\sigma} \\exp\\left(-\\frac{(x - \\mu_k)^{2}}{2\\sigma^{2}}\\right)\\right) - \\ln\\left(\\sum_{l=1}^{K} \\frac{\\pi_l}{\\sqrt{2\\pi}\\sigma} \\exp\\left(-\\frac{(x - \\mu_l)^{2}}{2\\sigma^{2}}\\right)\\right) \\\\\n",
    "2. \\text{ Cancel exponentiations (Log Laws), focus on terms with } k: \\quad & \\ln(p_k(x)) = \\ln(\\pi_k) - \\frac{(x - \\mu_k)^{2}}{2\\sigma^{2}} \\\\\n",
    "3. \\text{ Expand square terms: } \\quad & \\ln(p_k(x)) = \\ln(\\pi_k) - \\frac{x^{2}}{2\\sigma^{2}} + \\frac{x\\mu_k}{\\sigma^{2}} - \\frac{\\mu_k^{2}}{2\\sigma^{2}} \\\\\n",
    "4. \\text{ Rearrange and assume } \\ln(p_k(x)) = \\delta_k(x): \\quad & \\delta_k(x) = x \\cdot \\frac{\\mu_k}{\\sigma^{2}} - \\frac{\\mu_k^{2}}{2\\sigma^{2}} + \\ln(\\pi_k) \\\\\n",
    "\\end{align*}\n",
    "$$\n",
    "\n",
    "Q.E.D"
   ]
  },
  {
   "cell_type": "markdown",
   "id": "ddd3f4fd-1daf-43f9-be4a-7fd8a346de1a",
   "metadata": {},
   "source": [
    "### Exercise 4.8.3\n",
    "\n",
    "This problem relates to the QDA  model, in which the observations within each class are drawn from a normal distribution with a class-specific mean vector and a class specific covariance matrix. We consider the simple case where $p = 1$; i.e. there is only one feature.\n",
    "\n",
    "Suppose that we have $K$ classes, and that if an observation belongs to the $k$th class then $X$ comes from a one-dimensional normal distribution, $X \\sim \\mathcal{N}(\\mu_k, \\sigma_k^{2})$. Recall that the density function for the one-dimensional normal distribution is given in (4.17). Prove that in this case, the Bayes classifier is not linear. Argue that it is in fact quadratic. *Hint: For this problem, you should follow the arguments laid out in Section 4.4.1, but without making the assumption that $\\sigma_k^{2} = \\dots = \\sigma_K^{2}$*.\n",
    "\n",
    "Density function of $f_k(x)$ is definied as:\n",
    "$$\n",
    "f_k(x) = \\frac{1}{\\sqrt{2\\pi}\\sigma_k}\\exp\\left(-\\frac{1}{2\\sigma^{2}_k}(x - \\mu_k)^{2}\\right)\n",
    "$$\n",
    "\n"
   ]
  },
  {
   "cell_type": "markdown",
   "id": "6ec94250-e02c-4622-83ab-f07ccfba3d08",
   "metadata": {},
   "source": [
    "### Answer:\n",
    "\n",
    "Assumptions, such that:\n",
    "* $X$ comes from a Guassian Univariate Distribution, i.e. $X \\sim \\mathcal{N}(\\mu_k, \\sigma^{2}_k)$,\n",
    "* each $k$th class for which $X$ belongs, has class-specific mean $\\mu_k$, \n",
    "* each $k$th class for which $X$ belongs, has its own covariance matrix $\\Sigma_k$.\n",
    "\n",
    "Discriminant function is given by:\n",
    "\n",
    "$$\n",
    "\\delta_k(x) = x \\cdot \\frac{\\mu_k}{\\sigma_k^{2}} - \\frac{\\mu_k^{2}}{2\\sigma_k^{2}} + \\log(\\pi_k) - \\log(\\sigma_k)\n",
    "$$\n",
    "\n",
    "1. We use Bayes' Theorem; we assign an observation $X$ for the class $k$ for which probability of Bayes' Theorem is the largest:\n",
    "\n",
    "$$\n",
    "\\text{Pr}(Y = y \\mid X = x) = \\frac{\\text{Pr}(X = x \\mid Y = k) \\times \\text{Pr}(Y = k)}{\\text{Pr}(X = x)}\n",
    "$$\n",
    "\n",
    "2. We use our known *apriori* probability $\\pi_k$ and *posteriori* probability which is our density function of $X$: $f_k(x)$ to transform this above equation:\n",
    "\n",
    "$$\n",
    "p_k(x) = \\frac{\\pi_k \\frac{1}{\\sqrt{2\\pi}\\sigma} \\exp\\left( - \\frac{(x - \\mu_k)^{2}}{2\\sigma^{2}} \\right)}{\\sum_{l=1}^{K} \\pi_l \\frac{1}{\\sqrt{2\\pi}\\sigma} \\exp\\left( - \\frac{(x - \\mu_l)^{2}}{2\\sigma^{2}} \\right)}\n",
    "$$\n",
    "\n",
    "3. We can get rid of the denominator, because it's sum over all classes that include the same terms for each class. Hence we can simplify such equation\n",
    "\n",
    "$$\n",
    "p_k(x) = \\pi_k \\frac{1}{\\sqrt{2\\pi}\\sigma}\\exp\\left(-\\frac{(x - \\mu_k)^{2}}{2\\sigma^{2}}\\right)\n",
    "$$\n",
    "\n",
    "4. Taking $\\log$ for both sides, we get:\n",
    "\n",
    "$$\n",
    "\\log(p_k(x)) = \\log(\\pi_k) -\\log(\\sqrt{2\\pi}\\sigma_k) - \\frac{(x - \\mu_k)^{2}}{2\\sigma^{2}_k} = \\log(\\pi_k) -\\frac{1}{2}\\log(2\\pi) - \\log(\\sigma_k) - \\frac{(x - \\mu_k)^{2}}{2\\sigma^{2}_k}\n",
    "$$\n",
    "\n",
    "5. Since, the term $-\\frac{1}{2}\\log(2\\pi)$ does not depend on the term $k$, we can get rid of it:\n",
    "\n",
    "$$\n",
    "\\log(p_k(x)) = \\log(\\pi_k) - \\log(\\sigma_k) - \\frac{(x - \\mu)^{2}}{2\\sigma^{2}_k}\n",
    "$$\n",
    "\n",
    "6. We look at the form of the discriminant function and we try to get this similar, so we rearrange the terms and expand square expression in the numerator:\n",
    "\n",
    "$$\n",
    "\\log(p_k(x)) = \\frac{x^{2} - 2x\\mu_k + \\mu_k^{2}}{2\\sigma^{2}_k} + \\log(\\pi_k) - \\log(\\sigma_k)\n",
    "$$\n",
    "\n",
    "7. Divide each squared term by $2\\sigma^{2}_k$:\n",
    "\n",
    "$$\n",
    "\\log(p_k(x)) = \\frac{x^{2}}{2\\sigma^{2}_k} - \\frac{2x\\mu_k}{2\\sigma^{2}_k} + \\frac{\\mu_k^{2}}{2\\sigma^{2}_k} + \\log(\\pi_k) - log(\\sigma_k)\n",
    "$$\n",
    "\n",
    "8. So, finally we get:\n",
    "\n",
    "$$\n",
    "\\log(p_k(x)) = x^{2}\\left(\\frac{1}{2\\sigma^{2}_k}\\right) - x\\left(\\frac{\\mu_k}{\\sigma^{2}_k}\\right) + \\frac{\\mu_k^{2}}{2\\sigma^{2}_k} + \\log(\\pi_k) - log(\\sigma_k)\n",
    "$$\n",
    "\n",
    "Which indeed prooves that Quadratic Discriminant Analysis is not linear.\n",
    "\n",
    "Q.E.D "
   ]
  },
  {
   "cell_type": "markdown",
   "id": "0d185077-ec01-426c-8025-b7902e32bf7d",
   "metadata": {},
   "source": [
    "### Exercise 4.8.4\n",
    "\n",
    "When the number of features $p$ is large, there tends to be a deterioration in the performance of KNN and other *local* approaches that perform prediction using only observations that are *near* the test observation for which a prediction must be made. This phenomenon is known as the *curse of dimensionality*, and it ties into the fact that curse of non-parametric approaches often perform poorly when $p$ is large. We will now investigate this curse."
   ]
  },
  {
   "cell_type": "markdown",
   "id": "34bfc333-58c5-4a19-95d1-98574f7b5b95",
   "metadata": {},
   "source": [
    "### Exercise 4.8.4 a"
   ]
  },
  {
   "cell_type": "markdown",
   "id": "e8ab80a0-a291-4afb-8145-e9508d06c9ac",
   "metadata": {},
   "source": [
    "(a) Suppose that we have a set of observations, each with measurements on $p = 1$ feature, $X$. We assume that $X$ is uniformly (evenly) distributed on $[0, 1]$. Associated with each observation is a response value. Suppose that we wish to predict a test observation’s response using only observations that are within 10\\% of the range of $X$ closest to that test observation. For instance, in order to predict the response for a test observation with $X = 0.6$, we will use observations in the range $[0.55, 0.65]$. On average, what fraction of the available observations will we use to make the prediction?"
   ]
  },
  {
   "cell_type": "markdown",
   "id": "f0804f6b-a478-40f6-878e-7c0cd6150787",
   "metadata": {},
   "source": [
    "### Exercise 4.8.4 b"
   ]
  },
  {
   "cell_type": "markdown",
   "id": "f617f275-f528-42b1-a733-5a9629393a41",
   "metadata": {},
   "source": [
    "(b)  Now suppose that we have a set of observations, each with measurements on $p = 2$ features, $X_1$ and $X_2$. We assume that ($X_1$, $X_2$) are uniformly distributed on $[0, 1] \\times [0, 1]$. We wish to predict a test observation’s response using only observations that are within $10\\%$ of the range of $X_1$ and within $10\\%$ of the range of $X_2$ closest to that test observation. For instance, in order to predict the response for a test observation with $X_1 = 0.6$ and $X_2 = 0.35$, we will use observations in the range $[0.55, 0.65]$ for $X_1$ and in the range $[0.3, 0.4]$ for $X_2$. On average, what fraction of the available observations will we use to make the prediction?\n",
    "\n",
    "**Answer**:\n",
    "\n",
    "We get $X$ with $p = 2$ features. The observations are drawn equally from both precitors: $10\\%$ for each. We need $0.1\\% \\cdot 0.1\\% = 0.01\\%$ on average observations to make a prediction. \n",
    "\n",
    "__Here comes general idea behind the__ _curse of dimensionality_: using more predictors, we have a more dimensions, meaning the space of the observations becoming more sparse, hence if we have more predictors, the less observations are used to make a prediction. "
   ]
  },
  {
   "cell_type": "markdown",
   "id": "f3e9b985-b119-4625-9e2d-08af376542d7",
   "metadata": {},
   "source": [
    "### Exercise 4.8.4 c\n",
    "\n",
    "(c) Now suppose that we have a set of observations on $p = 100$ features. Again the observations are uniformly distributed on each feature, and again each feature ranges in value from 0 to 1. We wish to predict a test observation’s response using observations within the $10\\%$ of each feature’s range that is closest to that test observation. What fraction of the available observations will we use to make the prediction?\n",
    "\n",
    "__Answer__:\n",
    "\n",
    "We would like to get $0.1^{100}$ of the all available observations which is $1e-100$.\n"
   ]
  },
  {
   "cell_type": "markdown",
   "id": "7c63d7bc-86a4-4656-8594-2af28f7d8ce7",
   "metadata": {},
   "source": [
    "### Exercise 4.8.4 d\n",
    "\n",
    "(d) Using your answers to parts (a)–(c), argue that a drawback of KNN when $p$ is large is that there are very few training observations “near” any given test observation.\n",
    "\n",
    "__Answer__:\n",
    "\n",
    "We see, that increasing the number of predictors, we also increase the sparsity among the feature space, in which there are the training observations to which KNN compares the test observation. We see that, with an assumption of equally drawn samples from $X\\sim\\mathcal{U}(0, 1)$ and 10\\% from each predictor, the avaialable observations that are used to predict the test sample decreases exponentially: $0.1^{p}$, where $p$ is the number of features."
   ]
  },
  {
   "cell_type": "markdown",
   "id": "135d47a1-4245-4668-8c1f-9a2beed82165",
   "metadata": {},
   "source": [
    "### Exercise 4.8.4 e\n",
    "\n",
    "(e) Now suppose that we wish to make a prediction for a test observation by creating a $p$-dimensional hypercube centered around the test observation that contains, on average, $10\\%$ of the training observations. For $p = 1, 2, \\dots, 100$, what is the length of each side of the hypercube? Comment on your answer.\n",
    "\n",
    "__Answer__:\n",
    "\n",
    "* In the case of $p = 1$, we know that are of that cube is $0.1$, so the length of side is also $0.1$, since it's a line,\n",
    "* In the case of $p = 2$, which is a square, the area is still $0.1$, and the area is $\\text{side}^{2} = 0.1^{\\frac{1}{2}} \\approx 0.316$,\n",
    "* In the case of $p = 100$, the volume is $\\text{side}^{100} = 0.1^{\\frac{1}{100}} \\approx 0.977$."
   ]
  },
  {
   "cell_type": "markdown",
   "id": "1d8b80dd-f830-4e40-b6aa-8d603a6ea889",
   "metadata": {},
   "source": [
    "### Exercise 4.8.5\n",
    "\n",
    "We now examine the differences between LDA and QDA.\n",
    "\n"
   ]
  },
  {
   "cell_type": "markdown",
   "id": "056e6703-822f-47bd-8402-19ddf9bf7355",
   "metadata": {},
   "source": [
    "### Exercise 4.8.5 a\n",
    "\n",
    "If the Bayes decision boundary is linear, do we expect LDA or QDA to perform better on the training set? On the test set?\n",
    "\n",
    "__Answer__:\n",
    "\n",
    "- since the Bayes' decision boundary is linear, the LDA would perform better on the training set as well as the test set, because it's less flexible method than QDA (QDA would overfit on the training set, and perform worse in the test set). The decision boundary of the LDA is also linear, and I think it would capture very well the decision boundary."
   ]
  },
  {
   "cell_type": "markdown",
   "id": "e2857980-c747-42ee-8ea6-295ae7bc1eb5",
   "metadata": {},
   "source": [
    "### Exercise 4.8.5 b\n",
    "\n",
    "If the Bayes decision boundary is non-linear, do we expect LDA or QDA to perform better on the training set? On the test set?\n",
    "\n",
    "* since Bayes' decision boundary is non-linear, then the QDA method would be more sufficient in this case, because it captures very well non-linear relationship and I think, it would perform better on the training set as well as test set due to its high flexibility."
   ]
  },
  {
   "cell_type": "markdown",
   "id": "852f62f8-9806-4604-9893-53cf0dba03ae",
   "metadata": {},
   "source": [
    "### Exercise 4.8.5 c\n",
    "\n",
    "In general, as the sample size n increases, do we expect the test prediction accuracy of QDA relative to LDA to improve, decline, or be unchanged? Why?\n",
    "\n",
    "__Answer__:\n",
    "\n",
    "* I think that, it depends also on the form of the Bayes' decision boundary, however, in general if the $n$ sample size increases, then we would expect to improve the test prediction accuracy of QDA, because as a flexible method, QDA needs a more data to estimate the form of the relationship between $X$ and $y$. Also, the QDA has to estimate much more coefficients than LDA, that's why it easly overfits when $n$ is very small compared to $p$."
   ]
  },
  {
   "cell_type": "markdown",
   "id": "a309a4d5-4577-4b35-8f72-50d40cdcb756",
   "metadata": {},
   "source": [
    "### Exercise 4.8.5 d\n",
    "\n",
    "True or False: Even if the Bayes decision boundary for a given problem is linear, we will probably achieve a superior test error rate using QDA rather than LDA because QDA is flexible enough to model a linear decision boundary. Justify your answer.\n",
    "\n",
    "__Answer__:\n",
    "\n",
    "* __False__: the test error rate would be worse in the QDA than LDA, since QDA is very flexible, it would capture more random pattern that are present in the training set and it would be unable to generalize to the unseen data. LDA in this case would achieve superior test error rate, since the relationship between predictors and dependent variable is linear, so it would match the pattern also in the test set."
   ]
  },
  {
   "cell_type": "markdown",
   "id": "f9e2a69a-545e-4260-a44f-23422ff1ce9c",
   "metadata": {},
   "source": [
    "### Exercise 4.8.6\n",
    "\n",
    "Suppose we collect data for a group of students in a statistics class with variables $X_1 = \\text{hours studied}, X_2 = \\text{undergrad GPA}$ and $Y = \\text{receive an A}$. We fit a logistic regression and produce estimated coefficient: $\\hat{\\beta_0} = -6, \\hat{\\beta_1} = 0.05, \\hat{\\beta_2} = 1$."
   ]
  },
  {
   "cell_type": "markdown",
   "id": "85cbab90-b44c-4cf3-a650-fb26a3d7ad22",
   "metadata": {},
   "source": [
    "### Exercise 4.8.6 a\n",
    "\n",
    "(a) Estimate the probability that a student who studies for 40 h and has an undergrad GPA of 3.5 gets an A in the class.\n",
    "\n",
    "__Answer__:\n",
    "\n",
    "As as a remainder, logistic regression using an logistic function, that takes an *odds* and converts them to the probability interval: $[0,1]$:\n",
    "\n",
    "$$\n",
    "P(X) = \\frac{e^{\\hat{\\beta_0} + \\hat{\\beta_1}X_1 + \\hat{\\beta_2}X_2}}{1 + e^{\\hat{\\beta_0} + \\hat{\\beta_1}X_1 + \\hat{\\beta_2}X_2}}\n",
    "$$\n",
    "\n",
    "So, in this case for $X_1=40$, $X_2=3.5$, we get:\n",
    "\n",
    "$$\n",
    "P(X) = \\frac{e^{-6+0.05\\cdot40+1\\cdot3.5}}{1 + e^{-6+0.05\\cdot40+1\\cdot3.5}} \\approx 0.377\n",
    "$$\n",
    "\n",
    "So, the student with 40 hours of studied hours and GPA of 3.5, has $38\\%$ to get an A."
   ]
  },
  {
   "cell_type": "markdown",
   "id": "746c9c46-83fe-4069-9d91-0c6095199bde",
   "metadata": {},
   "source": [
    "### Exercise 4.8.6 b\n",
    "\n",
    "(b) How many hours would the student in part (a) need to study to have a $50\\%$ chance of getting an A in the class?\n",
    "\n",
    "__Answer__:\n",
    "\n",
    "We want that $P(X) = 0.5$, so in this case, logistic function takes only values of $0.5$ when exponentation is equal to $0.$, meaning:\n",
    "\n",
    "$$\n",
    "e^{-6+0.05\\cdot X+1\\cdot3.5} = 0\n",
    "$$\n",
    "\n",
    "getting rid of $e$, we must solve this equation:\n",
    "\n",
    "$$\n",
    "-6 + 0.05X + 3.5 = 0\n",
    "$$\n",
    "\n",
    "Which simplifies to:\n",
    "\n",
    "\\begin{align*}\n",
    "0.05X - 2.5 &= 0, \\\\\n",
    "0.05X &= 2.5, \\quad \\text{(add 2.5 to both sides)} \\\\\n",
    "X &= 50. \\quad \\text{(divide by 0.05)}\n",
    "\\end{align*}\n",
    "\n",
    "So, the student needs to study at least 50 hours to has $50\\%$ chance of getting an A."
   ]
  },
  {
   "cell_type": "markdown",
   "id": "3df6aad7-c533-4f7a-852f-fbd28a07ff92",
   "metadata": {},
   "source": [
    "### Exercise 4.8.7 \n",
    "\n",
    "Suppose that we wish to predict whether a given stock will issue a dividend this year (“Yes” or “No”) based on $X$, last year’s percent profit. We examine a large number of companies and discover that the mean value of $X$ for companies that issued a dividend was $\\bar{X} = 10$, while the mean for those that didn’t was $\\bar{X} = 0$. In addition, the variance of $X$ for these two sets of companies was $\\sigma^{2} = 36$. Finally, $80\\%$ of companies issued dividends. Assuming that $X$ follows a normal distribution, predict the probability that a company will issue a dividend this year given that its percentage profit was $X = 4$ last year.\n",
    "\n",
    "The density function for a normal distribution of the random variable is given by:\n",
    "\n",
    "$$\n",
    "f(x) = \\frac{1}{\\sqrt{2\\pi\\sigma^{2}}}e^{-(x - \\mu)^{2}/2\\sigma^{2}}\n",
    "$$\n",
    "\n",
    "__Answer__:\n",
    "\n",
    "OK, so we need to use Bayes' Theorem, by:\n",
    "\n",
    "$$\n",
    "p(x_k) = P(Y = k \\mid X = x) = \\frac{\\pi_k \\cdot f_k(x)}{\\sum_{l=1}^{K}\\pi_l\\cdot f_l(x)}\n",
    "$$\n",
    "\n",
    "Now, we should only substitute to the above formula, our given data from description, such as:\n",
    "\n",
    "Data:\n",
    "* $\\mu(y = \\text{issued} \\mid X) = 10$,\n",
    "* $\\mu(y = \\text{not issued} \\mid X) = 0$,\n",
    "* $\\sigma^{2}(y = \\text{issued} \\mid X) = 36$,\n",
    "* $\\sigma^{2}(y = \\text{not issued} \\mid X) = 36$,\n",
    "* $\\pi_{(y = \\text{issued} \\mid X)} = 0.8$,\n",
    "* $\\pi_{(y = \\text{not issued} \\mid X)} = 1 - 0.8 = 0.2$\n",
    "\n",
    "OK, so the density function for $X = 4$ will be given:\n",
    "\n",
    "$$\n",
    "f(y=\\text{issue} \\mid X) = \\frac{1}{\\sqrt{2\\pi36}}e^{-(4 - 10)^{2}/2\\cdot 36} \\approx 0.04032\n",
    "$$\n",
    "\n",
    "Now, calculate the density function for $X = 4$ that company won't issue a dividend this year:\n",
    "$$\n",
    "f(y=\\text{not issue} \\mid X) = \\frac{1}{\\sqrt{2\\pi36}}e^{-(4 - 0)^{2}/2\\cdot 36} \\approx 0.05324\n",
    "$$\n",
    "\n",
    "Then, we plug those with priori probabilities in the $p(x_k)$ equation:\n",
    "$$\n",
    "p(x_{\\text{issue}}) = \\frac{\\pi_k \\cdot f_k(x)}{\\sum_{l=1}^{K}\\pi_l\\cdot f_l(x)} = \\frac{0.8\\cdot 0.04032}{(0.8 \\cdot 0.04032) + (0.2 \\cdot 0.05324)} = 0.75181\n",
    "$$\n",
    "\n",
    "The probability that company will issue the dividend this year, given $X = 4$ is around $72\\%$."
   ]
  },
  {
   "cell_type": "markdown",
   "id": "8768542a-a91b-4549-a56a-76b95d92dc02",
   "metadata": {},
   "source": [
    "### Exercise 4.8.8\n",
    "\n",
    "Suppose that we take a data set, divide it into equally-sized training and test sets, and then try out two different classification procedures. First we use logistic regression and get an error rate of $20\\%$ on the training data and $30\\%$ on the test data. Next we use 1-nearest neighbors (i.e. $K = 1$) and get an average error rate (averaged over both test and training data sets) of $18\\%$. Based on these results, which method should we prefer to use for classification of new observations? Why? "
   ]
  },
  {
   "cell_type": "markdown",
   "id": "a8b7bbdd-8e09-4c60-bb91-5d01249feb98",
   "metadata": {},
   "source": [
    "__Answer__:\n",
    "\n",
    "I would use Logistic Regression. First, because the KNN where $k=1$ (with an assumption that no two data points in training set have the same features but different labels) is very high in variance and it would assign every training observation perfectly (since, $k=1$ it picks the nearest observation as itself), so the training error is $0$. That means, given the average error rate of $18\\%$, the test error must be equal in the KNN case: $18\\% \\cdot 2 = 36\\%$, which is higher than the test error rate in the logistic regression."
   ]
  },
  {
   "cell_type": "markdown",
   "id": "c2fa3e16-382b-4c11-ac45-4c3e4491583e",
   "metadata": {},
   "source": [
    "### Exercise 4.8.9\n",
    "\n",
    "This problem has to do with odds."
   ]
  },
  {
   "cell_type": "markdown",
   "id": "caaeb03d-d406-46de-907e-ccf655d0e63c",
   "metadata": {},
   "source": [
    "### Exercise 4.8.9 a\n",
    "\n",
    "On average, what fraction of people with an odds of $0.37$ of defaulting on their credit card payment will in fact default?"
   ]
  },
  {
   "cell_type": "markdown",
   "id": "df4d93cf-3083-48a4-804b-e4013346eb6b",
   "metadata": {},
   "source": [
    "__Answer__:\n",
    "\n",
    "$$\n",
    "P(X) = \\frac{0.37}{(1 + 0.37)} = 0.27\n",
    "$$\n",
    "\n",
    "The answer is $27\\%$ of people with an odds of $0.37$ will in fact default."
   ]
  },
  {
   "cell_type": "markdown",
   "id": "613f2d0b-914e-4778-bd32-7e592c66fe05",
   "metadata": {},
   "source": [
    "### Exercise 4.8.9 b\n",
    "\n",
    "Suppose that an individual has a $16\\%$ chance of defaulting on her credit card payment. What are the odds that she will default? "
   ]
  },
  {
   "cell_type": "markdown",
   "id": "84f8c505-4d35-4de3-843d-7ea4405ac187",
   "metadata": {},
   "source": [
    "__Answer__:\n",
    "\n",
    "$$\n",
    "P(X) = \\frac{0.16}{1 - 0.16} = 0.19\n",
    "$$\n",
    "\n",
    "An odds that person will default is 0.19."
   ]
  },
  {
   "cell_type": "markdown",
   "id": "c0eb51e3-acec-460d-9713-5f55d6dbafbc",
   "metadata": {},
   "source": [
    "### Exercise 4.8.10\n",
    "\n",
    "Equation dervied an expression for $\\log \\left( \\frac{Pr(Y=k \\mid X=x}{Pr(Y = K \\mid X = x} \\right)$ in the setting where $p \\gt 1$, so that mean for the $k$th class, $\\mu_k$, is a $p$-dimensional vector, and the shared covariance matrix $\\Sigma$ is $p \\times p$ matrix. However, in the setting where $p=1$, the equation takes a simpler form, since the means $\\mu_1, \\dots, \\mu_K$ are and the variance $\\sigma^{2}$ are scalars. In this simpler setting, repeat the calculation in equation, and provide expressions for $a_k$ and $b_{kj}$ in terms of $\\pi_k, \\pi_K, \\mu_k, \\mu_K$ and $\\sigma^{2}$.\n",
    "\n",
    "First, we need this equation:\n",
    "\n",
    "$$\n",
    "f_k(x) = \\frac{1}{\\sqrt{2\\pi\\sigma_k}}\\exp\\left(-\\frac{1}{2\\sigma^{2}_k}(x - \\mu_k)^{2} \\right)\n",
    "$$\n",
    "\n",
    "Next, we substitute this into this one:\n",
    "\n",
    "$$\n",
    "\\begin{align*}\n",
    "&\\log \\left( \\frac{Pr(Y = k \\mid X = x)}{Pr(Y = K \\mid X = x)} \\right) \\\\\n",
    "&= \\log \\left( \\frac{\\pi_k f_k(x)}{\\pi_K f_K(x)} \\right) \\\\\n",
    "&= \\log \\left( \\frac{\\pi_k \\cdot \\frac{1}{\\sqrt{2\\pi\\sigma_k}} \\exp \\left( -\\frac{1}{2\\sigma^{2}_k}(x - \\mu_k)^{2} \\right) }{\\pi_K \\cdot \\frac{1}{\\sqrt{2\\pi\\sigma_K}} \\exp \\left( -\\frac{1}{2\\sigma^{2}_K}(x - \\mu_K)^{2} \\right) } \\right) \\\\\n",
    "&= \\log\\left( \\frac{\\pi_k}{\\pi_K}\\right) - \\frac{1}{2\\sigma^{2}_k}(x - \\mu_k)^{2} + \\frac{1}{2\\sigma^{2}_K}(x - \\mu_K)^{2} \\\\\n",
    "&= \\log\\left( \\frac{\\pi_k}{\\pi_K} \\right) - \\frac{1}{2\\sigma^{2}_k}\\left(x^{2} - 2x\\mu_k + \\mu_k^{2}\\right) + \\frac{1}{2\\sigma^{2}_K}\\left(x^{2} - 2x\\mu_K + \\mu_K^{2}\\right) \\\\\n",
    "&= \\log\\left( \\frac{\\pi_k}{\\pi_K}\\right) - \\frac{1}{2\\sigma^{2}_k}x^{2} + \\frac{1}{\\sigma^{2}_k}x\\mu_k - \\frac{1}{2\\sigma^{2}_k}\\mu_k^{2} + \\frac{1}{2\\sigma^{2}_K}x^2 - \\frac{1}{\\sigma^{2}_K}x\\mu_K + \\frac{1}{2\\sigma^{2}_K}\\mu_K^{2} \\\\\n",
    "&= \\left( -\\frac{1}{2\\sigma^{2}_k} + \\frac{1}{2\\sigma^{2}_K} \\right)x^{2} + \\left( \\frac{1}{\\sigma^{2}_k} \\mu_k - \\frac{1}{\\sigma^{2}_K}\\mu_K \\right)x + \\left( - \\frac{1}{2\\sigma^{2}_k}\\mu_k^{2} + \\frac{1}{2\\sigma^{2}_K}\\mu_K^{2} \\right)\n",
    "\\end{align*}\n",
    "$$\n",
    "\n",
    "So, finally we get:\n",
    "\n",
    "$$\n",
    "\\begin{align*}\n",
    "a_k &= \\log\\left(\\frac{\\pi_k}{\\pi_K}\\right) - \\frac{1}{2\\sigma^{2}_k}\\mu_k^{2} + \\frac{1}{2\\sigma^{2}_K}\\mu_K^{2} \\\\\n",
    "b_{kj} &= \\frac{1}{\\sigma^{2}_k}\\mu_k - \\frac{1}{\\sigma^{2}_K}\\mu_K \\quad \\text{for the } j\\text{th component}\n",
    "\\end{align*}\n",
    "$$\n"
   ]
  },
  {
   "cell_type": "markdown",
   "id": "fe1a669f-249a-4849-9ec5-5ed42338d7c8",
   "metadata": {},
   "source": [
    "### Exercise 4.8.11\n",
    "\n",
    "Work out the detailed forms of $a_k, b_{kj}$ and $b_{kjl}$ in equation. Your answer should involve $\\pi_k, \\pi_K, \\mu_k, \\mu_K, \\Sigma_k$ and $\\Sigma_K$.\n",
    "\n",
    "Equation:\n",
    "\n",
    "$$\n",
    "\\log\\left(\\frac{Pr(Y=k\\mid X=x)}{Pr(Y = K \\mid X = x)}\\right) = a_k + \\sum_{j=1}^{p}b_{kj}x_j + \\sum_{j=1}^{p}\\sum_{l=1}^{p}c_{kjl}x_jx_l\n",
    "$$\n",
    "\n",
    "We start similar as in the previos exercise:\n",
    "\n",
    "$$\n",
    "\\log \\left( \\frac{Pr(Y = k \\mid X = x)}{Pr(Y = K \\mid X = x)} \\right) = \\log \\left( \\frac{\\pi_k \\cdot f_k(x)}{\\pi_K \\cdot f_K(x)} \\right)\n",
    "$$\n",
    "\n",
    "Where:\n",
    "$$\n",
    "f_k(x) = \\frac{1}{(2\\pi)^{k/2}|\\boldsymbol{\\Sigma}_k|^{1/2}} \\exp\\left(-\\frac{1}{2}(x - \\boldsymbol{\\mu}_k)^T \\boldsymbol{\\Sigma}_k^{-1} (x - \\boldsymbol{\\mu}_k)\\right)\n",
    "$$\n",
    "\n",
    "$$\n",
    "f_K(x) = \\frac{1}{(2\\pi)^{K/2}|\\boldsymbol{\\Sigma}_K|^{1/2}} \\exp\\left(-\\frac{1}{2}(x - \\boldsymbol{\\mu}_K)^T \\boldsymbol{\\Sigma}_K^{-1} (x - \\boldsymbol{\\mu}_K)\\right)\n",
    "$$\n",
    "\n",
    "\n",
    "$$\n",
    "\\log\\left(\\frac{Pr(Y=k\\mid X=x)}{Pr(Y = K \\mid X = x)}\\right) = \\log\\left(\\frac{\\pi_k}{\\pi_K}\\right) + \\sum_{j=1}^{p} \\left[ (\\Sigma_k^{-1})_{jj} \\cdot (\\mu_k - \\mu_K) \\right] x_j + \\sum_{j=1}^{p}\\sum_{l=1}^{p} \\left[ -\\frac{1}{2} \\left((\\Sigma_k^{-1})_{jj} - (\\Sigma_k^{-1})_{jl} (\\Sigma_k^{-1})_{ll}\\right) \\right] x_j x_l\n",
    "$$\n",
    "\n",
    "Where:\n",
    "1. $a_k = \\log\\left(\\frac{\\pi_k}{\\pi_K}\\right)$\n",
    "2. $b_{kj} = (\\Sigma_k^{-1})_{jj} \\cdot (\\mu_k - \\mu_K)$\n",
    "3. $b_{kjl} = -\\frac{1}{2} \\left((\\Sigma_k^{-1})_{jj} - (\\Sigma_k^{-1})_{jl} (\\Sigma_k^{-1})_{ll}\\right)$\n",
    "\n",
    "So we get:\n",
    "\n",
    "$$\n",
    "\\log\\left(\\frac{Pr(Y=k\\mid X=x)}{Pr(Y = K \\mid X = x)}\\right) = a_k + \\sum_{j=1}^{p}b_{kj}x_j + \\sum_{j=1}^{p}\\sum_{l=1}^{p}c_{kjl}x_jx_l\n",
    "$$\n",
    "\n"
   ]
  },
  {
   "cell_type": "markdown",
   "id": "81589c0f-b42f-4eb8-9350-fcbcefa72452",
   "metadata": {},
   "source": [
    "\n"
   ]
  }
 ],
 "metadata": {
  "kernelspec": {
   "display_name": "Python 3 (ipykernel)",
   "language": "python",
   "name": "python3"
  },
  "language_info": {
   "codemirror_mode": {
    "name": "ipython",
    "version": 3
   },
   "file_extension": ".py",
   "mimetype": "text/x-python",
   "name": "python",
   "nbconvert_exporter": "python",
   "pygments_lexer": "ipython3",
   "version": "3.10.12"
  }
 },
 "nbformat": 4,
 "nbformat_minor": 5
}
